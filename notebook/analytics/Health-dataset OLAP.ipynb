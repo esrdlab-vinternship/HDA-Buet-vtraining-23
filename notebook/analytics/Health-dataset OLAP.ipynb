{
 "cells": [
  {
   "cell_type": "code",
   "execution_count": null,
   "id": "2f603473",
   "metadata": {},
   "outputs": [],
   "source": [
    "pip install matplotlib"
   ]
  },
  {
   "cell_type": "code",
   "execution_count": null,
   "id": "0a03949e",
   "metadata": {
    "scrolled": true
   },
   "outputs": [],
   "source": [
    "pip install seaborn"
   ]
  },
  {
   "cell_type": "code",
   "execution_count": null,
   "id": "baa026b2",
   "metadata": {},
   "outputs": [],
   "source": [
    "import psycopg2\n",
    "import pandas as pd\n",
    "import psycopg2.extras\n",
    "import seaborn as sns\n",
    "import numpy as np"
   ]
  },
  {
   "cell_type": "code",
   "execution_count": null,
   "id": "1e96263a",
   "metadata": {},
   "outputs": [],
   "source": [
    "import matplotlib.pyplot as plt"
   ]
  },
  {
   "cell_type": "code",
   "execution_count": null,
   "id": "1586b1a8",
   "metadata": {},
   "outputs": [],
   "source": [
    "class PostgresConnection(object):\n",
    "    def __init__(self):\n",
    "        self.connection = psycopg2.connect(database=\"healthdb\",\n",
    "                                           user = \"postgres\",\n",
    "                                           password = \"ahanaf12\",\n",
    "                                           host = \"127.0.0.1\",\n",
    "                                           port = \"5432\")\n",
    "\n",
    "    def getConnection(self):\n",
    "        print(\"successfully connected to database\")\n",
    "        return self.connection"
   ]
  },
  {
   "cell_type": "code",
   "execution_count": null,
   "id": "408974a1",
   "metadata": {},
   "outputs": [],
   "source": [
    "con = PostgresConnection().getConnection()"
   ]
  },
  {
   "cell_type": "markdown",
   "id": "f4b1d2b1",
   "metadata": {},
   "source": [
    "# Decision 1a: Find top 10 stores with the least sales during the given input duration"
   ]
  },
  {
   "cell_type": "code",
   "execution_count": null,
   "id": "fddc532b",
   "metadata": {},
   "outputs": [],
   "source": [
    "con = PostgresConnection().getConnection() \n",
    "cur = con.cursor() \n",
    "\n",
    "year = 2018 # input(\"Year: \") \n",
    "month = 5 # input(\"Month: \") \n",
    "day_start = 1 # input(\"Starting Date: \") \n",
    "day_end = 30 # input(\"End date: \") \n",
    "\n",
    "select_stmt = \"SELECT store_key, sales \" \\\n",
    "              \"FROM (\" \\\n",
    "                \"SELECT p.store_key, SUM(t.total_price) AS sales, \" \\\n",
    "                \"RANK() OVER (ORDER BY SUM(t.total_price) ASC) AS rank \" \\\n",
    "                \"FROM star_schema.\\\"Fact_table\\\" t \" \\\n",
    "                \"JOIN star_schema.\\\"Time_dim\\\" s on s.time_key=t.time_key \" \\\n",
    "                \"JOIN star_schema.\\\"Store_dim\\\" p on p.store_key=t.store_key \" \\\n",
    "                \"WHERE s.year = {} AND s.month = {} AND s.day >= {} AND s.day < {} \" \\\n",
    "                \"GROUP BY p.store_key \" \\\n",
    "               \") subquery \" \\\n",
    "               \"WHERE rank <= 10 \" \\\n",
    "               \"ORDER BY rank\".format(year, month, day_start, day_end) \n",
    "cur.execute(select_stmt) \n",
    "records = cur.fetchall()\n",
    "\n",
    "df = pd.DataFrame(records, columns=[\"Store Key\", \"Sales\"]) \n",
    "df = df.set_index(['Store Key'])\n",
    "\n",
    "stores_least_sales = df \n",
    "stores_least_sales\n",
    "\n",
    "#for index, row in df.iterrows():\n",
    "#    print(\"{}\".format(row['Item Name']))"
   ]
  },
  {
   "cell_type": "markdown",
   "id": "1392e1bc",
   "metadata": {},
   "source": [
    "# Decision 1b: Find top 3 districts under each division which were the most porfitable during input duration"
   ]
  },
  {
   "cell_type": "code",
   "execution_count": null,
   "id": "a9c77ba7",
   "metadata": {},
   "outputs": [],
   "source": [
    "con = PostgresConnection().getConnection() \n",
    "cur = con.cursor() \n",
    "\n",
    "year = 2018 # input(\"Year: \") \n",
    "month = 5 # input(\"Month: \") \n",
    "day_start = 1 # input(\"Starting Date: \") \n",
    "day_end = 30 # input(\"End date: \") \n",
    "\n",
    "select_stmt = \"SELECT division, district, sales \" \\\n",
    "              \"FROM (\" \\\n",
    "                \"SELECT p.division, p.district, SUM(t.total_price) AS sales, \" \\\n",
    "                \"RANK() OVER (PARTITION BY p.division ORDER BY SUM(t.total_price) DESC) AS rank \" \\\n",
    "                \"FROM star_schema.\\\"Fact_table\\\" t \" \\\n",
    "                \"JOIN star_schema.\\\"Time_dim\\\" s on s.time_key=t.time_key \" \\\n",
    "                \"JOIN star_schema.\\\"Store_dim\\\" p on p.store_key=t.store_key \" \\\n",
    "                \"WHERE s.year = {} AND s.month = {} AND s.day >= {} AND s.day < {} AND \" \\\n",
    "                \"p.division != p.district \" \\\n",
    "                \"GROUP BY p.division, p.district \" \\\n",
    "               \") subquery \" \\\n",
    "               \"WHERE rank <= 3 \" \\\n",
    "               \"ORDER BY division\".format(year, month, day_start, day_end) \n",
    "cur.execute(select_stmt) \n",
    "records = cur.fetchall()\n",
    "\n",
    "df = pd.DataFrame(records, columns=[\"Division\", \"District\", \"Sales\"]) \n",
    "df = df.set_index(['Division'])\n",
    "\n",
    "most_profitable_districts = df \n",
    "most_profitable_districts\n",
    "\n",
    "#for index, row in df.iterrows():\n",
    "#    print(\"{}\".format(row['Item Name']))"
   ]
  },
  {
   "cell_type": "markdown",
   "id": "4d33937a",
   "metadata": {},
   "source": [
    "# Decision 2a: Find top 30 customers who made the highest purchases between 2 pm - 5 pm in 2020"
   ]
  },
  {
   "cell_type": "code",
   "execution_count": null,
   "id": "771e89a7",
   "metadata": {},
   "outputs": [],
   "source": [
    "con = PostgresConnection().getConnection() \n",
    "cur = con.cursor() \n",
    "\n",
    "select_stmt = \"SELECT name, sales \" \\\n",
    "              \"FROM (\" \\\n",
    "                \"SELECT p.name, SUM(t.total_price) AS sales, \" \\\n",
    "                \"RANK() OVER (ORDER BY SUM(t.total_price) DESC) AS rank \" \\\n",
    "                \"FROM star_schema.\\\"Fact_table\\\" t \" \\\n",
    "                \"JOIN star_schema.\\\"Time_dim\\\" s on s.time_key=t.time_key \" \\\n",
    "                \"JOIN star_schema.\\\"Customer_dim\\\" p on p.customer_key=t.customer_key \" \\\n",
    "                \"WHERE s.hour >= 14 AND s.hour <= 17 AND s.year = 2020 \" \\\n",
    "                \"GROUP BY p.name \" \\\n",
    "               \") subquery \" \\\n",
    "               \"WHERE rank <= 30 \" \\\n",
    "               \"ORDER BY rank\"\n",
    "cur.execute(select_stmt) \n",
    "records = cur.fetchall()\n",
    "\n",
    "df = pd.DataFrame(records, columns=[\"Name\", \"Sales\"]) \n",
    "df = df.set_index(['Name'])\n",
    "\n",
    "idle_period_customers = df \n",
    "idle_period_customers\n",
    "\n",
    "#for index, row in df.iterrows():\n",
    "#    print(\"{}\".format(row['Item Name']))"
   ]
  },
  {
   "cell_type": "markdown",
   "id": "e8dbff7f",
   "metadata": {},
   "source": [
    "# Decision 2b: Find top 20 customers who made purchases on highest number of days during a year"
   ]
  },
  {
   "cell_type": "code",
   "execution_count": null,
   "id": "70df48d3",
   "metadata": {},
   "outputs": [],
   "source": [
    "con = PostgresConnection().getConnection() \n",
    "cur = con.cursor() \n",
    "\n",
    "select_stmt = \"SELECT name, days \" \\\n",
    "              \"FROM (\" \\\n",
    "                \"SELECT p.name, COUNT(DISTINCT s.date) AS days, \" \\\n",
    "                \"RANK() OVER (ORDER BY COUNT(DISTINCT s.date) DESC) AS rank \" \\\n",
    "                \"FROM star_schema.\\\"Fact_table\\\" t \" \\\n",
    "                \"JOIN star_schema.\\\"Time_dim\\\" s on s.time_key=t.time_key \" \\\n",
    "                \"JOIN star_schema.\\\"Customer_dim\\\" p on p.customer_key=t.customer_key \" \\\n",
    "                \"WHERE s.year = 2016 \" \\\n",
    "                \"GROUP BY p.name \" \\\n",
    "               \") subquery \" \\\n",
    "               \"WHERE rank <= 20 \" \\\n",
    "               \"ORDER BY rank\"\n",
    "cur.execute(select_stmt) \n",
    "records = cur.fetchall()\n",
    "\n",
    "df = pd.DataFrame(records, columns=[\"Name\", \"Days\"]) \n",
    "df = df.set_index(['Name'])\n",
    "\n",
    "persistent_customers = df \n",
    "persistent_customers\n",
    "\n",
    "#for index, row in df.iterrows():\n",
    "#    print(\"{}\".format(row['Item Name']))"
   ]
  },
  {
   "cell_type": "markdown",
   "id": "7faa05a6",
   "metadata": {},
   "source": [
    "# Decision 3a: Most popular Soda Beverage"
   ]
  },
  {
   "cell_type": "code",
   "execution_count": null,
   "id": "95725c8a",
   "metadata": {},
   "outputs": [],
   "source": [
    "con = PostgresConnection().getConnection() \n",
    "cur = con.cursor() \n",
    "\n",
    "select_stmt = \"SELECT item_name, sales \" \\\n",
    "              \"FROM (\" \\\n",
    "                \"SELECT p.item_name, SUM(t.total_price) AS sales, \" \\\n",
    "                \"RANK() OVER (ORDER BY SUM(t.total_price) DESC) AS rank \" \\\n",
    "                \"FROM star_schema.\\\"Fact_table\\\" t \" \\\n",
    "                \"JOIN star_schema.\\\"Time_dim\\\" s on s.time_key=t.time_key \" \\\n",
    "              \"JOIN star_schema.\\\"Item_dim\\\" p on p.item_key=t.item_key \" \\\n",
    "                \"WHERE p.description = 'a. Beverage - Soda' \" \\\n",
    "                \"GROUP BY p.item_name \" \\\n",
    "               \") subquery \" \\\n",
    "              \"ORDER BY rank\"\n",
    "cur.execute(select_stmt) \n",
    "records = cur.fetchall()\n",
    "\n",
    "df = pd.DataFrame(records, columns=[\"Name\", \"Sales\"]) \n",
    "df = df.set_index(['Name'])\n",
    "\n",
    "popular_pepsi = df \n",
    "popular_pepsi\n",
    "\n",
    "#for index, row in df.iterrows():\n",
    "#    print(\"{}\".format(row['Item Name']))"
   ]
  },
  {
   "cell_type": "markdown",
   "id": "9bc388b1",
   "metadata": {},
   "source": [
    "# Decision 3b: Most popular product of each type(description) and the supplier"
   ]
  },
  {
   "cell_type": "code",
   "execution_count": null,
   "id": "97d858a8",
   "metadata": {},
   "outputs": [],
   "source": [
    "con = PostgresConnection().getConnection() \n",
    "cur = con.cursor() \n",
    "\n",
    "select_stmt = \"SELECT description, item_name, supplier_final \" \\\n",
    "              \"FROM (\" \\\n",
    "                \"SELECT p.description, p.item_name, SUM(t.total_price) AS sales, \" \\\n",
    "                \"CONCAT  (supplier, ', ', man_country) AS supplier_final, \" \\\n",
    "                \"RANK() OVER (PARTITION BY p.description ORDER BY SUM(t.total_price) DESC) AS rank \" \\\n",
    "                \"FROM star_schema.\\\"Fact_table\\\" t \" \\\n",
    "                \"JOIN star_schema.\\\"Time_dim\\\" s on s.time_key=t.time_key \" \\\n",
    "              \"JOIN star_schema.\\\"Item_dim\\\" p on p.item_key=t.item_key \" \\\n",
    "                \"GROUP BY p.description, p.item_name, supplier_final \" \\\n",
    "               \") subquery \" \\\n",
    "              \"WHERE rank = 1 ORDER BY rank\"\n",
    "cur.execute(select_stmt) \n",
    "records = cur.fetchall()\n",
    "\n",
    "df = pd.DataFrame(records, columns=[\"Item Type\", \"Item Name\", \"Supplier\"]) \n",
    "df = df.set_index(['Item Type'])\n",
    "\n",
    "supplier_popular = df \n",
    "supplier_popular\n",
    "\n",
    "#for index, row in df.iterrows():\n",
    "#    print(\"{}\".format(row['Item Name']))"
   ]
  },
  {
   "cell_type": "markdown",
   "id": "d47ff022",
   "metadata": {},
   "source": [
    "# Decision 4a: Top 10 stores with the highest quantity of products sold"
   ]
  },
  {
   "cell_type": "code",
   "execution_count": null,
   "id": "5d8280a0",
   "metadata": {},
   "outputs": [],
   "source": [
    "con = PostgresConnection().getConnection() \n",
    "cur = con.cursor() \n",
    "\n",
    "select_stmt = \"SELECT store_key, quantity_sold \" \\\n",
    "              \"FROM (\" \\\n",
    "                \"SELECT p.store_key, SUM(t.quantity) AS quantity_sold, \" \\\n",
    "                \"RANK() OVER (ORDER BY SUM(t.quantity) DESC) AS rank \" \\\n",
    "                \"FROM star_schema.\\\"Fact_table\\\" t \" \\\n",
    "                \"JOIN star_schema.\\\"Time_dim\\\" s on s.time_key=t.time_key \" \\\n",
    "                \"JOIN star_schema.\\\"Store_dim\\\" p on p.store_key=t.store_key \" \\\n",
    "                \"GROUP BY p.store_key \" \\\n",
    "               \") subquery \" \\\n",
    "               \"WHERE rank <= 10 \" \\\n",
    "               \"ORDER BY rank\"\n",
    "cur.execute(select_stmt) \n",
    "records = cur.fetchall()\n",
    "\n",
    "df = pd.DataFrame(records, columns=[\"Store Key\", \"Quantity Sold\"]) \n",
    "df = df.set_index(['Store Key'])\n",
    "\n",
    "quantity_sales = df \n",
    "quantity_sales\n",
    "\n",
    "#for index, row in df.iterrows():\n",
    "#    print(\"{}\".format(row['Item Name']))"
   ]
  },
  {
   "cell_type": "markdown",
   "id": "14002bcc",
   "metadata": {},
   "source": [
    "# Decision 4b: Top 5 stores with the highest sales of products in Carton Unit"
   ]
  },
  {
   "cell_type": "code",
   "execution_count": null,
   "id": "178d0953",
   "metadata": {},
   "outputs": [],
   "source": [
    "con = PostgresConnection().getConnection() \n",
    "cur = con.cursor() \n",
    "\n",
    "select_stmt = \"SELECT store_key, cartons_sold \" \\\n",
    "              \"FROM (\" \\\n",
    "                \"SELECT p.store_key, SUM(t.quantity) AS cartons_sold, \" \\\n",
    "                \"RANK() OVER (ORDER BY SUM(t.quantity) DESC) AS rank \" \\\n",
    "                \"FROM star_schema.\\\"Fact_table\\\" t \" \\\n",
    "                \"JOIN star_schema.\\\"Time_dim\\\" s on s.time_key=t.time_key \" \\\n",
    "                \"JOIN star_schema.\\\"Store_dim\\\" p on p.store_key=t.store_key \" \\\n",
    "                \"WHERE t.unit = 'cartons' \" \\\n",
    "                \"GROUP BY p.store_key \" \\\n",
    "               \") subquery \" \\\n",
    "               \"WHERE rank <= 5 \" \\\n",
    "               \"ORDER BY rank\"\n",
    "cur.execute(select_stmt) \n",
    "records = cur.fetchall()\n",
    "\n",
    "df = pd.DataFrame(records, columns=[\"Store Key\", \"Quantity Sold\"]) \n",
    "df = df.set_index(['Store Key'])\n",
    "\n",
    "cartons_sales = df \n",
    "cartons_sales\n",
    "\n",
    "#for index, row in df.iterrows():\n",
    "#    print(\"{}\".format(row['Item Name']))"
   ]
  },
  {
   "cell_type": "markdown",
   "id": "fdd40cc9",
   "metadata": {},
   "source": [
    "# Decision 5a: Maximum and Minimum Medicine Sales(quantity) during each quarter per year"
   ]
  },
  {
   "cell_type": "code",
   "execution_count": null,
   "id": "29a6a9dc",
   "metadata": {},
   "outputs": [],
   "source": [
    "con = PostgresConnection().getConnection() \n",
    "cur = con.cursor() \n",
    "\n",
    "select_stmt = \"SELECT item_name, year, quarter, quantity_sold \" \\\n",
    "              \"FROM (\" \\\n",
    "                \"SELECT p.item_name, s.year, s.quarter, SUM(t.quantity) AS quantity_sold, \" \\\n",
    "                \"RANK() OVER (PARTITION BY s.year, p.item_name ORDER BY SUM(t.quantity) DESC) AS rank \" \\\n",
    "                \"FROM star_schema.\\\"Fact_table\\\" t \" \\\n",
    "                \"JOIN star_schema.\\\"Time_dim\\\" s on s.time_key=t.time_key \" \\\n",
    "              \"JOIN star_schema.\\\"Item_dim\\\" p on p.item_key=t.item_key \" \\\n",
    "                \"WHERE p.description = 'Medicine' \" \\\n",
    "                \"GROUP BY p.item_name, s.year, s.quarter \" \\\n",
    "               \") subquery \" \\\n",
    "               \"WHERE rank = 1 OR rank = 4 \" \\\n",
    "               \"ORDER BY year, item_name, quantity_sold DESC\"\n",
    "cur.execute(select_stmt) \n",
    "records = cur.fetchall()\n",
    "\n",
    "df = pd.DataFrame(records, columns=[\"Name\", \"Year\", \"Quarter\", \"Quantity\"]) \n",
    "df = df.set_index(['Name'])\n",
    "\n",
    "medicine_quantity = df \n",
    "medicine_quantity\n",
    "\n",
    "#for index, row in df.iterrows():\n",
    "#    print(\"{}\".format(row['Item Name']))"
   ]
  },
  {
   "cell_type": "markdown",
   "id": "0a0f7494",
   "metadata": {},
   "source": [
    "# Decision 5b: Top 2 most in-demand food per type(description) during each quarter of the year 2020"
   ]
  },
  {
   "cell_type": "code",
   "execution_count": null,
   "id": "4122a94f",
   "metadata": {},
   "outputs": [],
   "source": [
    "con = PostgresConnection().getConnection() \n",
    "cur = con.cursor() \n",
    "\n",
    "select_stmt = \"SELECT description, quarter, item_name, quantity_sold \" \\\n",
    "              \"FROM (\" \\\n",
    "                \"SELECT p.description, p.item_name, s.quarter, SUM(t.quantity) AS quantity_sold, \" \\\n",
    "                \"RANK() OVER (PARTITION BY p.description, s.quarter ORDER BY SUM(t.quantity) DESC) AS rank \" \\\n",
    "                \"FROM star_schema.\\\"Fact_table\\\" t \" \\\n",
    "                \"JOIN star_schema.\\\"Time_dim\\\" s on s.time_key=t.time_key \" \\\n",
    "              \"JOIN star_schema.\\\"Item_dim\\\" p on p.item_key=t.item_key \" \\\n",
    "                \"WHERE p.description like 'Food%' AND s.year = 2020 \" \\\n",
    "                \"GROUP BY p.description, s.quarter, p.item_name \" \\\n",
    "               \") subquery \" \\\n",
    "               \"WHERE rank <= 2 \" \\\n",
    "               \"ORDER BY description, quarter, rank\"\n",
    "cur.execute(select_stmt) \n",
    "records = cur.fetchall()\n",
    "\n",
    "df = pd.DataFrame(records, columns=[\"Type\", \"Quarter\", \"Item Name\", \"Quantity Sold\"]) \n",
    "\n",
    "popular_food = df \n",
    "popular_food\n",
    "\n",
    "for index, row in df.iterrows():\n",
    "    if index % 8 == 0:\n",
    "        print(\"{}\".format(row['Type']))\n",
    "        print((\"\\t{}\").format(row['Quarter']))\n",
    "    elif index % 2 == 0:\n",
    "        print((\"\\t{}\").format(row['Quarter']))\n",
    "    print((\"\\t\\t{}\").format(row['Item Name']))"
   ]
  }
 ],
 "metadata": {
  "kernelspec": {
   "display_name": "Python 3 (ipykernel)",
   "language": "python",
   "name": "python3"
  },
  "language_info": {
   "codemirror_mode": {
    "name": "ipython",
    "version": 3
   },
   "file_extension": ".py",
   "mimetype": "text/x-python",
   "name": "python",
   "nbconvert_exporter": "python",
   "pygments_lexer": "ipython3",
   "version": "3.10.2"
  }
 },
 "nbformat": 4,
 "nbformat_minor": 5
}
