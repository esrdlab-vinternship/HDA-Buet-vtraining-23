{
 "cells": [
  {
   "cell_type": "code",
   "execution_count": null,
   "id": "2f603473",
   "metadata": {},
   "outputs": [],
   "source": [
    "pip install matplotlib"
   ]
  },
  {
   "cell_type": "code",
   "execution_count": null,
   "id": "0a03949e",
   "metadata": {
    "scrolled": true
   },
   "outputs": [],
   "source": [
    "pip install seaborn"
   ]
  },
  {
   "cell_type": "code",
   "execution_count": null,
   "id": "baa026b2",
   "metadata": {},
   "outputs": [],
   "source": [
    "import psycopg2\n",
    "import pandas as pd\n",
    "import psycopg2.extras\n",
    "import seaborn as sns\n",
    "import numpy as np"
   ]
  },
  {
   "cell_type": "code",
   "execution_count": null,
   "id": "1e96263a",
   "metadata": {},
   "outputs": [],
   "source": [
    "import matplotlib.pyplot as plt"
   ]
  },
  {
   "cell_type": "code",
   "execution_count": null,
   "id": "1586b1a8",
   "metadata": {},
   "outputs": [],
   "source": [
    "class PostgresConnection(object):\n",
    "    def __init__(self):\n",
    "        self.connection = psycopg2.connect(database=\"ecomdb\",\n",
    "                                           user = \"postgres\",\n",
    "                                           password = \"cse18133\",\n",
    "                                           host = \"localhost\",\n",
    "                                           port = \"5432\")\n",
    "\n",
    "    def getConnection(self):\n",
    "        print(\"Connection to DB established!\")\n",
    "        return self.connection"
   ]
  },
  {
   "cell_type": "code",
   "execution_count": null,
   "id": "408974a1",
   "metadata": {},
   "outputs": [],
   "source": [
    "con = PostgresConnection().getConnection()"
   ]
  },
  {
   "cell_type": "markdown",
   "id": "24514b6d",
   "metadata": {},
   "source": [
    "# Q1: Find the division wise total_sale_price joining fact table and respective dimension table"
   ]
  },
  {
   "cell_type": "code",
   "execution_count": null,
   "id": "6166773f",
   "metadata": {},
   "outputs": [],
   "source": [
    "con = PostgresConnection().getConnection()\n",
    "cur = con.cursor()\n",
    "select_stmt = \"SELECT s.division, SUM(t.total_price) \" \\\n",
    "              \"FROM star_schema.fact_table t \" \\\n",
    "              \"JOIN star_schema.store_dim s on s.store_key=t.store_key \" \\\n",
    "                \"GROUP BY CUBE(s.division) \" \\\n",
    "                \"ORDER BY s.division \"\n",
    "cur.execute(select_stmt)\n",
    "records = cur.fetchall()"
   ]
  },
  {
   "cell_type": "code",
   "execution_count": null,
   "id": "daeb3c4d",
   "metadata": {},
   "outputs": [],
   "source": [
    "records"
   ]
  },
  {
   "cell_type": "code",
   "execution_count": null,
   "id": "0d9f339d",
   "metadata": {},
   "outputs": [],
   "source": [
    "df_q1 = pd.DataFrame(records, columns=['division', 'sales'])\n",
    "df_q1"
   ]
  },
  {
   "cell_type": "code",
   "execution_count": null,
   "id": "5b877b73",
   "metadata": {},
   "outputs": [],
   "source": [
    "df_q1 =df_q1.drop(7)"
   ]
  },
  {
   "cell_type": "code",
   "execution_count": null,
   "id": "d9d15fa3",
   "metadata": {},
   "outputs": [],
   "source": [
    "df_q1"
   ]
  },
  {
   "cell_type": "code",
   "execution_count": null,
   "id": "0d8c7a80",
   "metadata": {},
   "outputs": [],
   "source": [
    "def changetype(x):\n",
    "    x['sales']=x['sales'].astype('float64')  "
   ]
  },
  {
   "cell_type": "code",
   "execution_count": null,
   "id": "6fd1d4c8",
   "metadata": {},
   "outputs": [],
   "source": [
    "changetype(df_q1)"
   ]
  },
  {
   "cell_type": "code",
   "execution_count": null,
   "id": "1f039591",
   "metadata": {},
   "outputs": [],
   "source": [
    "df_q1"
   ]
  },
  {
   "cell_type": "code",
   "execution_count": null,
   "id": "f26ce560",
   "metadata": {},
   "outputs": [],
   "source": [
    "df_q1=df_q1.set_index(['division'])\n",
    "df_q1"
   ]
  },
  {
   "cell_type": "code",
   "execution_count": null,
   "id": "a8833f94",
   "metadata": {},
   "outputs": [],
   "source": [
    "df_q1.plot.pie(y='sales')"
   ]
  },
  {
   "cell_type": "code",
   "execution_count": null,
   "id": "794b9843",
   "metadata": {
    "scrolled": true
   },
   "outputs": [],
   "source": [
    "plt.figure(figsize=(10,5))\n",
    "df_q1.plot.bar(y='sales')"
   ]
  },
  {
   "cell_type": "code",
   "execution_count": null,
   "id": "fd840f39",
   "metadata": {},
   "outputs": [],
   "source": [
    "con = PostgresConnection().getConnection()\n",
    "cur = con.cursor()\n",
    "select_stmt = \"SELECT s.year, SUM(t.total_price) \" \\\n",
    "              \"FROM star_schema.fact_table t \" \\\n",
    "              \"JOIN star_schema.time_dim s on s.time_key=t.time_key \" \\\n",
    "                \"GROUP BY CUBE(s.year) \" \\\n",
    "                \"ORDER BY s.year \"\n",
    "cur.execute(select_stmt)\n",
    "records = cur.fetchall()"
   ]
  },
  {
   "cell_type": "code",
   "execution_count": null,
   "id": "60ee6042",
   "metadata": {},
   "outputs": [],
   "source": [
    "records"
   ]
  },
  {
   "cell_type": "code",
   "execution_count": null,
   "id": "8aa68af4",
   "metadata": {},
   "outputs": [],
   "source": [
    "df_q1 = pd.DataFrame(records, columns=['year', 'sales'])\n"
   ]
  },
  {
   "cell_type": "code",
   "execution_count": null,
   "id": "7ba8be40",
   "metadata": {},
   "outputs": [],
   "source": [
    "df_q1"
   ]
  },
  {
   "cell_type": "code",
   "execution_count": null,
   "id": "2eed3885",
   "metadata": {},
   "outputs": [],
   "source": [
    "df_q1 =df_q1.drop(8)\n",
    "df_q1"
   ]
  },
  {
   "cell_type": "code",
   "execution_count": null,
   "id": "f48b5d9e",
   "metadata": {},
   "outputs": [],
   "source": [
    "df_q1['year'] = df_q1['year'].astype('int64')\n",
    "df_q1['sales'] = df_q1['sales'].astype('float64')\n",
    "df_q1"
   ]
  },
  {
   "cell_type": "code",
   "execution_count": null,
   "id": "bba330ae",
   "metadata": {},
   "outputs": [],
   "source": [
    "df_q1=df_q1.set_index(['year'])\n",
    "df_q1.plot.pie(y='sales')"
   ]
  },
  {
   "cell_type": "code",
   "execution_count": null,
   "id": "c8d708e2",
   "metadata": {},
   "outputs": [],
   "source": [
    "plt.figure(figsize=(10,5))\n",
    "df_q1.plot.bar(y='sales')"
   ]
  },
  {
   "attachments": {},
   "cell_type": "markdown",
   "id": "04e9be46",
   "metadata": {},
   "source": [
    "Q2: Find the customer/bank/transaction(cash/online) wise total_sale_price joining fact table and respective dimension table "
   ]
  },
  {
   "cell_type": "code",
   "execution_count": null,
   "id": "1e29e995",
   "metadata": {},
   "outputs": [],
   "source": [
    "con = PostgresConnection().getConnection()\n",
    "cur = con.cursor()\n",
    "select_stmt = \"SELECT tr.bank_name, SUM(t.total_price)\"\\\n",
    "                \"FROM star_schema.fact_table t \"\\\n",
    "                \"JOIN star_schema.trans_dim tr on tr.payment_key=t.payment_key \"\\\n",
    "                \"GROUP BY CUBE(tr.bank_name) \"\\\n",
    "                \"ORDER BY tr.bank_name \"\n",
    "cur.execute(select_stmt)\n",
    "records = cur.fetchall()\n",
    "\n"
   ]
  },
  {
   "cell_type": "code",
   "execution_count": null,
   "id": "e1245098",
   "metadata": {},
   "outputs": [],
   "source": [
    "records"
   ]
  },
  {
   "cell_type": "code",
   "execution_count": null,
   "id": "726b0433",
   "metadata": {},
   "outputs": [],
   "source": [
    "df_q2_bank = pd.DataFrame(records, columns=['bank_name', 'sales'])\n",
    "df_q2_bank"
   ]
  },
  {
   "cell_type": "code",
   "execution_count": null,
   "id": "7f455c5a",
   "metadata": {},
   "outputs": [],
   "source": [
    "# drop the row with none value\n",
    "df_q2_bank = df_q2_bank.dropna()\n",
    "df_q2_bank\n"
   ]
  },
  {
   "cell_type": "code",
   "execution_count": null,
   "id": "e4cf7ae6",
   "metadata": {},
   "outputs": [],
   "source": [
    "df_q2_bank.dtypes"
   ]
  },
  {
   "cell_type": "code",
   "execution_count": null,
   "id": "fb017a42",
   "metadata": {},
   "outputs": [],
   "source": [
    "changetype(df_q2_bank)"
   ]
  },
  {
   "cell_type": "code",
   "execution_count": null,
   "id": "49a13f32",
   "metadata": {},
   "outputs": [],
   "source": [
    "# df_q2_bank = df_q2_bank.set_index(['bank_name'])"
   ]
  },
  {
   "cell_type": "code",
   "execution_count": null,
   "id": "bb839f34",
   "metadata": {},
   "outputs": [],
   "source": [
    "# plt.figure(figsize=(30,15))\n",
    "# df_q2_bank.plot.bar(y='sales')"
   ]
  },
  {
   "cell_type": "code",
   "execution_count": null,
   "id": "f22e0b21",
   "metadata": {},
   "outputs": [],
   "source": [
    "plt.figure(figsize=(20,12))\n",
    "plt.title('Sales by Bank')\n",
    "plt.xlabel('Bank Name')\n",
    "plt.ylabel('Sales')\n",
    "df_q2_bank.sort_values(by=['sales'], ascending=False, inplace=True)\n",
    "plt.stem(df_q2_bank['sales'],df_q2_bank['bank_name'])\n",
    "plt.show()\n"
   ]
  },
  {
   "attachments": {},
   "cell_type": "markdown",
   "id": "088524e8",
   "metadata": {},
   "source": [
    "Transaction Type"
   ]
  },
  {
   "cell_type": "code",
   "execution_count": null,
   "id": "55d0b4f9",
   "metadata": {},
   "outputs": [],
   "source": [
    "con = PostgresConnection().getConnection()\n",
    "cur = con.cursor()\n",
    "select_stmt = \"SELECT tr.trans_type, SUM(t.total_price)\" \\\n",
    "                \"FROM star_schema.fact_table t \" \\\n",
    "                \"JOIN star_schema.trans_dim tr on tr.payment_key=t.payment_key \" \\\n",
    "                \"GROUP BY CUBE(tr.trans_type) \" \\\n",
    "                \"ORDER BY tr.trans_type \"\n",
    "cur.execute(select_stmt)\n",
    "records = cur.fetchall()"
   ]
  },
  {
   "cell_type": "code",
   "execution_count": null,
   "id": "e4fb9c76",
   "metadata": {},
   "outputs": [],
   "source": [
    "records"
   ]
  },
  {
   "cell_type": "code",
   "execution_count": null,
   "id": "518a8718",
   "metadata": {},
   "outputs": [],
   "source": [
    "df_q2_payment_type = pd.DataFrame(records,columns=['payment_type','sales'])\n",
    "df_q2_payment_type"
   ]
  },
  {
   "cell_type": "code",
   "execution_count": null,
   "id": "fa729291",
   "metadata": {},
   "outputs": [],
   "source": [
    "df_q2_payment_type = df_q2_payment_type.dropna()\n",
    "df_q2_payment_type"
   ]
  },
  {
   "cell_type": "code",
   "execution_count": null,
   "id": "4c5c84d4",
   "metadata": {},
   "outputs": [],
   "source": [
    "df_q2_payment_type.dtypes"
   ]
  },
  {
   "cell_type": "code",
   "execution_count": null,
   "id": "2f042009",
   "metadata": {},
   "outputs": [],
   "source": [
    "changetype(df_q2_payment_type)\n"
   ]
  },
  {
   "cell_type": "code",
   "execution_count": null,
   "id": "3bb1afac",
   "metadata": {},
   "outputs": [],
   "source": [
    "df_q2_payment_type = df_q2_payment_type.set_index(['payment_type'])"
   ]
  },
  {
   "cell_type": "code",
   "execution_count": null,
   "id": "65c0a0d3",
   "metadata": {},
   "outputs": [],
   "source": [
    "plt.figure(figsize=(30,15))\n",
    "df_q2_payment_type.plot.bar(y='sales')"
   ]
  },
  {
   "cell_type": "code",
   "execution_count": null,
   "id": "b7a03ff2",
   "metadata": {},
   "outputs": [],
   "source": [
    "# pie chart\n",
    "df_q2_payment_type.plot.pie(y='sales')"
   ]
  },
  {
   "attachments": {},
   "cell_type": "markdown",
   "id": "5993b8b0",
   "metadata": {},
   "source": [
    "## Q3: Total sales in Barisal"
   ]
  },
  {
   "cell_type": "code",
   "execution_count": null,
   "id": "261089ef",
   "metadata": {},
   "outputs": [],
   "source": [
    "con = PostgresConnection().getConnection()\n",
    "cur = con.cursor()\n",
    "select_stmt = \"SELECT s.division, SUM(t.total_price) \" \\\n",
    "                \"FROM star_schema.fact_table t \" \\\n",
    "                \"JOIN star_schema.store_dim s on s.store_key=t.store_key \" \\\n",
    "                \"WHERE s.division = 'BARISAL' \" \\\n",
    "                \"GROUP BY CUBE(s.division) \" \\\n",
    "                \"ORDER BY s.division \"\n",
    "                \n",
    "                \n",
    "cur.execute(select_stmt)\n",
    "records = cur.fetchall()\n",
    "\n"
   ]
  },
  {
   "cell_type": "code",
   "execution_count": null,
   "id": "49b8d9ab",
   "metadata": {},
   "outputs": [],
   "source": [
    "records"
   ]
  },
  {
   "cell_type": "code",
   "execution_count": null,
   "id": "7bb64d9d",
   "metadata": {},
   "outputs": [],
   "source": [
    "df_q3 = pd.DataFrame(records, columns=['division', 'sales'])\n",
    "df_q3"
   ]
  },
  {
   "cell_type": "code",
   "execution_count": null,
   "id": "92ceefdd",
   "metadata": {},
   "outputs": [],
   "source": [
    "df_q3 =df_q3.dropna()\n",
    "df_q3"
   ]
  },
  {
   "attachments": {},
   "cell_type": "markdown",
   "id": "8262d78b",
   "metadata": {},
   "source": [
    "## Q4: Total sales in 2015"
   ]
  },
  {
   "cell_type": "code",
   "execution_count": null,
   "id": "df81e9fb",
   "metadata": {},
   "outputs": [],
   "source": [
    "con = PostgresConnection().getConnection()\n",
    "cur = con.cursor()\n",
    "select_stmt = \"SELECT t.year, SUM(f.total_price) \" \\\n",
    "                \"FROM star_schema.fact_table f \" \\\n",
    "                \"JOIN star_schema.time_dim t on t.time_key=f.time_key \" \\\n",
    "                \"WHERE t.year = 2015 \" \\\n",
    "                \"GROUP BY CUBE(t.year) \" \\\n",
    "                \"ORDER BY t.year \"\n",
    "cur.execute(select_stmt)\n",
    "records = cur.fetchall()\n"
   ]
  },
  {
   "cell_type": "code",
   "execution_count": null,
   "id": "3beb7378",
   "metadata": {},
   "outputs": [],
   "source": [
    "records"
   ]
  },
  {
   "cell_type": "code",
   "execution_count": null,
   "id": "4fffc5d1",
   "metadata": {},
   "outputs": [],
   "source": [
    "df_q4 = pd.DataFrame(records, columns=['year', 'sales'])\n",
    "df_q4"
   ]
  },
  {
   "cell_type": "code",
   "execution_count": null,
   "id": "4cee571a",
   "metadata": {},
   "outputs": [],
   "source": [
    "df_q4 =df_q4.dropna()\n",
    "df_q4"
   ]
  },
  {
   "cell_type": "code",
   "execution_count": null,
   "id": "07dfcc87",
   "metadata": {},
   "outputs": [],
   "source": [
    "df_q4['year'] = df_q4['year'].astype('int64')\n",
    "df_q4['sales'] = df_q4['sales'].astype('float64')"
   ]
  },
  {
   "cell_type": "code",
   "execution_count": null,
   "id": "c5f69ebd",
   "metadata": {},
   "outputs": [],
   "source": [
    "df_q4"
   ]
  },
  {
   "cell_type": "code",
   "execution_count": null,
   "id": "c8469fbc",
   "metadata": {},
   "outputs": [],
   "source": []
  },
  {
   "attachments": {},
   "cell_type": "markdown",
   "id": "619d6aa1",
   "metadata": {},
   "source": [
    "## Q5: Total sales of Barisal in 2015"
   ]
  },
  {
   "cell_type": "code",
   "execution_count": null,
   "id": "c90b644b",
   "metadata": {},
   "outputs": [],
   "source": [
    "con = PostgresConnection().getConnection()\n",
    "cur = con.cursor()\n",
    "select_stmt = \"SELECT s.division, t.year,SUM(f.total_price) AS total_sales \" \\\n",
    "    \"FROM star_schema.fact_table f \" \\\n",
    "    \"JOIN star_schema.store_dim s ON f.store_key = s.store_key \" \\\n",
    "    \"JOIN star_schema.time_dim t ON f.time_key = t.time_key \" \\\n",
    "    \"WHERE s.division = 'BARISAL' AND t.year = 2015 \" \\\n",
    "    \"GROUP BY CUBE(s.division, t.year) \" \\\n",
    "    \"ORDER BY s.division, t.year \"\n",
    "    \n",
    "\n",
    "cur.execute(select_stmt)\n",
    "records = cur.fetchall()"
   ]
  },
  {
   "cell_type": "code",
   "execution_count": null,
   "id": "2c695c99",
   "metadata": {},
   "outputs": [],
   "source": [
    "records"
   ]
  },
  {
   "cell_type": "code",
   "execution_count": null,
   "id": "4cdbdad7",
   "metadata": {},
   "outputs": [],
   "source": [
    "df_q5 = pd.DataFrame(records, columns=['division', 'year', 'sales'])\n",
    "df_q5"
   ]
  },
  {
   "cell_type": "code",
   "execution_count": null,
   "id": "1355d0de",
   "metadata": {},
   "outputs": [],
   "source": [
    "df_q5 = df_q5.dropna()\n",
    "df_q5"
   ]
  },
  {
   "cell_type": "code",
   "execution_count": null,
   "id": "b975bc58",
   "metadata": {},
   "outputs": [],
   "source": [
    "df_q5['year'] = df_q5['year'].astype('int64')\n",
    "df_q5['sales'] = df_q5['sales'].astype('float64')\n",
    "df_q5"
   ]
  },
  {
   "attachments": {},
   "cell_type": "markdown",
   "id": "92980b8b",
   "metadata": {},
   "source": [
    "# Q6: For each store(item supplier), what are the top three products offered that are most often purchased?\n",
    "    S1-> item1 -> quantity_sales\n",
    "\n",
    "    S1-> item2 -> quantity_sales\n",
    "\n",
    "    S1-> item3 -> quantity_sales"
   ]
  },
  {
   "cell_type": "code",
   "execution_count": null,
   "id": "5c39ae0b",
   "metadata": {},
   "outputs": [],
   "source": [
    "con = PostgresConnection().getConnection()\n",
    "curr = con.cursor()\n",
    "select_stmt = \"SELECT s.store_key as store_key , i.item_name as item_name, SUM(f.quantity) as quantity_sales \"\\\n",
    "                \"FROM star_schema.fact_table as f \"\\\n",
    "                \"JOIN star_schema.store_dim as s ON s.store_key = f.store_key \" \\\n",
    "                \"JOIN star_schema.item_dim as i ON i.item_key = f.item_key \" \\\n",
    "                \"GROUP BY CUBE(s.store_key, i.item_name) \" \\\n",
    "                \"ORDER BY s.store_key, sum(f.quantity) DESC \"\n",
    "\n",
    "curr.execute(select_stmt)\n",
    "records = curr.fetchall()\n",
    "\n",
    "\n",
    "\n"
   ]
  },
  {
   "cell_type": "code",
   "execution_count": null,
   "id": "c61a3c49",
   "metadata": {},
   "outputs": [],
   "source": [
    "df_q6 = pd.DataFrame(records, columns=['store_key', 'item_name', 'quantity_sales'])\n",
    "df_q6 = df_q6.dropna()\n",
    "df_q6"
   ]
  },
  {
   "cell_type": "code",
   "execution_count": null,
   "id": "de03cda8",
   "metadata": {},
   "outputs": [],
   "source": [
    "df_q6 = df_q6.groupby('store_key').head(3)\n",
    "df_q6.head(20)"
   ]
  },
  {
   "cell_type": "code",
   "execution_count": null,
   "id": "24468834",
   "metadata": {},
   "outputs": [],
   "source": [
    "# take top 10 data\n",
    "data = df_q6[:30]\n",
    "plt.figure(figsize=(20,12))\n",
    "plt.title('Top 3 Items by Store')\n",
    "plt.xlabel('Quantity')\n",
    "plt.ylabel('Item Name')\n",
    "sns.scatterplot(x='quantity_sales', y='item_name', hue='store_key', palette='tab10', s=200,data=data)\n",
    "sns.set(font_scale=2.0)"
   ]
  },
  {
   "cell_type": "code",
   "execution_count": null,
   "id": "78522ae8",
   "metadata": {},
   "outputs": [],
   "source": [
    "fig, ax = plt.subplots(figsize=(20,12))\n",
    "plt.title('Top 3 Items by Store')\n",
    "plt.ylabel('Quantity')\n",
    "plt.xlabel('Store Key')\n",
    "sns.set(font_scale=2.0)\n",
    "sns.set_context(\"notebook\")\n",
    "sns.barplot(x=data['store_key'], y=data['quantity_sales'], hue=data['item_name'], palette='Paired', ax=ax)\n",
    "\n"
   ]
  },
  {
   "attachments": {},
   "cell_type": "markdown",
   "id": "321ca18c",
   "metadata": {},
   "source": [
    "# Q7: What products have been sold through card or mobile since X days?\n",
    "\n",
    "    input: X = 5 days\n",
    "\n",
    "    output: [item1, item2, item3, ...........]"
   ]
  },
  {
   "cell_type": "code",
   "execution_count": null,
   "id": "e09ccb35",
   "metadata": {},
   "outputs": [],
   "source": [
    "no_of_days = input(\"Enter number of days: \")"
   ]
  },
  {
   "cell_type": "code",
   "execution_count": null,
   "id": "9803fd59",
   "metadata": {},
   "outputs": [],
   "source": [
    "con = PostgresConnection().getConnection()\n",
    "curr = con.cursor()\n",
    "select_stmt = \"SELECT i.item_name as item_name , tim.t_date as date, tt.trans_type as trans_type \" \\\n",
    "                \"FROM star_schema.fact_table as f \" \\\n",
    "                \"JOIN star_schema.item_dim as i ON i.item_key = f.item_key \" \\\n",
    "                \"JOIN star_schema.time_dim as tim ON tim.time_key = f.time_key \" \\\n",
    "                \"JOIN star_schema.trans_dim as tt ON tt.payment_key = f.payment_key \" \\\n",
    "                \"WHERE tim.t_date > CURRENT_DATE - INTERVAL '\"\n",
    "select_stmt = select_stmt+ str(no_of_days) + \" days' \"\n",
    "# select_stmt = select_stmt + str(no_of_days) + \" days::interval) AND tt.trans_type = 'card' \" \n",
    "print(select_stmt)\n",
    "curr.execute(select_stmt)\n",
    "records = curr.fetchall()\n",
    "                "
   ]
  },
  {
   "cell_type": "code",
   "execution_count": null,
   "id": "91388adf",
   "metadata": {},
   "outputs": [],
   "source": [
    "records"
   ]
  },
  {
   "cell_type": "code",
   "execution_count": null,
   "id": "54593240",
   "metadata": {},
   "outputs": [],
   "source": [
    "data = pd.DataFrame(records, columns=['item_name','date','trans_type'])\n",
    "data = data.dropna()\n",
    "# split the data into two parts one for card and another for mobile\n",
    "data"
   ]
  },
  {
   "cell_type": "code",
   "execution_count": null,
   "id": "735120b2",
   "metadata": {},
   "outputs": [],
   "source": [
    "data['date'] = pd.to_datetime(data['date'])\n",
    "data['trans_type'] = data['trans_type'].astype('str')\n",
    "grouped = data.groupby('trans_type')\n",
    "card = grouped.get_group('card')\n",
    "mobile = grouped.get_group('mobile')\n",
    "card\n"
   ]
  },
  {
   "cell_type": "code",
   "execution_count": null,
   "id": "9e6c1839",
   "metadata": {},
   "outputs": [],
   "source": [
    "mobile"
   ]
  },
  {
   "cell_type": "code",
   "execution_count": null,
   "id": "ccf5bef0",
   "metadata": {},
   "outputs": [],
   "source": [
    "# import matplotlib.pyplot as plt\n",
    "\n",
    "# Assuming you have separate DataFrames 'card' and 'mobile'\n",
    "\n",
    "# Count the occurrences of each trans_type\n",
    "card_count = card.shape[0]\n",
    "mobile_count = mobile.shape[0]\n",
    "\n",
    "# Create a list of counts\n",
    "counts = [card_count, mobile_count]\n",
    "\n",
    "# Create a list of labels\n",
    "labels = ['Card', 'Mobile']\n",
    "\n",
    "# Set the colors for the pie chart\n",
    "colors = ['#ff9999', '#66b3ff']\n",
    "\n",
    "# Create the pie chart\n",
    "plt.pie(counts, labels=labels, colors=colors, autopct='%1.1f%%', startangle=90)\n",
    "\n",
    "# Set aspect ratio to be equal so that pie is drawn as a circle\n",
    "plt.axis('equal')\n",
    "\n",
    "# Add a title\n",
    "plt.title('Transaction Distribution: Card vs Mobile')\n",
    "\n",
    "# Show the pie chart\n",
    "plt.show()\n"
   ]
  },
  {
   "attachments": {},
   "cell_type": "markdown",
   "id": "b2bd0a1c",
   "metadata": {},
   "source": [
    "# Q8: What season(quarter) is the worst for each product item? As example,\n",
    "\n",
    "       item1-> q1\n",
    "\n",
    "       item2-> q2"
   ]
  },
  {
   "cell_type": "code",
   "execution_count": null,
   "id": "4cdadf02",
   "metadata": {},
   "outputs": [],
   "source": [
    "con = PostgresConnection().getConnection()\n",
    "curr = con.cursor()\n",
    "select_stmt = \"SELECT i.item_name, tim.quarter, SUM(f.total_price) as total_price \" \\\n",
    "                \"FROM star_schema.fact_table as f \" \\\n",
    "                \"JOIN star_schema.item_dim as i ON i.item_key = f.item_key \" \\\n",
    "                \"JOIN star_schema.time_dim as tim ON tim.time_key = f.time_key \" \\\n",
    "                \"GROUP BY CUBE(i.item_name, tim.quarter) \" \\\n",
    "                \"ORDER BY i.item_name, SUM(f.total_price) \"\n",
    "\n",
    "curr.execute(select_stmt)\n",
    "records = curr.fetchall()\n"
   ]
  },
  {
   "cell_type": "code",
   "execution_count": null,
   "id": "887d018e",
   "metadata": {},
   "outputs": [],
   "source": [
    "# records\n",
    "df_q8 = pd.DataFrame(records, columns=['item_name', 'quarter', 'total_price'])\n",
    "df_q8 = df_q8.dropna()\n",
    "df_q8"
   ]
  },
  {
   "cell_type": "code",
   "execution_count": null,
   "id": "b86c7b75",
   "metadata": {},
   "outputs": [],
   "source": [
    "df_q8 = df_q8.groupby('item_name').head(1)\n",
    "df_q8"
   ]
  },
  {
   "cell_type": "code",
   "execution_count": null,
   "id": "d70dcb73",
   "metadata": {},
   "outputs": [],
   "source": [
    "df_q8 = df_q8[0:30]\n",
    "df_q8"
   ]
  },
  {
   "cell_type": "code",
   "execution_count": null,
   "id": "c0afc5bb",
   "metadata": {},
   "outputs": [],
   "source": [
    "\n",
    "plt.figure(figsize=(20,12))\n",
    "plt.title('Worst Quarter for each item',fontsize=20)\n",
    "plt.xlabel('Quantity',fontsize=20)\n",
    "plt.ylabel('Item Name',fontsize=20)\n",
    "sns.set(font_scale=3.0)\n",
    "sns.set_context(\"notebook\")\n",
    "\n",
    "sns.scatterplot(x='total_price', y='item_name', hue='quarter', palette='tab10', s=200,data=df_q8)"
   ]
  },
  {
   "cell_type": "code",
   "execution_count": null,
   "id": "4e98c683",
   "metadata": {},
   "outputs": [],
   "source": []
  },
  {
   "attachments": {},
   "cell_type": "markdown",
   "id": "6355f6fb",
   "metadata": {},
   "source": [
    "# Q9: Break down the total sales of items geographically (division-wise).\n",
    "\n",
    "     item1-> division1->total_sales\n",
    "\n",
    "     item1-> division2->total_sales"
   ]
  },
  {
   "cell_type": "code",
   "execution_count": null,
   "id": "ae7d5061",
   "metadata": {},
   "outputs": [],
   "source": [
    "con = PostgresConnection().getConnection()\n",
    "curr = con.cursor()\n",
    "select_stmt = '''\n",
    "SELECT s.division, i.item_name, sum(f.total_price)\n",
    "FROM star_schema.fact_table f\n",
    "JOIN star_schema.item_dim i ON i.item_key = f.item_key\n",
    "JOIN star_schema.store_dim s ON s.store_key = f.store_key\n",
    "GROUP BY CUBE(i.item_name, s.division)\n",
    "ORDER BY i.item_name, s.division\n",
    "'''\n",
    "cur.execute(select_stmt)\n",
    "records = cur.fetchall()\n",
    "\n"
   ]
  },
  {
   "cell_type": "code",
   "execution_count": null,
   "id": "412dad82",
   "metadata": {},
   "outputs": [],
   "source": [
    "records"
   ]
  },
  {
   "cell_type": "code",
   "execution_count": null,
   "id": "696b1b3a",
   "metadata": {},
   "outputs": [],
   "source": [
    "df_q8 = pd.DataFrame(records, columns=['division','item_name','sales'])\n",
    "df_q8"
   ]
  },
  {
   "cell_type": "code",
   "execution_count": null,
   "id": "f1a46d75",
   "metadata": {},
   "outputs": [],
   "source": [
    "df_q8 = df_q8.dropna()\n",
    "df_q8.head(30)"
   ]
  },
  {
   "cell_type": "code",
   "execution_count": null,
   "id": "c1bce9b2",
   "metadata": {},
   "outputs": [],
   "source": [
    "item_div = df_q8.head(80)\n",
    "fig, ax = plt.subplots(figsize = (20,12))\n",
    "plt.title('Division Wise Sales',fontsize=20)\n",
    "plt.xlabel('Item Name',fontsize=20)\n",
    "plt.ylabel('Sales',fontsize=20)\n",
    "sns.barplot(data=item_div, x='sales',y='item_name',hue='division',ax=ax,palette='Paired')"
   ]
  },
  {
   "cell_type": "code",
   "execution_count": null,
   "id": "8fe1d16f",
   "metadata": {},
   "outputs": [],
   "source": [
    "# div_item = item_div\n",
    "div_item = df_q8.head(80)\n",
    "fig, ax = plt.subplots(figsize = (20,12))\n",
    "plt.title('Division Wise Sales',fontsize=20)\n",
    "plt.xlabel('Division',fontsize=20)\n",
    "plt.ylabel('Sales',fontsize=20)\n",
    "sns.barplot(data=div_item, y='division',x='sales',hue='item_name',ax=ax,palette='Paired')"
   ]
  },
  {
   "attachments": {},
   "cell_type": "markdown",
   "id": "510cc7e1",
   "metadata": {},
   "source": [
    "# Q10: What are the average sales of products sales per store monthly?\n",
    "\n",
    "      S1->M1-> avg_sales\n",
    "\n",
    "      s1-> M2 -> avg_sales"
   ]
  },
  {
   "cell_type": "code",
   "execution_count": null,
   "id": "1be97cd7",
   "metadata": {},
   "outputs": [],
   "source": [
    "con = PostgresConnection().getConnection()\n",
    "curr = con.cursor()\n",
    "select_stmt = '''\n",
    "    SELECT s.store_key, tim.month, avg(f.total_price)\n",
    "    FROM star_schema.fact_table f\n",
    "    JOIN star_schema.store_dim s ON s.store_key = f.store_key\n",
    "    JOIN star_schema.time_dim tim ON tim.time_key = f.time_key\n",
    "    GROUP BY CUBE(s.store_key, tim.month)\n",
    "    ORDER BY s.store_key, tim.month\n",
    "'''\n",
    "curr.execute(select_stmt)\n",
    "records = curr.fetchall()"
   ]
  },
  {
   "cell_type": "code",
   "execution_count": null,
   "id": "86cc64ba",
   "metadata": {},
   "outputs": [],
   "source": [
    "records"
   ]
  },
  {
   "cell_type": "code",
   "execution_count": null,
   "id": "52e48cc5",
   "metadata": {},
   "outputs": [],
   "source": [
    "df_q10 = pd.DataFrame(records, columns=['store_key','month','avg_sales'])\n",
    "df_q10 = df_q10.dropna()\n",
    "df_q10"
   ]
  },
  {
   "cell_type": "code",
   "execution_count": null,
   "id": "64606241",
   "metadata": {},
   "outputs": [],
   "source": [
    "plot_data = df_q10.head(96)\n",
    "plot_data"
   ]
  },
  {
   "cell_type": "code",
   "execution_count": null,
   "id": "b43601b7",
   "metadata": {},
   "outputs": [],
   "source": [
    "\n",
    "fig, ax = plt.subplots(figsize = (20,12))\n",
    "plt.title('Average of Store Sales Monthly')\n",
    "plt.xlabel('Sales',fontsize=20)\n",
    "plt.ylabel('Month',fontsize=20)\n",
    "sns.set(font_scale=3.0)\n",
    "sns.set_context(\"notebook\")\n",
    "sns.barplot(data=plot_data, x='month',y='avg_sales',hue='store_key',ax=ax,palette='Paired')"
   ]
  },
  {
   "cell_type": "code",
   "execution_count": null,
   "id": "e2490cc7",
   "metadata": {},
   "outputs": [],
   "source": [
    "plot_data['month'] = plot_data['month'].astype('int')\n",
    "plot_data['avg_sales'] = plot_data['avg_sales'].astype('float')\n",
    "plot_data['store_key'] = plot_data['store_key'].astype('str')"
   ]
  },
  {
   "cell_type": "code",
   "execution_count": null,
   "id": "e6e1bb5d",
   "metadata": {},
   "outputs": [],
   "source": [
    "plot_data2 = plot_data\n",
    "pivot_df = plot_data2.pivot(index='store_key', columns='month', values='avg_sales')\n",
    "pivot_df.T.plot(marker='o',linestyle='-', figsize=(20,12))\n",
    "plt.title('Average of Store Sales Monthly')\n",
    "plt.xlabel('Month',fontsize=20)\n",
    "plt.ylabel('Sales',fontsize=20)\n",
    "plt.show()"
   ]
  },
  {
   "cell_type": "code",
   "execution_count": null,
   "id": "d1c793d5",
   "metadata": {},
   "outputs": [],
   "source": []
  }
 ],
 "metadata": {
  "kernelspec": {
   "display_name": "Python 3 (ipykernel)",
   "language": "python",
   "name": "python3"
  },
  "language_info": {
   "codemirror_mode": {
    "name": "ipython",
    "version": 3
   },
   "file_extension": ".py",
   "mimetype": "text/x-python",
   "name": "python",
   "nbconvert_exporter": "python",
   "pygments_lexer": "ipython3",
   "version": "3.8.2"
  }
 },
 "nbformat": 4,
 "nbformat_minor": 5
}
