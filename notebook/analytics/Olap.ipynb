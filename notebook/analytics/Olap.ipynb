{
 "cells": [
  {
   "cell_type": "code",
   "execution_count": 1,
   "id": "2f603473",
   "metadata": {},
   "outputs": [
    {
     "name": "stdout",
     "output_type": "stream",
     "text": [
      "Collecting matplotlib\n",
      "  Downloading matplotlib-3.7.1-cp38-cp38-manylinux_2_12_x86_64.manylinux2010_x86_64.whl (9.2 MB)\n",
      "\u001b[2K     \u001b[38;2;114;156;31m━━━━━━━━━━━━━━━━━━━━━━━━━━━━━━━━━━━━━━━━\u001b[0m \u001b[32m9.2/9.2 MB\u001b[0m \u001b[31m6.6 MB/s\u001b[0m eta \u001b[36m0:00:00\u001b[0mm eta \u001b[36m0:00:01\u001b[0m[36m0:00:01\u001b[0m\n",
      "\u001b[?25hCollecting contourpy>=1.0.1 (from matplotlib)\n",
      "  Downloading contourpy-1.0.7-cp38-cp38-manylinux_2_17_x86_64.manylinux2014_x86_64.whl (300 kB)\n",
      "\u001b[2K     \u001b[38;2;114;156;31m━━━━━━━━━━━━━━━━━━━━━━━━━━━━━━━━━━━━━━\u001b[0m \u001b[32m300.0/300.0 kB\u001b[0m \u001b[31m17.6 MB/s\u001b[0m eta \u001b[36m0:00:00\u001b[0m\n",
      "\u001b[?25hCollecting cycler>=0.10 (from matplotlib)\n",
      "  Downloading cycler-0.11.0-py3-none-any.whl (6.4 kB)\n",
      "Collecting fonttools>=4.22.0 (from matplotlib)\n",
      "  Downloading fonttools-4.39.4-py3-none-any.whl (1.0 MB)\n",
      "\u001b[2K     \u001b[38;2;114;156;31m━━━━━━━━━━━━━━━━━━━━━━━━━━━━━━━━━━━━━━━━\u001b[0m \u001b[32m1.0/1.0 MB\u001b[0m \u001b[31m6.4 MB/s\u001b[0m eta \u001b[36m0:00:00\u001b[0m MB/s\u001b[0m eta \u001b[36m0:00:01\u001b[0m:01\u001b[0mm\n",
      "\u001b[?25hCollecting kiwisolver>=1.0.1 (from matplotlib)\n",
      "  Downloading kiwisolver-1.4.4-cp38-cp38-manylinux_2_5_x86_64.manylinux1_x86_64.whl (1.2 MB)\n",
      "\u001b[2K     \u001b[38;2;114;156;31m━━━━━━━━━━━━━━━━━━━━━━━━━━━━━━━━━━━━━━━━\u001b[0m \u001b[32m1.2/1.2 MB\u001b[0m \u001b[31m10.3 MB/s\u001b[0m eta \u001b[36m0:00:00\u001b[0mm eta \u001b[36m0:00:01\u001b[0m0:01\u001b[0m:01\u001b[0m\n",
      "\u001b[?25hRequirement already satisfied: numpy>=1.20 in /home/pantha/Work/myenv/lib/python3.8/site-packages (from matplotlib) (1.24.3)\n",
      "Requirement already satisfied: packaging>=20.0 in /home/pantha/Work/myenv/lib/python3.8/site-packages (from matplotlib) (23.1)\n",
      "Collecting pillow>=6.2.0 (from matplotlib)\n",
      "  Downloading Pillow-9.5.0-cp38-cp38-manylinux_2_28_x86_64.whl (3.4 MB)\n",
      "\u001b[2K     \u001b[38;2;114;156;31m━━━━━━━━━━━━━━━━━━━━━━━━━━━━━━━━━━━━━━━━\u001b[0m \u001b[32m3.4/3.4 MB\u001b[0m \u001b[31m10.0 MB/s\u001b[0m eta \u001b[36m0:00:00\u001b[0mm eta \u001b[36m0:00:01\u001b[0m:01\u001b[0mm01\u001b[0m\n",
      "\u001b[?25hCollecting pyparsing>=2.3.1 (from matplotlib)\n",
      "  Downloading pyparsing-3.0.9-py3-none-any.whl (98 kB)\n",
      "\u001b[2K     \u001b[38;2;114;156;31m━━━━━━━━━━━━━━━━━━━━━━━━━━━━━━━━━━━━━━━━\u001b[0m \u001b[32m98.3/98.3 kB\u001b[0m \u001b[31m8.7 MB/s\u001b[0m eta \u001b[36m0:00:00\u001b[0m\n",
      "\u001b[?25hRequirement already satisfied: python-dateutil>=2.7 in /home/pantha/Work/myenv/lib/python3.8/site-packages (from matplotlib) (2.8.2)\n",
      "Requirement already satisfied: importlib-resources>=3.2.0 in /home/pantha/Work/myenv/lib/python3.8/site-packages (from matplotlib) (5.12.0)\n",
      "Requirement already satisfied: zipp>=3.1.0 in /home/pantha/Work/myenv/lib/python3.8/site-packages (from importlib-resources>=3.2.0->matplotlib) (3.15.0)\n",
      "Requirement already satisfied: six>=1.5 in /home/pantha/Work/myenv/lib/python3.8/site-packages (from python-dateutil>=2.7->matplotlib) (1.16.0)\n",
      "Installing collected packages: pyparsing, pillow, kiwisolver, fonttools, cycler, contourpy, matplotlib\n",
      "Successfully installed contourpy-1.0.7 cycler-0.11.0 fonttools-4.39.4 kiwisolver-1.4.4 matplotlib-3.7.1 pillow-9.5.0 pyparsing-3.0.9\n",
      "Note: you may need to restart the kernel to use updated packages.\n"
     ]
    }
   ],
   "source": [
    "pip install matplotlib"
   ]
  },
  {
   "cell_type": "code",
   "execution_count": 2,
   "id": "0a03949e",
   "metadata": {
    "scrolled": true
   },
   "outputs": [
    {
     "name": "stdout",
     "output_type": "stream",
     "text": [
      "Collecting seaborn\n",
      "  Downloading seaborn-0.12.2-py3-none-any.whl (293 kB)\n",
      "\u001b[2K     \u001b[38;2;114;156;31m━━━━━━━━━━━━━━━━━━━━━━━━━━━━━━━━━━━━━━━\u001b[0m \u001b[32m293.3/293.3 kB\u001b[0m \u001b[31m1.9 MB/s\u001b[0m eta \u001b[36m0:00:00\u001b[0m[31m1.6 MB/s\u001b[0m eta \u001b[36m0:00:01\u001b[0m\n",
      "\u001b[?25hRequirement already satisfied: numpy!=1.24.0,>=1.17 in /home/pantha/Work/myenv/lib/python3.8/site-packages (from seaborn) (1.24.3)\n",
      "Requirement already satisfied: pandas>=0.25 in /home/pantha/Work/myenv/lib/python3.8/site-packages (from seaborn) (2.0.2)\n",
      "Requirement already satisfied: matplotlib!=3.6.1,>=3.1 in /home/pantha/Work/myenv/lib/python3.8/site-packages (from seaborn) (3.7.1)\n",
      "Requirement already satisfied: contourpy>=1.0.1 in /home/pantha/Work/myenv/lib/python3.8/site-packages (from matplotlib!=3.6.1,>=3.1->seaborn) (1.0.7)\n",
      "Requirement already satisfied: cycler>=0.10 in /home/pantha/Work/myenv/lib/python3.8/site-packages (from matplotlib!=3.6.1,>=3.1->seaborn) (0.11.0)\n",
      "Requirement already satisfied: fonttools>=4.22.0 in /home/pantha/Work/myenv/lib/python3.8/site-packages (from matplotlib!=3.6.1,>=3.1->seaborn) (4.39.4)\n",
      "Requirement already satisfied: kiwisolver>=1.0.1 in /home/pantha/Work/myenv/lib/python3.8/site-packages (from matplotlib!=3.6.1,>=3.1->seaborn) (1.4.4)\n",
      "Requirement already satisfied: packaging>=20.0 in /home/pantha/Work/myenv/lib/python3.8/site-packages (from matplotlib!=3.6.1,>=3.1->seaborn) (23.1)\n",
      "Requirement already satisfied: pillow>=6.2.0 in /home/pantha/Work/myenv/lib/python3.8/site-packages (from matplotlib!=3.6.1,>=3.1->seaborn) (9.5.0)\n",
      "Requirement already satisfied: pyparsing>=2.3.1 in /home/pantha/Work/myenv/lib/python3.8/site-packages (from matplotlib!=3.6.1,>=3.1->seaborn) (3.0.9)\n",
      "Requirement already satisfied: python-dateutil>=2.7 in /home/pantha/Work/myenv/lib/python3.8/site-packages (from matplotlib!=3.6.1,>=3.1->seaborn) (2.8.2)\n",
      "Requirement already satisfied: importlib-resources>=3.2.0 in /home/pantha/Work/myenv/lib/python3.8/site-packages (from matplotlib!=3.6.1,>=3.1->seaborn) (5.12.0)\n",
      "Requirement already satisfied: pytz>=2020.1 in /home/pantha/Work/myenv/lib/python3.8/site-packages (from pandas>=0.25->seaborn) (2023.3)\n",
      "Requirement already satisfied: tzdata>=2022.1 in /home/pantha/Work/myenv/lib/python3.8/site-packages (from pandas>=0.25->seaborn) (2023.3)\n",
      "Requirement already satisfied: zipp>=3.1.0 in /home/pantha/Work/myenv/lib/python3.8/site-packages (from importlib-resources>=3.2.0->matplotlib!=3.6.1,>=3.1->seaborn) (3.15.0)\n",
      "Requirement already satisfied: six>=1.5 in /home/pantha/Work/myenv/lib/python3.8/site-packages (from python-dateutil>=2.7->matplotlib!=3.6.1,>=3.1->seaborn) (1.16.0)\n",
      "Installing collected packages: seaborn\n",
      "Successfully installed seaborn-0.12.2\n",
      "Note: you may need to restart the kernel to use updated packages.\n"
     ]
    }
   ],
   "source": [
    "pip install seaborn"
   ]
  },
  {
   "cell_type": "code",
   "execution_count": 3,
   "id": "baa026b2",
   "metadata": {},
   "outputs": [],
   "source": [
    "import psycopg2\n",
    "import pandas as pd\n",
    "import psycopg2.extras\n",
    "import seaborn as sns\n",
    "import numpy as np"
   ]
  },
  {
   "cell_type": "code",
   "execution_count": 4,
   "id": "1e96263a",
   "metadata": {},
   "outputs": [],
   "source": [
    "import matplotlib.pyplot as plt"
   ]
  },
  {
   "cell_type": "code",
   "execution_count": 5,
   "id": "1586b1a8",
   "metadata": {},
   "outputs": [],
   "source": [
    "class PostgresConnection(object):\n",
    "    def __init__(self):\n",
    "        self.connection = psycopg2.connect(database=\"ecomdb\",\n",
    "                                           user = \"postgres\",\n",
    "                                           password = \"postgres\",\n",
    "                                           host = \"127.0.0.1\",\n",
    "                                           port = \"5432\")\n",
    "\n",
    "    def getConnection(self):\n",
    "        print(\"successfully connected to database\")\n",
    "        return self.connection"
   ]
  },
  {
   "cell_type": "code",
   "execution_count": 6,
   "id": "408974a1",
   "metadata": {},
   "outputs": [
    {
     "name": "stdout",
     "output_type": "stream",
     "text": [
      "successfully connected to database\n"
     ]
    }
   ],
   "source": [
    "con = PostgresConnection().getConnection()"
   ]
  },
  {
   "cell_type": "markdown",
   "id": "24514b6d",
   "metadata": {},
   "source": [
    "# Q1: Find the division wise total_sale_price joining fact table and respective dimension table"
   ]
  },
  {
   "cell_type": "code",
   "execution_count": 17,
   "id": "6166773f",
   "metadata": {},
   "outputs": [
    {
     "name": "stdout",
     "output_type": "stream",
     "text": [
      "successfully connected to database\n"
     ]
    }
   ],
   "source": [
    "con = PostgresConnection().getConnection()\n",
    "cur = con.cursor()\n",
    "select_stmt = \"SELECT s.division, SUM(t.total_price) \" \\\n",
    "              \"FROM ecomdb_star_schema.fact_table t \" \\\n",
    "              \"JOIN ecomdb_star_schema.store_dim s on s.store_key=t.store_key \" \\\n",
    "                \"GROUP BY CUBE(s.division) \" \\\n",
    "                \"ORDER BY s.division \"\n",
    "cur.execute(select_stmt)\n",
    "records = cur.fetchall()"
   ]
  },
  {
   "cell_type": "code",
   "execution_count": 18,
   "id": "daeb3c4d",
   "metadata": {},
   "outputs": [
    {
     "data": {
      "text/plain": [
       "[('BARISAL', Decimal('7520343.75')),\n",
       " ('CHITTAGONG', Decimal('19763595.00')),\n",
       " ('DHAKA', Decimal('40764619.75')),\n",
       " ('KHULNA', Decimal('11311610.50')),\n",
       " ('RAJSHAHI', Decimal('12099196.00')),\n",
       " ('RANGPUR', Decimal('8429836.50')),\n",
       " ('SYLHET', Decimal('5512234.25')),\n",
       " (None, Decimal('105401435.75'))]"
      ]
     },
     "execution_count": 18,
     "metadata": {},
     "output_type": "execute_result"
    }
   ],
   "source": [
    "records"
   ]
  },
  {
   "cell_type": "code",
   "execution_count": 21,
   "id": "0d9f339d",
   "metadata": {},
   "outputs": [
    {
     "data": {
      "text/html": [
       "<div>\n",
       "<style scoped>\n",
       "    .dataframe tbody tr th:only-of-type {\n",
       "        vertical-align: middle;\n",
       "    }\n",
       "\n",
       "    .dataframe tbody tr th {\n",
       "        vertical-align: top;\n",
       "    }\n",
       "\n",
       "    .dataframe thead th {\n",
       "        text-align: right;\n",
       "    }\n",
       "</style>\n",
       "<table border=\"1\" class=\"dataframe\">\n",
       "  <thead>\n",
       "    <tr style=\"text-align: right;\">\n",
       "      <th></th>\n",
       "      <th>division</th>\n",
       "      <th>sales</th>\n",
       "    </tr>\n",
       "  </thead>\n",
       "  <tbody>\n",
       "    <tr>\n",
       "      <th>0</th>\n",
       "      <td>BARISAL</td>\n",
       "      <td>7520343.75</td>\n",
       "    </tr>\n",
       "    <tr>\n",
       "      <th>1</th>\n",
       "      <td>CHITTAGONG</td>\n",
       "      <td>19763595.00</td>\n",
       "    </tr>\n",
       "    <tr>\n",
       "      <th>2</th>\n",
       "      <td>DHAKA</td>\n",
       "      <td>40764619.75</td>\n",
       "    </tr>\n",
       "    <tr>\n",
       "      <th>3</th>\n",
       "      <td>KHULNA</td>\n",
       "      <td>11311610.50</td>\n",
       "    </tr>\n",
       "    <tr>\n",
       "      <th>4</th>\n",
       "      <td>RAJSHAHI</td>\n",
       "      <td>12099196.00</td>\n",
       "    </tr>\n",
       "    <tr>\n",
       "      <th>5</th>\n",
       "      <td>RANGPUR</td>\n",
       "      <td>8429836.50</td>\n",
       "    </tr>\n",
       "    <tr>\n",
       "      <th>6</th>\n",
       "      <td>SYLHET</td>\n",
       "      <td>5512234.25</td>\n",
       "    </tr>\n",
       "    <tr>\n",
       "      <th>7</th>\n",
       "      <td>None</td>\n",
       "      <td>105401435.75</td>\n",
       "    </tr>\n",
       "  </tbody>\n",
       "</table>\n",
       "</div>"
      ],
      "text/plain": [
       "     division         sales\n",
       "0     BARISAL    7520343.75\n",
       "1  CHITTAGONG   19763595.00\n",
       "2       DHAKA   40764619.75\n",
       "3      KHULNA   11311610.50\n",
       "4    RAJSHAHI   12099196.00\n",
       "5     RANGPUR    8429836.50\n",
       "6      SYLHET    5512234.25\n",
       "7        None  105401435.75"
      ]
     },
     "execution_count": 21,
     "metadata": {},
     "output_type": "execute_result"
    }
   ],
   "source": [
    "df_q1 = pd.DataFrame(records, columns=['division', 'sales'])\n",
    "df_q1"
   ]
  },
  {
   "cell_type": "code",
   "execution_count": 23,
   "id": "5b877b73",
   "metadata": {},
   "outputs": [],
   "source": [
    "df_q1 =df_q1.drop(7)"
   ]
  },
  {
   "cell_type": "code",
   "execution_count": 24,
   "id": "d9d15fa3",
   "metadata": {},
   "outputs": [
    {
     "data": {
      "text/html": [
       "<div>\n",
       "<style scoped>\n",
       "    .dataframe tbody tr th:only-of-type {\n",
       "        vertical-align: middle;\n",
       "    }\n",
       "\n",
       "    .dataframe tbody tr th {\n",
       "        vertical-align: top;\n",
       "    }\n",
       "\n",
       "    .dataframe thead th {\n",
       "        text-align: right;\n",
       "    }\n",
       "</style>\n",
       "<table border=\"1\" class=\"dataframe\">\n",
       "  <thead>\n",
       "    <tr style=\"text-align: right;\">\n",
       "      <th></th>\n",
       "      <th>division</th>\n",
       "      <th>sales</th>\n",
       "    </tr>\n",
       "  </thead>\n",
       "  <tbody>\n",
       "    <tr>\n",
       "      <th>0</th>\n",
       "      <td>BARISAL</td>\n",
       "      <td>7520343.75</td>\n",
       "    </tr>\n",
       "    <tr>\n",
       "      <th>1</th>\n",
       "      <td>CHITTAGONG</td>\n",
       "      <td>19763595.00</td>\n",
       "    </tr>\n",
       "    <tr>\n",
       "      <th>2</th>\n",
       "      <td>DHAKA</td>\n",
       "      <td>40764619.75</td>\n",
       "    </tr>\n",
       "    <tr>\n",
       "      <th>3</th>\n",
       "      <td>KHULNA</td>\n",
       "      <td>11311610.50</td>\n",
       "    </tr>\n",
       "    <tr>\n",
       "      <th>4</th>\n",
       "      <td>RAJSHAHI</td>\n",
       "      <td>12099196.00</td>\n",
       "    </tr>\n",
       "    <tr>\n",
       "      <th>5</th>\n",
       "      <td>RANGPUR</td>\n",
       "      <td>8429836.50</td>\n",
       "    </tr>\n",
       "    <tr>\n",
       "      <th>6</th>\n",
       "      <td>SYLHET</td>\n",
       "      <td>5512234.25</td>\n",
       "    </tr>\n",
       "  </tbody>\n",
       "</table>\n",
       "</div>"
      ],
      "text/plain": [
       "     division        sales\n",
       "0     BARISAL   7520343.75\n",
       "1  CHITTAGONG  19763595.00\n",
       "2       DHAKA  40764619.75\n",
       "3      KHULNA  11311610.50\n",
       "4    RAJSHAHI  12099196.00\n",
       "5     RANGPUR   8429836.50\n",
       "6      SYLHET   5512234.25"
      ]
     },
     "execution_count": 24,
     "metadata": {},
     "output_type": "execute_result"
    }
   ],
   "source": [
    "df_q1"
   ]
  },
  {
   "cell_type": "code",
   "execution_count": 26,
   "id": "0d8c7a80",
   "metadata": {},
   "outputs": [],
   "source": [
    "def changetype(x):\n",
    "    x['sales']=x['sales'].astype('float64')  "
   ]
  },
  {
   "cell_type": "code",
   "execution_count": 27,
   "id": "6fd1d4c8",
   "metadata": {},
   "outputs": [],
   "source": [
    "changetype(df_q1)"
   ]
  },
  {
   "cell_type": "code",
   "execution_count": 28,
   "id": "1f039591",
   "metadata": {},
   "outputs": [
    {
     "data": {
      "text/html": [
       "<div>\n",
       "<style scoped>\n",
       "    .dataframe tbody tr th:only-of-type {\n",
       "        vertical-align: middle;\n",
       "    }\n",
       "\n",
       "    .dataframe tbody tr th {\n",
       "        vertical-align: top;\n",
       "    }\n",
       "\n",
       "    .dataframe thead th {\n",
       "        text-align: right;\n",
       "    }\n",
       "</style>\n",
       "<table border=\"1\" class=\"dataframe\">\n",
       "  <thead>\n",
       "    <tr style=\"text-align: right;\">\n",
       "      <th></th>\n",
       "      <th>division</th>\n",
       "      <th>sales</th>\n",
       "    </tr>\n",
       "  </thead>\n",
       "  <tbody>\n",
       "    <tr>\n",
       "      <th>0</th>\n",
       "      <td>BARISAL</td>\n",
       "      <td>7520343.75</td>\n",
       "    </tr>\n",
       "    <tr>\n",
       "      <th>1</th>\n",
       "      <td>CHITTAGONG</td>\n",
       "      <td>19763595.00</td>\n",
       "    </tr>\n",
       "    <tr>\n",
       "      <th>2</th>\n",
       "      <td>DHAKA</td>\n",
       "      <td>40764619.75</td>\n",
       "    </tr>\n",
       "    <tr>\n",
       "      <th>3</th>\n",
       "      <td>KHULNA</td>\n",
       "      <td>11311610.50</td>\n",
       "    </tr>\n",
       "    <tr>\n",
       "      <th>4</th>\n",
       "      <td>RAJSHAHI</td>\n",
       "      <td>12099196.00</td>\n",
       "    </tr>\n",
       "    <tr>\n",
       "      <th>5</th>\n",
       "      <td>RANGPUR</td>\n",
       "      <td>8429836.50</td>\n",
       "    </tr>\n",
       "    <tr>\n",
       "      <th>6</th>\n",
       "      <td>SYLHET</td>\n",
       "      <td>5512234.25</td>\n",
       "    </tr>\n",
       "  </tbody>\n",
       "</table>\n",
       "</div>"
      ],
      "text/plain": [
       "     division        sales\n",
       "0     BARISAL   7520343.75\n",
       "1  CHITTAGONG  19763595.00\n",
       "2       DHAKA  40764619.75\n",
       "3      KHULNA  11311610.50\n",
       "4    RAJSHAHI  12099196.00\n",
       "5     RANGPUR   8429836.50\n",
       "6      SYLHET   5512234.25"
      ]
     },
     "execution_count": 28,
     "metadata": {},
     "output_type": "execute_result"
    }
   ],
   "source": [
    "df_q1"
   ]
  },
  {
   "cell_type": "code",
   "execution_count": 29,
   "id": "f26ce560",
   "metadata": {},
   "outputs": [
    {
     "data": {
      "text/html": [
       "<div>\n",
       "<style scoped>\n",
       "    .dataframe tbody tr th:only-of-type {\n",
       "        vertical-align: middle;\n",
       "    }\n",
       "\n",
       "    .dataframe tbody tr th {\n",
       "        vertical-align: top;\n",
       "    }\n",
       "\n",
       "    .dataframe thead th {\n",
       "        text-align: right;\n",
       "    }\n",
       "</style>\n",
       "<table border=\"1\" class=\"dataframe\">\n",
       "  <thead>\n",
       "    <tr style=\"text-align: right;\">\n",
       "      <th></th>\n",
       "      <th>sales</th>\n",
       "    </tr>\n",
       "    <tr>\n",
       "      <th>division</th>\n",
       "      <th></th>\n",
       "    </tr>\n",
       "  </thead>\n",
       "  <tbody>\n",
       "    <tr>\n",
       "      <th>BARISAL</th>\n",
       "      <td>7520343.75</td>\n",
       "    </tr>\n",
       "    <tr>\n",
       "      <th>CHITTAGONG</th>\n",
       "      <td>19763595.00</td>\n",
       "    </tr>\n",
       "    <tr>\n",
       "      <th>DHAKA</th>\n",
       "      <td>40764619.75</td>\n",
       "    </tr>\n",
       "    <tr>\n",
       "      <th>KHULNA</th>\n",
       "      <td>11311610.50</td>\n",
       "    </tr>\n",
       "    <tr>\n",
       "      <th>RAJSHAHI</th>\n",
       "      <td>12099196.00</td>\n",
       "    </tr>\n",
       "    <tr>\n",
       "      <th>RANGPUR</th>\n",
       "      <td>8429836.50</td>\n",
       "    </tr>\n",
       "    <tr>\n",
       "      <th>SYLHET</th>\n",
       "      <td>5512234.25</td>\n",
       "    </tr>\n",
       "  </tbody>\n",
       "</table>\n",
       "</div>"
      ],
      "text/plain": [
       "                  sales\n",
       "division               \n",
       "BARISAL      7520343.75\n",
       "CHITTAGONG  19763595.00\n",
       "DHAKA       40764619.75\n",
       "KHULNA      11311610.50\n",
       "RAJSHAHI    12099196.00\n",
       "RANGPUR      8429836.50\n",
       "SYLHET       5512234.25"
      ]
     },
     "execution_count": 29,
     "metadata": {},
     "output_type": "execute_result"
    }
   ],
   "source": [
    "df_q1=df_q1.set_index(['division'])\n",
    "df_q1"
   ]
  },
  {
   "cell_type": "code",
   "execution_count": 30,
   "id": "a8833f94",
   "metadata": {},
   "outputs": [
    {
     "data": {
      "text/plain": [
       "<Axes: ylabel='sales'>"
      ]
     },
     "execution_count": 30,
     "metadata": {},
     "output_type": "execute_result"
    },
    {
     "data": {
      "image/png": "[encoded data removed]",
      "text/plain": [
       "<Figure size 640x480 with 1 Axes>"
      ]
     },
     "metadata": {},
     "output_type": "display_data"
    }
   ],
   "source": [
    "df_q1.plot.pie(y='sales')"
   ]
  },
  {
   "cell_type": "code",
   "execution_count": 31,
   "id": "794b9843",
   "metadata": {
    "scrolled": true
   },
   "outputs": [
    {
     "data": {
      "text/plain": [
       "<Axes: xlabel='division'>"
      ]
     },
     "execution_count": 31,
     "metadata": {},
     "output_type": "execute_result"
    },
    {
     "data": {
      "text/plain": [
       "<Figure size 1000x500 with 0 Axes>"
      ]
     },
     "metadata": {},
     "output_type": "display_data"
    },
    {
     "data": {
      "image/png": "[encoded data removed]",
      "text/plain": [
       "<Figure size 640x480 with 1 Axes>"
      ]
     },
     "metadata": {},
     "output_type": "display_data"
    }
   ],
   "source": [
    "plt.figure(figsize=(10,5))\n",
    "df_q1.plot.bar(y='sales')"
   ]
  },
  {
   "cell_type": "code",
   "execution_count": 61,
   "id": "fd840f39",
   "metadata": {},
   "outputs": [
    {
     "name": "stdout",
     "output_type": "stream",
     "text": [
      "successfully connected to database\n"
     ]
    }
   ],
   "source": [
    "con = PostgresConnection().getConnection()\n",
    "cur = con.cursor()\n",
    "select_stmt = \"SELECT s.year, SUM(t.total_price) \" \\\n",
    "              \"FROM star_schema.fact_table t \" \\\n",
    "              \"JOIN star_schema.time_dim s on s.time_key=t.time_key \" \\\n",
    "                \"GROUP BY CUBE(s.year) \" \\\n",
    "                \"ORDER BY s.year \"\n",
    "cur.execute(select_stmt)\n",
    "records = cur.fetchall()"
   ]
  },
  {
   "cell_type": "code",
   "execution_count": null,
   "id": "3f8d5383",
   "metadata": {},
   "outputs": [],
   "source": [
    "records"
   ]
  },
  {
   "cell_type": "markdown",
   "id": "5a5fe992",
   "metadata": {},
   "source": [
    "# Q1b: Find the district wise total_sale_price joining fact table and respective dimension table"
   ]
  },
  {
   "cell_type": "code",
   "execution_count": 32,
   "id": "e1009602",
   "metadata": {},
   "outputs": [
    {
     "name": "stdout",
     "output_type": "stream",
     "text": [
      "successfully connected to database\n"
     ]
    }
   ],
   "source": [
    "con = PostgresConnection().getConnection()\n",
    "cur = con.cursor()\n",
    "select_stmt = \"SELECT s.district, SUM(t.total_price) \" \\\n",
    "              \"FROM ecomdb_star_schema.fact_table t \" \\\n",
    "              \"JOIN ecomdb_star_schema.store_dim s on s.store_key=t.store_key \" \\\n",
    "                \"GROUP BY CUBE(s.district) \" \\\n",
    "                \"ORDER BY s.district \"\n",
    "cur.execute(select_stmt)\n",
    "records = cur.fetchall()"
   ]
  },
  {
   "cell_type": "code",
   "execution_count": 34,
   "id": "59b9e467",
   "metadata": {
    "scrolled": false
   },
   "outputs": [
    {
     "data": {
      "text/html": [
       "<div>\n",
       "<style scoped>\n",
       "    .dataframe tbody tr th:only-of-type {\n",
       "        vertical-align: middle;\n",
       "    }\n",
       "\n",
       "    .dataframe tbody tr th {\n",
       "        vertical-align: top;\n",
       "    }\n",
       "\n",
       "    .dataframe thead th {\n",
       "        text-align: right;\n",
       "    }\n",
       "</style>\n",
       "<table border=\"1\" class=\"dataframe\">\n",
       "  <thead>\n",
       "    <tr style=\"text-align: right;\">\n",
       "      <th></th>\n",
       "      <th>district</th>\n",
       "      <th>sales</th>\n",
       "    </tr>\n",
       "  </thead>\n",
       "  <tbody>\n",
       "    <tr>\n",
       "      <th>0</th>\n",
       "      <td>BAGERHAT</td>\n",
       "      <td>1307651.00</td>\n",
       "    </tr>\n",
       "    <tr>\n",
       "      <th>1</th>\n",
       "      <td>BANDARBAN</td>\n",
       "      <td>995360.75</td>\n",
       "    </tr>\n",
       "    <tr>\n",
       "      <th>2</th>\n",
       "      <td>BARGUNA</td>\n",
       "      <td>869041.00</td>\n",
       "    </tr>\n",
       "    <tr>\n",
       "      <th>3</th>\n",
       "      <td>BARISAL</td>\n",
       "      <td>2897237.75</td>\n",
       "    </tr>\n",
       "    <tr>\n",
       "      <th>4</th>\n",
       "      <td>BHOLA</td>\n",
       "      <td>1012205.75</td>\n",
       "    </tr>\n",
       "    <tr>\n",
       "      <th>...</th>\n",
       "      <td>...</td>\n",
       "      <td>...</td>\n",
       "    </tr>\n",
       "    <tr>\n",
       "      <th>60</th>\n",
       "      <td>SUNAMGANJ</td>\n",
       "      <td>1593774.00</td>\n",
       "    </tr>\n",
       "    <tr>\n",
       "      <th>61</th>\n",
       "      <td>SYLHET</td>\n",
       "      <td>1727717.25</td>\n",
       "    </tr>\n",
       "    <tr>\n",
       "      <th>62</th>\n",
       "      <td>TANGAIL</td>\n",
       "      <td>1774650.25</td>\n",
       "    </tr>\n",
       "    <tr>\n",
       "      <th>63</th>\n",
       "      <td>THAKURGAON</td>\n",
       "      <td>729934.25</td>\n",
       "    </tr>\n",
       "    <tr>\n",
       "      <th>64</th>\n",
       "      <td>None</td>\n",
       "      <td>105401435.75</td>\n",
       "    </tr>\n",
       "  </tbody>\n",
       "</table>\n",
       "<p>65 rows × 2 columns</p>\n",
       "</div>"
      ],
      "text/plain": [
       "      district         sales\n",
       "0     BAGERHAT    1307651.00\n",
       "1    BANDARBAN     995360.75\n",
       "2      BARGUNA     869041.00\n",
       "3      BARISAL    2897237.75\n",
       "4        BHOLA    1012205.75\n",
       "..         ...           ...\n",
       "60   SUNAMGANJ    1593774.00\n",
       "61      SYLHET    1727717.25\n",
       "62     TANGAIL    1774650.25\n",
       "63  THAKURGAON     729934.25\n",
       "64        None  105401435.75\n",
       "\n",
       "[65 rows x 2 columns]"
      ]
     },
     "execution_count": 34,
     "metadata": {},
     "output_type": "execute_result"
    }
   ],
   "source": [
    "df_q2 = pd.DataFrame(records, columns=['district', 'sales'])\n",
    "df_q2"
   ]
  },
  {
   "cell_type": "code",
   "execution_count": 36,
   "id": "407099f4",
   "metadata": {
    "scrolled": true
   },
   "outputs": [
    {
     "data": {
      "text/html": [
       "<div>\n",
       "<style scoped>\n",
       "    .dataframe tbody tr th:only-of-type {\n",
       "        vertical-align: middle;\n",
       "    }\n",
       "\n",
       "    .dataframe tbody tr th {\n",
       "        vertical-align: top;\n",
       "    }\n",
       "\n",
       "    .dataframe thead th {\n",
       "        text-align: right;\n",
       "    }\n",
       "</style>\n",
       "<table border=\"1\" class=\"dataframe\">\n",
       "  <thead>\n",
       "    <tr style=\"text-align: right;\">\n",
       "      <th></th>\n",
       "      <th>district</th>\n",
       "      <th>sales</th>\n",
       "    </tr>\n",
       "  </thead>\n",
       "  <tbody>\n",
       "    <tr>\n",
       "      <th>0</th>\n",
       "      <td>BAGERHAT</td>\n",
       "      <td>1307651.00</td>\n",
       "    </tr>\n",
       "    <tr>\n",
       "      <th>1</th>\n",
       "      <td>BANDARBAN</td>\n",
       "      <td>995360.75</td>\n",
       "    </tr>\n",
       "    <tr>\n",
       "      <th>2</th>\n",
       "      <td>BARGUNA</td>\n",
       "      <td>869041.00</td>\n",
       "    </tr>\n",
       "    <tr>\n",
       "      <th>3</th>\n",
       "      <td>BARISAL</td>\n",
       "      <td>2897237.75</td>\n",
       "    </tr>\n",
       "    <tr>\n",
       "      <th>4</th>\n",
       "      <td>BHOLA</td>\n",
       "      <td>1012205.75</td>\n",
       "    </tr>\n",
       "    <tr>\n",
       "      <th>...</th>\n",
       "      <td>...</td>\n",
       "      <td>...</td>\n",
       "    </tr>\n",
       "    <tr>\n",
       "      <th>59</th>\n",
       "      <td>SIRAJGANJ</td>\n",
       "      <td>1295100.75</td>\n",
       "    </tr>\n",
       "    <tr>\n",
       "      <th>60</th>\n",
       "      <td>SUNAMGANJ</td>\n",
       "      <td>1593774.00</td>\n",
       "    </tr>\n",
       "    <tr>\n",
       "      <th>61</th>\n",
       "      <td>SYLHET</td>\n",
       "      <td>1727717.25</td>\n",
       "    </tr>\n",
       "    <tr>\n",
       "      <th>62</th>\n",
       "      <td>TANGAIL</td>\n",
       "      <td>1774650.25</td>\n",
       "    </tr>\n",
       "    <tr>\n",
       "      <th>63</th>\n",
       "      <td>THAKURGAON</td>\n",
       "      <td>729934.25</td>\n",
       "    </tr>\n",
       "  </tbody>\n",
       "</table>\n",
       "<p>64 rows × 2 columns</p>\n",
       "</div>"
      ],
      "text/plain": [
       "      district       sales\n",
       "0     BAGERHAT  1307651.00\n",
       "1    BANDARBAN   995360.75\n",
       "2      BARGUNA   869041.00\n",
       "3      BARISAL  2897237.75\n",
       "4        BHOLA  1012205.75\n",
       "..         ...         ...\n",
       "59   SIRAJGANJ  1295100.75\n",
       "60   SUNAMGANJ  1593774.00\n",
       "61      SYLHET  1727717.25\n",
       "62     TANGAIL  1774650.25\n",
       "63  THAKURGAON   729934.25\n",
       "\n",
       "[64 rows x 2 columns]"
      ]
     },
     "execution_count": 36,
     "metadata": {},
     "output_type": "execute_result"
    }
   ],
   "source": [
    "df_q2 = df_q2.drop(64)\n",
    "df_q2"
   ]
  },
  {
   "cell_type": "code",
   "execution_count": 37,
   "id": "96a5b393",
   "metadata": {
    "scrolled": true
   },
   "outputs": [
    {
     "data": {
      "text/html": [
       "<div>\n",
       "<style scoped>\n",
       "    .dataframe tbody tr th:only-of-type {\n",
       "        vertical-align: middle;\n",
       "    }\n",
       "\n",
       "    .dataframe tbody tr th {\n",
       "        vertical-align: top;\n",
       "    }\n",
       "\n",
       "    .dataframe thead th {\n",
       "        text-align: right;\n",
       "    }\n",
       "</style>\n",
       "<table border=\"1\" class=\"dataframe\">\n",
       "  <thead>\n",
       "    <tr style=\"text-align: right;\">\n",
       "      <th></th>\n",
       "      <th>sales</th>\n",
       "    </tr>\n",
       "    <tr>\n",
       "      <th>district</th>\n",
       "      <th></th>\n",
       "    </tr>\n",
       "  </thead>\n",
       "  <tbody>\n",
       "    <tr>\n",
       "      <th>BAGERHAT</th>\n",
       "      <td>1307651.00</td>\n",
       "    </tr>\n",
       "    <tr>\n",
       "      <th>BANDARBAN</th>\n",
       "      <td>995360.75</td>\n",
       "    </tr>\n",
       "    <tr>\n",
       "      <th>BARGUNA</th>\n",
       "      <td>869041.00</td>\n",
       "    </tr>\n",
       "    <tr>\n",
       "      <th>BARISAL</th>\n",
       "      <td>2897237.75</td>\n",
       "    </tr>\n",
       "    <tr>\n",
       "      <th>BHOLA</th>\n",
       "      <td>1012205.75</td>\n",
       "    </tr>\n",
       "    <tr>\n",
       "      <th>...</th>\n",
       "      <td>...</td>\n",
       "    </tr>\n",
       "    <tr>\n",
       "      <th>SIRAJGANJ</th>\n",
       "      <td>1295100.75</td>\n",
       "    </tr>\n",
       "    <tr>\n",
       "      <th>SUNAMGANJ</th>\n",
       "      <td>1593774.00</td>\n",
       "    </tr>\n",
       "    <tr>\n",
       "      <th>SYLHET</th>\n",
       "      <td>1727717.25</td>\n",
       "    </tr>\n",
       "    <tr>\n",
       "      <th>TANGAIL</th>\n",
       "      <td>1774650.25</td>\n",
       "    </tr>\n",
       "    <tr>\n",
       "      <th>THAKURGAON</th>\n",
       "      <td>729934.25</td>\n",
       "    </tr>\n",
       "  </tbody>\n",
       "</table>\n",
       "<p>64 rows × 1 columns</p>\n",
       "</div>"
      ],
      "text/plain": [
       "                 sales\n",
       "district              \n",
       "BAGERHAT    1307651.00\n",
       "BANDARBAN    995360.75\n",
       "BARGUNA      869041.00\n",
       "BARISAL     2897237.75\n",
       "BHOLA       1012205.75\n",
       "...                ...\n",
       "SIRAJGANJ   1295100.75\n",
       "SUNAMGANJ   1593774.00\n",
       "SYLHET      1727717.25\n",
       "TANGAIL     1774650.25\n",
       "THAKURGAON   729934.25\n",
       "\n",
       "[64 rows x 1 columns]"
      ]
     },
     "execution_count": 37,
     "metadata": {},
     "output_type": "execute_result"
    }
   ],
   "source": [
    "df_q2 = df_q2.set_index(['district'])\n",
    "df_q2"
   ]
  },
  {
   "cell_type": "code",
   "execution_count": 38,
   "id": "25512454",
   "metadata": {},
   "outputs": [],
   "source": [
    "changetype(df_q2)"
   ]
  },
  {
   "cell_type": "code",
   "execution_count": 39,
   "id": "634d6a1b",
   "metadata": {},
   "outputs": [
    {
     "data": {
      "text/plain": [
       "<Axes: ylabel='sales'>"
      ]
     },
     "execution_count": 39,
     "metadata": {},
     "output_type": "execute_result"
    },
    {
     "data": {
      "image/png": "[encoded data removed]",
      "text/plain": [
       "<Figure size 640x480 with 1 Axes>"
      ]
     },
     "metadata": {},
     "output_type": "display_data"
    }
   ],
   "source": [
    "df_q2.plot.pie(y='sales')"
   ]
  },
  {
   "cell_type": "markdown",
   "id": "5c5f1eb3",
   "metadata": {},
   "source": [
    "# Q1c: Find the year wise total_sale_price joining fact table and respective dimension table"
   ]
  },
  {
   "cell_type": "code",
   "execution_count": 40,
   "id": "13168a7b",
   "metadata": {},
   "outputs": [
    {
     "name": "stdout",
     "output_type": "stream",
     "text": [
      "successfully connected to database\n"
     ]
    }
   ],
   "source": [
    "con = PostgresConnection().getConnection()\n",
    "cur = con.cursor()\n",
    "select_stmt = \"SELECT s.year, SUM(t.total_price) \" \\\n",
    "              \"FROM ecomdb_star_schema.fact_table t \" \\\n",
    "              \"JOIN ecomdb_star_schema.time_dim s on s.time_key=t.time_key \" \\\n",
    "                \"GROUP BY CUBE(s.year) \" \\\n",
    "                \"ORDER BY s.year \"\n",
    "cur.execute(select_stmt)\n",
    "records = cur.fetchall()"
   ]
  },
  {
   "cell_type": "code",
   "execution_count": 43,
   "id": "ccfedad6",
   "metadata": {
    "scrolled": false
   },
   "outputs": [
    {
     "data": {
      "text/html": [
       "<div>\n",
       "<style scoped>\n",
       "    .dataframe tbody tr th:only-of-type {\n",
       "        vertical-align: middle;\n",
       "    }\n",
       "\n",
       "    .dataframe tbody tr th {\n",
       "        vertical-align: top;\n",
       "    }\n",
       "\n",
       "    .dataframe thead th {\n",
       "        text-align: right;\n",
       "    }\n",
       "</style>\n",
       "<table border=\"1\" class=\"dataframe\">\n",
       "  <thead>\n",
       "    <tr style=\"text-align: right;\">\n",
       "      <th></th>\n",
       "      <th>year</th>\n",
       "      <th>sales</th>\n",
       "    </tr>\n",
       "  </thead>\n",
       "  <tbody>\n",
       "    <tr>\n",
       "      <th>0</th>\n",
       "      <td>2014.0</td>\n",
       "      <td>14334731.25</td>\n",
       "    </tr>\n",
       "    <tr>\n",
       "      <th>1</th>\n",
       "      <td>2015.0</td>\n",
       "      <td>15095720.25</td>\n",
       "    </tr>\n",
       "    <tr>\n",
       "      <th>2</th>\n",
       "      <td>2016.0</td>\n",
       "      <td>14976508.25</td>\n",
       "    </tr>\n",
       "    <tr>\n",
       "      <th>3</th>\n",
       "      <td>2017.0</td>\n",
       "      <td>15015806.00</td>\n",
       "    </tr>\n",
       "    <tr>\n",
       "      <th>4</th>\n",
       "      <td>2018.0</td>\n",
       "      <td>15108197.25</td>\n",
       "    </tr>\n",
       "    <tr>\n",
       "      <th>5</th>\n",
       "      <td>2019.0</td>\n",
       "      <td>14949510.25</td>\n",
       "    </tr>\n",
       "    <tr>\n",
       "      <th>6</th>\n",
       "      <td>2020.0</td>\n",
       "      <td>15037190.25</td>\n",
       "    </tr>\n",
       "    <tr>\n",
       "      <th>7</th>\n",
       "      <td>2021.0</td>\n",
       "      <td>883772.25</td>\n",
       "    </tr>\n",
       "    <tr>\n",
       "      <th>8</th>\n",
       "      <td>NaN</td>\n",
       "      <td>105401435.75</td>\n",
       "    </tr>\n",
       "  </tbody>\n",
       "</table>\n",
       "</div>"
      ],
      "text/plain": [
       "     year         sales\n",
       "0  2014.0   14334731.25\n",
       "1  2015.0   15095720.25\n",
       "2  2016.0   14976508.25\n",
       "3  2017.0   15015806.00\n",
       "4  2018.0   15108197.25\n",
       "5  2019.0   14949510.25\n",
       "6  2020.0   15037190.25\n",
       "7  2021.0     883772.25\n",
       "8     NaN  105401435.75"
      ]
     },
     "execution_count": 43,
     "metadata": {},
     "output_type": "execute_result"
    }
   ],
   "source": [
    "df_q2 = pd.DataFrame(records, columns=['year', 'sales'])\n",
    "df_q2"
   ]
  },
  {
   "cell_type": "code",
   "execution_count": 44,
   "id": "cca80422",
   "metadata": {
    "scrolled": true
   },
   "outputs": [
    {
     "data": {
      "text/html": [
       "<div>\n",
       "<style scoped>\n",
       "    .dataframe tbody tr th:only-of-type {\n",
       "        vertical-align: middle;\n",
       "    }\n",
       "\n",
       "    .dataframe tbody tr th {\n",
       "        vertical-align: top;\n",
       "    }\n",
       "\n",
       "    .dataframe thead th {\n",
       "        text-align: right;\n",
       "    }\n",
       "</style>\n",
       "<table border=\"1\" class=\"dataframe\">\n",
       "  <thead>\n",
       "    <tr style=\"text-align: right;\">\n",
       "      <th></th>\n",
       "      <th>year</th>\n",
       "      <th>sales</th>\n",
       "    </tr>\n",
       "  </thead>\n",
       "  <tbody>\n",
       "    <tr>\n",
       "      <th>0</th>\n",
       "      <td>2014.0</td>\n",
       "      <td>14334731.25</td>\n",
       "    </tr>\n",
       "    <tr>\n",
       "      <th>1</th>\n",
       "      <td>2015.0</td>\n",
       "      <td>15095720.25</td>\n",
       "    </tr>\n",
       "    <tr>\n",
       "      <th>2</th>\n",
       "      <td>2016.0</td>\n",
       "      <td>14976508.25</td>\n",
       "    </tr>\n",
       "    <tr>\n",
       "      <th>3</th>\n",
       "      <td>2017.0</td>\n",
       "      <td>15015806.00</td>\n",
       "    </tr>\n",
       "    <tr>\n",
       "      <th>4</th>\n",
       "      <td>2018.0</td>\n",
       "      <td>15108197.25</td>\n",
       "    </tr>\n",
       "    <tr>\n",
       "      <th>5</th>\n",
       "      <td>2019.0</td>\n",
       "      <td>14949510.25</td>\n",
       "    </tr>\n",
       "    <tr>\n",
       "      <th>6</th>\n",
       "      <td>2020.0</td>\n",
       "      <td>15037190.25</td>\n",
       "    </tr>\n",
       "    <tr>\n",
       "      <th>7</th>\n",
       "      <td>2021.0</td>\n",
       "      <td>883772.25</td>\n",
       "    </tr>\n",
       "  </tbody>\n",
       "</table>\n",
       "</div>"
      ],
      "text/plain": [
       "     year        sales\n",
       "0  2014.0  14334731.25\n",
       "1  2015.0  15095720.25\n",
       "2  2016.0  14976508.25\n",
       "3  2017.0  15015806.00\n",
       "4  2018.0  15108197.25\n",
       "5  2019.0  14949510.25\n",
       "6  2020.0  15037190.25\n",
       "7  2021.0    883772.25"
      ]
     },
     "execution_count": 44,
     "metadata": {},
     "output_type": "execute_result"
    }
   ],
   "source": [
    "df_q2 = df_q2.drop(8)\n",
    "df_q2"
   ]
  },
  {
   "cell_type": "code",
   "execution_count": 45,
   "id": "80846516",
   "metadata": {
    "scrolled": true
   },
   "outputs": [
    {
     "data": {
      "text/html": [
       "<div>\n",
       "<style scoped>\n",
       "    .dataframe tbody tr th:only-of-type {\n",
       "        vertical-align: middle;\n",
       "    }\n",
       "\n",
       "    .dataframe tbody tr th {\n",
       "        vertical-align: top;\n",
       "    }\n",
       "\n",
       "    .dataframe thead th {\n",
       "        text-align: right;\n",
       "    }\n",
       "</style>\n",
       "<table border=\"1\" class=\"dataframe\">\n",
       "  <thead>\n",
       "    <tr style=\"text-align: right;\">\n",
       "      <th></th>\n",
       "      <th>sales</th>\n",
       "    </tr>\n",
       "    <tr>\n",
       "      <th>year</th>\n",
       "      <th></th>\n",
       "    </tr>\n",
       "  </thead>\n",
       "  <tbody>\n",
       "    <tr>\n",
       "      <th>2014</th>\n",
       "      <td>14334731.25</td>\n",
       "    </tr>\n",
       "    <tr>\n",
       "      <th>2015</th>\n",
       "      <td>15095720.25</td>\n",
       "    </tr>\n",
       "    <tr>\n",
       "      <th>2016</th>\n",
       "      <td>14976508.25</td>\n",
       "    </tr>\n",
       "    <tr>\n",
       "      <th>2017</th>\n",
       "      <td>15015806.00</td>\n",
       "    </tr>\n",
       "    <tr>\n",
       "      <th>2018</th>\n",
       "      <td>15108197.25</td>\n",
       "    </tr>\n",
       "    <tr>\n",
       "      <th>2019</th>\n",
       "      <td>14949510.25</td>\n",
       "    </tr>\n",
       "    <tr>\n",
       "      <th>2020</th>\n",
       "      <td>15037190.25</td>\n",
       "    </tr>\n",
       "    <tr>\n",
       "      <th>2021</th>\n",
       "      <td>883772.25</td>\n",
       "    </tr>\n",
       "  </tbody>\n",
       "</table>\n",
       "</div>"
      ],
      "text/plain": [
       "            sales\n",
       "year             \n",
       "2014  14334731.25\n",
       "2015  15095720.25\n",
       "2016  14976508.25\n",
       "2017  15015806.00\n",
       "2018  15108197.25\n",
       "2019  14949510.25\n",
       "2020  15037190.25\n",
       "2021    883772.25"
      ]
     },
     "execution_count": 45,
     "metadata": {},
     "output_type": "execute_result"
    }
   ],
   "source": [
    "df_q2 = df_q2.astype({'year': int})\n",
    "df_q2 = df_q2.set_index(['year'])\n",
    "df_q2"
   ]
  },
  {
   "cell_type": "code",
   "execution_count": 46,
   "id": "46469348",
   "metadata": {},
   "outputs": [],
   "source": [
    "changetype(df_q2)"
   ]
  },
  {
   "cell_type": "code",
   "execution_count": 47,
   "id": "140b9300",
   "metadata": {
    "scrolled": true
   },
   "outputs": [
    {
     "data": {
      "text/plain": [
       "<Axes: ylabel='sales'>"
      ]
     },
     "execution_count": 47,
     "metadata": {},
     "output_type": "execute_result"
    },
    {
     "data": {
      "image/png": "[encoded data removed]",
      "text/plain": [
       "<Figure size 640x480 with 1 Axes>"
      ]
     },
     "metadata": {},
     "output_type": "display_data"
    }
   ],
   "source": [
    "df_q2.plot.pie(y='sales')"
   ]
  },
  {
   "cell_type": "markdown",
   "id": "2a2a5170",
   "metadata": {},
   "source": [
    "# Q1d: Find the month wise total_sale_price joining fact table and respective dimension table"
   ]
  },
  {
   "cell_type": "code",
   "execution_count": 56,
   "id": "f4664184",
   "metadata": {},
   "outputs": [
    {
     "name": "stdout",
     "output_type": "stream",
     "text": [
      "successfully connected to database\n"
     ]
    }
   ],
   "source": [
    "con = PostgresConnection().getConnection()\n",
    "cur = con.cursor()\n",
    "select_stmt = \"SELECT s.month, SUM(t.total_price) \" \\\n",
    "              \"FROM ecomdb_star_schema.fact_table t \" \\\n",
    "              \"JOIN ecomdb_star_schema.time_dim s on s.time_key=t.time_key \" \\\n",
    "                \"GROUP BY CUBE(s.month) \" \\\n",
    "                \"ORDER BY s.month \"\n",
    "cur.execute(select_stmt)\n",
    "records = cur.fetchall()"
   ]
  },
  {
   "cell_type": "code",
   "execution_count": 57,
   "id": "c88a67b3",
   "metadata": {
    "scrolled": false
   },
   "outputs": [
    {
     "data": {
      "text/html": [
       "<div>\n",
       "<style scoped>\n",
       "    .dataframe tbody tr th:only-of-type {\n",
       "        vertical-align: middle;\n",
       "    }\n",
       "\n",
       "    .dataframe tbody tr th {\n",
       "        vertical-align: top;\n",
       "    }\n",
       "\n",
       "    .dataframe thead th {\n",
       "        text-align: right;\n",
       "    }\n",
       "</style>\n",
       "<table border=\"1\" class=\"dataframe\">\n",
       "  <thead>\n",
       "    <tr style=\"text-align: right;\">\n",
       "      <th></th>\n",
       "      <th>month</th>\n",
       "      <th>sales</th>\n",
       "    </tr>\n",
       "  </thead>\n",
       "  <tbody>\n",
       "    <tr>\n",
       "      <th>0</th>\n",
       "      <td>1.0</td>\n",
       "      <td>9042244.00</td>\n",
       "    </tr>\n",
       "    <tr>\n",
       "      <th>1</th>\n",
       "      <td>2.0</td>\n",
       "      <td>8073877.50</td>\n",
       "    </tr>\n",
       "    <tr>\n",
       "      <th>2</th>\n",
       "      <td>3.0</td>\n",
       "      <td>8939152.00</td>\n",
       "    </tr>\n",
       "    <tr>\n",
       "      <th>3</th>\n",
       "      <td>4.0</td>\n",
       "      <td>8504634.75</td>\n",
       "    </tr>\n",
       "    <tr>\n",
       "      <th>4</th>\n",
       "      <td>5.0</td>\n",
       "      <td>9078002.50</td>\n",
       "    </tr>\n",
       "    <tr>\n",
       "      <th>5</th>\n",
       "      <td>6.0</td>\n",
       "      <td>8556853.00</td>\n",
       "    </tr>\n",
       "    <tr>\n",
       "      <th>6</th>\n",
       "      <td>7.0</td>\n",
       "      <td>9046580.00</td>\n",
       "    </tr>\n",
       "    <tr>\n",
       "      <th>7</th>\n",
       "      <td>8.0</td>\n",
       "      <td>8929475.25</td>\n",
       "    </tr>\n",
       "    <tr>\n",
       "      <th>8</th>\n",
       "      <td>9.0</td>\n",
       "      <td>8724326.50</td>\n",
       "    </tr>\n",
       "    <tr>\n",
       "      <th>9</th>\n",
       "      <td>10.0</td>\n",
       "      <td>8902783.75</td>\n",
       "    </tr>\n",
       "    <tr>\n",
       "      <th>10</th>\n",
       "      <td>11.0</td>\n",
       "      <td>8680026.00</td>\n",
       "    </tr>\n",
       "    <tr>\n",
       "      <th>11</th>\n",
       "      <td>12.0</td>\n",
       "      <td>8923480.50</td>\n",
       "    </tr>\n",
       "    <tr>\n",
       "      <th>12</th>\n",
       "      <td>NaN</td>\n",
       "      <td>105401435.75</td>\n",
       "    </tr>\n",
       "  </tbody>\n",
       "</table>\n",
       "</div>"
      ],
      "text/plain": [
       "    month         sales\n",
       "0     1.0    9042244.00\n",
       "1     2.0    8073877.50\n",
       "2     3.0    8939152.00\n",
       "3     4.0    8504634.75\n",
       "4     5.0    9078002.50\n",
       "5     6.0    8556853.00\n",
       "6     7.0    9046580.00\n",
       "7     8.0    8929475.25\n",
       "8     9.0    8724326.50\n",
       "9    10.0    8902783.75\n",
       "10   11.0    8680026.00\n",
       "11   12.0    8923480.50\n",
       "12    NaN  105401435.75"
      ]
     },
     "execution_count": 57,
     "metadata": {},
     "output_type": "execute_result"
    }
   ],
   "source": [
    "df_q4 = pd.DataFrame(records, columns=['month', 'sales'])\n",
    "df_q4"
   ]
  },
  {
   "cell_type": "code",
   "execution_count": 58,
   "id": "b05bcefd",
   "metadata": {
    "scrolled": true
   },
   "outputs": [
    {
     "data": {
      "text/html": [
       "<div>\n",
       "<style scoped>\n",
       "    .dataframe tbody tr th:only-of-type {\n",
       "        vertical-align: middle;\n",
       "    }\n",
       "\n",
       "    .dataframe tbody tr th {\n",
       "        vertical-align: top;\n",
       "    }\n",
       "\n",
       "    .dataframe thead th {\n",
       "        text-align: right;\n",
       "    }\n",
       "</style>\n",
       "<table border=\"1\" class=\"dataframe\">\n",
       "  <thead>\n",
       "    <tr style=\"text-align: right;\">\n",
       "      <th></th>\n",
       "      <th>month</th>\n",
       "      <th>sales</th>\n",
       "    </tr>\n",
       "  </thead>\n",
       "  <tbody>\n",
       "    <tr>\n",
       "      <th>0</th>\n",
       "      <td>1.0</td>\n",
       "      <td>9042244.00</td>\n",
       "    </tr>\n",
       "    <tr>\n",
       "      <th>1</th>\n",
       "      <td>2.0</td>\n",
       "      <td>8073877.50</td>\n",
       "    </tr>\n",
       "    <tr>\n",
       "      <th>2</th>\n",
       "      <td>3.0</td>\n",
       "      <td>8939152.00</td>\n",
       "    </tr>\n",
       "    <tr>\n",
       "      <th>3</th>\n",
       "      <td>4.0</td>\n",
       "      <td>8504634.75</td>\n",
       "    </tr>\n",
       "    <tr>\n",
       "      <th>4</th>\n",
       "      <td>5.0</td>\n",
       "      <td>9078002.50</td>\n",
       "    </tr>\n",
       "    <tr>\n",
       "      <th>5</th>\n",
       "      <td>6.0</td>\n",
       "      <td>8556853.00</td>\n",
       "    </tr>\n",
       "    <tr>\n",
       "      <th>6</th>\n",
       "      <td>7.0</td>\n",
       "      <td>9046580.00</td>\n",
       "    </tr>\n",
       "    <tr>\n",
       "      <th>7</th>\n",
       "      <td>8.0</td>\n",
       "      <td>8929475.25</td>\n",
       "    </tr>\n",
       "    <tr>\n",
       "      <th>8</th>\n",
       "      <td>9.0</td>\n",
       "      <td>8724326.50</td>\n",
       "    </tr>\n",
       "    <tr>\n",
       "      <th>9</th>\n",
       "      <td>10.0</td>\n",
       "      <td>8902783.75</td>\n",
       "    </tr>\n",
       "    <tr>\n",
       "      <th>10</th>\n",
       "      <td>11.0</td>\n",
       "      <td>8680026.00</td>\n",
       "    </tr>\n",
       "    <tr>\n",
       "      <th>11</th>\n",
       "      <td>12.0</td>\n",
       "      <td>8923480.50</td>\n",
       "    </tr>\n",
       "  </tbody>\n",
       "</table>\n",
       "</div>"
      ],
      "text/plain": [
       "    month       sales\n",
       "0     1.0  9042244.00\n",
       "1     2.0  8073877.50\n",
       "2     3.0  8939152.00\n",
       "3     4.0  8504634.75\n",
       "4     5.0  9078002.50\n",
       "5     6.0  8556853.00\n",
       "6     7.0  9046580.00\n",
       "7     8.0  8929475.25\n",
       "8     9.0  8724326.50\n",
       "9    10.0  8902783.75\n",
       "10   11.0  8680026.00\n",
       "11   12.0  8923480.50"
      ]
     },
     "execution_count": 58,
     "metadata": {},
     "output_type": "execute_result"
    }
   ],
   "source": [
    "df_q4 = df_q4.drop(12)\n",
    "df_q4"
   ]
  },
  {
   "cell_type": "code",
   "execution_count": 59,
   "id": "52337e0d",
   "metadata": {
    "scrolled": true
   },
   "outputs": [
    {
     "data": {
      "text/html": [
       "<div>\n",
       "<style scoped>\n",
       "    .dataframe tbody tr th:only-of-type {\n",
       "        vertical-align: middle;\n",
       "    }\n",
       "\n",
       "    .dataframe tbody tr th {\n",
       "        vertical-align: top;\n",
       "    }\n",
       "\n",
       "    .dataframe thead th {\n",
       "        text-align: right;\n",
       "    }\n",
       "</style>\n",
       "<table border=\"1\" class=\"dataframe\">\n",
       "  <thead>\n",
       "    <tr style=\"text-align: right;\">\n",
       "      <th></th>\n",
       "      <th>sales</th>\n",
       "    </tr>\n",
       "    <tr>\n",
       "      <th>month</th>\n",
       "      <th></th>\n",
       "    </tr>\n",
       "  </thead>\n",
       "  <tbody>\n",
       "    <tr>\n",
       "      <th>1</th>\n",
       "      <td>9042244.00</td>\n",
       "    </tr>\n",
       "    <tr>\n",
       "      <th>2</th>\n",
       "      <td>8073877.50</td>\n",
       "    </tr>\n",
       "    <tr>\n",
       "      <th>3</th>\n",
       "      <td>8939152.00</td>\n",
       "    </tr>\n",
       "    <tr>\n",
       "      <th>4</th>\n",
       "      <td>8504634.75</td>\n",
       "    </tr>\n",
       "    <tr>\n",
       "      <th>5</th>\n",
       "      <td>9078002.50</td>\n",
       "    </tr>\n",
       "    <tr>\n",
       "      <th>6</th>\n",
       "      <td>8556853.00</td>\n",
       "    </tr>\n",
       "    <tr>\n",
       "      <th>7</th>\n",
       "      <td>9046580.00</td>\n",
       "    </tr>\n",
       "    <tr>\n",
       "      <th>8</th>\n",
       "      <td>8929475.25</td>\n",
       "    </tr>\n",
       "    <tr>\n",
       "      <th>9</th>\n",
       "      <td>8724326.50</td>\n",
       "    </tr>\n",
       "    <tr>\n",
       "      <th>10</th>\n",
       "      <td>8902783.75</td>\n",
       "    </tr>\n",
       "    <tr>\n",
       "      <th>11</th>\n",
       "      <td>8680026.00</td>\n",
       "    </tr>\n",
       "    <tr>\n",
       "      <th>12</th>\n",
       "      <td>8923480.50</td>\n",
       "    </tr>\n",
       "  </tbody>\n",
       "</table>\n",
       "</div>"
      ],
      "text/plain": [
       "            sales\n",
       "month            \n",
       "1      9042244.00\n",
       "2      8073877.50\n",
       "3      8939152.00\n",
       "4      8504634.75\n",
       "5      9078002.50\n",
       "6      8556853.00\n",
       "7      9046580.00\n",
       "8      8929475.25\n",
       "9      8724326.50\n",
       "10     8902783.75\n",
       "11     8680026.00\n",
       "12     8923480.50"
      ]
     },
     "execution_count": 59,
     "metadata": {},
     "output_type": "execute_result"
    }
   ],
   "source": [
    "df_q4 = df_q4.astype({'month': int})\n",
    "df_q4 = df_q4.set_index(['month'])\n",
    "df_q4"
   ]
  },
  {
   "cell_type": "code",
   "execution_count": 60,
   "id": "a74a6667",
   "metadata": {},
   "outputs": [],
   "source": [
    "changetype(df_q4)"
   ]
  },
  {
   "cell_type": "code",
   "execution_count": 61,
   "id": "73fb988c",
   "metadata": {
    "scrolled": true
   },
   "outputs": [
    {
     "data": {
      "text/plain": [
       "<Axes: ylabel='sales'>"
      ]
     },
     "execution_count": 61,
     "metadata": {},
     "output_type": "execute_result"
    },
    {
     "data": {
      "image/png": "[encoded data removed]",
      "text/plain": [
       "<Figure size 640x480 with 1 Axes>"
      ]
     },
     "metadata": {},
     "output_type": "display_data"
    }
   ],
   "source": [
    "df_q4.plot.pie(y='sales')"
   ]
  },
  {
   "cell_type": "markdown",
   "id": "62a5edf7",
   "metadata": {},
   "source": [
    "# Q2a: Find the customer wise total_sale_price joining fact table and respective dimension table"
   ]
  },
  {
   "cell_type": "code",
   "execution_count": 63,
   "id": "6e74d8f6",
   "metadata": {},
   "outputs": [
    {
     "name": "stdout",
     "output_type": "stream",
     "text": [
      "successfully connected to database\n"
     ]
    }
   ],
   "source": [
    "con = PostgresConnection().getConnection()\n",
    "cur = con.cursor()\n",
    "select_stmt = \"SELECT c.name, SUM(t.total_price) \" \\\n",
    "              \"FROM ecomdb_star_schema.fact_table t \" \\\n",
    "              \"JOIN ecomdb_star_schema.customer_dim c on c.customer_key=t.customer_key \" \\\n",
    "                \"GROUP BY CUBE(c.name) \" \\\n",
    "                \"ORDER BY c.name \"\n",
    "cur.execute(select_stmt)\n",
    "records = cur.fetchall()"
   ]
  },
  {
   "cell_type": "code",
   "execution_count": 67,
   "id": "62ac0570",
   "metadata": {},
   "outputs": [
    {
     "data": {
      "text/html": [
       "<div>\n",
       "<style scoped>\n",
       "    .dataframe tbody tr th:only-of-type {\n",
       "        vertical-align: middle;\n",
       "    }\n",
       "\n",
       "    .dataframe tbody tr th {\n",
       "        vertical-align: top;\n",
       "    }\n",
       "\n",
       "    .dataframe thead th {\n",
       "        text-align: right;\n",
       "    }\n",
       "</style>\n",
       "<table border=\"1\" class=\"dataframe\">\n",
       "  <thead>\n",
       "    <tr style=\"text-align: right;\">\n",
       "      <th></th>\n",
       "      <th>name</th>\n",
       "      <th>sales</th>\n",
       "    </tr>\n",
       "  </thead>\n",
       "  <tbody>\n",
       "    <tr>\n",
       "      <th>0</th>\n",
       "      <td>-</td>\n",
       "      <td>20643.50</td>\n",
       "    </tr>\n",
       "    <tr>\n",
       "      <th>1</th>\n",
       "      <td>aafreen fatima</td>\n",
       "      <td>11174.75</td>\n",
       "    </tr>\n",
       "    <tr>\n",
       "      <th>2</th>\n",
       "      <td>aafrin</td>\n",
       "      <td>22136.75</td>\n",
       "    </tr>\n",
       "    <tr>\n",
       "      <th>3</th>\n",
       "      <td>aafrin @ dolly</td>\n",
       "      <td>23529.75</td>\n",
       "    </tr>\n",
       "    <tr>\n",
       "      <th>4</th>\n",
       "      <td>aaftaab husan</td>\n",
       "      <td>9682.00</td>\n",
       "    </tr>\n",
       "    <tr>\n",
       "      <th>...</th>\n",
       "      <td>...</td>\n",
       "      <td>...</td>\n",
       "    </tr>\n",
       "    <tr>\n",
       "      <th>4532</th>\n",
       "      <td>बबीता</td>\n",
       "      <td>10509.75</td>\n",
       "    </tr>\n",
       "    <tr>\n",
       "      <th>4533</th>\n",
       "      <td>मन्जू</td>\n",
       "      <td>10575.75</td>\n",
       "    </tr>\n",
       "    <tr>\n",
       "      <th>4534</th>\n",
       "      <td>माया</td>\n",
       "      <td>9862.50</td>\n",
       "    </tr>\n",
       "    <tr>\n",
       "      <th>4535</th>\n",
       "      <td>सरोज</td>\n",
       "      <td>11280.00</td>\n",
       "    </tr>\n",
       "    <tr>\n",
       "      <th>4536</th>\n",
       "      <td>सानिया</td>\n",
       "      <td>11010.00</td>\n",
       "    </tr>\n",
       "  </tbody>\n",
       "</table>\n",
       "<p>4537 rows × 2 columns</p>\n",
       "</div>"
      ],
      "text/plain": [
       "                name     sales\n",
       "0                  -  20643.50\n",
       "1     aafreen fatima  11174.75\n",
       "2             aafrin  22136.75\n",
       "3     aafrin @ dolly  23529.75\n",
       "4      aaftaab husan   9682.00\n",
       "...              ...       ...\n",
       "4532           बबीता  10509.75\n",
       "4533           मन्जू  10575.75\n",
       "4534            माया   9862.50\n",
       "4535            सरोज  11280.00\n",
       "4536          सानिया  11010.00\n",
       "\n",
       "[4537 rows x 2 columns]"
      ]
     },
     "execution_count": 67,
     "metadata": {},
     "output_type": "execute_result"
    }
   ],
   "source": [
    "df = pd.DataFrame(records, columns=['name', 'sales'])\n",
    "df = df.drop(4537)\n",
    "df"
   ]
  },
  {
   "cell_type": "markdown",
   "id": "2f2fa729",
   "metadata": {},
   "source": [
    "# Q2b: Find the bank wise total_sale_price joining fact table and respective dimension table"
   ]
  },
  {
   "cell_type": "code",
   "execution_count": 69,
   "id": "bb867856",
   "metadata": {},
   "outputs": [
    {
     "name": "stdout",
     "output_type": "stream",
     "text": [
      "successfully connected to database\n"
     ]
    }
   ],
   "source": [
    "con = PostgresConnection().getConnection()\n",
    "cur = con.cursor()\n",
    "select_stmt = \"SELECT s.bank_name, SUM(t.total_price) \" \\\n",
    "              \"FROM ecomdb_star_schema.fact_table t \" \\\n",
    "              \"JOIN ecomdb_star_schema.trans_dim s on s.payment_key=t.payment_key \" \\\n",
    "                \"GROUP BY CUBE(s.bank_name) \" \\\n",
    "                \"ORDER BY s.bank_name \"\n",
    "cur.execute(select_stmt)\n",
    "records = cur.fetchall()"
   ]
  },
  {
   "cell_type": "code",
   "execution_count": 74,
   "id": "73cebc03",
   "metadata": {
    "scrolled": false
   },
   "outputs": [
    {
     "data": {
      "text/plain": [
       "<Axes: xlabel='bank_name'>"
      ]
     },
     "execution_count": 74,
     "metadata": {},
     "output_type": "execute_result"
    },
    {
     "data": {
      "text/plain": [
       "<Figure size 1000x500 with 0 Axes>"
      ]
     },
     "metadata": {},
     "output_type": "display_data"
    },
    {
     "data": {
      "image/png": "[encoded data removed]",
      "text/plain": [
       "<Figure size 640x480 with 1 Axes>"
      ]
     },
     "metadata": {},
     "output_type": "display_data"
    }
   ],
   "source": [
    "df = pd.DataFrame(records, columns=['bank_name', 'sales'])\n",
    "df = df.drop(df.index[-1])\n",
    "df = df.set_index('bank_name')\n",
    "changetype(df)\n",
    "plt.figure(figsize=(10,5))\n",
    "df.plot.bar(y='sales')"
   ]
  },
  {
   "cell_type": "markdown",
   "id": "00ff17d6",
   "metadata": {},
   "source": [
    "# Q2c: Find the transaction wise total_sale_price joining fact table and respective dimension table"
   ]
  },
  {
   "cell_type": "code",
   "execution_count": 76,
   "id": "76de96a1",
   "metadata": {},
   "outputs": [
    {
     "name": "stdout",
     "output_type": "stream",
     "text": [
      "successfully connected to database\n"
     ]
    }
   ],
   "source": [
    "con = PostgresConnection().getConnection()\n",
    "cur = con.cursor()\n",
    "select_stmt = \"SELECT s.trans_type, SUM(t.total_price) \" \\\n",
    "              \"FROM ecomdb_star_schema.fact_table t \" \\\n",
    "              \"JOIN ecomdb_star_schema.trans_dim s on s.payment_key=t.payment_key \" \\\n",
    "                \"GROUP BY CUBE(s.trans_type) \" \\\n",
    "                \"ORDER BY s.trans_type \"\n",
    "cur.execute(select_stmt)\n",
    "records = cur.fetchall()"
   ]
  },
  {
   "cell_type": "code",
   "execution_count": 77,
   "id": "d360834f",
   "metadata": {
    "scrolled": false
   },
   "outputs": [
    {
     "data": {
      "text/plain": [
       "<Axes: ylabel='sales'>"
      ]
     },
     "execution_count": 77,
     "metadata": {},
     "output_type": "execute_result"
    },
    {
     "data": {
      "image/png": "[encoded data removed]",
      "text/plain": [
       "<Figure size 640x480 with 1 Axes>"
      ]
     },
     "metadata": {},
     "output_type": "display_data"
    }
   ],
   "source": [
    "df = pd.DataFrame(records, columns=['trans_type', 'sales'])\n",
    "df = df.drop(df.index[-1])\n",
    "df = df.set_index('trans_type')\n",
    "changetype(df)\n",
    "df.plot.pie(y='sales')"
   ]
  },
  {
   "cell_type": "markdown",
   "id": "e99ea9bc",
   "metadata": {},
   "source": [
    "# Q3: Find the total sales of Barisal"
   ]
  },
  {
   "cell_type": "code",
   "execution_count": 99,
   "id": "ec77a024",
   "metadata": {},
   "outputs": [
    {
     "name": "stdout",
     "output_type": "stream",
     "text": [
      "successfully connected to database\n"
     ]
    }
   ],
   "source": [
    "con = PostgresConnection().getConnection()\n",
    "cur = con.cursor()\n",
    "select_stmt = \"SELECT s.division, SUM(t.total_price) \" \\\n",
    "              \"FROM ecomdb_star_schema.fact_table t \" \\\n",
    "              \"JOIN ecomdb_star_schema.store_dim s on s.store_key=t.store_key \" \\\n",
    "                \"WHERE s.division='BARISAL' \" \\\n",
    "                \"GROUP BY s.division \"\n",
    "cur.execute(select_stmt)\n",
    "records = cur.fetchall()"
   ]
  },
  {
   "cell_type": "code",
   "execution_count": 100,
   "id": "44c93dc8",
   "metadata": {},
   "outputs": [
    {
     "data": {
      "text/html": [
       "<div>\n",
       "<style scoped>\n",
       "    .dataframe tbody tr th:only-of-type {\n",
       "        vertical-align: middle;\n",
       "    }\n",
       "\n",
       "    .dataframe tbody tr th {\n",
       "        vertical-align: top;\n",
       "    }\n",
       "\n",
       "    .dataframe thead th {\n",
       "        text-align: right;\n",
       "    }\n",
       "</style>\n",
       "<table border=\"1\" class=\"dataframe\">\n",
       "  <thead>\n",
       "    <tr style=\"text-align: right;\">\n",
       "      <th></th>\n",
       "      <th>division</th>\n",
       "      <th>sales</th>\n",
       "    </tr>\n",
       "  </thead>\n",
       "  <tbody>\n",
       "    <tr>\n",
       "      <th>0</th>\n",
       "      <td>BARISAL</td>\n",
       "      <td>7520343.75</td>\n",
       "    </tr>\n",
       "  </tbody>\n",
       "</table>\n",
       "</div>"
      ],
      "text/plain": [
       "  division       sales\n",
       "0  BARISAL  7520343.75"
      ]
     },
     "execution_count": 100,
     "metadata": {},
     "output_type": "execute_result"
    }
   ],
   "source": [
    "df = pd.DataFrame(records, columns=['division', 'sales'])\n",
    "df"
   ]
  },
  {
   "cell_type": "markdown",
   "id": "4333310f",
   "metadata": {},
   "source": [
    "# Q4: Find the total sales in 2015"
   ]
  },
  {
   "cell_type": "code",
   "execution_count": 101,
   "id": "34a99575",
   "metadata": {},
   "outputs": [
    {
     "name": "stdout",
     "output_type": "stream",
     "text": [
      "successfully connected to database\n"
     ]
    }
   ],
   "source": [
    "con = PostgresConnection().getConnection()\n",
    "cur = con.cursor()\n",
    "select_stmt = \"SELECT s.year, SUM(t.total_price) \" \\\n",
    "              \"FROM ecomdb_star_schema.fact_table t \" \\\n",
    "              \"JOIN ecomdb_star_schema.time_dim s on s.time_key=t.time_key \" \\\n",
    "                \"WHERE s.year=2015 \" \\\n",
    "                \"GROUP BY s.year \"\n",
    "cur.execute(select_stmt)\n",
    "records = cur.fetchall()"
   ]
  },
  {
   "cell_type": "code",
   "execution_count": 102,
   "id": "5b1705c6",
   "metadata": {
    "scrolled": true
   },
   "outputs": [
    {
     "data": {
      "text/html": [
       "<div>\n",
       "<style scoped>\n",
       "    .dataframe tbody tr th:only-of-type {\n",
       "        vertical-align: middle;\n",
       "    }\n",
       "\n",
       "    .dataframe tbody tr th {\n",
       "        vertical-align: top;\n",
       "    }\n",
       "\n",
       "    .dataframe thead th {\n",
       "        text-align: right;\n",
       "    }\n",
       "</style>\n",
       "<table border=\"1\" class=\"dataframe\">\n",
       "  <thead>\n",
       "    <tr style=\"text-align: right;\">\n",
       "      <th></th>\n",
       "      <th>division</th>\n",
       "      <th>sales</th>\n",
       "    </tr>\n",
       "  </thead>\n",
       "  <tbody>\n",
       "    <tr>\n",
       "      <th>0</th>\n",
       "      <td>2015</td>\n",
       "      <td>15095720.25</td>\n",
       "    </tr>\n",
       "  </tbody>\n",
       "</table>\n",
       "</div>"
      ],
      "text/plain": [
       "   division        sales\n",
       "0      2015  15095720.25"
      ]
     },
     "execution_count": 102,
     "metadata": {},
     "output_type": "execute_result"
    }
   ],
   "source": [
    "df = pd.DataFrame(records, columns=['division', 'sales'])\n",
    "df"
   ]
  },
  {
   "cell_type": "markdown",
   "id": "d7fd4a03",
   "metadata": {},
   "source": [
    "# Q5: Find the total sales of Barisal in 2015"
   ]
  },
  {
   "cell_type": "code",
   "execution_count": 110,
   "id": "745c4de5",
   "metadata": {},
   "outputs": [
    {
     "name": "stdout",
     "output_type": "stream",
     "text": [
      "successfully connected to database\n"
     ]
    }
   ],
   "source": [
    "con = PostgresConnection().getConnection()\n",
    "cur = con.cursor()\n",
    "select_stmt = \"SELECT u.division, s.year, SUM(t.total_price) \" \\\n",
    "              \"FROM ecomdb_star_schema.fact_table t \" \\\n",
    "              \"JOIN ecomdb_star_schema.time_dim s on s.time_key=t.time_key \" \\\n",
    "            \"JOIN ecomdb_star_schema.store_dim u on u.store_key=t.store_key \" \\\n",
    "                \"WHERE s.year=2015 AND u.division='BARISAL' \" \\\n",
    "                \"GROUP BY s.year, u.division \"\n",
    "cur.execute(select_stmt)\n",
    "records = cur.fetchall()"
   ]
  },
  {
   "cell_type": "code",
   "execution_count": 111,
   "id": "d3a85f6e",
   "metadata": {
    "scrolled": true
   },
   "outputs": [
    {
     "data": {
      "text/html": [
       "<div>\n",
       "<style scoped>\n",
       "    .dataframe tbody tr th:only-of-type {\n",
       "        vertical-align: middle;\n",
       "    }\n",
       "\n",
       "    .dataframe tbody tr th {\n",
       "        vertical-align: top;\n",
       "    }\n",
       "\n",
       "    .dataframe thead th {\n",
       "        text-align: right;\n",
       "    }\n",
       "</style>\n",
       "<table border=\"1\" class=\"dataframe\">\n",
       "  <thead>\n",
       "    <tr style=\"text-align: right;\">\n",
       "      <th></th>\n",
       "      <th>division</th>\n",
       "      <th>year</th>\n",
       "      <th>sales</th>\n",
       "    </tr>\n",
       "  </thead>\n",
       "  <tbody>\n",
       "    <tr>\n",
       "      <th>0</th>\n",
       "      <td>BARISAL</td>\n",
       "      <td>2015</td>\n",
       "      <td>1076902.75</td>\n",
       "    </tr>\n",
       "  </tbody>\n",
       "</table>\n",
       "</div>"
      ],
      "text/plain": [
       "  division  year       sales\n",
       "0  BARISAL  2015  1076902.75"
      ]
     },
     "execution_count": 111,
     "metadata": {},
     "output_type": "execute_result"
    }
   ],
   "source": [
    "records\n",
    "df = pd.DataFrame(records, columns=['division', 'year', 'sales'])\n",
    "df"
   ]
  },
  {
   "cell_type": "markdown",
   "id": "ec367e8a",
   "metadata": {},
   "source": [
    "# Q6: For each store(item supplier), what are the top three products offered that are most often purchased?"
   ]
  },
  {
   "cell_type": "code",
   "execution_count": 140,
   "id": "1013124d",
   "metadata": {},
   "outputs": [
    {
     "name": "stdout",
     "output_type": "stream",
     "text": [
      "successfully connected to database\n"
     ]
    }
   ],
   "source": [
    "con = PostgresConnection().getConnection()\n",
    "cur = con.cursor()\n",
    "select_stmt = \"SELECT t.store_key, t.item_name, t.quantity \" \\\n",
    "                \"FROM ( \" \\\n",
    "                    \"SELECT p.store_key, q.item_name, SUM(p.quantity) as quantity, \" \\\n",
    "                    \"ROW_NUMBER() OVER (PARTITION BY p.store_key ORDER BY SUM(p.quantity) DESC) AS row_num \" \\\n",
    "                    \"FROM ecomdb_star_schema.fact_table p JOIN ecomdb_star_schema.item_dim q on p.item_key=q.item_key \" \\\n",
    "                    \"GROUP BY p.store_key, q.item_name \" \\\n",
    "                \") AS t \" \\\n",
    "                \"WHERE t.row_num <= 3\"\n",
    "cur.execute(select_stmt)\n",
    "records = cur.fetchall()"
   ]
  },
  {
   "cell_type": "code",
   "execution_count": 142,
   "id": "de6fb040",
   "metadata": {},
   "outputs": [
    {
     "data": {
      "text/html": [
       "<div>\n",
       "<style scoped>\n",
       "    .dataframe tbody tr th:only-of-type {\n",
       "        vertical-align: middle;\n",
       "    }\n",
       "\n",
       "    .dataframe tbody tr th {\n",
       "        vertical-align: top;\n",
       "    }\n",
       "\n",
       "    .dataframe thead th {\n",
       "        text-align: right;\n",
       "    }\n",
       "</style>\n",
       "<table border=\"1\" class=\"dataframe\">\n",
       "  <thead>\n",
       "    <tr style=\"text-align: right;\">\n",
       "      <th></th>\n",
       "      <th>store_key</th>\n",
       "      <th>item_name</th>\n",
       "      <th>sales</th>\n",
       "    </tr>\n",
       "  </thead>\n",
       "  <tbody>\n",
       "    <tr>\n",
       "      <th>0</th>\n",
       "      <td>S0001</td>\n",
       "      <td>Pepsi - 12 oz cans</td>\n",
       "      <td>92</td>\n",
       "    </tr>\n",
       "    <tr>\n",
       "      <th>1</th>\n",
       "      <td>S0001</td>\n",
       "      <td>Muscle Milk Protein Shake Van. 11oz</td>\n",
       "      <td>90</td>\n",
       "    </tr>\n",
       "    <tr>\n",
       "      <th>2</th>\n",
       "      <td>S0001</td>\n",
       "      <td>Hefty Supreme Foam Plates 6 inch</td>\n",
       "      <td>78</td>\n",
       "    </tr>\n",
       "    <tr>\n",
       "      <th>3</th>\n",
       "      <td>S0002</td>\n",
       "      <td>Planters Nut-trition 1.5 oz</td>\n",
       "      <td>83</td>\n",
       "    </tr>\n",
       "    <tr>\n",
       "      <th>4</th>\n",
       "      <td>S0002</td>\n",
       "      <td>Altoids Small Packs Variety</td>\n",
       "      <td>80</td>\n",
       "    </tr>\n",
       "    <tr>\n",
       "      <th>...</th>\n",
       "      <td>...</td>\n",
       "      <td>...</td>\n",
       "      <td>...</td>\n",
       "    </tr>\n",
       "    <tr>\n",
       "      <th>2173</th>\n",
       "      <td>S0098</td>\n",
       "      <td>Cliff Builders Protein Bar Variety Pack</td>\n",
       "      <td>84</td>\n",
       "    </tr>\n",
       "    <tr>\n",
       "      <th>2174</th>\n",
       "      <td>S0098</td>\n",
       "      <td>Pepsi - 12 oz cans</td>\n",
       "      <td>79</td>\n",
       "    </tr>\n",
       "    <tr>\n",
       "      <th>2175</th>\n",
       "      <td>S0099</td>\n",
       "      <td>Pepsi - 12 oz cans</td>\n",
       "      <td>93</td>\n",
       "    </tr>\n",
       "    <tr>\n",
       "      <th>2176</th>\n",
       "      <td>S0099</td>\n",
       "      <td>Diet Coke - 12 oz cans</td>\n",
       "      <td>87</td>\n",
       "    </tr>\n",
       "    <tr>\n",
       "      <th>2177</th>\n",
       "      <td>S0099</td>\n",
       "      <td>Coffee-mate Original Powdered Creamer</td>\n",
       "      <td>86</td>\n",
       "    </tr>\n",
       "  </tbody>\n",
       "</table>\n",
       "<p>2178 rows × 3 columns</p>\n",
       "</div>"
      ],
      "text/plain": [
       "     store_key                                item_name sales\n",
       "0        S0001                       Pepsi - 12 oz cans    92\n",
       "1        S0001      Muscle Milk Protein Shake Van. 11oz    90\n",
       "2        S0001         Hefty Supreme Foam Plates 6 inch    78\n",
       "3        S0002             Planters Nut-trition 1.5 oz     83\n",
       "4        S0002              Altoids Small Packs Variety    80\n",
       "...        ...                                      ...   ...\n",
       "2173     S0098  Cliff Builders Protein Bar Variety Pack    84\n",
       "2174     S0098                       Pepsi - 12 oz cans    79\n",
       "2175     S0099                       Pepsi - 12 oz cans    93\n",
       "2176     S0099                   Diet Coke - 12 oz cans    87\n",
       "2177     S0099    Coffee-mate Original Powdered Creamer    86\n",
       "\n",
       "[2178 rows x 3 columns]"
      ]
     },
     "execution_count": 142,
     "metadata": {},
     "output_type": "execute_result"
    }
   ],
   "source": [
    "df = pd.DataFrame(records, columns=['store_key', 'item_name', 'sales'])\n",
    "df"
   ]
  },
  {
   "cell_type": "markdown",
   "id": "73fd9370",
   "metadata": {},
   "source": [
    "# Q7: What products have been sold through card or mobile since X days?"
   ]
  },
  {
   "cell_type": "code",
   "execution_count": 147,
   "id": "d01d436d",
   "metadata": {},
   "outputs": [
    {
     "name": "stdout",
     "output_type": "stream",
     "text": [
      "1000\n"
     ]
    }
   ],
   "source": [
    "x = int(input())"
   ]
  },
  {
   "cell_type": "code",
   "execution_count": 150,
   "id": "72c9885a",
   "metadata": {},
   "outputs": [
    {
     "name": "stdout",
     "output_type": "stream",
     "text": [
      "successfully connected to database\n"
     ]
    }
   ],
   "source": [
    "con = PostgresConnection().getConnection()\n",
    "cur = con.cursor()\n",
    "select_stmt = \"SELECT DISTINCT i.item_name \" \\\n",
    "                \"FROM ecomdb_star_schema.fact_table f JOIN ecomdb_star_schema.time_dim t on f.time_key=t.time_key \" \\\n",
    "                \"JOIN ecomdb_star_schema.trans_dim u on f.payment_key=u.payment_key \" \\\n",
    "                \"JOIN ecomdb_star_schema.item_dim i on f.item_key=i.item_key \" \\\n",
    "                \"WHERE CURRENT_DATE - t.t_date <= {} AND (u.trans_type='card' OR u.trans_type='mobile')\".format(x)\n",
    "cur.execute(select_stmt)\n",
    "records = cur.fetchall()"
   ]
  },
  {
   "cell_type": "code",
   "execution_count": 152,
   "id": "3f680a14",
   "metadata": {
    "scrolled": true
   },
   "outputs": [
    {
     "data": {
      "text/html": [
       "<div>\n",
       "<style scoped>\n",
       "    .dataframe tbody tr th:only-of-type {\n",
       "        vertical-align: middle;\n",
       "    }\n",
       "\n",
       "    .dataframe tbody tr th {\n",
       "        vertical-align: top;\n",
       "    }\n",
       "\n",
       "    .dataframe thead th {\n",
       "        text-align: right;\n",
       "    }\n",
       "</style>\n",
       "<table border=\"1\" class=\"dataframe\">\n",
       "  <thead>\n",
       "    <tr style=\"text-align: right;\">\n",
       "      <th></th>\n",
       "      <th>item_name</th>\n",
       "    </tr>\n",
       "  </thead>\n",
       "  <tbody>\n",
       "    <tr>\n",
       "      <th>0</th>\n",
       "      <td>100% Juice Box Variety 6.75 oz</td>\n",
       "    </tr>\n",
       "    <tr>\n",
       "      <th>1</th>\n",
       "      <td>Advil 2 pill packets</td>\n",
       "    </tr>\n",
       "    <tr>\n",
       "      <th>2</th>\n",
       "      <td>All Purpose Cleaner 409 Spray</td>\n",
       "    </tr>\n",
       "    <tr>\n",
       "      <th>3</th>\n",
       "      <td>Altoids Small Packs Variety</td>\n",
       "    </tr>\n",
       "    <tr>\n",
       "      <th>4</th>\n",
       "      <td>Apple Sauce Variety GoGO Squeeze 3.2oz</td>\n",
       "    </tr>\n",
       "    <tr>\n",
       "      <th>...</th>\n",
       "      <td>...</td>\n",
       "    </tr>\n",
       "    <tr>\n",
       "      <th>254</th>\n",
       "      <td>Welch's 100% Juice Variety10 oz</td>\n",
       "    </tr>\n",
       "    <tr>\n",
       "      <th>255</th>\n",
       "      <td>Wint O Green LifeSavers Sugar Free</td>\n",
       "    </tr>\n",
       "    <tr>\n",
       "      <th>256</th>\n",
       "      <td>Wonderful Pistachios (in shell)</td>\n",
       "    </tr>\n",
       "    <tr>\n",
       "      <th>257</th>\n",
       "      <td>Yoplait Original Yogurt Variety Pack</td>\n",
       "    </tr>\n",
       "    <tr>\n",
       "      <th>258</th>\n",
       "      <td>Zoo Animal Cookies/Crackers</td>\n",
       "    </tr>\n",
       "  </tbody>\n",
       "</table>\n",
       "<p>259 rows × 1 columns</p>\n",
       "</div>"
      ],
      "text/plain": [
       "                                  item_name\n",
       "0           100% Juice Box Variety 6.75 oz \n",
       "1                      Advil 2 pill packets\n",
       "2             All Purpose Cleaner 409 Spray\n",
       "3               Altoids Small Packs Variety\n",
       "4    Apple Sauce Variety GoGO Squeeze 3.2oz\n",
       "..                                      ...\n",
       "254         Welch's 100% Juice Variety10 oz\n",
       "255      Wint O Green LifeSavers Sugar Free\n",
       "256         Wonderful Pistachios (in shell)\n",
       "257   Yoplait Original Yogurt Variety Pack \n",
       "258             Zoo Animal Cookies/Crackers\n",
       "\n",
       "[259 rows x 1 columns]"
      ]
     },
     "execution_count": 152,
     "metadata": {},
     "output_type": "execute_result"
    }
   ],
   "source": [
    "df = pd.DataFrame(records, columns=['item_name'])\n",
    "df"
   ]
  },
  {
   "cell_type": "markdown",
   "id": "ba7b3224",
   "metadata": {},
   "source": [
    "# Q8: What season(quarter) is the worst for each product item?"
   ]
  },
  {
   "cell_type": "code",
   "execution_count": 153,
   "id": "2a98c468",
   "metadata": {},
   "outputs": [
    {
     "name": "stdout",
     "output_type": "stream",
     "text": [
      "successfully connected to database\n"
     ]
    }
   ],
   "source": [
    "con = PostgresConnection().getConnection()\n",
    "cur = con.cursor()\n",
    "select_stmt = \"SELECT t.item_name, t.quarter \" \\\n",
    "                \"FROM ( \" \\\n",
    "                \"SELECT i.item_name, t.quarter, ROW_NUMBER() OVER (PARTITION BY i.item_name ORDER BY SUM(f.quantity) ASC) as row_num \" \\\n",
    "                \"FROM ecomdb_star_schema.fact_table f JOIN ecomdb_star_schema.item_dim i on f.item_key=i.item_key \" \\\n",
    "                \"JOIN ecomdb_star_schema.time_dim t on f.time_key=t.time_key \" \\\n",
    "                \"GROUP BY i.item_name, t.quarter \" \\\n",
    "                \") AS t \" \\\n",
    "                \"WHERE row_num=1 \"\n",
    "cur.execute(select_stmt)\n",
    "records = cur.fetchall()"
   ]
  },
  {
   "cell_type": "code",
   "execution_count": 154,
   "id": "4e6fc9b8",
   "metadata": {
    "scrolled": true
   },
   "outputs": [
    {
     "data": {
      "text/html": [
       "<div>\n",
       "<style scoped>\n",
       "    .dataframe tbody tr th:only-of-type {\n",
       "        vertical-align: middle;\n",
       "    }\n",
       "\n",
       "    .dataframe tbody tr th {\n",
       "        vertical-align: top;\n",
       "    }\n",
       "\n",
       "    .dataframe thead th {\n",
       "        text-align: right;\n",
       "    }\n",
       "</style>\n",
       "<table border=\"1\" class=\"dataframe\">\n",
       "  <thead>\n",
       "    <tr style=\"text-align: right;\">\n",
       "      <th></th>\n",
       "      <th>item_name</th>\n",
       "      <th>quarter</th>\n",
       "    </tr>\n",
       "  </thead>\n",
       "  <tbody>\n",
       "    <tr>\n",
       "      <th>0</th>\n",
       "      <td>100% Juice Box Variety 6.75 oz</td>\n",
       "      <td>Q1</td>\n",
       "    </tr>\n",
       "    <tr>\n",
       "      <th>1</th>\n",
       "      <td>Advil 2 pill packets</td>\n",
       "      <td>Q1</td>\n",
       "    </tr>\n",
       "    <tr>\n",
       "      <th>2</th>\n",
       "      <td>All Purpose Cleaner 409 Spray</td>\n",
       "      <td>Q1</td>\n",
       "    </tr>\n",
       "    <tr>\n",
       "      <th>3</th>\n",
       "      <td>Altoids Small Packs Variety</td>\n",
       "      <td>Q3</td>\n",
       "    </tr>\n",
       "    <tr>\n",
       "      <th>4</th>\n",
       "      <td>Apple Sauce Variety GoGO Squeeze 3.2oz</td>\n",
       "      <td>Q4</td>\n",
       "    </tr>\n",
       "    <tr>\n",
       "      <th>...</th>\n",
       "      <td>...</td>\n",
       "      <td>...</td>\n",
       "    </tr>\n",
       "    <tr>\n",
       "      <th>254</th>\n",
       "      <td>Welch's 100% Juice Variety10 oz</td>\n",
       "      <td>Q2</td>\n",
       "    </tr>\n",
       "    <tr>\n",
       "      <th>255</th>\n",
       "      <td>Wint O Green LifeSavers Sugar Free</td>\n",
       "      <td>Q1</td>\n",
       "    </tr>\n",
       "    <tr>\n",
       "      <th>256</th>\n",
       "      <td>Wonderful Pistachios (in shell)</td>\n",
       "      <td>Q1</td>\n",
       "    </tr>\n",
       "    <tr>\n",
       "      <th>257</th>\n",
       "      <td>Yoplait Original Yogurt Variety Pack</td>\n",
       "      <td>Q1</td>\n",
       "    </tr>\n",
       "    <tr>\n",
       "      <th>258</th>\n",
       "      <td>Zoo Animal Cookies/Crackers</td>\n",
       "      <td>Q1</td>\n",
       "    </tr>\n",
       "  </tbody>\n",
       "</table>\n",
       "<p>259 rows × 2 columns</p>\n",
       "</div>"
      ],
      "text/plain": [
       "                                  item_name quarter\n",
       "0           100% Juice Box Variety 6.75 oz       Q1\n",
       "1                      Advil 2 pill packets      Q1\n",
       "2             All Purpose Cleaner 409 Spray      Q1\n",
       "3               Altoids Small Packs Variety      Q3\n",
       "4    Apple Sauce Variety GoGO Squeeze 3.2oz      Q4\n",
       "..                                      ...     ...\n",
       "254         Welch's 100% Juice Variety10 oz      Q2\n",
       "255      Wint O Green LifeSavers Sugar Free      Q1\n",
       "256         Wonderful Pistachios (in shell)      Q1\n",
       "257   Yoplait Original Yogurt Variety Pack       Q1\n",
       "258             Zoo Animal Cookies/Crackers      Q1\n",
       "\n",
       "[259 rows x 2 columns]"
      ]
     },
     "execution_count": 154,
     "metadata": {},
     "output_type": "execute_result"
    }
   ],
   "source": [
    "df = pd.DataFrame(records, columns=['item_name', 'quarter'])\n",
    "df"
   ]
  },
  {
   "cell_type": "code",
   "execution_count": null,
   "id": "bff013c6",
   "metadata": {},
   "outputs": [],
   "source": []
  }
 ],
 "metadata": {
  "kernelspec": {
   "display_name": "Python 3 (ipykernel)",
   "language": "python",
   "name": "python3"
  },
  "language_info": {
   "codemirror_mode": {
    "name": "ipython",
    "version": 3
   },
   "file_extension": ".py",
   "mimetype": "text/x-python",
   "name": "python",
   "nbconvert_exporter": "python",
   "pygments_lexer": "ipython3",
   "version": "3.8.16"
  }
 },
 "nbformat": 4,
 "nbformat_minor": 5
}
