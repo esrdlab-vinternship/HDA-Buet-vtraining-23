{
 "cells": [
  {
   "cell_type": "code",
   "execution_count": 1,
   "id": "6e713782",
   "metadata": {},
   "outputs": [
    {
     "name": "stdout",
     "output_type": "stream",
     "text": [
      "Requirement already satisfied: psycopg2 in e:\\buet internship mysoft\\hda-buet-vtraining-23\\myenv\\lib\\site-packages (2.9.6)\n",
      "Note: you may need to restart the kernel to use updated packages.\n"
     ]
    }
   ],
   "source": [
    "pip install psycopg2"
   ]
  },
  {
   "cell_type": "code",
   "execution_count": 2,
   "id": "01c7705b",
   "metadata": {},
   "outputs": [
    {
     "name": "stdout",
     "output_type": "stream",
     "text": [
      "Requirement already satisfied: openpyxl in e:\\buet internship mysoft\\hda-buet-vtraining-23\\myenv\\lib\\site-packages (3.1.2)\n",
      "Requirement already satisfied: et-xmlfile in e:\\buet internship mysoft\\hda-buet-vtraining-23\\myenv\\lib\\site-packages (from openpyxl) (1.1.0)\n",
      "Note: you may need to restart the kernel to use updated packages.\n"
     ]
    }
   ],
   "source": [
    "pip install openpyxl"
   ]
  },
  {
   "cell_type": "code",
   "execution_count": 3,
   "id": "3a9e7408",
   "metadata": {},
   "outputs": [
    {
     "name": "stdout",
     "output_type": "stream",
     "text": [
      "Requirement already satisfied: pandas in e:\\buet internship mysoft\\hda-buet-vtraining-23\\myenv\\lib\\site-packages (2.0.1)\n",
      "Requirement already satisfied: python-dateutil>=2.8.2 in e:\\buet internship mysoft\\hda-buet-vtraining-23\\myenv\\lib\\site-packages (from pandas) (2.8.2)\n",
      "Requirement already satisfied: pytz>=2020.1 in e:\\buet internship mysoft\\hda-buet-vtraining-23\\myenv\\lib\\site-packages (from pandas) (2023.3)\n",
      "Requirement already satisfied: tzdata>=2022.1 in e:\\buet internship mysoft\\hda-buet-vtraining-23\\myenv\\lib\\site-packages (from pandas) (2023.3)\n",
      "Requirement already satisfied: numpy>=1.21.0 in e:\\buet internship mysoft\\hda-buet-vtraining-23\\myenv\\lib\\site-packages (from pandas) (1.24.3)\n",
      "Requirement already satisfied: six>=1.5 in e:\\buet internship mysoft\\hda-buet-vtraining-23\\myenv\\lib\\site-packages (from python-dateutil>=2.8.2->pandas) (1.16.0)\n",
      "Note: you may need to restart the kernel to use updated packages.\n"
     ]
    }
   ],
   "source": [
    "pip install pandas"
   ]
  },
  {
   "cell_type": "code",
   "execution_count": 1,
   "id": "1762196e",
   "metadata": {},
   "outputs": [],
   "source": [
    "import psycopg2\n",
    "import pandas as pd\n",
    "import psycopg2.extras\n",
    "import matplotlib.pyplot as plt"
   ]
  },
  {
   "cell_type": "code",
   "execution_count": 5,
   "id": "8cd2319c",
   "metadata": {},
   "outputs": [],
   "source": [
    "lab_dim = pd.read_csv(r'E:\\Buet Internship Mysoft\\HDA-Buet-vtraining-23\\dim_lab.csv')"
   ]
  },
  {
   "cell_type": "code",
   "execution_count": 6,
   "id": "b0292d41",
   "metadata": {},
   "outputs": [
    {
     "data": {
      "text/html": [
       "<div>\n",
       "<style scoped>\n",
       "    .dataframe tbody tr th:only-of-type {\n",
       "        vertical-align: middle;\n",
       "    }\n",
       "\n",
       "    .dataframe tbody tr th {\n",
       "        vertical-align: top;\n",
       "    }\n",
       "\n",
       "    .dataframe thead th {\n",
       "        text-align: right;\n",
       "    }\n",
       "</style>\n",
       "<table border=\"1\" class=\"dataframe\">\n",
       "  <thead>\n",
       "    <tr style=\"text-align: right;\">\n",
       "      <th></th>\n",
       "      <th>lab_key</th>\n",
       "      <th>lab_name</th>\n",
       "      <th>lab_type</th>\n",
       "      <th>lab_code</th>\n",
       "      <th>lab_desc</th>\n",
       "    </tr>\n",
       "  </thead>\n",
       "  <tbody>\n",
       "    <tr>\n",
       "      <th>0</th>\n",
       "      <td>10001</td>\n",
       "      <td>ADMINISTRATION</td>\n",
       "      <td>1</td>\n",
       "      <td>679</td>\n",
       "      <td>DESC</td>\n",
       "    </tr>\n",
       "    <tr>\n",
       "      <th>1</th>\n",
       "      <td>10002</td>\n",
       "      <td>Urology</td>\n",
       "      <td>1</td>\n",
       "      <td>0037</td>\n",
       "      <td>DESC</td>\n",
       "    </tr>\n",
       "    <tr>\n",
       "      <th>2</th>\n",
       "      <td>10003</td>\n",
       "      <td>Serology</td>\n",
       "      <td>1</td>\n",
       "      <td>0008</td>\n",
       "      <td>DESC</td>\n",
       "    </tr>\n",
       "    <tr>\n",
       "      <th>3</th>\n",
       "      <td>10004</td>\n",
       "      <td>AMBULANCE SERVICE</td>\n",
       "      <td>1</td>\n",
       "      <td>0057</td>\n",
       "      <td>DESC</td>\n",
       "    </tr>\n",
       "    <tr>\n",
       "      <th>4</th>\n",
       "      <td>10005</td>\n",
       "      <td>USG</td>\n",
       "      <td>1</td>\n",
       "      <td>0012</td>\n",
       "      <td>DESC</td>\n",
       "    </tr>\n",
       "    <tr>\n",
       "      <th>...</th>\n",
       "      <td>...</td>\n",
       "      <td>...</td>\n",
       "      <td>...</td>\n",
       "      <td>...</td>\n",
       "      <td>...</td>\n",
       "    </tr>\n",
       "    <tr>\n",
       "      <th>236</th>\n",
       "      <td>10237</td>\n",
       "      <td>Nursing Service (Technical)</td>\n",
       "      <td>1</td>\n",
       "      <td>BSH096</td>\n",
       "      <td>DESC</td>\n",
       "    </tr>\n",
       "    <tr>\n",
       "      <th>237</th>\n",
       "      <td>10238</td>\n",
       "      <td>MEDICINE</td>\n",
       "      <td>1</td>\n",
       "      <td>MED1</td>\n",
       "      <td>DESC</td>\n",
       "    </tr>\n",
       "    <tr>\n",
       "      <th>238</th>\n",
       "      <td>10239</td>\n",
       "      <td>OPD DOCTOR</td>\n",
       "      <td>1</td>\n",
       "      <td>D002</td>\n",
       "      <td>DESC</td>\n",
       "    </tr>\n",
       "    <tr>\n",
       "      <th>239</th>\n",
       "      <td>10240</td>\n",
       "      <td>Maha</td>\n",
       "      <td>1</td>\n",
       "      <td>Maha01</td>\n",
       "      <td>DESC</td>\n",
       "    </tr>\n",
       "    <tr>\n",
       "      <th>240</th>\n",
       "      <td>10241</td>\n",
       "      <td>Oncology test</td>\n",
       "      <td>1</td>\n",
       "      <td>on01</td>\n",
       "      <td>DESC</td>\n",
       "    </tr>\n",
       "  </tbody>\n",
       "</table>\n",
       "<p>241 rows × 5 columns</p>\n",
       "</div>"
      ],
      "text/plain": [
       "     lab_key                     lab_name  lab_type lab_code lab_desc\n",
       "0      10001               ADMINISTRATION         1      679     DESC\n",
       "1      10002                      Urology         1     0037     DESC\n",
       "2      10003                     Serology         1     0008     DESC\n",
       "3      10004            AMBULANCE SERVICE         1     0057     DESC\n",
       "4      10005                          USG         1     0012     DESC\n",
       "..       ...                          ...       ...      ...      ...\n",
       "236    10237  Nursing Service (Technical)         1   BSH096     DESC\n",
       "237    10238                     MEDICINE         1     MED1     DESC\n",
       "238    10239                   OPD DOCTOR         1     D002     DESC\n",
       "239    10240                         Maha         1   Maha01     DESC\n",
       "240    10241               Oncology test          1     on01     DESC\n",
       "\n",
       "[241 rows x 5 columns]"
      ]
     },
     "execution_count": 6,
     "metadata": {},
     "output_type": "execute_result"
    }
   ],
   "source": [
    "lab_dim.dtypes\n",
    "lab_dim"
   ]
  },
  {
   "cell_type": "code",
   "execution_count": 7,
   "id": "9e4076ee",
   "metadata": {},
   "outputs": [],
   "source": [
    "test_dim = pd.read_csv(r'E:\\Buet Internship Mysoft\\HDA-Buet-vtraining-23\\dim_test.csv')"
   ]
  },
  {
   "cell_type": "code",
   "execution_count": 8,
   "id": "760e5fea",
   "metadata": {},
   "outputs": [
    {
     "data": {
      "text/html": [
       "<div>\n",
       "<style scoped>\n",
       "    .dataframe tbody tr th:only-of-type {\n",
       "        vertical-align: middle;\n",
       "    }\n",
       "\n",
       "    .dataframe tbody tr th {\n",
       "        vertical-align: top;\n",
       "    }\n",
       "\n",
       "    .dataframe thead th {\n",
       "        text-align: right;\n",
       "    }\n",
       "</style>\n",
       "<table border=\"1\" class=\"dataframe\">\n",
       "  <thead>\n",
       "    <tr style=\"text-align: right;\">\n",
       "      <th></th>\n",
       "      <th>test_key</th>\n",
       "      <th>test_name</th>\n",
       "      <th>test_code</th>\n",
       "      <th>specimen</th>\n",
       "      <th>ct_ref</th>\n",
       "      <th>test_desc</th>\n",
       "    </tr>\n",
       "  </thead>\n",
       "  <tbody>\n",
       "    <tr>\n",
       "      <th>0</th>\n",
       "      <td>10002</td>\n",
       "      <td>Pus for Fungus</td>\n",
       "      <td>1988</td>\n",
       "      <td>PUS</td>\n",
       "      <td>BSH</td>\n",
       "      <td>Desc</td>\n",
       "    </tr>\n",
       "    <tr>\n",
       "      <th>1</th>\n",
       "      <td>10003</td>\n",
       "      <td>Drain Fluid for Bilirubin</td>\n",
       "      <td>00885</td>\n",
       "      <td>FLUID</td>\n",
       "      <td>BSH</td>\n",
       "      <td>Desc</td>\n",
       "    </tr>\n",
       "    <tr>\n",
       "      <th>2</th>\n",
       "      <td>10004</td>\n",
       "      <td>NASAL SWAB FOR KLB</td>\n",
       "      <td>0705</td>\n",
       "      <td>Not Found</td>\n",
       "      <td>BSH</td>\n",
       "      <td>Desc</td>\n",
       "    </tr>\n",
       "    <tr>\n",
       "      <th>3</th>\n",
       "      <td>10005</td>\n",
       "      <td>X-Pert  MTB/RIF assay by archived gastric Aspi...</td>\n",
       "      <td>0706</td>\n",
       "      <td>TRACHEAL ASPIRATE</td>\n",
       "      <td>BSH</td>\n",
       "      <td>Desc</td>\n",
       "    </tr>\n",
       "    <tr>\n",
       "      <th>4</th>\n",
       "      <td>10006</td>\n",
       "      <td>Anti-Filaria Ab IgG4</td>\n",
       "      <td>0192</td>\n",
       "      <td>BLOOD</td>\n",
       "      <td>BSH</td>\n",
       "      <td>Desc</td>\n",
       "    </tr>\n",
       "    <tr>\n",
       "      <th>...</th>\n",
       "      <td>...</td>\n",
       "      <td>...</td>\n",
       "      <td>...</td>\n",
       "      <td>...</td>\n",
       "      <td>...</td>\n",
       "      <td>...</td>\n",
       "    </tr>\n",
       "    <tr>\n",
       "      <th>1130</th>\n",
       "      <td>10011</td>\n",
       "      <td>Pleural Fluid for Malignant Cell</td>\n",
       "      <td>1486</td>\n",
       "      <td>PLEURAL FLUID</td>\n",
       "      <td>BSH</td>\n",
       "      <td>A malignant pleural effusion (MPE) is the buil...</td>\n",
       "    </tr>\n",
       "    <tr>\n",
       "      <th>1131</th>\n",
       "      <td>10693</td>\n",
       "      <td>FBG - Fasting blood glucose</td>\n",
       "      <td>0031</td>\n",
       "      <td>BLOOD</td>\n",
       "      <td>SNOMED CT</td>\n",
       "      <td>Desc</td>\n",
       "    </tr>\n",
       "    <tr>\n",
       "      <th>1132</th>\n",
       "      <td>10453</td>\n",
       "      <td>RBG - Random blood glucose</td>\n",
       "      <td>0030</td>\n",
       "      <td>BLOOD</td>\n",
       "      <td>SNOMED CT</td>\n",
       "      <td>Desc</td>\n",
       "    </tr>\n",
       "    <tr>\n",
       "      <th>1133</th>\n",
       "      <td>10259</td>\n",
       "      <td>Blood calcium level</td>\n",
       "      <td>0237</td>\n",
       "      <td>BLOOD</td>\n",
       "      <td>SNOMED CT</td>\n",
       "      <td>Desc</td>\n",
       "    </tr>\n",
       "    <tr>\n",
       "      <th>1134</th>\n",
       "      <td>10899</td>\n",
       "      <td>Serum creatinine level</td>\n",
       "      <td>0036</td>\n",
       "      <td>BLOOD</td>\n",
       "      <td>SNOMED CT</td>\n",
       "      <td>Desc</td>\n",
       "    </tr>\n",
       "  </tbody>\n",
       "</table>\n",
       "<p>1135 rows × 6 columns</p>\n",
       "</div>"
      ],
      "text/plain": [
       "      test_key                                          test_name test_code   \n",
       "0        10002                                     Pus for Fungus      1988  \\\n",
       "1        10003                          Drain Fluid for Bilirubin     00885   \n",
       "2        10004                                 NASAL SWAB FOR KLB      0705   \n",
       "3        10005  X-Pert  MTB/RIF assay by archived gastric Aspi...      0706   \n",
       "4        10006                               Anti-Filaria Ab IgG4      0192   \n",
       "...        ...                                                ...       ...   \n",
       "1130     10011                   Pleural Fluid for Malignant Cell      1486   \n",
       "1131     10693                        FBG - Fasting blood glucose      0031   \n",
       "1132     10453                         RBG - Random blood glucose      0030   \n",
       "1133     10259                                Blood calcium level      0237   \n",
       "1134     10899                             Serum creatinine level      0036   \n",
       "\n",
       "               specimen     ct_ref   \n",
       "0                   PUS        BSH  \\\n",
       "1                 FLUID        BSH   \n",
       "2             Not Found        BSH   \n",
       "3     TRACHEAL ASPIRATE        BSH   \n",
       "4                 BLOOD        BSH   \n",
       "...                 ...        ...   \n",
       "1130      PLEURAL FLUID        BSH   \n",
       "1131              BLOOD  SNOMED CT   \n",
       "1132              BLOOD  SNOMED CT   \n",
       "1133              BLOOD  SNOMED CT   \n",
       "1134              BLOOD  SNOMED CT   \n",
       "\n",
       "                                              test_desc  \n",
       "0                                                  Desc  \n",
       "1                                                  Desc  \n",
       "2                                                  Desc  \n",
       "3                                                  Desc  \n",
       "4                                                  Desc  \n",
       "...                                                 ...  \n",
       "1130  A malignant pleural effusion (MPE) is the buil...  \n",
       "1131                                               Desc  \n",
       "1132                                               Desc  \n",
       "1133                                               Desc  \n",
       "1134                                               Desc  \n",
       "\n",
       "[1135 rows x 6 columns]"
      ]
     },
     "execution_count": 8,
     "metadata": {},
     "output_type": "execute_result"
    }
   ],
   "source": [
    "test_dim.dtypes\n",
    "test_dim"
   ]
  },
  {
   "cell_type": "code",
   "execution_count": 9,
   "id": "368de185",
   "metadata": {},
   "outputs": [],
   "source": [
    "geography_dim = pd.read_csv(r'E:\\Buet Internship Mysoft\\HDA-Buet-vtraining-23\\dim_geography.csv')"
   ]
  },
  {
   "cell_type": "code",
   "execution_count": 10,
   "id": "edbd9cbc",
   "metadata": {},
   "outputs": [],
   "source": [
    "time_dim = pd.read_csv(r'E:\\Buet Internship Mysoft\\HDA-Buet-vtraining-23\\dim_time.csv')"
   ]
  },
  {
   "cell_type": "code",
   "execution_count": 11,
   "id": "53b94e6d",
   "metadata": {},
   "outputs": [],
   "source": [
    "hospital_dim = pd.read_csv(r'E:\\Buet Internship Mysoft\\HDA-Buet-vtraining-23\\dim_hospital.csv')"
   ]
  },
  {
   "cell_type": "code",
   "execution_count": 23,
   "id": "50484249",
   "metadata": {},
   "outputs": [],
   "source": [
    "fact_table = pd.read_csv(r'E:\\Buet Internship Mysoft\\HDA-Buet-vtraining-23\\fact_sales.csv')"
   ]
  },
  {
   "cell_type": "code",
   "execution_count": 24,
   "id": "ab964b75",
   "metadata": {},
   "outputs": [
    {
     "data": {
      "text/plain": [
       "pik             object\n",
       "time_key        object\n",
       "geo_key         object\n",
       "hospital_key    object\n",
       "lab_key         object\n",
       "test_key        object\n",
       "sales_price      int64\n",
       "dtype: object"
      ]
     },
     "execution_count": 24,
     "metadata": {},
     "output_type": "execute_result"
    }
   ],
   "source": [
    "fact_table['sales_price'] = pd.to_numeric(fact_table['sales_price'])\n",
    "fact_table['pik'] = fact_table['pik'].astype('object')\n",
    "fact_table['geo_key'] = fact_table['geo_key'].astype('object')\n",
    "fact_table['lab_key'] = fact_table['lab_key'].astype('object')\n",
    "fact_table['test_key'] = fact_table['test_key'].astype('object')\n",
    "fact_table['time_key'] = fact_table['time_key'].astype('object')\n",
    "fact_table['hospital_key'] = fact_table['hospital_key'].astype('object')\n",
    "fact_table.dtypes"
   ]
  },
  {
   "cell_type": "code",
   "execution_count": 25,
   "id": "fce6ba31",
   "metadata": {},
   "outputs": [],
   "source": [
    "class PostgresConnection(object):\n",
    "    def __init__(self):\n",
    "        self.connection = psycopg2.connect(database=\"hddb\",\n",
    "                                           user = \"postgres\",\n",
    "                                           password = \"suPer2k23\",\n",
    "                                           host = \"127.0.0.1\",\n",
    "                                           port = \"5432\")\n",
    "\n",
    "    def getConnection(self):\n",
    "        print(\"Connection to DB established!\")\n",
    "        return self.connection"
   ]
  },
  {
   "cell_type": "code",
   "execution_count": 26,
   "id": "999ceeb0",
   "metadata": {},
   "outputs": [
    {
     "name": "stdout",
     "output_type": "stream",
     "text": [
      "Connection to DB established!\n"
     ]
    }
   ],
   "source": [
    "con = PostgresConnection().getConnection()"
   ]
  },
  {
   "cell_type": "code",
   "execution_count": 17,
   "id": "ace0530d",
   "metadata": {},
   "outputs": [
    {
     "name": "stdout",
     "output_type": "stream",
     "text": [
      "Connection to DB established!\n"
     ]
    }
   ],
   "source": [
    "con = PostgresConnection().getConnection()\n",
    "insert_stmt = \"INSERT INTO hddb_star_schema.lab_dim( lab_key, lab_name, lab_type, lab_code, lab_desc) VALUES (%s, %s, %s, %s, %s);\"\n",
    "cur = con.cursor()\n",
    "psycopg2.extras.execute_batch(cur, insert_stmt, lab_dim.values)\n",
    "con.commit()\n",
    "cur.close()"
   ]
  },
  {
   "cell_type": "code",
   "execution_count": 19,
   "id": "793eac11",
   "metadata": {},
   "outputs": [
    {
     "name": "stdout",
     "output_type": "stream",
     "text": [
      "Connection to DB established!\n"
     ]
    }
   ],
   "source": [
    "con = PostgresConnection().getConnection()\n",
    "insert_stmt = \"INSERT INTO hddb_star_schema.hospital_dim( hospital_key, hospital_name, branch_name, hospital_type, email, website, address, geo_code, city, upazila, district, division  ) VALUES (%s, %s, %s, %s, %s, %s, %s, %s, %s, %s, %s, %s);\"\n",
    "cur = con.cursor()\n",
    "psycopg2.extras.execute_batch(cur, insert_stmt, hospital_dim.values)\n",
    "con.commit()\n",
    "cur.close()"
   ]
  },
  {
   "cell_type": "code",
   "execution_count": 20,
   "id": "7068bb90",
   "metadata": {},
   "outputs": [
    {
     "name": "stdout",
     "output_type": "stream",
     "text": [
      "Connection to DB established!\n"
     ]
    }
   ],
   "source": [
    "con = PostgresConnection().getConnection()\n",
    "insert_stmt = \"INSERT INTO hddb_star_schema.geography_dim( geo_key, upazila, district, division) VALUES (%s, %s, %s, %s);\"\n",
    "cur = con.cursor()\n",
    "psycopg2.extras.execute_batch(cur, insert_stmt, geography_dim.values)\n",
    "con.commit()\n",
    "cur.close()"
   ]
  },
  {
   "cell_type": "code",
   "execution_count": 21,
   "id": "748760a1",
   "metadata": {},
   "outputs": [
    {
     "name": "stdout",
     "output_type": "stream",
     "text": [
      "Connection to DB established!\n"
     ]
    }
   ],
   "source": [
    "con = PostgresConnection().getConnection()\n",
    "insert_stmt = \"INSERT INTO hddb_star_schema.test_dim( test_key, test_name, test_code, specimen, ct_ref, test_desc) VALUES (%s, %s, %s, %s, %s, %s);\"\n",
    "cur = con.cursor()\n",
    "psycopg2.extras.execute_batch(cur, insert_stmt, test_dim.values)\n",
    "con.commit()\n",
    "cur.close()"
   ]
  },
  {
   "cell_type": "code",
   "execution_count": 23,
   "id": "71146e87",
   "metadata": {},
   "outputs": [
    {
     "name": "stdout",
     "output_type": "stream",
     "text": [
      "Connection to DB established!\n"
     ]
    }
   ],
   "source": [
    "con = PostgresConnection().getConnection()\n",
    "insert_stmt = \"INSERT INTO hddb_star_schema.time_dim( time_key, date_time, year, month, day, yyyymm, yyyymmdd, quarter) VALUES (%s, %s, %s, %s, %s, %s, %s, %s);\"\n",
    "cur = con.cursor()\n",
    "psycopg2.extras.execute_batch(cur, insert_stmt, time_dim.values)\n",
    "con.commit()\n",
    "cur.close()"
   ]
  },
  {
   "cell_type": "code",
   "execution_count": null,
   "id": "2f8758a8",
   "metadata": {},
   "outputs": [],
   "source": [
    "fact_table.dtypes"
   ]
  },
  {
   "cell_type": "code",
   "execution_count": 27,
   "id": "3171fd1f",
   "metadata": {},
   "outputs": [
    {
     "name": "stdout",
     "output_type": "stream",
     "text": [
      "Connection to DB established!\n"
     ]
    }
   ],
   "source": [
    "con = PostgresConnection().getConnection()\n",
    "insert_stmt = \"INSERT INTO hddb_star_schema.fact_table( pik, time_key, geo_key, hospital_key, lab_key, test_key, sales_price) VALUES (%s, %s, %s, %s, %s, %s, %s);\"\n",
    "cur = con.cursor()\n",
    "psycopg2.extras.execute_batch(cur, insert_stmt, fact_table.values)\n",
    "con.commit()\n",
    "cur.close()"
   ]
  },
  {
   "cell_type": "markdown",
   "id": "3a10eb5d",
   "metadata": {},
   "source": [
    "# 1. Find Hospital wise sales"
   ]
  },
  {
   "cell_type": "code",
   "execution_count": 31,
   "id": "4e47158e",
   "metadata": {},
   "outputs": [
    {
     "name": "stdout",
     "output_type": "stream",
     "text": [
      "Connection to DB established!\n"
     ]
    }
   ],
   "source": [
    "con = PostgresConnection().getConnection()\n",
    "cur = con.cursor()\n",
    "select_stmt = \"SELECT h.hospital_name, SUM(ft.sales_price) as sales \"\\\n",
    "\"FROM hddb_star_schema.fact_table ft \"\\\n",
    "\"JOIN hddb_star_schema.hospital_dim h ON h.hospital_key = ft.hospital_key \"\\\n",
    "\"GROUP BY CUBE(h.hospital_name) \"\\\n",
    "\"ORDER BY h.hospital_name \"\n",
    "cur.execute(select_stmt)\n",
    "records = cur.fetchall()"
   ]
  },
  {
   "cell_type": "code",
   "execution_count": 32,
   "id": "0a93e7d7",
   "metadata": {},
   "outputs": [
    {
     "data": {
      "text/plain": [
       "[('BANGLADESH EYE HOSPITAL LTD.', Decimal('87154050')),\n",
       " (None, Decimal('87154050'))]"
      ]
     },
     "execution_count": 32,
     "metadata": {},
     "output_type": "execute_result"
    }
   ],
   "source": [
    "records"
   ]
  },
  {
   "cell_type": "markdown",
   "id": "3ee8fa28",
   "metadata": {},
   "source": [
    "# 2. Find district wise sales in Bangladesh Eye Hospital Ltd."
   ]
  },
  {
   "cell_type": "code",
   "execution_count": 49,
   "id": "4214bf3c",
   "metadata": {},
   "outputs": [
    {
     "name": "stdout",
     "output_type": "stream",
     "text": [
      "Connection to DB established!\n"
     ]
    }
   ],
   "source": [
    "con = PostgresConnection().getConnection()\n",
    "cur = con.cursor()\n",
    "select_stmt = \"SELECT g.division, SUM(ft.sales_price) as sales \"\\\n",
    "\"FROM hddb_star_schema.fact_table ft \"\\\n",
    "\"JOIN hddb_star_schema.hospital_dim h ON h.hospital_key = ft.hospital_key \"\\\n",
    "\"JOIN hddb_star_schema.geography_dim g ON g.geo_key = ft.geo_key \"\\\n",
    "\"WHERE ft.hospital_key = '100001' \"\\\n",
    "\"GROUP BY CUBE(g.division) \"\n",
    "\n",
    "cur.execute(select_stmt)\n",
    "records = cur.fetchall()"
   ]
  },
  {
   "cell_type": "code",
   "execution_count": 50,
   "id": "3d839643",
   "metadata": {},
   "outputs": [
    {
     "data": {
      "text/plain": [
       "[(None, Decimal('87154050')),\n",
       " ('RAJSHAHI', Decimal('5447120')),\n",
       " ('DHAKA', Decimal('55565810')),\n",
       " ('CHITTAGONG', Decimal('9669200')),\n",
       " ('BARISAL', Decimal('3430130')),\n",
       " ('KHULNA', Decimal('4851240')),\n",
       " ('RANGPUR', Decimal('4758500')),\n",
       " ('SYLHET', Decimal('3432050'))]"
      ]
     },
     "execution_count": 50,
     "metadata": {},
     "output_type": "execute_result"
    }
   ],
   "source": [
    "records\n"
   ]
  },
  {
   "cell_type": "code",
   "execution_count": 51,
   "id": "b50fae76",
   "metadata": {},
   "outputs": [
    {
     "data": {
      "text/html": [
       "<div>\n",
       "<style scoped>\n",
       "    .dataframe tbody tr th:only-of-type {\n",
       "        vertical-align: middle;\n",
       "    }\n",
       "\n",
       "    .dataframe tbody tr th {\n",
       "        vertical-align: top;\n",
       "    }\n",
       "\n",
       "    .dataframe thead th {\n",
       "        text-align: right;\n",
       "    }\n",
       "</style>\n",
       "<table border=\"1\" class=\"dataframe\">\n",
       "  <thead>\n",
       "    <tr style=\"text-align: right;\">\n",
       "      <th></th>\n",
       "      <th>division</th>\n",
       "      <th>sales</th>\n",
       "    </tr>\n",
       "  </thead>\n",
       "  <tbody>\n",
       "    <tr>\n",
       "      <th>0</th>\n",
       "      <td>None</td>\n",
       "      <td>87154050</td>\n",
       "    </tr>\n",
       "    <tr>\n",
       "      <th>1</th>\n",
       "      <td>RAJSHAHI</td>\n",
       "      <td>5447120</td>\n",
       "    </tr>\n",
       "    <tr>\n",
       "      <th>2</th>\n",
       "      <td>DHAKA</td>\n",
       "      <td>55565810</td>\n",
       "    </tr>\n",
       "    <tr>\n",
       "      <th>3</th>\n",
       "      <td>CHITTAGONG</td>\n",
       "      <td>9669200</td>\n",
       "    </tr>\n",
       "    <tr>\n",
       "      <th>4</th>\n",
       "      <td>BARISAL</td>\n",
       "      <td>3430130</td>\n",
       "    </tr>\n",
       "    <tr>\n",
       "      <th>5</th>\n",
       "      <td>KHULNA</td>\n",
       "      <td>4851240</td>\n",
       "    </tr>\n",
       "    <tr>\n",
       "      <th>6</th>\n",
       "      <td>RANGPUR</td>\n",
       "      <td>4758500</td>\n",
       "    </tr>\n",
       "    <tr>\n",
       "      <th>7</th>\n",
       "      <td>SYLHET</td>\n",
       "      <td>3432050</td>\n",
       "    </tr>\n",
       "  </tbody>\n",
       "</table>\n",
       "</div>"
      ],
      "text/plain": [
       "     division     sales\n",
       "0        None  87154050\n",
       "1    RAJSHAHI   5447120\n",
       "2       DHAKA  55565810\n",
       "3  CHITTAGONG   9669200\n",
       "4     BARISAL   3430130\n",
       "5      KHULNA   4851240\n",
       "6     RANGPUR   4758500\n",
       "7      SYLHET   3432050"
      ]
     },
     "execution_count": 51,
     "metadata": {},
     "output_type": "execute_result"
    }
   ],
   "source": [
    "division_wise = pd.DataFrame(records, columns=['division', 'sales'])\n",
    "division_wise"
   ]
  },
  {
   "cell_type": "code",
   "execution_count": 54,
   "id": "fa5007c5",
   "metadata": {},
   "outputs": [],
   "source": [
    "def changetype(x):\n",
    "    x['sales']=x['sales'].astype('float64')  "
   ]
  },
  {
   "cell_type": "code",
   "execution_count": 55,
   "id": "225f27b5",
   "metadata": {},
   "outputs": [
    {
     "data": {
      "text/plain": [
       "division     object\n",
       "sales       float64\n",
       "dtype: object"
      ]
     },
     "execution_count": 55,
     "metadata": {},
     "output_type": "execute_result"
    }
   ],
   "source": [
    "changetype(division_wise)\n",
    "division_wise.dtypes"
   ]
  },
  {
   "cell_type": "code",
   "execution_count": 56,
   "id": "33a5939a",
   "metadata": {},
   "outputs": [
    {
     "data": {
      "text/html": [
       "<div>\n",
       "<style scoped>\n",
       "    .dataframe tbody tr th:only-of-type {\n",
       "        vertical-align: middle;\n",
       "    }\n",
       "\n",
       "    .dataframe tbody tr th {\n",
       "        vertical-align: top;\n",
       "    }\n",
       "\n",
       "    .dataframe thead th {\n",
       "        text-align: right;\n",
       "    }\n",
       "</style>\n",
       "<table border=\"1\" class=\"dataframe\">\n",
       "  <thead>\n",
       "    <tr style=\"text-align: right;\">\n",
       "      <th></th>\n",
       "      <th>division</th>\n",
       "      <th>sales</th>\n",
       "    </tr>\n",
       "  </thead>\n",
       "  <tbody>\n",
       "    <tr>\n",
       "      <th>0</th>\n",
       "      <td>None</td>\n",
       "      <td>87154050.0</td>\n",
       "    </tr>\n",
       "    <tr>\n",
       "      <th>2</th>\n",
       "      <td>DHAKA</td>\n",
       "      <td>55565810.0</td>\n",
       "    </tr>\n",
       "    <tr>\n",
       "      <th>3</th>\n",
       "      <td>CHITTAGONG</td>\n",
       "      <td>9669200.0</td>\n",
       "    </tr>\n",
       "    <tr>\n",
       "      <th>1</th>\n",
       "      <td>RAJSHAHI</td>\n",
       "      <td>5447120.0</td>\n",
       "    </tr>\n",
       "    <tr>\n",
       "      <th>5</th>\n",
       "      <td>KHULNA</td>\n",
       "      <td>4851240.0</td>\n",
       "    </tr>\n",
       "    <tr>\n",
       "      <th>6</th>\n",
       "      <td>RANGPUR</td>\n",
       "      <td>4758500.0</td>\n",
       "    </tr>\n",
       "    <tr>\n",
       "      <th>7</th>\n",
       "      <td>SYLHET</td>\n",
       "      <td>3432050.0</td>\n",
       "    </tr>\n",
       "    <tr>\n",
       "      <th>4</th>\n",
       "      <td>BARISAL</td>\n",
       "      <td>3430130.0</td>\n",
       "    </tr>\n",
       "  </tbody>\n",
       "</table>\n",
       "</div>"
      ],
      "text/plain": [
       "     division       sales\n",
       "0        None  87154050.0\n",
       "2       DHAKA  55565810.0\n",
       "3  CHITTAGONG   9669200.0\n",
       "1    RAJSHAHI   5447120.0\n",
       "5      KHULNA   4851240.0\n",
       "6     RANGPUR   4758500.0\n",
       "7      SYLHET   3432050.0\n",
       "4     BARISAL   3430130.0"
      ]
     },
     "execution_count": 56,
     "metadata": {},
     "output_type": "execute_result"
    }
   ],
   "source": [
    "sorted_sales = division_wise\n",
    "sorted_sales.sort_values(by=['sales'],inplace=True,ascending=False)\n",
    "sorted_sales"
   ]
  },
  {
   "cell_type": "code",
   "execution_count": 57,
   "id": "432646b6",
   "metadata": {},
   "outputs": [
    {
     "data": {
      "text/html": [
       "<div>\n",
       "<style scoped>\n",
       "    .dataframe tbody tr th:only-of-type {\n",
       "        vertical-align: middle;\n",
       "    }\n",
       "\n",
       "    .dataframe tbody tr th {\n",
       "        vertical-align: top;\n",
       "    }\n",
       "\n",
       "    .dataframe thead th {\n",
       "        text-align: right;\n",
       "    }\n",
       "</style>\n",
       "<table border=\"1\" class=\"dataframe\">\n",
       "  <thead>\n",
       "    <tr style=\"text-align: right;\">\n",
       "      <th></th>\n",
       "      <th>division</th>\n",
       "      <th>sales</th>\n",
       "    </tr>\n",
       "  </thead>\n",
       "  <tbody>\n",
       "    <tr>\n",
       "      <th>2</th>\n",
       "      <td>DHAKA</td>\n",
       "      <td>55565810.0</td>\n",
       "    </tr>\n",
       "    <tr>\n",
       "      <th>3</th>\n",
       "      <td>CHITTAGONG</td>\n",
       "      <td>9669200.0</td>\n",
       "    </tr>\n",
       "    <tr>\n",
       "      <th>1</th>\n",
       "      <td>RAJSHAHI</td>\n",
       "      <td>5447120.0</td>\n",
       "    </tr>\n",
       "    <tr>\n",
       "      <th>5</th>\n",
       "      <td>KHULNA</td>\n",
       "      <td>4851240.0</td>\n",
       "    </tr>\n",
       "    <tr>\n",
       "      <th>6</th>\n",
       "      <td>RANGPUR</td>\n",
       "      <td>4758500.0</td>\n",
       "    </tr>\n",
       "  </tbody>\n",
       "</table>\n",
       "</div>"
      ],
      "text/plain": [
       "     division       sales\n",
       "2       DHAKA  55565810.0\n",
       "3  CHITTAGONG   9669200.0\n",
       "1    RAJSHAHI   5447120.0\n",
       "5      KHULNA   4851240.0\n",
       "6     RANGPUR   4758500.0"
      ]
     },
     "execution_count": 57,
     "metadata": {},
     "output_type": "execute_result"
    }
   ],
   "source": [
    "top_sales = sorted_sales[1:6]\n",
    "top_sales"
   ]
  },
  {
   "cell_type": "code",
   "execution_count": 58,
   "id": "bb29ebe5",
   "metadata": {},
   "outputs": [
    {
     "ename": "NameError",
     "evalue": "name 'plt' is not defined",
     "output_type": "error",
     "traceback": [
      "\u001b[1;31m---------------------------------------------------------------------------\u001b[0m",
      "\u001b[1;31mNameError\u001b[0m                                 Traceback (most recent call last)",
      "Cell \u001b[1;32mIn[58], line 1\u001b[0m\n\u001b[1;32m----> 1\u001b[0m \u001b[43mplt\u001b[49m\u001b[38;5;241m.\u001b[39mfigure(figsize\u001b[38;5;241m=\u001b[39m(\u001b[38;5;241m10\u001b[39m,\u001b[38;5;241m8\u001b[39m))\n\u001b[0;32m      2\u001b[0m plots \u001b[38;5;241m=\u001b[39m sns\u001b[38;5;241m.\u001b[39mbarplot(x\u001b[38;5;241m=\u001b[39mtop_sales[\u001b[38;5;124m'\u001b[39m\u001b[38;5;124mdivision\u001b[39m\u001b[38;5;124m'\u001b[39m],y\u001b[38;5;241m=\u001b[39mtop_sales[\u001b[38;5;124m'\u001b[39m\u001b[38;5;124msales\u001b[39m\u001b[38;5;124m'\u001b[39m],palette\u001b[38;5;241m=\u001b[39m\u001b[38;5;124m\"\u001b[39m\u001b[38;5;124mSet2\u001b[39m\u001b[38;5;124m\"\u001b[39m)\n\u001b[0;32m      4\u001b[0m \u001b[38;5;28;01mfor\u001b[39;00m bar \u001b[38;5;129;01min\u001b[39;00m plots\u001b[38;5;241m.\u001b[39mpatches:\n",
      "\u001b[1;31mNameError\u001b[0m: name 'plt' is not defined"
     ]
    }
   ],
   "source": [
    "plt.figure(figsize=(10,8))\n",
    "plots = sns.barplot(x=top_sales['division'],y=top_sales['sales'],palette=\"Set2\")\n",
    "\n",
    "for bar in plots.patches:\n",
    "    plots.annotate(format(bar.get_height(),'.2f'),\n",
    "                   (bar.get_x() + bar.get_width()/2,\n",
    "                   bar.get_height()),ha='center',va='center',\n",
    "                   size=15,xytext=(0, 8),\n",
    "                   textcoords='offset points')\n",
    "    \n",
    "                   \n",
    "                  \n",
    "plt.xlabel('Division')\n",
    "plt.ylabel('sales')\n",
    "plt.title('Division wise sales of Bangladesh Eye Hospital Ltd')                        \n",
    "plt.show()       "
   ]
  },
  {
   "cell_type": "code",
   "execution_count": null,
   "id": "55fdd212",
   "metadata": {},
   "outputs": [],
   "source": []
  }
 ],
 "metadata": {
  "kernelspec": {
   "display_name": "Python 3 (ipykernel)",
   "language": "python",
   "name": "python3"
  },
  "language_info": {
   "codemirror_mode": {
    "name": "ipython",
    "version": 3
   },
   "file_extension": ".py",
   "mimetype": "text/x-python",
   "name": "python",
   "nbconvert_exporter": "python",
   "pygments_lexer": "ipython3",
   "version": "3.10.0"
  }
 },
 "nbformat": 4,
 "nbformat_minor": 5
}
