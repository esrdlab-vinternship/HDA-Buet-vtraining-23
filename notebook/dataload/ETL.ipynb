{
 "cells": [
  {
   "cell_type": "code",
   "execution_count": 1,
   "metadata": {},
   "outputs": [],
   "source": [
    "import psycopg2\n",
    "import psycopg2.extras\n",
    "import pandas as pd"
   ]
  },
  {
   "cell_type": "code",
   "execution_count": 2,
   "metadata": {},
   "outputs": [],
   "source": [
    "table = pd.read_excel(\"e-commerece_data.xlsx\")"
   ]
  },
  {
   "cell_type": "code",
   "execution_count": 7,
   "metadata": {},
   "outputs": [],
   "source": [
    "fact_sheet = pd.read_excel(\"e-commerece_data.xlsx\", sheet_name=\"Fact_table\", engine=\"openpyxl\")\n",
    "trans_sheet = pd.read_excel(\"e-commerece_data.xlsx\", sheet_name=\"Trans_dim\", engine=\"openpyxl\")\n",
    "item_sheet = pd.read_excel(\"e-commerece_data.xlsx\", sheet_name=\"Item_dim\", engine=\"openpyxl\")\n",
    "customer_sheet = pd.read_excel(\"e-commerece_data.xlsx\", sheet_name=\"Coustomer_dim\", engine=\"openpyxl\")\n",
    "time_sheet = pd.read_excel(\"e-commerece_data.xlsx\", sheet_name=\"Time_dim\", engine=\"openpyxl\")\n",
    "store_sheet = pd.read_excel(\"e-commerece_data.xlsx\", sheet_name=\"Store_dim\", engine=\"openpyxl\")"
   ]
  },
  {
   "cell_type": "code",
   "execution_count": 12,
   "metadata": {},
   "outputs": [],
   "source": [
    "class postgreSQLcon(object):\n",
    "    def __init__(self):\n",
    "        self.connection = psycopg2.connect(database=\"ecomdb\",\n",
    "                                           user = \"postgres\",\n",
    "                                           password = \"1234\",\n",
    "                                           host = \"127.0.0.1\",\n",
    "                                           port = \"5432\")\n",
    "    \n",
    "    def getConnection(self):\n",
    "        print(\"Connected to DB\")\n",
    "        return self.connection"
   ]
  },
  {
   "cell_type": "code",
   "execution_count": 19,
   "metadata": {},
   "outputs": [
    {
     "name": "stdout",
     "output_type": "stream",
     "text": [
      "Connected to DB\n"
     ]
    }
   ],
   "source": [
    "db = postgreSQLcon().getConnection()"
   ]
  },
  {
   "cell_type": "code",
   "execution_count": 20,
   "metadata": {},
   "outputs": [
    {
     "name": "stdout",
     "output_type": "stream",
     "text": [
      "Connected to DB\n"
     ]
    }
   ],
   "source": [
    "db = postgreSQLcon().getConnection()\n",
    "stmt = \"INSERT INTO star_schema.trans_dim(payment_key, trans_type, bank_name) \\\n",
    "        VALUES (%s, %s, %s)\"\n",
    "cursor = db.cursor()\n",
    "psycopg2.extras.execute_batch(cursor, stmt, trans_sheet.values)\n",
    "db.commit()\n",
    "cursor.close()"
   ]
  },
  {
   "cell_type": "code",
   "execution_count": 21,
   "metadata": {},
   "outputs": [
    {
     "name": "stdout",
     "output_type": "stream",
     "text": [
      "Connected to DB\n"
     ]
    }
   ],
   "source": [
    "db = postgreSQLcon().getConnection()\n",
    "insert_stmt = \"INSERT INTO star_schema.store_dim( store_key, division, district, upazilla) VALUES (%s, %s, %s, %s);\"\n",
    "cursor = db.cursor()\n",
    "psycopg2.extras.execute_batch(cursor, insert_stmt, store_sheet.values)\n",
    "db.commit()\n",
    "cursor.close()"
   ]
  },
  {
   "cell_type": "code",
   "execution_count": 23,
   "metadata": {},
   "outputs": [
    {
     "name": "stdout",
     "output_type": "stream",
     "text": [
      "Connected to DB\n"
     ]
    }
   ],
   "source": [
    "db = postgreSQLcon().getConnection()\n",
    "insert_stmt = \"INSERT INTO star_schema.item_dim( item_key, item_name, description, unit_price, man_country, supplier, unit) VALUES (%s, %s, %s, %s, %s, %s, %s);\"\n",
    "cur = db.cursor()\n",
    "psycopg2.extras.execute_batch(cur, insert_stmt, item_sheet.values)\n",
    "db.commit()\n",
    "cursor.close()"
   ]
  },
  {
   "cell_type": "code",
   "execution_count": 26,
   "metadata": {},
   "outputs": [
    {
     "name": "stdout",
     "output_type": "stream",
     "text": [
      "Connected to DB\n"
     ]
    }
   ],
   "source": [
    "db = postgreSQLcon().getConnection()\n",
    "insert_stmt = \"INSERT INTO star_schema.coustomer_dim(coustomer_key, name, contact_no, nid)VALUES (%s, %s, %s, %s);\"\n",
    "cur = db.cursor()\n",
    "psycopg2.extras.execute_batch(cur, insert_stmt, customer_sheet.values)\n",
    "db.commit()\n",
    "cursor.close()"
   ]
  },
  {
   "cell_type": "code",
   "execution_count": 28,
   "metadata": {},
   "outputs": [
    {
     "name": "stdout",
     "output_type": "stream",
     "text": [
      "Connected to DB\n"
     ]
    }
   ],
   "source": [
    "db = postgreSQLcon().getConnection()\n",
    "insert_stmt = \"INSERT INTO star_schema.time_dim(time_key, date, hour, day, week, month, quarter, year)VALUES (%s, %s, %s, %s, %s, %s, %s, %s);\"\n",
    "cur = db.cursor()\n",
    "psycopg2.extras.execute_batch(cur, insert_stmt, time_sheet.values)\n",
    "db.commit()\n",
    "cur.close()"
   ]
  },
  {
   "cell_type": "code",
   "execution_count": 34,
   "metadata": {},
   "outputs": [
    {
     "name": "stdout",
     "output_type": "stream",
     "text": [
      "Connected to DB\n"
     ]
    }
   ],
   "source": [
    "db = postgreSQLcon().getConnection()\n",
    "insert_stmt = \"INSERT INTO star_schema.fact_table(payment_key, coustomer_key, time_key, item_key, store_key, quantity, unit, unit_price, price_total)VALUES (%s, %s, %s, %s, %s, %s, %s, %s, %s);\"\n",
    "cur = db.cursor()\n",
    "psycopg2.extras.execute_batch(cur, insert_stmt, fact_sheet.values)\n",
    "db.commit()\n",
    "cur.close()"
   ]
  }
 ],
 "metadata": {
  "kernelspec": {
   "display_name": "my-project-env",
   "language": "python",
   "name": "python3"
  },
  "language_info": {
   "codemirror_mode": {
    "name": "ipython",
    "version": 3
   },
   "file_extension": ".py",
   "mimetype": "text/x-python",
   "name": "python",
   "nbconvert_exporter": "python",
   "pygments_lexer": "ipython3",
   "version": "3.9.13"
  },
  "orig_nbformat": 4
 },
 "nbformat": 4,
 "nbformat_minor": 2
}
