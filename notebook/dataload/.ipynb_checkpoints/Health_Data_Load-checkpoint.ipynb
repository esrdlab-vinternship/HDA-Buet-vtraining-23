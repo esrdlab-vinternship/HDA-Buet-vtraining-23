{
 "cells": [
  {
   "cell_type": "markdown",
   "id": "65edb269",
   "metadata": {
    "pycharm": {
     "name": "#%% md\n"
    }
   },
   "source": [
    "### Package Installation ###"
   ]
  },
  {
   "cell_type": "code",
   "execution_count": 1,
   "id": "38cdaf8a",
   "metadata": {
    "pycharm": {
     "name": "#%%\n"
    }
   },
   "outputs": [
    {
     "name": "stdout",
     "output_type": "stream",
     "text": [
      "Requirement already satisfied: psycopg2 in f:\\vint1\\hda-buet-vtraining-23\\myenv\\lib\\site-packages (2.9.6)\n",
      "Note: you may need to restart the kernel to use updated packages.\n"
     ]
    },
    {
     "name": "stderr",
     "output_type": "stream",
     "text": [
      "\n",
      "[notice] A new release of pip is available: 23.0.1 -> 23.1.2\n",
      "[notice] To update, run: python.exe -m pip install --upgrade pip\n"
     ]
    }
   ],
   "source": [
    "pip install psycopg2"
   ]
  },
  {
   "cell_type": "code",
   "execution_count": 2,
   "id": "d8e9f588",
   "metadata": {
    "pycharm": {
     "name": "#%%\n"
    }
   },
   "outputs": [
    {
     "name": "stdout",
     "output_type": "stream",
     "text": [
      "Requirement already satisfied: openpyxl in f:\\vint1\\hda-buet-vtraining-23\\myenv\\lib\\site-packages (3.1.2)\n",
      "Requirement already satisfied: et-xmlfile in f:\\vint1\\hda-buet-vtraining-23\\myenv\\lib\\site-packages (from openpyxl) (1.1.0)\n",
      "Note: you may need to restart the kernel to use updated packages.\n"
     ]
    },
    {
     "name": "stderr",
     "output_type": "stream",
     "text": [
      "\n",
      "[notice] A new release of pip is available: 23.0.1 -> 23.1.2\n",
      "[notice] To update, run: python.exe -m pip install --upgrade pip\n"
     ]
    }
   ],
   "source": [
    "pip install openpyxl"
   ]
  },
  {
   "cell_type": "code",
   "execution_count": 3,
   "id": "8922bb12",
   "metadata": {
    "pycharm": {
     "name": "#%%\n"
    }
   },
   "outputs": [
    {
     "name": "stdout",
     "output_type": "stream",
     "text": [
      "Requirement already satisfied: pandas in f:\\vint1\\hda-buet-vtraining-23\\myenv\\lib\\site-packages (2.0.1)\n",
      "Requirement already satisfied: python-dateutil>=2.8.2 in f:\\vint1\\hda-buet-vtraining-23\\myenv\\lib\\site-packages (from pandas) (2.8.2)\n",
      "Requirement already satisfied: tzdata>=2022.1 in f:\\vint1\\hda-buet-vtraining-23\\myenv\\lib\\site-packages (from pandas) (2023.3)\n",
      "Requirement already satisfied: pytz>=2020.1 in f:\\vint1\\hda-buet-vtraining-23\\myenv\\lib\\site-packages (from pandas) (2023.3)\n",
      "Requirement already satisfied: numpy>=1.20.3 in f:\\vint1\\hda-buet-vtraining-23\\myenv\\lib\\site-packages (from pandas) (1.24.3)\n",
      "Requirement already satisfied: six>=1.5 in f:\\vint1\\hda-buet-vtraining-23\\myenv\\lib\\site-packages (from python-dateutil>=2.8.2->pandas) (1.16.0)\n",
      "Note: you may need to restart the kernel to use updated packages.\n"
     ]
    },
    {
     "name": "stderr",
     "output_type": "stream",
     "text": [
      "\n",
      "[notice] A new release of pip is available: 23.0.1 -> 23.1.2\n",
      "[notice] To update, run: python.exe -m pip install --upgrade pip\n"
     ]
    }
   ],
   "source": [
    "pip install pandas"
   ]
  },
  {
   "cell_type": "markdown",
   "id": "79cc9725",
   "metadata": {
    "pycharm": {
     "name": "#%% md\n"
    }
   },
   "source": [
    "### Importing Packages ###"
   ]
  },
  {
   "cell_type": "code",
   "execution_count": 4,
   "id": "05d04502",
   "metadata": {
    "pycharm": {
     "name": "#%%\n"
    }
   },
   "outputs": [],
   "source": [
    "import psycopg2\n",
    "import pandas as pd\n",
    "import psycopg2.extras"
   ]
  },
  {
   "cell_type": "markdown",
   "id": "96d47605",
   "metadata": {
    "pycharm": {
     "name": "#%% md\n"
    }
   },
   "source": [
    "### Extract ###"
   ]
  },
  {
   "cell_type": "markdown",
   "id": "f4e68e8c",
   "metadata": {
    "pycharm": {
     "name": "#%% md\n"
    }
   },
   "source": [
    "#### Read from excel file ####"
   ]
  },
  {
   "cell_type": "code",
   "execution_count": 9,
   "id": "a1f99c31",
   "metadata": {
    "pycharm": {
     "name": "#%%\n"
    }
   },
   "outputs": [],
   "source": [
    "#fact_sales = pd.read_excel(r'F:\\VInt1\\HDA-Buet-vtraining-23\\notebook\\Health Dataset\\fact_sales.xlsx', sheet_name='fact_fales', engine='openpyxl')\n",
    "fact_sales = pd.read_csv(r'F:\\VInt1\\HDA-Buet-vtraining-23\\notebook\\Health Dataset\\fact_sales.csv')"
   ]
  },
  {
   "cell_type": "code",
   "execution_count": 10,
   "id": "64cd930a",
   "metadata": {
    "pycharm": {
     "name": "#%%\n"
    }
   },
   "outputs": [
    {
     "data": {
      "text/html": [
       "<div>\n",
       "<style scoped>\n",
       "    .dataframe tbody tr th:only-of-type {\n",
       "        vertical-align: middle;\n",
       "    }\n",
       "\n",
       "    .dataframe tbody tr th {\n",
       "        vertical-align: top;\n",
       "    }\n",
       "\n",
       "    .dataframe thead th {\n",
       "        text-align: right;\n",
       "    }\n",
       "</style>\n",
       "<table border=\"1\" class=\"dataframe\">\n",
       "  <thead>\n",
       "    <tr style=\"text-align: right;\">\n",
       "      <th></th>\n",
       "      <th>pik</th>\n",
       "      <th>time_key</th>\n",
       "      <th>geo_key</th>\n",
       "      <th>hospital_key</th>\n",
       "      <th>lab_key</th>\n",
       "      <th>test_key</th>\n",
       "      <th>sales_price</th>\n",
       "    </tr>\n",
       "  </thead>\n",
       "  <tbody>\n",
       "    <tr>\n",
       "      <th>0</th>\n",
       "      <td>F1926jvorfrrglahvcrnouosvspqsp</td>\n",
       "      <td>20190708</td>\n",
       "      <td>204667</td>\n",
       "      <td>100001</td>\n",
       "      <td>10003</td>\n",
       "      <td>10490</td>\n",
       "      <td>1030</td>\n",
       "    </tr>\n",
       "    <tr>\n",
       "      <th>1</th>\n",
       "      <td>F1926jvorfrrglahvcrnouosvspqsp</td>\n",
       "      <td>20190708</td>\n",
       "      <td>204667</td>\n",
       "      <td>100001</td>\n",
       "      <td>10043</td>\n",
       "      <td>10156</td>\n",
       "      <td>1210</td>\n",
       "    </tr>\n",
       "    <tr>\n",
       "      <th>2</th>\n",
       "      <td>F1926jvorfrrglahvcrnouosvspqsp</td>\n",
       "      <td>20190708</td>\n",
       "      <td>204667</td>\n",
       "      <td>100001</td>\n",
       "      <td>10043</td>\n",
       "      <td>10257</td>\n",
       "      <td>430</td>\n",
       "    </tr>\n",
       "    <tr>\n",
       "      <th>3</th>\n",
       "      <td>F1926jvorfrrglahvcrnouosvspqsp</td>\n",
       "      <td>20190708</td>\n",
       "      <td>204667</td>\n",
       "      <td>100001</td>\n",
       "      <td>10043</td>\n",
       "      <td>10822</td>\n",
       "      <td>1210</td>\n",
       "    </tr>\n",
       "    <tr>\n",
       "      <th>4</th>\n",
       "      <td>F1926jvorfrrglahvcrnouosvspqsp</td>\n",
       "      <td>20190708</td>\n",
       "      <td>204667</td>\n",
       "      <td>100001</td>\n",
       "      <td>10043</td>\n",
       "      <td>10899</td>\n",
       "      <td>480</td>\n",
       "    </tr>\n",
       "    <tr>\n",
       "      <th>...</th>\n",
       "      <td>...</td>\n",
       "      <td>...</td>\n",
       "      <td>...</td>\n",
       "      <td>...</td>\n",
       "      <td>...</td>\n",
       "      <td>...</td>\n",
       "      <td>...</td>\n",
       "    </tr>\n",
       "    <tr>\n",
       "      <th>92078</th>\n",
       "      <td>M2018xvncrvcrnouoosrrvvn</td>\n",
       "      <td>20200301</td>\n",
       "      <td>302650</td>\n",
       "      <td>100001</td>\n",
       "      <td>10051</td>\n",
       "      <td>10531</td>\n",
       "      <td>1100</td>\n",
       "    </tr>\n",
       "    <tr>\n",
       "      <th>92079</th>\n",
       "      <td>M2018xvncrvcrnouoosrrvvn</td>\n",
       "      <td>20200301</td>\n",
       "      <td>302650</td>\n",
       "      <td>100001</td>\n",
       "      <td>10053</td>\n",
       "      <td>10157</td>\n",
       "      <td>850</td>\n",
       "    </tr>\n",
       "    <tr>\n",
       "      <th>92080</th>\n",
       "      <td>M2018xvncrvcrnouoosrrvvn</td>\n",
       "      <td>20200301</td>\n",
       "      <td>302650</td>\n",
       "      <td>100001</td>\n",
       "      <td>10058</td>\n",
       "      <td>10617</td>\n",
       "      <td>310</td>\n",
       "    </tr>\n",
       "    <tr>\n",
       "      <th>92081</th>\n",
       "      <td>M2018xwrrefhpplrnounruupuws</td>\n",
       "      <td>20190911</td>\n",
       "      <td>207585</td>\n",
       "      <td>100001</td>\n",
       "      <td>10048</td>\n",
       "      <td>10655</td>\n",
       "      <td>400</td>\n",
       "    </tr>\n",
       "    <tr>\n",
       "      <th>92082</th>\n",
       "      <td>M2018xwrrefhpplrnounruupuws</td>\n",
       "      <td>20190911</td>\n",
       "      <td>207585</td>\n",
       "      <td>100001</td>\n",
       "      <td>10051</td>\n",
       "      <td>10231</td>\n",
       "      <td>500</td>\n",
       "    </tr>\n",
       "  </tbody>\n",
       "</table>\n",
       "<p>92083 rows × 7 columns</p>\n",
       "</div>"
      ],
      "text/plain": [
       "                                  pik  time_key  geo_key  hospital_key   \n",
       "0      F1926jvorfrrglahvcrnouosvspqsp  20190708   204667        100001  \\\n",
       "1      F1926jvorfrrglahvcrnouosvspqsp  20190708   204667        100001   \n",
       "2      F1926jvorfrrglahvcrnouosvspqsp  20190708   204667        100001   \n",
       "3      F1926jvorfrrglahvcrnouosvspqsp  20190708   204667        100001   \n",
       "4      F1926jvorfrrglahvcrnouosvspqsp  20190708   204667        100001   \n",
       "...                               ...       ...      ...           ...   \n",
       "92078        M2018xvncrvcrnouoosrrvvn  20200301   302650        100001   \n",
       "92079        M2018xvncrvcrnouoosrrvvn  20200301   302650        100001   \n",
       "92080        M2018xvncrvcrnouoosrrvvn  20200301   302650        100001   \n",
       "92081     M2018xwrrefhpplrnounruupuws  20190911   207585        100001   \n",
       "92082     M2018xwrrefhpplrnounruupuws  20190911   207585        100001   \n",
       "\n",
       "       lab_key  test_key  sales_price  \n",
       "0        10003     10490         1030  \n",
       "1        10043     10156         1210  \n",
       "2        10043     10257          430  \n",
       "3        10043     10822         1210  \n",
       "4        10043     10899          480  \n",
       "...        ...       ...          ...  \n",
       "92078    10051     10531         1100  \n",
       "92079    10053     10157          850  \n",
       "92080    10058     10617          310  \n",
       "92081    10048     10655          400  \n",
       "92082    10051     10231          500  \n",
       "\n",
       "[92083 rows x 7 columns]"
      ]
     },
     "execution_count": 10,
     "metadata": {},
     "output_type": "execute_result"
    }
   ],
   "source": [
    "fact_sales"
   ]
  },
  {
   "cell_type": "code",
   "execution_count": 11,
   "id": "2c43bd8b",
   "metadata": {
    "pycharm": {
     "name": "#%%\n"
    }
   },
   "outputs": [],
   "source": [
    "dim_geography = pd.read_csv(r'F:\\VInt1\\HDA-Buet-vtraining-23\\notebook\\Health Dataset\\dim_geography.csv')"
   ]
  },
  {
   "cell_type": "code",
   "execution_count": 12,
   "id": "22e4e105",
   "metadata": {
    "pycharm": {
     "name": "#%%\n"
    }
   },
   "outputs": [
    {
     "data": {
      "text/html": [
       "<div>\n",
       "<style scoped>\n",
       "    .dataframe tbody tr th:only-of-type {\n",
       "        vertical-align: middle;\n",
       "    }\n",
       "\n",
       "    .dataframe tbody tr th {\n",
       "        vertical-align: top;\n",
       "    }\n",
       "\n",
       "    .dataframe thead th {\n",
       "        text-align: right;\n",
       "    }\n",
       "</style>\n",
       "<table border=\"1\" class=\"dataframe\">\n",
       "  <thead>\n",
       "    <tr style=\"text-align: right;\">\n",
       "      <th></th>\n",
       "      <th>geo_key</th>\n",
       "      <th>upazila</th>\n",
       "      <th>district</th>\n",
       "      <th>division</th>\n",
       "    </tr>\n",
       "  </thead>\n",
       "  <tbody>\n",
       "    <tr>\n",
       "      <th>0</th>\n",
       "      <td>603602</td>\n",
       "      <td>AJMIRIGANJ</td>\n",
       "      <td>HABIGANJ</td>\n",
       "      <td>SYLHET</td>\n",
       "    </tr>\n",
       "    <tr>\n",
       "      <th>1</th>\n",
       "      <td>603605</td>\n",
       "      <td>BAHUBAL</td>\n",
       "      <td>HABIGANJ</td>\n",
       "      <td>SYLHET</td>\n",
       "    </tr>\n",
       "    <tr>\n",
       "      <th>2</th>\n",
       "      <td>603611</td>\n",
       "      <td>BANIACHONG</td>\n",
       "      <td>HABIGANJ</td>\n",
       "      <td>SYLHET</td>\n",
       "    </tr>\n",
       "    <tr>\n",
       "      <th>3</th>\n",
       "      <td>603626</td>\n",
       "      <td>CHUNARUGHAT</td>\n",
       "      <td>HABIGANJ</td>\n",
       "      <td>SYLHET</td>\n",
       "    </tr>\n",
       "    <tr>\n",
       "      <th>4</th>\n",
       "      <td>603644</td>\n",
       "      <td>HABIGANJ SADAR</td>\n",
       "      <td>HABIGANJ</td>\n",
       "      <td>SYLHET</td>\n",
       "    </tr>\n",
       "    <tr>\n",
       "      <th>...</th>\n",
       "      <td>...</td>\n",
       "      <td>...</td>\n",
       "      <td>...</td>\n",
       "      <td>...</td>\n",
       "    </tr>\n",
       "    <tr>\n",
       "      <th>551</th>\n",
       "      <td>107958</td>\n",
       "      <td>MATHBARIA</td>\n",
       "      <td>PIROJPUR</td>\n",
       "      <td>BARISAL</td>\n",
       "    </tr>\n",
       "    <tr>\n",
       "      <th>552</th>\n",
       "      <td>107976</td>\n",
       "      <td>NAZIRPUR</td>\n",
       "      <td>PIROJPUR</td>\n",
       "      <td>BARISAL</td>\n",
       "    </tr>\n",
       "    <tr>\n",
       "      <th>553</th>\n",
       "      <td>107980</td>\n",
       "      <td>PIROJPUR SADAR</td>\n",
       "      <td>PIROJPUR</td>\n",
       "      <td>BARISAL</td>\n",
       "    </tr>\n",
       "    <tr>\n",
       "      <th>554</th>\n",
       "      <td>107987</td>\n",
       "      <td>NESARABAD (SWARUPKATI)</td>\n",
       "      <td>PIROJPUR</td>\n",
       "      <td>BARISAL</td>\n",
       "    </tr>\n",
       "    <tr>\n",
       "      <th>555</th>\n",
       "      <td>107990</td>\n",
       "      <td>ZIANAGAR</td>\n",
       "      <td>PIROJPUR</td>\n",
       "      <td>BARISAL</td>\n",
       "    </tr>\n",
       "  </tbody>\n",
       "</table>\n",
       "<p>556 rows × 4 columns</p>\n",
       "</div>"
      ],
      "text/plain": [
       "     geo_key                 upazila  district division\n",
       "0     603602              AJMIRIGANJ  HABIGANJ   SYLHET\n",
       "1     603605                 BAHUBAL  HABIGANJ   SYLHET\n",
       "2     603611              BANIACHONG  HABIGANJ   SYLHET\n",
       "3     603626             CHUNARUGHAT  HABIGANJ   SYLHET\n",
       "4     603644          HABIGANJ SADAR  HABIGANJ   SYLHET\n",
       "..       ...                     ...       ...      ...\n",
       "551   107958               MATHBARIA  PIROJPUR  BARISAL\n",
       "552   107976                NAZIRPUR  PIROJPUR  BARISAL\n",
       "553   107980          PIROJPUR SADAR  PIROJPUR  BARISAL\n",
       "554   107987  NESARABAD (SWARUPKATI)  PIROJPUR  BARISAL\n",
       "555   107990                ZIANAGAR  PIROJPUR  BARISAL\n",
       "\n",
       "[556 rows x 4 columns]"
      ]
     },
     "execution_count": 12,
     "metadata": {},
     "output_type": "execute_result"
    }
   ],
   "source": [
    "dim_geography.dtypes\n",
    "dim_geography"
   ]
  },
  {
   "cell_type": "code",
   "execution_count": 13,
   "id": "9669046c",
   "metadata": {
    "pycharm": {
     "name": "#%%\n"
    }
   },
   "outputs": [],
   "source": [
    "dim_hospital = pd.read_csv(r'F:\\VInt1\\HDA-Buet-vtraining-23\\notebook\\Health Dataset\\dim_hospital.csv')"
   ]
  },
  {
   "cell_type": "code",
   "execution_count": 14,
   "id": "4f92b512",
   "metadata": {
    "pycharm": {
     "name": "#%%\n"
    }
   },
   "outputs": [
    {
     "data": {
      "text/html": [
       "<div>\n",
       "<style scoped>\n",
       "    .dataframe tbody tr th:only-of-type {\n",
       "        vertical-align: middle;\n",
       "    }\n",
       "\n",
       "    .dataframe tbody tr th {\n",
       "        vertical-align: top;\n",
       "    }\n",
       "\n",
       "    .dataframe thead th {\n",
       "        text-align: right;\n",
       "    }\n",
       "</style>\n",
       "<table border=\"1\" class=\"dataframe\">\n",
       "  <thead>\n",
       "    <tr style=\"text-align: right;\">\n",
       "      <th></th>\n",
       "      <th>hospital_key</th>\n",
       "      <th>hospital_name</th>\n",
       "      <th>branch_name</th>\n",
       "      <th>hospital_type</th>\n",
       "      <th>email</th>\n",
       "      <th>website</th>\n",
       "      <th>address</th>\n",
       "      <th>geo_code</th>\n",
       "      <th>city</th>\n",
       "      <th>upazila</th>\n",
       "      <th>district</th>\n",
       "      <th>division</th>\n",
       "    </tr>\n",
       "  </thead>\n",
       "  <tbody>\n",
       "    <tr>\n",
       "      <th>0</th>\n",
       "      <td>100001</td>\n",
       "      <td>BANGLADESH EYE HOSPITAL LTD.</td>\n",
       "      <td>Dhanmondi</td>\n",
       "      <td>Private</td>\n",
       "      <td>info@bdeyehospital.com</td>\n",
       "      <td>www.mysoftltd.com</td>\n",
       "      <td>78, Satmasjid Road (Road#27), Dhanmondi,</td>\n",
       "      <td>302616</td>\n",
       "      <td>DHAKA</td>\n",
       "      <td>DHANMONDI</td>\n",
       "      <td>DHAKA</td>\n",
       "      <td>DHAKA</td>\n",
       "    </tr>\n",
       "    <tr>\n",
       "      <th>1</th>\n",
       "      <td>100002</td>\n",
       "      <td>BANGLADESH EYE HOSPITAL LTD(Mirpur)</td>\n",
       "      <td>Mirpur</td>\n",
       "      <td>Private</td>\n",
       "      <td>info@bdeyehospital.com</td>\n",
       "      <td>www.mysoftltd.com</td>\n",
       "      <td>Mirpur</td>\n",
       "      <td>302648</td>\n",
       "      <td>DHAKA</td>\n",
       "      <td>MIRPUR</td>\n",
       "      <td>DHAKA</td>\n",
       "      <td>DHAKA</td>\n",
       "    </tr>\n",
       "    <tr>\n",
       "      <th>2</th>\n",
       "      <td>100003</td>\n",
       "      <td>BANGLADESH EYE HOSPITAL LTD(Uttara)</td>\n",
       "      <td>Uttara</td>\n",
       "      <td>Private</td>\n",
       "      <td>info@bdeyehospital.com</td>\n",
       "      <td>www.mysoftltd.com</td>\n",
       "      <td>Uttara</td>\n",
       "      <td>302694</td>\n",
       "      <td>DHAKA</td>\n",
       "      <td>UTTARA  PASCHIM</td>\n",
       "      <td>DHAKA</td>\n",
       "      <td>DHAKA</td>\n",
       "    </tr>\n",
       "  </tbody>\n",
       "</table>\n",
       "</div>"
      ],
      "text/plain": [
       "   hospital_key                        hospital_name branch_name   \n",
       "0        100001         BANGLADESH EYE HOSPITAL LTD.   Dhanmondi  \\\n",
       "1        100002  BANGLADESH EYE HOSPITAL LTD(Mirpur)      Mirpur   \n",
       "2        100003  BANGLADESH EYE HOSPITAL LTD(Uttara)      Uttara   \n",
       "\n",
       "  hospital_type                   email            website   \n",
       "0       Private  info@bdeyehospital.com  www.mysoftltd.com  \\\n",
       "1       Private  info@bdeyehospital.com  www.mysoftltd.com   \n",
       "2       Private  info@bdeyehospital.com  www.mysoftltd.com   \n",
       "\n",
       "                                    address  geo_code   city          upazila   \n",
       "0  78, Satmasjid Road (Road#27), Dhanmondi,    302616  DHAKA        DHANMONDI  \\\n",
       "1                                    Mirpur    302648  DHAKA           MIRPUR   \n",
       "2                                    Uttara    302694  DHAKA  UTTARA  PASCHIM   \n",
       "\n",
       "  district division  \n",
       "0    DHAKA    DHAKA  \n",
       "1    DHAKA    DHAKA  \n",
       "2    DHAKA    DHAKA  "
      ]
     },
     "execution_count": 14,
     "metadata": {},
     "output_type": "execute_result"
    }
   ],
   "source": [
    "dim_hospital\n",
    "# item_dim.dtypes"
   ]
  },
  {
   "cell_type": "code",
   "execution_count": 15,
   "id": "ad7113ef",
   "metadata": {
    "pycharm": {
     "name": "#%%\n"
    }
   },
   "outputs": [],
   "source": [
    "dim_lab = pd.read_csv(r'F:\\VInt1\\HDA-Buet-vtraining-23\\notebook\\Health Dataset\\dim_lab.csv')\n",
    "# customer_dim = pd.read_csv(r'D:\\HDA vinternship Buet\\dataset\\Coustomer_dim.csv')"
   ]
  },
  {
   "cell_type": "code",
   "execution_count": 16,
   "id": "b6632d87",
   "metadata": {
    "pycharm": {
     "name": "#%%\n"
    }
   },
   "outputs": [
    {
     "data": {
      "text/html": [
       "<div>\n",
       "<style scoped>\n",
       "    .dataframe tbody tr th:only-of-type {\n",
       "        vertical-align: middle;\n",
       "    }\n",
       "\n",
       "    .dataframe tbody tr th {\n",
       "        vertical-align: top;\n",
       "    }\n",
       "\n",
       "    .dataframe thead th {\n",
       "        text-align: right;\n",
       "    }\n",
       "</style>\n",
       "<table border=\"1\" class=\"dataframe\">\n",
       "  <thead>\n",
       "    <tr style=\"text-align: right;\">\n",
       "      <th></th>\n",
       "      <th>lab_key</th>\n",
       "      <th>lab_name</th>\n",
       "      <th>lab_type</th>\n",
       "      <th>lab_code</th>\n",
       "      <th>lab_desc</th>\n",
       "    </tr>\n",
       "  </thead>\n",
       "  <tbody>\n",
       "    <tr>\n",
       "      <th>0</th>\n",
       "      <td>10001</td>\n",
       "      <td>ADMINISTRATION</td>\n",
       "      <td>1</td>\n",
       "      <td>679</td>\n",
       "      <td>DESC</td>\n",
       "    </tr>\n",
       "    <tr>\n",
       "      <th>1</th>\n",
       "      <td>10002</td>\n",
       "      <td>Urology</td>\n",
       "      <td>1</td>\n",
       "      <td>0037</td>\n",
       "      <td>DESC</td>\n",
       "    </tr>\n",
       "    <tr>\n",
       "      <th>2</th>\n",
       "      <td>10003</td>\n",
       "      <td>Serology</td>\n",
       "      <td>1</td>\n",
       "      <td>0008</td>\n",
       "      <td>DESC</td>\n",
       "    </tr>\n",
       "    <tr>\n",
       "      <th>3</th>\n",
       "      <td>10004</td>\n",
       "      <td>AMBULANCE SERVICE</td>\n",
       "      <td>1</td>\n",
       "      <td>0057</td>\n",
       "      <td>DESC</td>\n",
       "    </tr>\n",
       "    <tr>\n",
       "      <th>4</th>\n",
       "      <td>10005</td>\n",
       "      <td>USG</td>\n",
       "      <td>1</td>\n",
       "      <td>0012</td>\n",
       "      <td>DESC</td>\n",
       "    </tr>\n",
       "    <tr>\n",
       "      <th>...</th>\n",
       "      <td>...</td>\n",
       "      <td>...</td>\n",
       "      <td>...</td>\n",
       "      <td>...</td>\n",
       "      <td>...</td>\n",
       "    </tr>\n",
       "    <tr>\n",
       "      <th>236</th>\n",
       "      <td>10237</td>\n",
       "      <td>Nursing Service (Technical)</td>\n",
       "      <td>1</td>\n",
       "      <td>BSH096</td>\n",
       "      <td>DESC</td>\n",
       "    </tr>\n",
       "    <tr>\n",
       "      <th>237</th>\n",
       "      <td>10238</td>\n",
       "      <td>MEDICINE</td>\n",
       "      <td>1</td>\n",
       "      <td>MED1</td>\n",
       "      <td>DESC</td>\n",
       "    </tr>\n",
       "    <tr>\n",
       "      <th>238</th>\n",
       "      <td>10239</td>\n",
       "      <td>OPD DOCTOR</td>\n",
       "      <td>1</td>\n",
       "      <td>D002</td>\n",
       "      <td>DESC</td>\n",
       "    </tr>\n",
       "    <tr>\n",
       "      <th>239</th>\n",
       "      <td>10240</td>\n",
       "      <td>Maha</td>\n",
       "      <td>1</td>\n",
       "      <td>Maha01</td>\n",
       "      <td>DESC</td>\n",
       "    </tr>\n",
       "    <tr>\n",
       "      <th>240</th>\n",
       "      <td>10241</td>\n",
       "      <td>Oncology test</td>\n",
       "      <td>1</td>\n",
       "      <td>on01</td>\n",
       "      <td>DESC</td>\n",
       "    </tr>\n",
       "  </tbody>\n",
       "</table>\n",
       "<p>241 rows × 5 columns</p>\n",
       "</div>"
      ],
      "text/plain": [
       "     lab_key                     lab_name  lab_type lab_code lab_desc\n",
       "0      10001               ADMINISTRATION         1      679     DESC\n",
       "1      10002                      Urology         1     0037     DESC\n",
       "2      10003                     Serology         1     0008     DESC\n",
       "3      10004            AMBULANCE SERVICE         1     0057     DESC\n",
       "4      10005                          USG         1     0012     DESC\n",
       "..       ...                          ...       ...      ...      ...\n",
       "236    10237  Nursing Service (Technical)         1   BSH096     DESC\n",
       "237    10238                     MEDICINE         1     MED1     DESC\n",
       "238    10239                   OPD DOCTOR         1     D002     DESC\n",
       "239    10240                         Maha         1   Maha01     DESC\n",
       "240    10241               Oncology test          1     on01     DESC\n",
       "\n",
       "[241 rows x 5 columns]"
      ]
     },
     "execution_count": 16,
     "metadata": {},
     "output_type": "execute_result"
    }
   ],
   "source": [
    "dim_lab"
   ]
  },
  {
   "cell_type": "code",
   "execution_count": 17,
   "id": "ffa5e1bc",
   "metadata": {
    "pycharm": {
     "name": "#%%\n"
    }
   },
   "outputs": [],
   "source": [
    "dim_test = pd.read_csv(r'F:\\VInt1\\HDA-Buet-vtraining-23\\notebook\\Health Dataset\\dim_test.csv')"
   ]
  },
  {
   "cell_type": "code",
   "execution_count": 18,
   "id": "731223ac",
   "metadata": {
    "pycharm": {
     "name": "#%%\n"
    }
   },
   "outputs": [
    {
     "data": {
      "text/html": [
       "<div>\n",
       "<style scoped>\n",
       "    .dataframe tbody tr th:only-of-type {\n",
       "        vertical-align: middle;\n",
       "    }\n",
       "\n",
       "    .dataframe tbody tr th {\n",
       "        vertical-align: top;\n",
       "    }\n",
       "\n",
       "    .dataframe thead th {\n",
       "        text-align: right;\n",
       "    }\n",
       "</style>\n",
       "<table border=\"1\" class=\"dataframe\">\n",
       "  <thead>\n",
       "    <tr style=\"text-align: right;\">\n",
       "      <th></th>\n",
       "      <th>test_key</th>\n",
       "      <th>test_name</th>\n",
       "      <th>test_code</th>\n",
       "      <th>specimen</th>\n",
       "      <th>ct_ref</th>\n",
       "      <th>test_desc</th>\n",
       "    </tr>\n",
       "  </thead>\n",
       "  <tbody>\n",
       "    <tr>\n",
       "      <th>0</th>\n",
       "      <td>10002</td>\n",
       "      <td>Pus for Fungus</td>\n",
       "      <td>1988</td>\n",
       "      <td>PUS</td>\n",
       "      <td>BSH</td>\n",
       "      <td>Desc</td>\n",
       "    </tr>\n",
       "    <tr>\n",
       "      <th>1</th>\n",
       "      <td>10003</td>\n",
       "      <td>Drain Fluid for Bilirubin</td>\n",
       "      <td>885</td>\n",
       "      <td>FLUID</td>\n",
       "      <td>BSH</td>\n",
       "      <td>Desc</td>\n",
       "    </tr>\n",
       "    <tr>\n",
       "      <th>2</th>\n",
       "      <td>10004</td>\n",
       "      <td>NASAL SWAB FOR KLB</td>\n",
       "      <td>705</td>\n",
       "      <td>Not Found</td>\n",
       "      <td>BSH</td>\n",
       "      <td>Desc</td>\n",
       "    </tr>\n",
       "    <tr>\n",
       "      <th>3</th>\n",
       "      <td>10005</td>\n",
       "      <td>X-Pert  MTB/RIF assay by archived gastric Aspi...</td>\n",
       "      <td>706</td>\n",
       "      <td>TRACHEAL ASPIRATE</td>\n",
       "      <td>BSH</td>\n",
       "      <td>Desc</td>\n",
       "    </tr>\n",
       "    <tr>\n",
       "      <th>4</th>\n",
       "      <td>10006</td>\n",
       "      <td>Anti-Filaria Ab IgG4</td>\n",
       "      <td>192</td>\n",
       "      <td>BLOOD</td>\n",
       "      <td>BSH</td>\n",
       "      <td>Desc</td>\n",
       "    </tr>\n",
       "    <tr>\n",
       "      <th>...</th>\n",
       "      <td>...</td>\n",
       "      <td>...</td>\n",
       "      <td>...</td>\n",
       "      <td>...</td>\n",
       "      <td>...</td>\n",
       "      <td>...</td>\n",
       "    </tr>\n",
       "    <tr>\n",
       "      <th>1130</th>\n",
       "      <td>10011</td>\n",
       "      <td>Pleural Fluid for Malignant Cell</td>\n",
       "      <td>1486</td>\n",
       "      <td>PLEURAL FLUID</td>\n",
       "      <td>BSH</td>\n",
       "      <td>A malignant pleural effusion (MPE) is the buil...</td>\n",
       "    </tr>\n",
       "    <tr>\n",
       "      <th>1131</th>\n",
       "      <td>10693</td>\n",
       "      <td>FBG - Fasting blood glucose</td>\n",
       "      <td>31</td>\n",
       "      <td>BLOOD</td>\n",
       "      <td>SNOMED CT</td>\n",
       "      <td>Desc</td>\n",
       "    </tr>\n",
       "    <tr>\n",
       "      <th>1132</th>\n",
       "      <td>10453</td>\n",
       "      <td>RBG - Random blood glucose</td>\n",
       "      <td>30</td>\n",
       "      <td>BLOOD</td>\n",
       "      <td>SNOMED CT</td>\n",
       "      <td>Desc</td>\n",
       "    </tr>\n",
       "    <tr>\n",
       "      <th>1133</th>\n",
       "      <td>10259</td>\n",
       "      <td>Blood calcium level</td>\n",
       "      <td>237</td>\n",
       "      <td>BLOOD</td>\n",
       "      <td>SNOMED CT</td>\n",
       "      <td>Desc</td>\n",
       "    </tr>\n",
       "    <tr>\n",
       "      <th>1134</th>\n",
       "      <td>10899</td>\n",
       "      <td>Serum creatinine level</td>\n",
       "      <td>36</td>\n",
       "      <td>BLOOD</td>\n",
       "      <td>SNOMED CT</td>\n",
       "      <td>Desc</td>\n",
       "    </tr>\n",
       "  </tbody>\n",
       "</table>\n",
       "<p>1135 rows × 6 columns</p>\n",
       "</div>"
      ],
      "text/plain": [
       "      test_key                                          test_name test_code   \n",
       "0        10002                                     Pus for Fungus      1988  \\\n",
       "1        10003                          Drain Fluid for Bilirubin       885   \n",
       "2        10004                                 NASAL SWAB FOR KLB       705   \n",
       "3        10005  X-Pert  MTB/RIF assay by archived gastric Aspi...       706   \n",
       "4        10006                               Anti-Filaria Ab IgG4       192   \n",
       "...        ...                                                ...       ...   \n",
       "1130     10011                   Pleural Fluid for Malignant Cell      1486   \n",
       "1131     10693                        FBG - Fasting blood glucose        31   \n",
       "1132     10453                         RBG - Random blood glucose        30   \n",
       "1133     10259                                Blood calcium level       237   \n",
       "1134     10899                             Serum creatinine level        36   \n",
       "\n",
       "               specimen     ct_ref   \n",
       "0                   PUS        BSH  \\\n",
       "1                 FLUID        BSH   \n",
       "2             Not Found        BSH   \n",
       "3     TRACHEAL ASPIRATE        BSH   \n",
       "4                 BLOOD        BSH   \n",
       "...                 ...        ...   \n",
       "1130      PLEURAL FLUID        BSH   \n",
       "1131              BLOOD  SNOMED CT   \n",
       "1132              BLOOD  SNOMED CT   \n",
       "1133              BLOOD  SNOMED CT   \n",
       "1134              BLOOD  SNOMED CT   \n",
       "\n",
       "                                              test_desc  \n",
       "0                                                  Desc  \n",
       "1                                                  Desc  \n",
       "2                                                  Desc  \n",
       "3                                                  Desc  \n",
       "4                                                  Desc  \n",
       "...                                                 ...  \n",
       "1130  A malignant pleural effusion (MPE) is the buil...  \n",
       "1131                                               Desc  \n",
       "1132                                               Desc  \n",
       "1133                                               Desc  \n",
       "1134                                               Desc  \n",
       "\n",
       "[1135 rows x 6 columns]"
      ]
     },
     "execution_count": 18,
     "metadata": {},
     "output_type": "execute_result"
    }
   ],
   "source": [
    "dim_test"
   ]
  },
  {
   "cell_type": "code",
   "execution_count": 34,
   "id": "5934c400",
   "metadata": {
    "pycharm": {
     "name": "#%%\n"
    }
   },
   "outputs": [],
   "source": [
    "#path= '/content/drive/MyDrive/H1_ASK_Raw.csv'\n",
    "dateparse = lambda dates: pd.datetime.strptime(dates, '%d/%m/%Y')\n",
    "#df = pd.read_csv(path,sep=',', index_col='Date', parse_dates=['Gmt time'], date_parser=dateparse).fillna(0)\n",
    "#df.head()\n",
    "\n",
    "\n",
    "dim_time = pd.read_csv(r'F:\\VInt1\\HDA-Buet-vtraining-23\\notebook\\Health Dataset\\dim_time.csv')"
   ]
  },
  {
   "cell_type": "code",
   "execution_count": 35,
   "id": "fd2334df",
   "metadata": {
    "pycharm": {
     "name": "#%%\n"
    }
   },
   "outputs": [
    {
     "data": {
      "text/html": [
       "<div>\n",
       "<style scoped>\n",
       "    .dataframe tbody tr th:only-of-type {\n",
       "        vertical-align: middle;\n",
       "    }\n",
       "\n",
       "    .dataframe tbody tr th {\n",
       "        vertical-align: top;\n",
       "    }\n",
       "\n",
       "    .dataframe thead th {\n",
       "        text-align: right;\n",
       "    }\n",
       "</style>\n",
       "<table border=\"1\" class=\"dataframe\">\n",
       "  <thead>\n",
       "    <tr style=\"text-align: right;\">\n",
       "      <th></th>\n",
       "      <th>time_key</th>\n",
       "      <th>date_time</th>\n",
       "      <th>year</th>\n",
       "      <th>month</th>\n",
       "      <th>day</th>\n",
       "      <th>yyyymm</th>\n",
       "      <th>yyyymmdd</th>\n",
       "      <th>quarter</th>\n",
       "    </tr>\n",
       "  </thead>\n",
       "  <tbody>\n",
       "    <tr>\n",
       "      <th>0</th>\n",
       "      <td>20190907</td>\n",
       "      <td>7/9/2019</td>\n",
       "      <td>2019</td>\n",
       "      <td>9</td>\n",
       "      <td>7</td>\n",
       "      <td>201909</td>\n",
       "      <td>20190907</td>\n",
       "      <td>Q3</td>\n",
       "    </tr>\n",
       "    <tr>\n",
       "      <th>1</th>\n",
       "      <td>20190908</td>\n",
       "      <td>8/9/2019</td>\n",
       "      <td>2019</td>\n",
       "      <td>9</td>\n",
       "      <td>8</td>\n",
       "      <td>201909</td>\n",
       "      <td>20190908</td>\n",
       "      <td>Q3</td>\n",
       "    </tr>\n",
       "    <tr>\n",
       "      <th>2</th>\n",
       "      <td>20190909</td>\n",
       "      <td>9/9/2019</td>\n",
       "      <td>2019</td>\n",
       "      <td>9</td>\n",
       "      <td>9</td>\n",
       "      <td>201909</td>\n",
       "      <td>20190909</td>\n",
       "      <td>Q3</td>\n",
       "    </tr>\n",
       "    <tr>\n",
       "      <th>3</th>\n",
       "      <td>20190911</td>\n",
       "      <td>11/9/2019</td>\n",
       "      <td>2019</td>\n",
       "      <td>9</td>\n",
       "      <td>11</td>\n",
       "      <td>201909</td>\n",
       "      <td>20190911</td>\n",
       "      <td>Q3</td>\n",
       "    </tr>\n",
       "    <tr>\n",
       "      <th>4</th>\n",
       "      <td>20190912</td>\n",
       "      <td>12/9/2019</td>\n",
       "      <td>2019</td>\n",
       "      <td>9</td>\n",
       "      <td>12</td>\n",
       "      <td>201909</td>\n",
       "      <td>20190912</td>\n",
       "      <td>Q3</td>\n",
       "    </tr>\n",
       "    <tr>\n",
       "      <th>5</th>\n",
       "      <td>20190913</td>\n",
       "      <td>13/9/2019</td>\n",
       "      <td>2019</td>\n",
       "      <td>9</td>\n",
       "      <td>13</td>\n",
       "      <td>201909</td>\n",
       "      <td>20190913</td>\n",
       "      <td>Q3</td>\n",
       "    </tr>\n",
       "  </tbody>\n",
       "</table>\n",
       "</div>"
      ],
      "text/plain": [
       "   time_key  date_time  year  month  day  yyyymm  yyyymmdd quarter\n",
       "0  20190907   7/9/2019  2019      9    7  201909  20190907      Q3\n",
       "1  20190908   8/9/2019  2019      9    8  201909  20190908      Q3\n",
       "2  20190909   9/9/2019  2019      9    9  201909  20190909      Q3\n",
       "3  20190911  11/9/2019  2019      9   11  201909  20190911      Q3\n",
       "4  20190912  12/9/2019  2019      9   12  201909  20190912      Q3\n",
       "5  20190913  13/9/2019  2019      9   13  201909  20190913      Q3"
      ]
     },
     "execution_count": 35,
     "metadata": {},
     "output_type": "execute_result"
    }
   ],
   "source": [
    "dim_time.head(6)"
   ]
  },
  {
   "cell_type": "markdown",
   "id": "1fec4c53",
   "metadata": {
    "pycharm": {
     "name": "#%% md\n"
    }
   },
   "source": [
    "### Transform ###"
   ]
  },
  {
   "cell_type": "code",
   "execution_count": 22,
   "id": "1e3b1a72",
   "metadata": {},
   "outputs": [],
   "source": [
    "fact_sales['sales_price'] = pd.to_numeric(fact_sales['sales_price'])"
   ]
  },
  {
   "cell_type": "code",
   "execution_count": 23,
   "id": "8b726e47",
   "metadata": {
    "pycharm": {
     "name": "#%%\n"
    }
   },
   "outputs": [
    {
     "data": {
      "text/plain": [
       "time_key      int64\n",
       "date_time    object\n",
       "year          int64\n",
       "month         int64\n",
       "day           int64\n",
       "yyyymm        int64\n",
       "yyyymmdd      int64\n",
       "quarter      object\n",
       "dtype: object"
      ]
     },
     "execution_count": 23,
     "metadata": {},
     "output_type": "execute_result"
    }
   ],
   "source": [
    "dim_time['year'] = pd.to_numeric(dim_time['year'])\n",
    "dim_time['month'] = pd.to_numeric(dim_time['month'])\n",
    "dim_time['day'] = pd.to_numeric(dim_time['day'])\n",
    "dim_time.dtypes"
   ]
  },
  {
   "cell_type": "code",
   "execution_count": 43,
   "id": "8361c385",
   "metadata": {
    "pycharm": {
     "name": "#%%\n"
    }
   },
   "outputs": [
    {
     "data": {
      "text/html": [
       "<div>\n",
       "<style scoped>\n",
       "    .dataframe tbody tr th:only-of-type {\n",
       "        vertical-align: middle;\n",
       "    }\n",
       "\n",
       "    .dataframe tbody tr th {\n",
       "        vertical-align: top;\n",
       "    }\n",
       "\n",
       "    .dataframe thead th {\n",
       "        text-align: right;\n",
       "    }\n",
       "</style>\n",
       "<table border=\"1\" class=\"dataframe\">\n",
       "  <thead>\n",
       "    <tr style=\"text-align: right;\">\n",
       "      <th></th>\n",
       "      <th>time_key</th>\n",
       "      <th>date_time</th>\n",
       "      <th>year</th>\n",
       "      <th>month</th>\n",
       "      <th>day</th>\n",
       "      <th>yyyymm</th>\n",
       "      <th>yyyymmdd</th>\n",
       "      <th>quarter</th>\n",
       "    </tr>\n",
       "  </thead>\n",
       "  <tbody>\n",
       "    <tr>\n",
       "      <th>0</th>\n",
       "      <td>20190907</td>\n",
       "      <td>2019-09-07</td>\n",
       "      <td>2019</td>\n",
       "      <td>9</td>\n",
       "      <td>7</td>\n",
       "      <td>201909</td>\n",
       "      <td>20190907</td>\n",
       "      <td>Q3</td>\n",
       "    </tr>\n",
       "    <tr>\n",
       "      <th>1</th>\n",
       "      <td>20190908</td>\n",
       "      <td>2019-09-08</td>\n",
       "      <td>2019</td>\n",
       "      <td>9</td>\n",
       "      <td>8</td>\n",
       "      <td>201909</td>\n",
       "      <td>20190908</td>\n",
       "      <td>Q3</td>\n",
       "    </tr>\n",
       "    <tr>\n",
       "      <th>2</th>\n",
       "      <td>20190909</td>\n",
       "      <td>2019-09-09</td>\n",
       "      <td>2019</td>\n",
       "      <td>9</td>\n",
       "      <td>9</td>\n",
       "      <td>201909</td>\n",
       "      <td>20190909</td>\n",
       "      <td>Q3</td>\n",
       "    </tr>\n",
       "    <tr>\n",
       "      <th>3</th>\n",
       "      <td>20190911</td>\n",
       "      <td>2019-09-11</td>\n",
       "      <td>2019</td>\n",
       "      <td>9</td>\n",
       "      <td>11</td>\n",
       "      <td>201909</td>\n",
       "      <td>20190911</td>\n",
       "      <td>Q3</td>\n",
       "    </tr>\n",
       "    <tr>\n",
       "      <th>4</th>\n",
       "      <td>20190912</td>\n",
       "      <td>2019-09-12</td>\n",
       "      <td>2019</td>\n",
       "      <td>9</td>\n",
       "      <td>12</td>\n",
       "      <td>201909</td>\n",
       "      <td>20190912</td>\n",
       "      <td>Q3</td>\n",
       "    </tr>\n",
       "    <tr>\n",
       "      <th>...</th>\n",
       "      <td>...</td>\n",
       "      <td>...</td>\n",
       "      <td>...</td>\n",
       "      <td>...</td>\n",
       "      <td>...</td>\n",
       "      <td>...</td>\n",
       "      <td>...</td>\n",
       "      <td>...</td>\n",
       "    </tr>\n",
       "    <tr>\n",
       "      <th>555</th>\n",
       "      <td>20190318</td>\n",
       "      <td>2019-03-18</td>\n",
       "      <td>2019</td>\n",
       "      <td>3</td>\n",
       "      <td>18</td>\n",
       "      <td>201903</td>\n",
       "      <td>20190318</td>\n",
       "      <td>Q1</td>\n",
       "    </tr>\n",
       "    <tr>\n",
       "      <th>556</th>\n",
       "      <td>20190319</td>\n",
       "      <td>2019-03-19</td>\n",
       "      <td>2019</td>\n",
       "      <td>3</td>\n",
       "      <td>19</td>\n",
       "      <td>201903</td>\n",
       "      <td>20190319</td>\n",
       "      <td>Q1</td>\n",
       "    </tr>\n",
       "    <tr>\n",
       "      <th>557</th>\n",
       "      <td>20190317</td>\n",
       "      <td>2019-03-17</td>\n",
       "      <td>2019</td>\n",
       "      <td>3</td>\n",
       "      <td>17</td>\n",
       "      <td>201903</td>\n",
       "      <td>20190317</td>\n",
       "      <td>Q1</td>\n",
       "    </tr>\n",
       "    <tr>\n",
       "      <th>558</th>\n",
       "      <td>20190320</td>\n",
       "      <td>2019-03-20</td>\n",
       "      <td>2019</td>\n",
       "      <td>3</td>\n",
       "      <td>20</td>\n",
       "      <td>201903</td>\n",
       "      <td>20190320</td>\n",
       "      <td>Q1</td>\n",
       "    </tr>\n",
       "    <tr>\n",
       "      <th>559</th>\n",
       "      <td>20190322</td>\n",
       "      <td>2019-03-22</td>\n",
       "      <td>2019</td>\n",
       "      <td>3</td>\n",
       "      <td>22</td>\n",
       "      <td>201903</td>\n",
       "      <td>20190322</td>\n",
       "      <td>Q1</td>\n",
       "    </tr>\n",
       "  </tbody>\n",
       "</table>\n",
       "<p>560 rows × 8 columns</p>\n",
       "</div>"
      ],
      "text/plain": [
       "     time_key  date_time  year  month  day  yyyymm  yyyymmdd quarter\n",
       "0    20190907 2019-09-07  2019      9    7  201909  20190907      Q3\n",
       "1    20190908 2019-09-08  2019      9    8  201909  20190908      Q3\n",
       "2    20190909 2019-09-09  2019      9    9  201909  20190909      Q3\n",
       "3    20190911 2019-09-11  2019      9   11  201909  20190911      Q3\n",
       "4    20190912 2019-09-12  2019      9   12  201909  20190912      Q3\n",
       "..        ...        ...   ...    ...  ...     ...       ...     ...\n",
       "555  20190318 2019-03-18  2019      3   18  201903  20190318      Q1\n",
       "556  20190319 2019-03-19  2019      3   19  201903  20190319      Q1\n",
       "557  20190317 2019-03-17  2019      3   17  201903  20190317      Q1\n",
       "558  20190320 2019-03-20  2019      3   20  201903  20190320      Q1\n",
       "559  20190322 2019-03-22  2019      3   22  201903  20190322      Q1\n",
       "\n",
       "[560 rows x 8 columns]"
      ]
     },
     "execution_count": 43,
     "metadata": {},
     "output_type": "execute_result"
    }
   ],
   "source": [
    "#dim_time['date_time'] = pd.to_datetime(dim_time['date_time'], format='%d/%m/%y')\n",
    "dim_time['date_time'] = pd.to_datetime(dim_time['date_time'], dayfirst=True)\n",
    "#dim_time['date_time'] = dim_time['date_time'].astype('datetime64[ns]')\n",
    "#df['sale_date'] = pd.to_datetime(df['sale_date'], dayfirst=True)\n",
    "dim_time.dtypes\n",
    "dim_time"
   ]
  },
  {
   "cell_type": "markdown",
   "id": "3a198c4e",
   "metadata": {
    "pycharm": {
     "name": "#%% md\n"
    }
   },
   "source": [
    "### Load ###"
   ]
  },
  {
   "cell_type": "markdown",
   "id": "b5a48697",
   "metadata": {
    "pycharm": {
     "name": "#%% md\n"
    }
   },
   "source": [
    "#### Connect to DB ####"
   ]
  },
  {
   "cell_type": "code",
   "execution_count": 44,
   "id": "2135ac62",
   "metadata": {
    "pycharm": {
     "name": "#%%\n"
    }
   },
   "outputs": [],
   "source": [
    "class PostgresConnection(object):\n",
    "    def __init__(self):\n",
    "        self.connection = psycopg2.connect(database=\"ecomdb\",\n",
    "                                           user = \"postgres\",\n",
    "                                           password = \"hai\",\n",
    "                                           host = \"127.0.0.1\",\n",
    "                                           port = \"5432\")\n",
    "\n",
    "    def getConnection(self):\n",
    "        print(\"Connection to DB established!\")\n",
    "        return self.connection"
   ]
  },
  {
   "cell_type": "code",
   "execution_count": 45,
   "id": "178f47af",
   "metadata": {
    "pycharm": {
     "name": "#%%\n"
    }
   },
   "outputs": [
    {
     "name": "stdout",
     "output_type": "stream",
     "text": [
      "Connection to DB established!\n"
     ]
    }
   ],
   "source": [
    "con = PostgresConnection().getConnection()"
   ]
  },
  {
   "cell_type": "markdown",
   "id": "3c585b3d",
   "metadata": {
    "pycharm": {
     "name": "#%% md\n"
    }
   },
   "source": [
    "#### Insert Data into tables #####"
   ]
  },
  {
   "cell_type": "code",
   "execution_count": 46,
   "id": "c80a6eaa",
   "metadata": {
    "pycharm": {
     "name": "#%%\n"
    },
    "scrolled": true
   },
   "outputs": [
    {
     "name": "stdout",
     "output_type": "stream",
     "text": [
      "Connection to DB established!\n"
     ]
    }
   ],
   "source": [
    "con = PostgresConnection().getConnection()\n",
    "insert_stmt = \"INSERT INTO star_schema.dim_geography( geo_key, upazila, district, division)\" \\\n",
    "            \" VALUES (%s, %s, %s, %s)\"\n",
    "cur = con.cursor()\n",
    "psycopg2.extras.execute_batch(cur, insert_stmt, dim_geography.values)\n",
    "con.commit()\n",
    "cur.close()"
   ]
  },
  {
   "cell_type": "code",
   "execution_count": 48,
   "id": "39c11bf5",
   "metadata": {
    "pycharm": {
     "name": "#%%\n"
    }
   },
   "outputs": [
    {
     "name": "stdout",
     "output_type": "stream",
     "text": [
      "Connection to DB established!\n"
     ]
    }
   ],
   "source": [
    "con = PostgresConnection().getConnection()\n",
    "insert_stmt = \"INSERT INTO star_schema.dim_hospital( hospital_key, hospital_name, branch_name, hospital_type, email, website, address, geo_code, city, upazila, district, division) VALUES (%s, %s, %s, %s,%s, %s, %s, %s,%s, %s, %s, %s );\"\n",
    "cur = con.cursor()\n",
    "psycopg2.extras.execute_batch(cur, insert_stmt, dim_hospital.values)\n",
    "con.commit()\n",
    "cur.close()"
   ]
  },
  {
   "cell_type": "code",
   "execution_count": 49,
   "id": "711d64f0",
   "metadata": {
    "pycharm": {
     "name": "#%%\n"
    }
   },
   "outputs": [
    {
     "name": "stdout",
     "output_type": "stream",
     "text": [
      "Connection to DB established!\n"
     ]
    }
   ],
   "source": [
    "con = PostgresConnection().getConnection()\n",
    "insert_stmt = \"INSERT INTO star_schema.dim_lab( lab_key, lab_name, lab_type, lab_code, lab_desc) VALUES (%s, %s, %s, %s, %s);\"\n",
    "cur = con.cursor()\n",
    "psycopg2.extras.execute_batch(cur, insert_stmt, dim_lab.values)\n",
    "con.commit()\n",
    "cur.close()"
   ]
  },
  {
   "cell_type": "code",
   "execution_count": 51,
   "id": "686b5f43",
   "metadata": {
    "pycharm": {
     "name": "#%%\n"
    }
   },
   "outputs": [
    {
     "name": "stdout",
     "output_type": "stream",
     "text": [
      "Connection to DB established!\n"
     ]
    }
   ],
   "source": [
    "con = PostgresConnection().getConnection()\n",
    "insert_stmt = \"INSERT INTO star_schema.dim_test(test_key, test_name, test_code, specimen, ct_ref, test_desc)VALUES (%s, %s, %s, %s, %s, %s);\"\n",
    "cur = con.cursor()\n",
    "psycopg2.extras.execute_batch(cur, insert_stmt, dim_test.values)\n",
    "con.commit()\n",
    "cur.close()"
   ]
  },
  {
   "cell_type": "code",
   "execution_count": 53,
   "id": "09ad65de",
   "metadata": {
    "pycharm": {
     "name": "#%%\n"
    }
   },
   "outputs": [
    {
     "name": "stdout",
     "output_type": "stream",
     "text": [
      "Connection to DB established!\n"
     ]
    }
   ],
   "source": [
    "con = PostgresConnection().getConnection()\n",
    "insert_stmt = \"INSERT INTO star_schema.dim_time(time_key, date_time, year, month, day, yyyymm,yyyymmdd, quarter)VALUES (%s, %s, %s, %s, %s, %s, %s, %s);\"\n",
    "cur = con.cursor()\n",
    "psycopg2.extras.execute_batch(cur, insert_stmt, dim_time.values)\n",
    "con.commit()\n",
    "cur.close()"
   ]
  },
  {
   "cell_type": "code",
   "execution_count": 56,
   "id": "7db3936d",
   "metadata": {
    "pycharm": {
     "name": "#%%\n"
    }
   },
   "outputs": [
    {
     "name": "stdout",
     "output_type": "stream",
     "text": [
      "Connection to DB established!\n"
     ]
    }
   ],
   "source": [
    "con = PostgresConnection().getConnection()\n",
    "insert_stmt = \"INSERT INTO star_schema.fact_sales(pik, time_key, geo_key, hospital_key, lab_key, test_key, sales_price)VALUES (%s, %s, %s, %s, %s, %s, %s);\"\n",
    "cur = con.cursor()\n",
    "psycopg2.extras.execute_batch(cur, insert_stmt, fact_sales.values)\n",
    "con.commit()\n",
    "cur.close()"
   ]
  },
  {
   "cell_type": "code",
   "execution_count": 61,
   "id": "ff699a7e",
   "metadata": {
    "pycharm": {
     "name": "#%%\n"
    }
   },
   "outputs": [
    {
     "name": "stdout",
     "output_type": "stream",
     "text": [
      "Connection to DB established!\n"
     ]
    }
   ],
   "source": [
    "con = PostgresConnection().getConnection()\n",
    "select_stmt = \"SELECT * FROM star_schema.dim_test ORDER BY test_key ASC LIMIT 100\"\n",
    "            \n",
    "cur = con.cursor()\n",
    "cur.execute(select_stmt)\n",
    "res = cur.fetchall()\n",
    "cur.close()"
   ]
  },
  {
   "cell_type": "code",
   "execution_count": 62,
   "id": "8e09b847",
   "metadata": {},
   "outputs": [
    {
     "data": {
      "text/plain": [
       "[('10001',\n",
       "  'Peritoneal Fluid for Amylase',\n",
       "  '1980',\n",
       "  'PERITONEAL FLUID',\n",
       "  'BSH',\n",
       "  'Sample Desc'),\n",
       " ('10002', 'Pus for Fungus', '1988', 'PUS', 'BSH', 'Desc'),\n",
       " ('10003', 'Drain Fluid for Bilirubin', '885', 'FLUID', 'BSH', 'Desc'),\n",
       " ('10004', 'NASAL SWAB FOR KLB', '705', 'Not Found', 'BSH', 'Desc'),\n",
       " ('10005',\n",
       "  'X-Pert  MTB/RIF assay by archived gastric Aspirate',\n",
       "  '706',\n",
       "  'TRACHEAL ASPIRATE',\n",
       "  'BSH',\n",
       "  'Desc'),\n",
       " ('10006', 'Anti-Filaria Ab IgG4', '192', 'BLOOD', 'BSH', 'Desc'),\n",
       " ('10007', 'Synovial Fluid For Potassium(K+)', '1883', 'FLUID', 'BSH', 'Desc'),\n",
       " ('10008', 'Chikungunya Antibody IgM ICT', '1941', 'BLOOD', 'BSH', 'Desc'),\n",
       " ('10009', 'Pleural Fluid for C/S', '1482', 'PLEURAL FLUID', 'BSH', 'Desc'),\n",
       " ('10010',\n",
       "  'Pleural Fluid for Gram Stain',\n",
       "  '1483',\n",
       "  'PLEURAL FLUID',\n",
       "  'BSH',\n",
       "  'Desc'),\n",
       " ('10011',\n",
       "  'Pleural Fluid for Malignant Cell',\n",
       "  '1486',\n",
       "  'PLEURAL FLUID',\n",
       "  'BSH',\n",
       "  'A malignant pleural effusion (MPE) is the build up of fluid and cancer cells that collects between the chest wall and the lung. This can cause you to have chest discomfort as well as feel short of breath. It is a fairly common complication in a number of different cancers.'),\n",
       " ('10012',\n",
       "  'Peritoneal Fluid for Protein',\n",
       "  '1488',\n",
       "  'PERITONEAL FLUID',\n",
       "  'BSH',\n",
       "  'Desc'),\n",
       " ('10013', 'Peritoneal Fluid for Chloride', '1489', 'FLUID', 'BSH', 'Desc'),\n",
       " ('10014',\n",
       "  'Peritoneal Fluid for Glucose',\n",
       "  '1490',\n",
       "  'PERITONEAL FLUID',\n",
       "  'BSH',\n",
       "  'Desc'),\n",
       " ('10015',\n",
       "  'Peritoneal Ascitic Fluid for C/S',\n",
       "  '1491',\n",
       "  'PERITONEAL FLUID',\n",
       "  'BSH',\n",
       "  'Desc'),\n",
       " ('10016',\n",
       "  'Peritoneal Fluid for AFB',\n",
       "  '1493',\n",
       "  'PERITONEAL FLUID',\n",
       "  'BSH',\n",
       "  'Desc'),\n",
       " ('10017', 'HIV Ab I&II', '179', 'BLOOD', 'BSH', 'Desc'),\n",
       " ('10018', 'Iron Profile', '33333', 'BLOOD', 'BSH', 'Desc'),\n",
       " ('10019', 'Iron Profile (f)', '4444', 'BLOOD', 'BSH', 'Desc'),\n",
       " ('10020', 'Septin 9 Methylated DNA', '1647', 'BLOOD', 'BSH', 'Desc'),\n",
       " ('10021', 'CD99', '1648', 'TISSUE', 'BSH', 'Desc'),\n",
       " ('10022', 'CD23', '1649', 'As Required', 'BSH', 'Desc'),\n",
       " ('10023', 'Anti-Phospholipid IgG', '1443', 'BLOOD', 'BSH', 'Desc'),\n",
       " ('10024',\n",
       "  'Synovial Fluid for MTB DNA',\n",
       "  '1505',\n",
       "  'SYNOVIAL FLUID',\n",
       "  'BSH',\n",
       "  'Desc'),\n",
       " ('10025', 'BAL for TB C/S', '1532', 'BAL', 'BSH', 'Desc'),\n",
       " ('10026', 'PUS for C/S (FAN Method)', '1528', 'PUS', 'BSH', 'Desc'),\n",
       " ('10027',\n",
       "  'Synovial Fluid For Phosphate(PO4)',\n",
       "  '1884',\n",
       "  'FLUID',\n",
       "  'BSH',\n",
       "  'Desc'),\n",
       " ('10028', 'Synovial Fluid for Chloride', '1885', 'FLUID', 'BSH', 'Desc'),\n",
       " ('10029', 'FNAC (CT Scan Guided)', '1650', 'As Required', 'BSH', 'Desc'),\n",
       " ('10030', 'CD117', '1651', 'TISSUE', 'BSH', 'Desc'),\n",
       " ('10031', 'CD138', '1652', 'As Required', 'BSH', 'Desc'),\n",
       " ('10032', 'Semen for C/S', '1530', 'SEMEN', 'BSH', 'Desc'),\n",
       " ('10033', 'Ascitic Fluid for C/S', '1673', 'ASCITIC FLUID', 'BSH', 'Desc'),\n",
       " ('10034',\n",
       "  'Skin Scraping for Fungus Culture',\n",
       "  '1674',\n",
       "  'SKIN SCRAPING',\n",
       "  'BSH',\n",
       "  'Desc'),\n",
       " ('10035', 'Fluid for Fungus Culture', '1675', 'FLUID', 'BSH', 'Desc'),\n",
       " ('10036',\n",
       "  'Vaginal Discharge for  Culture',\n",
       "  '1676',\n",
       "  'VAGINAL DISCHARGE',\n",
       "  'BSH',\n",
       "  'Desc'),\n",
       " ('10037',\n",
       "  'Valval Smear for Fungus Culture',\n",
       "  '1677',\n",
       "  'VALVAL SMEAR',\n",
       "  'BSH',\n",
       "  'Desc'),\n",
       " ('10038', 'Liver needle biopsy', '1281', 'Not Found', 'BSH', 'Desc'),\n",
       " ('10039',\n",
       "  'Skin Biopsy & DIF (HISTO-PATHOLOGY)',\n",
       "  '1310',\n",
       "  'TISSUE',\n",
       "  'BSH',\n",
       "  'Desc'),\n",
       " ('10040', 'NT Pro BNP', '834', 'BLOOD', 'BSH', 'Desc'),\n",
       " ('10041', 'Troponin I', '835', 'BLOOD', 'BSH', 'Desc'),\n",
       " ('10042', 'BETA hCG', '104', 'BLOOD', 'BSH', 'Desc'),\n",
       " ('10043', 'Serum IgE', '111', 'BLOOD', 'BSH', 'Desc'),\n",
       " ('10044', 'CA-125', '118', 'BLOOD', 'BSH', 'Desc'),\n",
       " ('10045', 'C-ANCA', '155', 'BLOOD', 'BSH', 'Desc'),\n",
       " ('10046', 'Rubella IgG', '379', 'BLOOD', 'BSH', 'Desc'),\n",
       " ('10047', 'Cytomegalo Virus (CMV) IgG', '383', 'BLOOD', 'BSH', 'Desc'),\n",
       " ('10048',\n",
       "  'Herpes Simplex Virus I-II IgG & IgM',\n",
       "  '359',\n",
       "  'BLOOD',\n",
       "  'BSH',\n",
       "  'Desc'),\n",
       " ('10049', 'Cocaine', '886', 'BLOOD', 'BSH', 'Desc'),\n",
       " ('10050', 'Fasting Insulin', '1069', 'BLOOD', 'BSH', 'Desc'),\n",
       " ('10051', 'CA-15.3', '1099', 'BLOOD', 'BSH', 'Desc'),\n",
       " ('10052', 'Spot Urine for Sodium', '1697', 'URINE', 'BSH', 'Desc'),\n",
       " ('10053',\n",
       "  'Urine for Potassium Creatinine Ratio',\n",
       "  '1698',\n",
       "  'URINE',\n",
       "  'BSH',\n",
       "  'Desc'),\n",
       " ('10054', 'Fungus', '1795', 'SKIN SCRAPING', 'BSH', 'Desc'),\n",
       " ('10055', 'Lt Ear Swab for Gram Stain', '1427', 'EAR SWAB', 'BSH', 'Desc'),\n",
       " ('10056', 'Anti-HEV IgM (ELISA)', '195', 'BLOOD', 'BSH', 'Desc'),\n",
       " ('10057',\n",
       "  'Grouping + Cross Matching + Screening',\n",
       "  'BLD007',\n",
       "  'BLOOD',\n",
       "  'BSH',\n",
       "  'Desc'),\n",
       " ('10058', 'INR', '409', 'BLOOD', 'BSH', 'Desc'),\n",
       " ('10059', 'Peptide', '423', 'BLOOD', 'BSH', 'Desc'),\n",
       " ('10060', 'CUS 2hrs After Lunch', '1615', 'URINE', 'BSH', 'Desc'),\n",
       " ('10061', 'CUS 2hrs After Meal', '1616', 'URINE', 'BSH', 'Desc'),\n",
       " ('10062', 'Acetone (Urine)', '301', 'URINE', 'BSH', 'Desc'),\n",
       " ('10063', 'Urine R/S', '306', 'URINE', 'BSH', 'Desc'),\n",
       " ('10064', 'Dermatophytes', '307', 'SKIN SCRAPING', 'BSH', 'Desc'),\n",
       " ('10065', 'Urine-PH', '327', 'URINE', 'BSH', 'Desc'),\n",
       " ('10066', 'Stool Floatation Method', '329', 'STOOL', 'BSH', 'Desc'),\n",
       " ('10067', 'Hanssen Bacilli', '333', 'SLIT SKIN SMEAR', 'BSH', 'Desc'),\n",
       " ('10068', 'Cyst - medium to large', '1307', 'BLOOD', 'BSH', 'Desc'),\n",
       " ('10069', 'Brain tissue-small', '1308', 'As Required', 'BSH', 'Desc'),\n",
       " ('10070',\n",
       "  'Brain tissue-medium to large',\n",
       "  '1309',\n",
       "  'As Required',\n",
       "  'BSH',\n",
       "  'Desc'),\n",
       " ('10071', 'Anti-HBs', '188', 'BLOOD', 'BSH', 'Desc'),\n",
       " ('10072', 'Cervix alone', '1263', 'As Required', 'BSH', 'Desc'),\n",
       " ('10073', 'Fistula Tract', '1293', 'BLOOD', 'BSH', 'Desc'),\n",
       " ('10074',\n",
       "  'EBV Panel Of Abs ( VCA IgG+VCA IgM+EBNA IgG+EBNA IgM+EA IgG+EA IgM)',\n",
       "  '172',\n",
       "  'BLOOD',\n",
       "  'BSH',\n",
       "  'Desc'),\n",
       " ('10075', 'Metanephrines (24 hrs Urine)', '428', 'BLOOD', 'BSH', 'Desc'),\n",
       " ('10076',\n",
       "  'Peritoneal Fluid for MTB DNA',\n",
       "  '1496',\n",
       "  'PERITONEAL FLUID',\n",
       "  'BSH',\n",
       "  'Desc'),\n",
       " ('10077', 'Electrolytes Spot Urine', '1506', 'URINE', 'BSH', 'Desc'),\n",
       " ('10078', 'Na+ K+ Urine', '1507', 'URINE', 'BSH', 'Desc'),\n",
       " ('10079', 'Cardiolipin IgE', '671', 'BLOOD', 'BSH', 'Desc'),\n",
       " ('10080', 'TSH Receptor Antibody (TRAB)', '733', 'BLOOD', 'BSH', 'Desc'),\n",
       " ('10081', 'CMV IgG', '779', 'BLOOD', 'BSH', 'Desc'),\n",
       " ('10082', 'Fluid ( ) for Fungus Culture', '1678', 'FLUID.', 'BSH', 'Desc'),\n",
       " ('10083', 'Pleural Fluid For Lipase', '1874', 'PLEURAL FLUID', 'BSH', 'Desc'),\n",
       " ('10084', 'Pleural Fluid For Sodium(Na+)', '1875', 'FLUID', 'BSH', 'Desc'),\n",
       " ('10085', 'Pleural Fluid For Potassium(K+)', '1876', 'FLUID', 'BSH', 'Desc'),\n",
       " ('10086',\n",
       "  'Immunohistochemistry Breast Panel\\t\\t',\n",
       "  '1029',\n",
       "  'TISSUE',\n",
       "  'BSH',\n",
       "  'Desc'),\n",
       " ('10087', 'Synovial Fluid For Amylase', '1879', 'FLUID', 'BSH', 'Desc'),\n",
       " ('10088', 'Urine For OBT', '344', 'URINE', 'BSH', 'Desc'),\n",
       " ('10089', 'Ascitic Fulid for Albumin', '367', 'ASCITIC FLUID', 'BSH', 'Desc'),\n",
       " ('10090', 'Blood For Micro-Filaria', '370', 'WHOLE BLOOD', 'BSH', 'Desc'),\n",
       " ('10091', 'LD Bodies', '431', 'WHOLE BLOOD', 'BSH', 'Desc'),\n",
       " ('10092', 'WBC', '472', 'As Required', 'BSH', 'Desc'),\n",
       " ('10093', 'Pleural fluid for ADA', '544', 'PLEURAL FLUID', 'BSH', 'Desc'),\n",
       " ('10094', 'Clot Rertraction Test', '547', 'As Required', 'BSH', 'Desc'),\n",
       " ('10095', 'Synovial Fluid For Creatinine', '1880', 'FLUID', 'BSH', 'Desc'),\n",
       " ('10096', 'Synovial Fluid For Lipase', '1881', 'FLUID', 'BSH', 'Desc'),\n",
       " ('10097', 'Synovial Fluid For Sodium(Na+)', '1882', 'FLUID', 'BSH', 'Desc'),\n",
       " ('10098', 'MTB DNA For Pus', '1946', 'PUS', 'BSH', 'Desc'),\n",
       " ('10099', 'Synovial Fluid for C/S', '1672', 'SYNOVIAL FLUID', 'BSH', 'Desc'),\n",
       " ('10100', 'RA/RF', '83', 'BLOOD', 'BSH', 'Desc')]"
      ]
     },
     "execution_count": 62,
     "metadata": {},
     "output_type": "execute_result"
    }
   ],
   "source": [
    "res"
   ]
  },
  {
   "cell_type": "code",
   "execution_count": null,
   "id": "746fef6f",
   "metadata": {},
   "outputs": [],
   "source": []
  }
 ],
 "metadata": {
  "kernelspec": {
   "display_name": "Python 3 (ipykernel)",
   "language": "python",
   "name": "python3"
  },
  "language_info": {
   "codemirror_mode": {
    "name": "ipython",
    "version": 3
   },
   "file_extension": ".py",
   "mimetype": "text/x-python",
   "name": "python",
   "nbconvert_exporter": "python",
   "pygments_lexer": "ipython3",
   "version": "3.9.2"
  }
 },
 "nbformat": 4,
 "nbformat_minor": 5
}
