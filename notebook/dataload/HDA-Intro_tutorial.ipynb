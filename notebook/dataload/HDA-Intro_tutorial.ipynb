{
 "cells": [
  {
   "cell_type": "markdown",
   "id": "65edb269",
   "metadata": {
    "pycharm": {
     "name": "#%% md\n"
    }
   },
   "source": [
    "### Package Installation ###"
   ]
  },
  {
   "cell_type": "code",
   "execution_count": 1,
   "id": "38cdaf8a",
   "metadata": {
    "pycharm": {
     "name": "#%%\n"
    }
   },
   "outputs": [
    {
     "name": "stdout",
     "output_type": "stream",
     "text": [
      "Collecting psycopg2\n",
      "  Using cached psycopg2-2.9.6-cp310-cp310-win_amd64.whl (1.2 MB)\n",
      "Installing collected packages: psycopg2\n",
      "Successfully installed psycopg2-2.9.6\n",
      "Note: you may need to restart the kernel to use updated packages.\n"
     ]
    }
   ],
   "source": [
    "pip install psycopg2"
   ]
  },
  {
   "cell_type": "code",
   "execution_count": 2,
   "id": "d8e9f588",
   "metadata": {
    "pycharm": {
     "name": "#%%\n"
    }
   },
   "outputs": [
    {
     "name": "stdout",
     "output_type": "stream",
     "text": [
      "Collecting openpyxl\n",
      "  Using cached openpyxl-3.1.2-py2.py3-none-any.whl (249 kB)\n",
      "Collecting et-xmlfile (from openpyxl)\n",
      "  Using cached et_xmlfile-1.1.0-py3-none-any.whl (4.7 kB)\n",
      "Installing collected packages: et-xmlfile, openpyxl\n",
      "Successfully installed et-xmlfile-1.1.0 openpyxl-3.1.2\n",
      "Note: you may need to restart the kernel to use updated packages.\n"
     ]
    }
   ],
   "source": [
    "pip install openpyxl"
   ]
  },
  {
   "cell_type": "code",
   "execution_count": 3,
   "id": "8922bb12",
   "metadata": {
    "pycharm": {
     "name": "#%%\n"
    }
   },
   "outputs": [
    {
     "name": "stdout",
     "output_type": "stream",
     "text": [
      "Collecting pandas\n",
      "  Downloading pandas-2.0.1-cp310-cp310-win_amd64.whl (10.7 MB)\n",
      "                                              0.0/10.7 MB ? eta -:--:--\n",
      "                                              0.0/10.7 MB ? eta -:--:--\n",
      "                                             0.0/10.7 MB 325.1 kB/s eta 0:00:33\n",
      "                                             0.0/10.7 MB 325.1 kB/s eta 0:00:33\n",
      "                                             0.0/10.7 MB 325.1 kB/s eta 0:00:33\n",
      "                                             0.0/10.7 MB 163.4 kB/s eta 0:01:05\n",
      "                                             0.1/10.7 MB 245.8 kB/s eta 0:00:44\n",
      "                                             0.1/10.7 MB 327.2 kB/s eta 0:00:33\n",
      "                                             0.1/10.7 MB 327.2 kB/s eta 0:00:33\n",
      "                                             0.1/10.7 MB 300.4 kB/s eta 0:00:36\n",
      "                                             0.2/10.7 MB 406.9 kB/s eta 0:00:26\n",
      "                                             0.2/10.7 MB 458.5 kB/s eta 0:00:23\n",
      "                                             0.2/10.7 MB 436.6 kB/s eta 0:00:24\n",
      "                                             0.3/10.7 MB 425.2 kB/s eta 0:00:25\n",
      "     -                                       0.3/10.7 MB 475.1 kB/s eta 0:00:22\n",
      "     -                                       0.4/10.7 MB 518.1 kB/s eta 0:00:20\n",
      "     -                                       0.4/10.7 MB 509.8 kB/s eta 0:00:21\n",
      "     -                                       0.4/10.7 MB 509.8 kB/s eta 0:00:21\n",
      "     -                                       0.4/10.7 MB 491.2 kB/s eta 0:00:21\n",
      "     -                                       0.5/10.7 MB 596.8 kB/s eta 0:00:17\n",
      "     --                                      0.6/10.7 MB 700.8 kB/s eta 0:00:15\n",
      "     --                                      0.6/10.7 MB 700.8 kB/s eta 0:00:15\n",
      "     --                                      0.7/10.7 MB 655.6 kB/s eta 0:00:16\n",
      "     --                                      0.8/10.7 MB 743.3 kB/s eta 0:00:14\n",
      "     ---                                     1.1/10.7 MB 951.1 kB/s eta 0:00:11\n",
      "     ----                                     1.2/10.7 MB 1.1 MB/s eta 0:00:09\n",
      "     ----                                     1.2/10.7 MB 1.1 MB/s eta 0:00:09\n",
      "     -----                                    1.4/10.7 MB 1.1 MB/s eta 0:00:09\n",
      "     ------                                   1.8/10.7 MB 1.4 MB/s eta 0:00:07\n",
      "     -------                                  2.0/10.7 MB 1.5 MB/s eta 0:00:06\n",
      "     --------                                 2.4/10.7 MB 1.7 MB/s eta 0:00:05\n",
      "     ---------                                2.4/10.7 MB 1.7 MB/s eta 0:00:05\n",
      "     ----------                               2.9/10.7 MB 1.9 MB/s eta 0:00:05\n",
      "     -------------                            3.5/10.7 MB 2.3 MB/s eta 0:00:04\n",
      "     --------------                           3.9/10.7 MB 2.5 MB/s eta 0:00:03\n",
      "     ---------------                          4.1/10.7 MB 2.6 MB/s eta 0:00:03\n",
      "     ---------------                          4.1/10.7 MB 2.6 MB/s eta 0:00:03\n",
      "     ---------------                          4.1/10.7 MB 2.6 MB/s eta 0:00:03\n",
      "     ---------------                          4.1/10.7 MB 2.6 MB/s eta 0:00:03\n",
      "     ---------------                          4.1/10.7 MB 2.6 MB/s eta 0:00:03\n",
      "     ---------------                          4.1/10.7 MB 2.6 MB/s eta 0:00:03\n",
      "     ---------------                          4.1/10.7 MB 2.6 MB/s eta 0:00:03\n",
      "     ---------------                          4.1/10.7 MB 2.6 MB/s eta 0:00:03\n",
      "     ---------------                          4.1/10.7 MB 2.6 MB/s eta 0:00:03\n",
      "     ---------------                          4.2/10.7 MB 2.1 MB/s eta 0:00:04\n",
      "     ------------------                       4.9/10.7 MB 2.3 MB/s eta 0:00:03\n",
      "     -----------------------                  6.1/10.7 MB 2.9 MB/s eta 0:00:02\n",
      "     -----------------------                  6.3/10.7 MB 2.9 MB/s eta 0:00:02\n",
      "     ------------------------                 6.5/10.7 MB 2.9 MB/s eta 0:00:02\n",
      "     --------------------------               7.0/10.7 MB 3.1 MB/s eta 0:00:02\n",
      "     ----------------------------             7.6/10.7 MB 3.3 MB/s eta 0:00:01\n",
      "     ----------------------------             7.7/10.7 MB 3.2 MB/s eta 0:00:01\n",
      "     -----------------------------            8.0/10.7 MB 3.3 MB/s eta 0:00:01\n",
      "     -------------------------------          8.3/10.7 MB 3.4 MB/s eta 0:00:01\n",
      "     --------------------------------         8.6/10.7 MB 3.4 MB/s eta 0:00:01\n",
      "     --------------------------------         8.8/10.7 MB 3.4 MB/s eta 0:00:01\n",
      "     ---------------------------------        9.0/10.7 MB 3.5 MB/s eta 0:00:01\n",
      "     ----------------------------------       9.2/10.7 MB 3.5 MB/s eta 0:00:01\n",
      "     -----------------------------------      9.4/10.7 MB 3.5 MB/s eta 0:00:01\n",
      "     -----------------------------------      9.4/10.7 MB 3.5 MB/s eta 0:00:01\n",
      "     -----------------------------------      9.4/10.7 MB 3.5 MB/s eta 0:00:01\n",
      "     -----------------------------------      9.4/10.7 MB 3.5 MB/s eta 0:00:01\n",
      "     -----------------------------------      9.5/10.7 MB 3.3 MB/s eta 0:00:01\n",
      "     ------------------------------------     9.8/10.7 MB 3.3 MB/s eta 0:00:01\n",
      "     ------------------------------------     9.8/10.7 MB 3.3 MB/s eta 0:00:01\n",
      "     ------------------------------------     9.8/10.7 MB 3.3 MB/s eta 0:00:01\n",
      "     -------------------------------------    9.9/10.7 MB 3.2 MB/s eta 0:00:01\n",
      "     -------------------------------------    10.1/10.7 MB 3.2 MB/s eta 0:00:01\n",
      "     -------------------------------------    10.1/10.7 MB 3.2 MB/s eta 0:00:01\n",
      "     -------------------------------------    10.1/10.7 MB 3.2 MB/s eta 0:00:01\n",
      "     --------------------------------------   10.2/10.7 MB 3.1 MB/s eta 0:00:01\n",
      "     --------------------------------------   10.2/10.7 MB 3.1 MB/s eta 0:00:01\n",
      "     --------------------------------------   10.2/10.7 MB 3.0 MB/s eta 0:00:01\n",
      "     --------------------------------------   10.3/10.7 MB 3.1 MB/s eta 0:00:01\n",
      "     ---------------------------------------  10.6/10.7 MB 3.8 MB/s eta 0:00:01\n",
      "     ---------------------------------------  10.6/10.7 MB 3.8 MB/s eta 0:00:01\n",
      "     ---------------------------------------  10.6/10.7 MB 3.8 MB/s eta 0:00:01\n",
      "     ---------------------------------------  10.6/10.7 MB 3.8 MB/s eta 0:00:01\n",
      "     ---------------------------------------  10.6/10.7 MB 3.8 MB/s eta 0:00:01\n",
      "     ---------------------------------------- 10.7/10.7 MB 3.6 MB/s eta 0:00:00\n",
      "Requirement already satisfied: python-dateutil>=2.8.2 in e:\\buet internship mysoft\\hda-buet-vtraining-23\\myenv\\lib\\site-packages (from pandas) (2.8.2)\n",
      "Collecting pytz>=2020.1 (from pandas)\n",
      "  Downloading pytz-2023.3-py2.py3-none-any.whl (502 kB)\n",
      "                                              0.0/502.3 kB ? eta -:--:--\n",
      "     --------------------------             348.2/502.3 kB 7.2 MB/s eta 0:00:01\n",
      "     -------------------------------------- 502.3/502.3 kB 6.3 MB/s eta 0:00:00\n",
      "Collecting tzdata>=2022.1 (from pandas)\n",
      "  Downloading tzdata-2023.3-py2.py3-none-any.whl (341 kB)\n",
      "                                              0.0/341.8 kB ? eta -:--:--\n",
      "     -----------------------------------    317.4/341.8 kB 9.9 MB/s eta 0:00:01\n",
      "     -------------------------------------- 341.8/341.8 kB 7.1 MB/s eta 0:00:00\n",
      "Collecting numpy>=1.21.0 (from pandas)\n",
      "  Downloading numpy-1.24.3-cp310-cp310-win_amd64.whl (14.8 MB)\n",
      "                                              0.0/14.8 MB ? eta -:--:--\n",
      "                                              0.4/14.8 MB 7.4 MB/s eta 0:00:02\n",
      "     -                                        0.6/14.8 MB 7.4 MB/s eta 0:00:02\n",
      "     --                                       0.9/14.8 MB 7.3 MB/s eta 0:00:02\n",
      "     --                                       1.1/14.8 MB 6.1 MB/s eta 0:00:03\n",
      "     ---                                      1.2/14.8 MB 5.3 MB/s eta 0:00:03\n",
      "     ----                                     1.6/14.8 MB 5.8 MB/s eta 0:00:03\n",
      "     ----                                     1.7/14.8 MB 5.7 MB/s eta 0:00:03\n",
      "     -----                                    2.1/14.8 MB 5.8 MB/s eta 0:00:03\n",
      "     ------                                   2.3/14.8 MB 5.5 MB/s eta 0:00:03\n",
      "     -------                                  2.6/14.8 MB 5.6 MB/s eta 0:00:03\n",
      "     -------                                  2.9/14.8 MB 5.6 MB/s eta 0:00:03\n",
      "     --------                                 3.2/14.8 MB 5.6 MB/s eta 0:00:03\n",
      "     ---------                                3.4/14.8 MB 5.6 MB/s eta 0:00:03\n",
      "     ---------                                3.7/14.8 MB 5.6 MB/s eta 0:00:02\n",
      "     -----------                              4.1/14.8 MB 5.9 MB/s eta 0:00:02\n",
      "     -----------                              4.4/14.8 MB 5.9 MB/s eta 0:00:02\n",
      "     ------------                             4.7/14.8 MB 5.9 MB/s eta 0:00:02\n",
      "     -------------                            5.0/14.8 MB 5.9 MB/s eta 0:00:02\n",
      "     --------------                           5.3/14.8 MB 6.0 MB/s eta 0:00:02\n",
      "     ---------------                          5.7/14.8 MB 6.1 MB/s eta 0:00:02\n",
      "     ----------------                         6.0/14.8 MB 6.1 MB/s eta 0:00:02\n",
      "     -----------------                        6.3/14.8 MB 6.1 MB/s eta 0:00:02\n",
      "     -----------------                        6.5/14.8 MB 6.1 MB/s eta 0:00:02\n",
      "     -----------------                        6.5/14.8 MB 6.1 MB/s eta 0:00:02\n",
      "     -----------------                        6.5/14.8 MB 6.1 MB/s eta 0:00:02\n",
      "     -----------------                        6.5/14.8 MB 6.1 MB/s eta 0:00:02\n",
      "     -----------------                        6.5/14.8 MB 6.1 MB/s eta 0:00:02\n",
      "     ------------------                       6.9/14.8 MB 5.2 MB/s eta 0:00:02\n",
      "     -------------------                      7.2/14.8 MB 5.3 MB/s eta 0:00:02\n",
      "     -------------------                      7.2/14.8 MB 5.3 MB/s eta 0:00:02\n",
      "     -------------------                      7.2/14.8 MB 5.3 MB/s eta 0:00:02\n",
      "     -------------------                      7.4/14.8 MB 4.9 MB/s eta 0:00:02\n",
      "     --------------------                     7.7/14.8 MB 5.0 MB/s eta 0:00:02\n",
      "     --------------------                     7.8/14.8 MB 5.0 MB/s eta 0:00:02\n",
      "     --------------------                     7.8/14.8 MB 5.0 MB/s eta 0:00:02\n",
      "     ---------------------                    7.8/14.8 MB 4.6 MB/s eta 0:00:02\n",
      "     ---------------------                    8.0/14.8 MB 4.6 MB/s eta 0:00:02\n",
      "     ----------------------                   8.3/14.8 MB 4.6 MB/s eta 0:00:02\n",
      "     ----------------------                   8.3/14.8 MB 4.6 MB/s eta 0:00:02\n",
      "     ----------------------                   8.3/14.8 MB 4.4 MB/s eta 0:00:02\n",
      "     ----------------------                   8.5/14.8 MB 4.4 MB/s eta 0:00:02\n",
      "     -----------------------                  8.7/14.8 MB 4.4 MB/s eta 0:00:02\n",
      "     ------------------------                 9.1/14.8 MB 4.5 MB/s eta 0:00:02\n",
      "     -------------------------                9.3/14.8 MB 4.5 MB/s eta 0:00:02\n",
      "     -------------------------                9.4/14.8 MB 4.5 MB/s eta 0:00:02\n",
      "     -------------------------                9.6/14.8 MB 4.5 MB/s eta 0:00:02\n",
      "     --------------------------               9.9/14.8 MB 4.5 MB/s eta 0:00:02\n",
      "     ---------------------------              10.1/14.8 MB 4.5 MB/s eta 0:00:02\n",
      "     ---------------------------              10.3/14.8 MB 4.5 MB/s eta 0:00:02\n",
      "     ---------------------------              10.4/14.8 MB 4.5 MB/s eta 0:00:02\n",
      "     -----------------------------            10.9/14.8 MB 4.5 MB/s eta 0:00:01\n",
      "     ------------------------------           11.1/14.8 MB 4.4 MB/s eta 0:00:01\n",
      "     ------------------------------           11.3/14.8 MB 4.5 MB/s eta 0:00:01\n",
      "     ------------------------------           11.4/14.8 MB 4.4 MB/s eta 0:00:01\n",
      "     -------------------------------          11.7/14.8 MB 4.4 MB/s eta 0:00:01\n",
      "     --------------------------------         12.0/14.8 MB 4.4 MB/s eta 0:00:01\n",
      "     ---------------------------------        12.3/14.8 MB 4.4 MB/s eta 0:00:01\n",
      "     ---------------------------------        12.5/14.8 MB 4.4 MB/s eta 0:00:01\n",
      "     ----------------------------------       12.7/14.8 MB 4.4 MB/s eta 0:00:01\n",
      "     -----------------------------------      13.0/14.8 MB 4.4 MB/s eta 0:00:01\n",
      "     -----------------------------------      13.3/14.8 MB 4.4 MB/s eta 0:00:01\n",
      "     ------------------------------------     13.5/14.8 MB 4.4 MB/s eta 0:00:01\n",
      "     ------------------------------------     13.7/14.8 MB 4.3 MB/s eta 0:00:01\n",
      "     -------------------------------------    13.9/14.8 MB 4.3 MB/s eta 0:00:01\n",
      "     --------------------------------------   14.2/14.8 MB 4.3 MB/s eta 0:00:01\n",
      "     ---------------------------------------  14.6/14.8 MB 4.3 MB/s eta 0:00:01\n",
      "     ---------------------------------------  14.7/14.8 MB 4.3 MB/s eta 0:00:01\n",
      "     ---------------------------------------  14.8/14.8 MB 4.3 MB/s eta 0:00:01\n",
      "     ---------------------------------------  14.8/14.8 MB 4.3 MB/s eta 0:00:01\n",
      "     ---------------------------------------- 14.8/14.8 MB 4.1 MB/s eta 0:00:00\n",
      "Requirement already satisfied: six>=1.5 in e:\\buet internship mysoft\\hda-buet-vtraining-23\\myenv\\lib\\site-packages (from python-dateutil>=2.8.2->pandas) (1.16.0)\n",
      "Installing collected packages: pytz, tzdata, numpy, pandas\n",
      "Successfully installed numpy-1.24.3 pandas-2.0.1 pytz-2023.3 tzdata-2023.3\n",
      "Note: you may need to restart the kernel to use updated packages.\n"
     ]
    }
   ],
   "source": [
    "pip install pandas"
   ]
  },
  {
   "cell_type": "markdown",
   "id": "79cc9725",
   "metadata": {
    "pycharm": {
     "name": "#%% md\n"
    }
   },
   "source": [
    "### Importing Packages ###"
   ]
  },
  {
   "cell_type": "code",
   "execution_count": 37,
   "id": "05d04502",
   "metadata": {
    "pycharm": {
     "name": "#%%\n"
    }
   },
   "outputs": [],
   "source": [
    "import psycopg2\n",
    "import pandas as pd\n",
    "import psycopg2.extras"
   ]
  },
  {
   "cell_type": "markdown",
   "id": "96d47605",
   "metadata": {
    "pycharm": {
     "name": "#%% md\n"
    }
   },
   "source": [
    "### Extract ###"
   ]
  },
  {
   "cell_type": "markdown",
   "id": "f4e68e8c",
   "metadata": {
    "pycharm": {
     "name": "#%% md\n"
    }
   },
   "source": [
    "#### Read from excel file ####"
   ]
  },
  {
   "cell_type": "code",
   "execution_count": 38,
   "id": "a1f99c31",
   "metadata": {
    "pycharm": {
     "name": "#%%\n"
    }
   },
   "outputs": [],
   "source": [
    "fact_table = pd.read_excel(r'E:\\Buet Internship Mysoft\\HDA-Buet-vtraining-23\\e-commerece_data.xlsx', sheet_name='Fact_table', engine='openpyxl')\n",
    "#fact_table = pd.read_csv(r'C:\\Git-Projects\\eSRD-Lab\\vInternship-Projects\\HDA\\Fact_data.csv')"
   ]
  },
  {
   "cell_type": "code",
   "execution_count": 6,
   "id": "64cd930a",
   "metadata": {
    "pycharm": {
     "name": "#%%\n"
    }
   },
   "outputs": [
    {
     "data": {
      "text/html": [
       "<div>\n",
       "<style scoped>\n",
       "    .dataframe tbody tr th:only-of-type {\n",
       "        vertical-align: middle;\n",
       "    }\n",
       "\n",
       "    .dataframe tbody tr th {\n",
       "        vertical-align: top;\n",
       "    }\n",
       "\n",
       "    .dataframe thead th {\n",
       "        text-align: right;\n",
       "    }\n",
       "</style>\n",
       "<table border=\"1\" class=\"dataframe\">\n",
       "  <thead>\n",
       "    <tr style=\"text-align: right;\">\n",
       "      <th></th>\n",
       "      <th>payment_key</th>\n",
       "      <th>coustomer_key</th>\n",
       "      <th>time_key</th>\n",
       "      <th>item_key</th>\n",
       "      <th>store_key</th>\n",
       "      <th>quantity</th>\n",
       "      <th>unit</th>\n",
       "      <th>unit_price</th>\n",
       "      <th>total_price</th>\n",
       "    </tr>\n",
       "  </thead>\n",
       "  <tbody>\n",
       "    <tr>\n",
       "      <th>0</th>\n",
       "      <td>P026</td>\n",
       "      <td>C004510</td>\n",
       "      <td>T049189</td>\n",
       "      <td>I00177</td>\n",
       "      <td>S00307</td>\n",
       "      <td>1</td>\n",
       "      <td>ct</td>\n",
       "      <td>35.0</td>\n",
       "      <td>35.0</td>\n",
       "    </tr>\n",
       "    <tr>\n",
       "      <th>1</th>\n",
       "      <td>P022</td>\n",
       "      <td>C008967</td>\n",
       "      <td>T041209</td>\n",
       "      <td>I00248</td>\n",
       "      <td>S00595</td>\n",
       "      <td>1</td>\n",
       "      <td>rolls</td>\n",
       "      <td>26.0</td>\n",
       "      <td>26.0</td>\n",
       "    </tr>\n",
       "    <tr>\n",
       "      <th>2</th>\n",
       "      <td>P030</td>\n",
       "      <td>C007261</td>\n",
       "      <td>T03633</td>\n",
       "      <td>I00195</td>\n",
       "      <td>S00496</td>\n",
       "      <td>8</td>\n",
       "      <td>ct</td>\n",
       "      <td>12.5</td>\n",
       "      <td>100.0</td>\n",
       "    </tr>\n",
       "    <tr>\n",
       "      <th>3</th>\n",
       "      <td>P032</td>\n",
       "      <td>C007048</td>\n",
       "      <td>T084631</td>\n",
       "      <td>I00131</td>\n",
       "      <td>S0086</td>\n",
       "      <td>8</td>\n",
       "      <td>ct</td>\n",
       "      <td>14.0</td>\n",
       "      <td>112.0</td>\n",
       "    </tr>\n",
       "    <tr>\n",
       "      <th>4</th>\n",
       "      <td>P014</td>\n",
       "      <td>C006430</td>\n",
       "      <td>T071276</td>\n",
       "      <td>I00050</td>\n",
       "      <td>S00488</td>\n",
       "      <td>8</td>\n",
       "      <td>cans</td>\n",
       "      <td>8.0</td>\n",
       "      <td>64.0</td>\n",
       "    </tr>\n",
       "    <tr>\n",
       "      <th>...</th>\n",
       "      <td>...</td>\n",
       "      <td>...</td>\n",
       "      <td>...</td>\n",
       "      <td>...</td>\n",
       "      <td>...</td>\n",
       "      <td>...</td>\n",
       "      <td>...</td>\n",
       "      <td>...</td>\n",
       "      <td>...</td>\n",
       "    </tr>\n",
       "    <tr>\n",
       "      <th>999995</th>\n",
       "      <td>P010</td>\n",
       "      <td>C003726</td>\n",
       "      <td>T09247</td>\n",
       "      <td>I00063</td>\n",
       "      <td>S00502</td>\n",
       "      <td>5</td>\n",
       "      <td>cans</td>\n",
       "      <td>40.0</td>\n",
       "      <td>200.0</td>\n",
       "    </tr>\n",
       "    <tr>\n",
       "      <th>999996</th>\n",
       "      <td>P021</td>\n",
       "      <td>C002581</td>\n",
       "      <td>T023483</td>\n",
       "      <td>I00252</td>\n",
       "      <td>S00225</td>\n",
       "      <td>1</td>\n",
       "      <td>ct</td>\n",
       "      <td>11.0</td>\n",
       "      <td>11.0</td>\n",
       "    </tr>\n",
       "    <tr>\n",
       "      <th>999997</th>\n",
       "      <td>P035</td>\n",
       "      <td>C006133</td>\n",
       "      <td>T039372</td>\n",
       "      <td>I00119</td>\n",
       "      <td>S00555</td>\n",
       "      <td>7</td>\n",
       "      <td>ct</td>\n",
       "      <td>53.0</td>\n",
       "      <td>371.0</td>\n",
       "    </tr>\n",
       "    <tr>\n",
       "      <th>999998</th>\n",
       "      <td>P031</td>\n",
       "      <td>C008735</td>\n",
       "      <td>T097975</td>\n",
       "      <td>I00257</td>\n",
       "      <td>S00440</td>\n",
       "      <td>2</td>\n",
       "      <td>ct</td>\n",
       "      <td>21.0</td>\n",
       "      <td>42.0</td>\n",
       "    </tr>\n",
       "    <tr>\n",
       "      <th>999999</th>\n",
       "      <td>P032</td>\n",
       "      <td>C004067</td>\n",
       "      <td>T018028</td>\n",
       "      <td>I00044</td>\n",
       "      <td>S00326</td>\n",
       "      <td>10</td>\n",
       "      <td>cans</td>\n",
       "      <td>8.0</td>\n",
       "      <td>80.0</td>\n",
       "    </tr>\n",
       "  </tbody>\n",
       "</table>\n",
       "<p>1000000 rows × 9 columns</p>\n",
       "</div>"
      ],
      "text/plain": [
       "       payment_key coustomer_key time_key item_key store_key  quantity   unit   \n",
       "0             P026       C004510  T049189   I00177    S00307         1     ct  \\\n",
       "1             P022       C008967  T041209   I00248    S00595         1  rolls   \n",
       "2             P030       C007261   T03633   I00195    S00496         8     ct   \n",
       "3             P032       C007048  T084631   I00131     S0086         8     ct   \n",
       "4             P014       C006430  T071276   I00050    S00488         8   cans   \n",
       "...            ...           ...      ...      ...       ...       ...    ...   \n",
       "999995        P010       C003726   T09247   I00063    S00502         5   cans   \n",
       "999996        P021       C002581  T023483   I00252    S00225         1     ct   \n",
       "999997        P035       C006133  T039372   I00119    S00555         7     ct   \n",
       "999998        P031       C008735  T097975   I00257    S00440         2     ct   \n",
       "999999        P032       C004067  T018028   I00044    S00326        10   cans   \n",
       "\n",
       "        unit_price  total_price  \n",
       "0             35.0         35.0  \n",
       "1             26.0         26.0  \n",
       "2             12.5        100.0  \n",
       "3             14.0        112.0  \n",
       "4              8.0         64.0  \n",
       "...            ...          ...  \n",
       "999995        40.0        200.0  \n",
       "999996        11.0         11.0  \n",
       "999997        53.0        371.0  \n",
       "999998        21.0         42.0  \n",
       "999999         8.0         80.0  \n",
       "\n",
       "[1000000 rows x 9 columns]"
      ]
     },
     "execution_count": 6,
     "metadata": {},
     "output_type": "execute_result"
    }
   ],
   "source": [
    "fact_table"
   ]
  },
  {
   "cell_type": "code",
   "execution_count": 2,
   "id": "2c43bd8b",
   "metadata": {
    "pycharm": {
     "name": "#%%\n"
    }
   },
   "outputs": [
    {
     "ename": "NameError",
     "evalue": "name 'pd' is not defined",
     "output_type": "error",
     "traceback": [
      "\u001b[1;31m---------------------------------------------------------------------------\u001b[0m",
      "\u001b[1;31mNameError\u001b[0m                                 Traceback (most recent call last)",
      "Cell \u001b[1;32mIn[2], line 1\u001b[0m\n\u001b[1;32m----> 1\u001b[0m trans_dim \u001b[38;5;241m=\u001b[39m \u001b[43mpd\u001b[49m\u001b[38;5;241m.\u001b[39mread_excel(\u001b[38;5;124mr\u001b[39m\u001b[38;5;124m'\u001b[39m\u001b[38;5;124mE:\u001b[39m\u001b[38;5;124m\\\u001b[39m\u001b[38;5;124mBuet Internship Mysoft\u001b[39m\u001b[38;5;124m\\\u001b[39m\u001b[38;5;124mHDA-Buet-vtraining-23\u001b[39m\u001b[38;5;124m\\\u001b[39m\u001b[38;5;124me-commerece_data.xlsx\u001b[39m\u001b[38;5;124m'\u001b[39m, sheet_name\u001b[38;5;241m=\u001b[39m\u001b[38;5;124m'\u001b[39m\u001b[38;5;124mTrans_dim\u001b[39m\u001b[38;5;124m'\u001b[39m, engine\u001b[38;5;241m=\u001b[39m\u001b[38;5;124m'\u001b[39m\u001b[38;5;124mopenpyxl\u001b[39m\u001b[38;5;124m'\u001b[39m)\n",
      "\u001b[1;31mNameError\u001b[0m: name 'pd' is not defined"
     ]
    }
   ],
   "source": [
    "trans_dim = pd.read_excel(r'E:\\Buet Internship Mysoft\\HDA-Buet-vtraining-23\\e-commerece_data.xlsx', sheet_name='Trans_dim', engine='openpyxl')"
   ]
  },
  {
   "cell_type": "code",
   "execution_count": 19,
   "id": "22e4e105",
   "metadata": {
    "pycharm": {
     "name": "#%%\n"
    }
   },
   "outputs": [
    {
     "data": {
      "text/html": [
       "<div>\n",
       "<style scoped>\n",
       "    .dataframe tbody tr th:only-of-type {\n",
       "        vertical-align: middle;\n",
       "    }\n",
       "\n",
       "    .dataframe tbody tr th {\n",
       "        vertical-align: top;\n",
       "    }\n",
       "\n",
       "    .dataframe thead th {\n",
       "        text-align: right;\n",
       "    }\n",
       "</style>\n",
       "<table border=\"1\" class=\"dataframe\">\n",
       "  <thead>\n",
       "    <tr style=\"text-align: right;\">\n",
       "      <th></th>\n",
       "      <th>payment_key</th>\n",
       "      <th>trans_type</th>\n",
       "      <th>bank_name</th>\n",
       "    </tr>\n",
       "  </thead>\n",
       "  <tbody>\n",
       "    <tr>\n",
       "      <th>0</th>\n",
       "      <td>P001</td>\n",
       "      <td>cash</td>\n",
       "      <td>NaN</td>\n",
       "    </tr>\n",
       "    <tr>\n",
       "      <th>1</th>\n",
       "      <td>P002</td>\n",
       "      <td>card</td>\n",
       "      <td>AB Bank Limited</td>\n",
       "    </tr>\n",
       "    <tr>\n",
       "      <th>2</th>\n",
       "      <td>P003</td>\n",
       "      <td>card</td>\n",
       "      <td>Bangladesh Commerce Bank Limited</td>\n",
       "    </tr>\n",
       "    <tr>\n",
       "      <th>3</th>\n",
       "      <td>P004</td>\n",
       "      <td>card</td>\n",
       "      <td>Bank Asia Limited</td>\n",
       "    </tr>\n",
       "    <tr>\n",
       "      <th>4</th>\n",
       "      <td>P005</td>\n",
       "      <td>card</td>\n",
       "      <td>BRAC Bank Limited</td>\n",
       "    </tr>\n",
       "    <tr>\n",
       "      <th>5</th>\n",
       "      <td>P006</td>\n",
       "      <td>card</td>\n",
       "      <td>Citizens Bank Limited</td>\n",
       "    </tr>\n",
       "    <tr>\n",
       "      <th>6</th>\n",
       "      <td>P007</td>\n",
       "      <td>card</td>\n",
       "      <td>City Bank Limited</td>\n",
       "    </tr>\n",
       "    <tr>\n",
       "      <th>7</th>\n",
       "      <td>P008</td>\n",
       "      <td>card</td>\n",
       "      <td>Community Bank Bangladesh Limited</td>\n",
       "    </tr>\n",
       "    <tr>\n",
       "      <th>8</th>\n",
       "      <td>P009</td>\n",
       "      <td>card</td>\n",
       "      <td>Dhaka Bank Limited</td>\n",
       "    </tr>\n",
       "    <tr>\n",
       "      <th>9</th>\n",
       "      <td>P010</td>\n",
       "      <td>card</td>\n",
       "      <td>Dutch-Bangla Bank Limited</td>\n",
       "    </tr>\n",
       "    <tr>\n",
       "      <th>10</th>\n",
       "      <td>P011</td>\n",
       "      <td>card</td>\n",
       "      <td>Eastern Bank Limited</td>\n",
       "    </tr>\n",
       "    <tr>\n",
       "      <th>11</th>\n",
       "      <td>P012</td>\n",
       "      <td>card</td>\n",
       "      <td>IFIC Bank Limited</td>\n",
       "    </tr>\n",
       "    <tr>\n",
       "      <th>12</th>\n",
       "      <td>P013</td>\n",
       "      <td>card</td>\n",
       "      <td>Jamuna Bank Limited</td>\n",
       "    </tr>\n",
       "    <tr>\n",
       "      <th>13</th>\n",
       "      <td>P014</td>\n",
       "      <td>card</td>\n",
       "      <td>Meghna Bank Limited</td>\n",
       "    </tr>\n",
       "    <tr>\n",
       "      <th>14</th>\n",
       "      <td>P015</td>\n",
       "      <td>card</td>\n",
       "      <td>Mercantile Bank Limited</td>\n",
       "    </tr>\n",
       "    <tr>\n",
       "      <th>15</th>\n",
       "      <td>P016</td>\n",
       "      <td>card</td>\n",
       "      <td>Midland Bank Limited</td>\n",
       "    </tr>\n",
       "    <tr>\n",
       "      <th>16</th>\n",
       "      <td>P017</td>\n",
       "      <td>card</td>\n",
       "      <td>Modhumoti Bank Limited</td>\n",
       "    </tr>\n",
       "    <tr>\n",
       "      <th>17</th>\n",
       "      <td>P018</td>\n",
       "      <td>card</td>\n",
       "      <td>Mutual Trust Bank Limited</td>\n",
       "    </tr>\n",
       "    <tr>\n",
       "      <th>18</th>\n",
       "      <td>P019</td>\n",
       "      <td>card</td>\n",
       "      <td>National Bank Limited</td>\n",
       "    </tr>\n",
       "    <tr>\n",
       "      <th>19</th>\n",
       "      <td>P020</td>\n",
       "      <td>card</td>\n",
       "      <td>National Credit &amp; Commerce Bank Limited</td>\n",
       "    </tr>\n",
       "    <tr>\n",
       "      <th>20</th>\n",
       "      <td>P021</td>\n",
       "      <td>card</td>\n",
       "      <td>NRB Bank Limited</td>\n",
       "    </tr>\n",
       "    <tr>\n",
       "      <th>21</th>\n",
       "      <td>P022</td>\n",
       "      <td>card</td>\n",
       "      <td>NRB Commercial Bank Ltd</td>\n",
       "    </tr>\n",
       "    <tr>\n",
       "      <th>22</th>\n",
       "      <td>P023</td>\n",
       "      <td>card</td>\n",
       "      <td>NRB Global Bank Ltd</td>\n",
       "    </tr>\n",
       "    <tr>\n",
       "      <th>23</th>\n",
       "      <td>P024</td>\n",
       "      <td>card</td>\n",
       "      <td>One Bank Limited</td>\n",
       "    </tr>\n",
       "    <tr>\n",
       "      <th>24</th>\n",
       "      <td>P025</td>\n",
       "      <td>card</td>\n",
       "      <td>Padma Bank Limited</td>\n",
       "    </tr>\n",
       "    <tr>\n",
       "      <th>25</th>\n",
       "      <td>P026</td>\n",
       "      <td>card</td>\n",
       "      <td>Premier Bank Limited</td>\n",
       "    </tr>\n",
       "    <tr>\n",
       "      <th>26</th>\n",
       "      <td>P027</td>\n",
       "      <td>card</td>\n",
       "      <td>Prime Bank Limited</td>\n",
       "    </tr>\n",
       "    <tr>\n",
       "      <th>27</th>\n",
       "      <td>P028</td>\n",
       "      <td>card</td>\n",
       "      <td>Pubali Bank Limited</td>\n",
       "    </tr>\n",
       "    <tr>\n",
       "      <th>28</th>\n",
       "      <td>P029</td>\n",
       "      <td>card</td>\n",
       "      <td>Standard Bank Limited</td>\n",
       "    </tr>\n",
       "    <tr>\n",
       "      <th>29</th>\n",
       "      <td>P030</td>\n",
       "      <td>card</td>\n",
       "      <td>Shimanto Bank Ltd</td>\n",
       "    </tr>\n",
       "    <tr>\n",
       "      <th>30</th>\n",
       "      <td>P031</td>\n",
       "      <td>card</td>\n",
       "      <td>Southeast Bank Limited</td>\n",
       "    </tr>\n",
       "    <tr>\n",
       "      <th>31</th>\n",
       "      <td>P032</td>\n",
       "      <td>card</td>\n",
       "      <td>South Bangla Agriculture and Commerce Bank Lim...</td>\n",
       "    </tr>\n",
       "    <tr>\n",
       "      <th>32</th>\n",
       "      <td>P033</td>\n",
       "      <td>card</td>\n",
       "      <td>Trust Bank Limited</td>\n",
       "    </tr>\n",
       "    <tr>\n",
       "      <th>33</th>\n",
       "      <td>P034</td>\n",
       "      <td>card</td>\n",
       "      <td>United Commercial Bank Ltd</td>\n",
       "    </tr>\n",
       "    <tr>\n",
       "      <th>34</th>\n",
       "      <td>P035</td>\n",
       "      <td>card</td>\n",
       "      <td>Uttara Bank Limited</td>\n",
       "    </tr>\n",
       "    <tr>\n",
       "      <th>35</th>\n",
       "      <td>P036</td>\n",
       "      <td>card</td>\n",
       "      <td>Bengal Commercial Bank Ltd</td>\n",
       "    </tr>\n",
       "    <tr>\n",
       "      <th>36</th>\n",
       "      <td>P037</td>\n",
       "      <td>mobile</td>\n",
       "      <td>Bkash</td>\n",
       "    </tr>\n",
       "    <tr>\n",
       "      <th>37</th>\n",
       "      <td>P038</td>\n",
       "      <td>mobile</td>\n",
       "      <td>Rocket</td>\n",
       "    </tr>\n",
       "    <tr>\n",
       "      <th>38</th>\n",
       "      <td>P039</td>\n",
       "      <td>mobile</td>\n",
       "      <td>Nagad</td>\n",
       "    </tr>\n",
       "  </tbody>\n",
       "</table>\n",
       "</div>"
      ],
      "text/plain": [
       "   payment_key trans_type                                          bank_name\n",
       "0         P001       cash                                                NaN\n",
       "1         P002       card                                    AB Bank Limited\n",
       "2         P003       card                   Bangladesh Commerce Bank Limited\n",
       "3         P004       card                                  Bank Asia Limited\n",
       "4         P005       card                                  BRAC Bank Limited\n",
       "5         P006       card                              Citizens Bank Limited\n",
       "6         P007       card                                  City Bank Limited\n",
       "7         P008       card                  Community Bank Bangladesh Limited\n",
       "8         P009       card                                 Dhaka Bank Limited\n",
       "9         P010       card                          Dutch-Bangla Bank Limited\n",
       "10        P011       card                               Eastern Bank Limited\n",
       "11        P012       card                                  IFIC Bank Limited\n",
       "12        P013       card                                Jamuna Bank Limited\n",
       "13        P014       card                                Meghna Bank Limited\n",
       "14        P015       card                            Mercantile Bank Limited\n",
       "15        P016       card                               Midland Bank Limited\n",
       "16        P017       card                             Modhumoti Bank Limited\n",
       "17        P018       card                          Mutual Trust Bank Limited\n",
       "18        P019       card                              National Bank Limited\n",
       "19        P020       card            National Credit & Commerce Bank Limited\n",
       "20        P021       card                                   NRB Bank Limited\n",
       "21        P022       card                            NRB Commercial Bank Ltd\n",
       "22        P023       card                                NRB Global Bank Ltd\n",
       "23        P024       card                                   One Bank Limited\n",
       "24        P025       card                                 Padma Bank Limited\n",
       "25        P026       card                               Premier Bank Limited\n",
       "26        P027       card                                 Prime Bank Limited\n",
       "27        P028       card                                Pubali Bank Limited\n",
       "28        P029       card                              Standard Bank Limited\n",
       "29        P030       card                                  Shimanto Bank Ltd\n",
       "30        P031       card                             Southeast Bank Limited\n",
       "31        P032       card  South Bangla Agriculture and Commerce Bank Lim...\n",
       "32        P033       card                                 Trust Bank Limited\n",
       "33        P034       card                         United Commercial Bank Ltd\n",
       "34        P035       card                                Uttara Bank Limited\n",
       "35        P036       card                         Bengal Commercial Bank Ltd\n",
       "36        P037     mobile                                              Bkash\n",
       "37        P038     mobile                                             Rocket\n",
       "38        P039     mobile                                              Nagad"
      ]
     },
     "execution_count": 19,
     "metadata": {},
     "output_type": "execute_result"
    }
   ],
   "source": [
    "trans_dim.dtypes\n",
    "trans_dim"
   ]
  },
  {
   "cell_type": "code",
   "execution_count": 40,
   "id": "9669046c",
   "metadata": {
    "pycharm": {
     "name": "#%%\n"
    }
   },
   "outputs": [],
   "source": [
    "item_dim = pd.read_excel(r'E:\\Buet Internship Mysoft\\HDA-Buet-vtraining-23\\e-commerece_data.xlsx', sheet_name='Item_dim', engine='openpyxl')"
   ]
  },
  {
   "cell_type": "code",
   "execution_count": 21,
   "id": "4f92b512",
   "metadata": {
    "pycharm": {
     "name": "#%%\n"
    }
   },
   "outputs": [
    {
     "data": {
      "text/html": [
       "<div>\n",
       "<style scoped>\n",
       "    .dataframe tbody tr th:only-of-type {\n",
       "        vertical-align: middle;\n",
       "    }\n",
       "\n",
       "    .dataframe tbody tr th {\n",
       "        vertical-align: top;\n",
       "    }\n",
       "\n",
       "    .dataframe thead th {\n",
       "        text-align: right;\n",
       "    }\n",
       "</style>\n",
       "<table border=\"1\" class=\"dataframe\">\n",
       "  <thead>\n",
       "    <tr style=\"text-align: right;\">\n",
       "      <th></th>\n",
       "      <th>item_key</th>\n",
       "      <th>item_name</th>\n",
       "      <th>desc</th>\n",
       "      <th>unit_price</th>\n",
       "      <th>man_country</th>\n",
       "      <th>supplier</th>\n",
       "      <th>unit</th>\n",
       "    </tr>\n",
       "  </thead>\n",
       "  <tbody>\n",
       "    <tr>\n",
       "      <th>0</th>\n",
       "      <td>I00001</td>\n",
       "      <td>A&amp;W Root Beer - 12 oz cans</td>\n",
       "      <td>a. Beverage - Soda</td>\n",
       "      <td>11.50</td>\n",
       "      <td>Netherlands</td>\n",
       "      <td>Bolsius Boxmeer</td>\n",
       "      <td>cans</td>\n",
       "    </tr>\n",
       "    <tr>\n",
       "      <th>1</th>\n",
       "      <td>I00002</td>\n",
       "      <td>A&amp;W Root Beer Diet - 12 oz cans</td>\n",
       "      <td>a. Beverage - Soda</td>\n",
       "      <td>6.75</td>\n",
       "      <td>poland</td>\n",
       "      <td>CHROMADURLIN S.A.S</td>\n",
       "      <td>cans</td>\n",
       "    </tr>\n",
       "    <tr>\n",
       "      <th>2</th>\n",
       "      <td>I00003</td>\n",
       "      <td>Barq's Root Beer - 12 oz cans</td>\n",
       "      <td>a. Beverage - Soda</td>\n",
       "      <td>6.75</td>\n",
       "      <td>Bangladesh</td>\n",
       "      <td>DENIMACH LTD</td>\n",
       "      <td>cans</td>\n",
       "    </tr>\n",
       "    <tr>\n",
       "      <th>3</th>\n",
       "      <td>I00004</td>\n",
       "      <td>Cherry Coke 12oz</td>\n",
       "      <td>a. Beverage - Soda</td>\n",
       "      <td>6.75</td>\n",
       "      <td>Netherlands</td>\n",
       "      <td>Bolsius Boxmeer</td>\n",
       "      <td>cans</td>\n",
       "    </tr>\n",
       "    <tr>\n",
       "      <th>4</th>\n",
       "      <td>I00005</td>\n",
       "      <td>Cherry Coke Zero 12 pack</td>\n",
       "      <td>a. Beverage - Soda</td>\n",
       "      <td>6.75</td>\n",
       "      <td>Finland</td>\n",
       "      <td>HARDFORD AB</td>\n",
       "      <td>cans</td>\n",
       "    </tr>\n",
       "    <tr>\n",
       "      <th>...</th>\n",
       "      <td>...</td>\n",
       "      <td>...</td>\n",
       "      <td>...</td>\n",
       "      <td>...</td>\n",
       "      <td>...</td>\n",
       "      <td>...</td>\n",
       "      <td>...</td>\n",
       "    </tr>\n",
       "    <tr>\n",
       "      <th>259</th>\n",
       "      <td>I00260</td>\n",
       "      <td>Napkins Square Lunch</td>\n",
       "      <td>Kitchen Supplies</td>\n",
       "      <td>15.00</td>\n",
       "      <td>Cambodia</td>\n",
       "      <td>NINGBO SEDUNO IMP &amp; EXP CO.LTD</td>\n",
       "      <td>ct</td>\n",
       "    </tr>\n",
       "    <tr>\n",
       "      <th>260</th>\n",
       "      <td>I00261</td>\n",
       "      <td>POM 2 ply paper towels</td>\n",
       "      <td>Kitchen Supplies</td>\n",
       "      <td>33.00</td>\n",
       "      <td>Lithuania</td>\n",
       "      <td>BIGSO AB</td>\n",
       "      <td>ct</td>\n",
       "    </tr>\n",
       "    <tr>\n",
       "      <th>261</th>\n",
       "      <td>I00262</td>\n",
       "      <td>Strong Everyday Napkins</td>\n",
       "      <td>Kitchen Supplies</td>\n",
       "      <td>14.00</td>\n",
       "      <td>Netherlands</td>\n",
       "      <td>Bolsius Boxmeer</td>\n",
       "      <td>ct</td>\n",
       "    </tr>\n",
       "    <tr>\n",
       "      <th>262</th>\n",
       "      <td>I00263</td>\n",
       "      <td>Advil 2 pill packets</td>\n",
       "      <td>Medicine</td>\n",
       "      <td>14.00</td>\n",
       "      <td>Lithuania</td>\n",
       "      <td>BIGSO AB</td>\n",
       "      <td>Ct</td>\n",
       "    </tr>\n",
       "    <tr>\n",
       "      <th>263</th>\n",
       "      <td>I00264</td>\n",
       "      <td>Tylenol Extra Strength 2 pill packets</td>\n",
       "      <td>Medicine</td>\n",
       "      <td>15.00</td>\n",
       "      <td>India</td>\n",
       "      <td>Indo Count Industries Ltd</td>\n",
       "      <td>Ct</td>\n",
       "    </tr>\n",
       "  </tbody>\n",
       "</table>\n",
       "<p>264 rows × 7 columns</p>\n",
       "</div>"
      ],
      "text/plain": [
       "    item_key                              item_name                desc   \n",
       "0     I00001             A&W Root Beer - 12 oz cans  a. Beverage - Soda  \\\n",
       "1     I00002        A&W Root Beer Diet - 12 oz cans  a. Beverage - Soda   \n",
       "2     I00003          Barq's Root Beer - 12 oz cans  a. Beverage - Soda   \n",
       "3     I00004                       Cherry Coke 12oz  a. Beverage - Soda   \n",
       "4     I00005               Cherry Coke Zero 12 pack  a. Beverage - Soda   \n",
       "..       ...                                    ...                 ...   \n",
       "259   I00260                   Napkins Square Lunch    Kitchen Supplies   \n",
       "260   I00261                 POM 2 ply paper towels    Kitchen Supplies   \n",
       "261   I00262                Strong Everyday Napkins    Kitchen Supplies   \n",
       "262   I00263                   Advil 2 pill packets            Medicine   \n",
       "263   I00264  Tylenol Extra Strength 2 pill packets            Medicine   \n",
       "\n",
       "     unit_price  man_country                        supplier  unit  \n",
       "0         11.50  Netherlands                 Bolsius Boxmeer  cans  \n",
       "1          6.75       poland              CHROMADURLIN S.A.S  cans  \n",
       "2          6.75   Bangladesh                    DENIMACH LTD  cans  \n",
       "3          6.75  Netherlands                 Bolsius Boxmeer  cans  \n",
       "4          6.75      Finland                     HARDFORD AB  cans  \n",
       "..          ...          ...                             ...   ...  \n",
       "259       15.00     Cambodia  NINGBO SEDUNO IMP & EXP CO.LTD    ct  \n",
       "260       33.00    Lithuania                        BIGSO AB    ct  \n",
       "261       14.00  Netherlands                 Bolsius Boxmeer    ct  \n",
       "262       14.00    Lithuania                        BIGSO AB    Ct  \n",
       "263       15.00        India       Indo Count Industries Ltd    Ct  \n",
       "\n",
       "[264 rows x 7 columns]"
      ]
     },
     "execution_count": 21,
     "metadata": {},
     "output_type": "execute_result"
    }
   ],
   "source": [
    "item_dim\n",
    "# item_dim.dtypes"
   ]
  },
  {
   "cell_type": "code",
   "execution_count": 41,
   "id": "ad7113ef",
   "metadata": {
    "pycharm": {
     "name": "#%%\n"
    }
   },
   "outputs": [],
   "source": [
    "customer_dim = pd.read_excel(r'E:\\Buet Internship Mysoft\\HDA-Buet-vtraining-23\\e-commerece_data.xlsx', sheet_name='Coustomer_dim', engine='openpyxl')\n",
    "# customer_dim = pd.read_csv(r'D:\\HDA vinternship Buet\\dataset\\Coustomer_dim.csv')"
   ]
  },
  {
   "cell_type": "code",
   "execution_count": 22,
   "id": "b6632d87",
   "metadata": {
    "pycharm": {
     "name": "#%%\n"
    }
   },
   "outputs": [
    {
     "data": {
      "text/html": [
       "<div>\n",
       "<style scoped>\n",
       "    .dataframe tbody tr th:only-of-type {\n",
       "        vertical-align: middle;\n",
       "    }\n",
       "\n",
       "    .dataframe tbody tr th {\n",
       "        vertical-align: top;\n",
       "    }\n",
       "\n",
       "    .dataframe thead th {\n",
       "        text-align: right;\n",
       "    }\n",
       "</style>\n",
       "<table border=\"1\" class=\"dataframe\">\n",
       "  <thead>\n",
       "    <tr style=\"text-align: right;\">\n",
       "      <th></th>\n",
       "      <th>coustomer_key</th>\n",
       "      <th>name</th>\n",
       "      <th>contact_no</th>\n",
       "      <th>nid</th>\n",
       "    </tr>\n",
       "  </thead>\n",
       "  <tbody>\n",
       "    <tr>\n",
       "      <th>0</th>\n",
       "      <td>C000001</td>\n",
       "      <td>sumit</td>\n",
       "      <td>8801920345851</td>\n",
       "      <td>7505075708899</td>\n",
       "    </tr>\n",
       "    <tr>\n",
       "      <th>1</th>\n",
       "      <td>C000002</td>\n",
       "      <td>tammanne</td>\n",
       "      <td>8801817069329</td>\n",
       "      <td>1977731324842</td>\n",
       "    </tr>\n",
       "    <tr>\n",
       "      <th>2</th>\n",
       "      <td>C000003</td>\n",
       "      <td>kailash kumar</td>\n",
       "      <td>8801663795774</td>\n",
       "      <td>3769494056318</td>\n",
       "    </tr>\n",
       "    <tr>\n",
       "      <th>3</th>\n",
       "      <td>C000004</td>\n",
       "      <td>bhagwati prasad</td>\n",
       "      <td>8801533627961</td>\n",
       "      <td>9378834712725</td>\n",
       "    </tr>\n",
       "    <tr>\n",
       "      <th>4</th>\n",
       "      <td>C000005</td>\n",
       "      <td>ajay</td>\n",
       "      <td>8801943715786</td>\n",
       "      <td>3540815556323</td>\n",
       "    </tr>\n",
       "    <tr>\n",
       "      <th>...</th>\n",
       "      <td>...</td>\n",
       "      <td>...</td>\n",
       "      <td>...</td>\n",
       "      <td>...</td>\n",
       "    </tr>\n",
       "    <tr>\n",
       "      <th>9186</th>\n",
       "      <td>C009187</td>\n",
       "      <td>smt radha</td>\n",
       "      <td>8801563029753</td>\n",
       "      <td>1057824928189</td>\n",
       "    </tr>\n",
       "    <tr>\n",
       "      <th>9187</th>\n",
       "      <td>C009188</td>\n",
       "      <td>tulsi sharma</td>\n",
       "      <td>8801794982266</td>\n",
       "      <td>7970880905205</td>\n",
       "    </tr>\n",
       "    <tr>\n",
       "      <th>9188</th>\n",
       "      <td>C009189</td>\n",
       "      <td>madhubala</td>\n",
       "      <td>8801890032435</td>\n",
       "      <td>3101930298150</td>\n",
       "    </tr>\n",
       "    <tr>\n",
       "      <th>9189</th>\n",
       "      <td>C009190</td>\n",
       "      <td>pintu devi</td>\n",
       "      <td>8801563290767</td>\n",
       "      <td>7234328323528</td>\n",
       "    </tr>\n",
       "    <tr>\n",
       "      <th>9190</th>\n",
       "      <td>C009191</td>\n",
       "      <td>roopa</td>\n",
       "      <td>8801524507359</td>\n",
       "      <td>5682728390307</td>\n",
       "    </tr>\n",
       "  </tbody>\n",
       "</table>\n",
       "<p>9191 rows × 4 columns</p>\n",
       "</div>"
      ],
      "text/plain": [
       "     coustomer_key             name     contact_no            nid\n",
       "0          C000001            sumit  8801920345851  7505075708899\n",
       "1          C000002         tammanne  8801817069329  1977731324842\n",
       "2          C000003    kailash kumar  8801663795774  3769494056318\n",
       "3          C000004  bhagwati prasad  8801533627961  9378834712725\n",
       "4          C000005             ajay  8801943715786  3540815556323\n",
       "...            ...              ...            ...            ...\n",
       "9186       C009187        smt radha  8801563029753  1057824928189\n",
       "9187       C009188     tulsi sharma  8801794982266  7970880905205\n",
       "9188       C009189        madhubala  8801890032435  3101930298150\n",
       "9189       C009190       pintu devi  8801563290767  7234328323528\n",
       "9190       C009191            roopa  8801524507359  5682728390307\n",
       "\n",
       "[9191 rows x 4 columns]"
      ]
     },
     "execution_count": 22,
     "metadata": {},
     "output_type": "execute_result"
    }
   ],
   "source": [
    "customer_dim"
   ]
  },
  {
   "cell_type": "code",
   "execution_count": 42,
   "id": "ffa5e1bc",
   "metadata": {
    "pycharm": {
     "name": "#%%\n"
    }
   },
   "outputs": [],
   "source": [
    "time_dim = pd.read_excel(r'E:\\Buet Internship Mysoft\\HDA-Buet-vtraining-23\\e-commerece_data.xlsx', sheet_name='Time_dim', engine='openpyxl')"
   ]
  },
  {
   "cell_type": "code",
   "execution_count": 23,
   "id": "731223ac",
   "metadata": {
    "pycharm": {
     "name": "#%%\n"
    }
   },
   "outputs": [
    {
     "data": {
      "text/html": [
       "<div>\n",
       "<style scoped>\n",
       "    .dataframe tbody tr th:only-of-type {\n",
       "        vertical-align: middle;\n",
       "    }\n",
       "\n",
       "    .dataframe tbody tr th {\n",
       "        vertical-align: top;\n",
       "    }\n",
       "\n",
       "    .dataframe thead th {\n",
       "        text-align: right;\n",
       "    }\n",
       "</style>\n",
       "<table border=\"1\" class=\"dataframe\">\n",
       "  <thead>\n",
       "    <tr style=\"text-align: right;\">\n",
       "      <th></th>\n",
       "      <th>time_key</th>\n",
       "      <th>date</th>\n",
       "      <th>hour</th>\n",
       "      <th>day</th>\n",
       "      <th>week</th>\n",
       "      <th>month</th>\n",
       "      <th>quarter</th>\n",
       "      <th>year</th>\n",
       "    </tr>\n",
       "  </thead>\n",
       "  <tbody>\n",
       "    <tr>\n",
       "      <th>0</th>\n",
       "      <td>T00001</td>\n",
       "      <td>20-05-2017 14:56</td>\n",
       "      <td>14</td>\n",
       "      <td>20</td>\n",
       "      <td>3rd Week</td>\n",
       "      <td>5</td>\n",
       "      <td>Q2</td>\n",
       "      <td>2017</td>\n",
       "    </tr>\n",
       "    <tr>\n",
       "      <th>1</th>\n",
       "      <td>T00002</td>\n",
       "      <td>30-01-2015 22:14</td>\n",
       "      <td>22</td>\n",
       "      <td>30</td>\n",
       "      <td>4th Week</td>\n",
       "      <td>1</td>\n",
       "      <td>Q1</td>\n",
       "      <td>2015</td>\n",
       "    </tr>\n",
       "    <tr>\n",
       "      <th>2</th>\n",
       "      <td>T00003</td>\n",
       "      <td>14-03-2020 02:34</td>\n",
       "      <td>2</td>\n",
       "      <td>14</td>\n",
       "      <td>2nd Week</td>\n",
       "      <td>3</td>\n",
       "      <td>Q1</td>\n",
       "      <td>2020</td>\n",
       "    </tr>\n",
       "    <tr>\n",
       "      <th>3</th>\n",
       "      <td>T00004</td>\n",
       "      <td>27-04-2018 12:19</td>\n",
       "      <td>12</td>\n",
       "      <td>27</td>\n",
       "      <td>4th Week</td>\n",
       "      <td>4</td>\n",
       "      <td>Q2</td>\n",
       "      <td>2018</td>\n",
       "    </tr>\n",
       "    <tr>\n",
       "      <th>4</th>\n",
       "      <td>T00005</td>\n",
       "      <td>14-04-2018 10:43</td>\n",
       "      <td>10</td>\n",
       "      <td>14</td>\n",
       "      <td>2nd Week</td>\n",
       "      <td>4</td>\n",
       "      <td>Q2</td>\n",
       "      <td>2018</td>\n",
       "    </tr>\n",
       "    <tr>\n",
       "      <th>...</th>\n",
       "      <td>...</td>\n",
       "      <td>...</td>\n",
       "      <td>...</td>\n",
       "      <td>...</td>\n",
       "      <td>...</td>\n",
       "      <td>...</td>\n",
       "      <td>...</td>\n",
       "      <td>...</td>\n",
       "    </tr>\n",
       "    <tr>\n",
       "      <th>99994</th>\n",
       "      <td>T099995</td>\n",
       "      <td>04-01-2015 17:22</td>\n",
       "      <td>17</td>\n",
       "      <td>4</td>\n",
       "      <td>1st Week</td>\n",
       "      <td>1</td>\n",
       "      <td>Q1</td>\n",
       "      <td>2015</td>\n",
       "    </tr>\n",
       "    <tr>\n",
       "      <th>99995</th>\n",
       "      <td>T099996</td>\n",
       "      <td>17-01-2015 21:09</td>\n",
       "      <td>21</td>\n",
       "      <td>17</td>\n",
       "      <td>3rd Week</td>\n",
       "      <td>1</td>\n",
       "      <td>Q1</td>\n",
       "      <td>2015</td>\n",
       "    </tr>\n",
       "    <tr>\n",
       "      <th>99996</th>\n",
       "      <td>T099997</td>\n",
       "      <td>23-01-2020 14:42</td>\n",
       "      <td>14</td>\n",
       "      <td>23</td>\n",
       "      <td>4th Week</td>\n",
       "      <td>1</td>\n",
       "      <td>Q1</td>\n",
       "      <td>2020</td>\n",
       "    </tr>\n",
       "    <tr>\n",
       "      <th>99997</th>\n",
       "      <td>T099998</td>\n",
       "      <td>31-10-2015 13:52</td>\n",
       "      <td>13</td>\n",
       "      <td>31</td>\n",
       "      <td>4th Week</td>\n",
       "      <td>10</td>\n",
       "      <td>Q4</td>\n",
       "      <td>2015</td>\n",
       "    </tr>\n",
       "    <tr>\n",
       "      <th>99998</th>\n",
       "      <td>T099999</td>\n",
       "      <td>08-06-2017 08:59</td>\n",
       "      <td>8</td>\n",
       "      <td>8</td>\n",
       "      <td>2nd Week</td>\n",
       "      <td>6</td>\n",
       "      <td>Q2</td>\n",
       "      <td>2017</td>\n",
       "    </tr>\n",
       "  </tbody>\n",
       "</table>\n",
       "<p>99999 rows × 8 columns</p>\n",
       "</div>"
      ],
      "text/plain": [
       "      time_key              date  hour  day      week  month quarter  year\n",
       "0       T00001  20-05-2017 14:56    14   20  3rd Week      5      Q2  2017\n",
       "1       T00002  30-01-2015 22:14    22   30  4th Week      1      Q1  2015\n",
       "2       T00003  14-03-2020 02:34     2   14  2nd Week      3      Q1  2020\n",
       "3       T00004  27-04-2018 12:19    12   27  4th Week      4      Q2  2018\n",
       "4       T00005  14-04-2018 10:43    10   14  2nd Week      4      Q2  2018\n",
       "...        ...               ...   ...  ...       ...    ...     ...   ...\n",
       "99994  T099995  04-01-2015 17:22    17    4  1st Week      1      Q1  2015\n",
       "99995  T099996  17-01-2015 21:09    21   17  3rd Week      1      Q1  2015\n",
       "99996  T099997  23-01-2020 14:42    14   23  4th Week      1      Q1  2020\n",
       "99997  T099998  31-10-2015 13:52    13   31  4th Week     10      Q4  2015\n",
       "99998  T099999  08-06-2017 08:59     8    8  2nd Week      6      Q2  2017\n",
       "\n",
       "[99999 rows x 8 columns]"
      ]
     },
     "execution_count": 23,
     "metadata": {},
     "output_type": "execute_result"
    }
   ],
   "source": [
    "time_dim"
   ]
  },
  {
   "cell_type": "code",
   "execution_count": 67,
   "id": "3d699ed1",
   "metadata": {},
   "outputs": [
    {
     "data": {
      "text/plain": [
       "time_key    object\n",
       "date        object\n",
       "hour         int64\n",
       "day          int64\n",
       "week        object\n",
       "month        int64\n",
       "quarter     object\n",
       "year         int64\n",
       "dtype: object"
      ]
     },
     "execution_count": 67,
     "metadata": {},
     "output_type": "execute_result"
    }
   ],
   "source": [
    "time_dim.dtypes"
   ]
  },
  {
   "cell_type": "code",
   "execution_count": 43,
   "id": "5934c400",
   "metadata": {
    "pycharm": {
     "name": "#%%\n"
    }
   },
   "outputs": [],
   "source": [
    "store_dim = pd.read_excel(r'E:\\Buet Internship Mysoft\\HDA-Buet-vtraining-23\\e-commerece_data.xlsx', sheet_name='Store_dim', engine='openpyxl')"
   ]
  },
  {
   "cell_type": "code",
   "execution_count": 24,
   "id": "fd2334df",
   "metadata": {
    "pycharm": {
     "name": "#%%\n"
    }
   },
   "outputs": [
    {
     "data": {
      "text/html": [
       "<div>\n",
       "<style scoped>\n",
       "    .dataframe tbody tr th:only-of-type {\n",
       "        vertical-align: middle;\n",
       "    }\n",
       "\n",
       "    .dataframe tbody tr th {\n",
       "        vertical-align: top;\n",
       "    }\n",
       "\n",
       "    .dataframe thead th {\n",
       "        text-align: right;\n",
       "    }\n",
       "</style>\n",
       "<table border=\"1\" class=\"dataframe\">\n",
       "  <thead>\n",
       "    <tr style=\"text-align: right;\">\n",
       "      <th></th>\n",
       "      <th>store_key</th>\n",
       "      <th>division</th>\n",
       "      <th>district</th>\n",
       "      <th>upazila</th>\n",
       "    </tr>\n",
       "  </thead>\n",
       "  <tbody>\n",
       "    <tr>\n",
       "      <th>0</th>\n",
       "      <td>S0001</td>\n",
       "      <td>SYLHET</td>\n",
       "      <td>HABIGANJ</td>\n",
       "      <td>AJMIRIGANJ</td>\n",
       "    </tr>\n",
       "    <tr>\n",
       "      <th>1</th>\n",
       "      <td>S0002</td>\n",
       "      <td>SYLHET</td>\n",
       "      <td>HABIGANJ</td>\n",
       "      <td>BAHUBAL</td>\n",
       "    </tr>\n",
       "    <tr>\n",
       "      <th>2</th>\n",
       "      <td>S0003</td>\n",
       "      <td>SYLHET</td>\n",
       "      <td>HABIGANJ</td>\n",
       "      <td>BANIACHONG</td>\n",
       "    </tr>\n",
       "    <tr>\n",
       "      <th>3</th>\n",
       "      <td>S0004</td>\n",
       "      <td>SYLHET</td>\n",
       "      <td>HABIGANJ</td>\n",
       "      <td>CHUNARUGHAT</td>\n",
       "    </tr>\n",
       "    <tr>\n",
       "      <th>4</th>\n",
       "      <td>S0005</td>\n",
       "      <td>SYLHET</td>\n",
       "      <td>HABIGANJ</td>\n",
       "      <td>HABIGANJ SADAR</td>\n",
       "    </tr>\n",
       "    <tr>\n",
       "      <th>...</th>\n",
       "      <td>...</td>\n",
       "      <td>...</td>\n",
       "      <td>...</td>\n",
       "      <td>...</td>\n",
       "    </tr>\n",
       "    <tr>\n",
       "      <th>721</th>\n",
       "      <td>S00722</td>\n",
       "      <td>BARISAL</td>\n",
       "      <td>BARISAL</td>\n",
       "      <td>HIZLA</td>\n",
       "    </tr>\n",
       "    <tr>\n",
       "      <th>722</th>\n",
       "      <td>S00723</td>\n",
       "      <td>BARISAL</td>\n",
       "      <td>BARISAL</td>\n",
       "      <td>BARISAL SADAR (KOTWALI)</td>\n",
       "    </tr>\n",
       "    <tr>\n",
       "      <th>723</th>\n",
       "      <td>S00724</td>\n",
       "      <td>BARISAL</td>\n",
       "      <td>BARISAL</td>\n",
       "      <td>MEHENDIGANJ</td>\n",
       "    </tr>\n",
       "    <tr>\n",
       "      <th>724</th>\n",
       "      <td>S00725</td>\n",
       "      <td>BARISAL</td>\n",
       "      <td>BARISAL</td>\n",
       "      <td>MULADI</td>\n",
       "    </tr>\n",
       "    <tr>\n",
       "      <th>725</th>\n",
       "      <td>S00726</td>\n",
       "      <td>BARISAL</td>\n",
       "      <td>BARISAL</td>\n",
       "      <td>WAZIRPUR</td>\n",
       "    </tr>\n",
       "  </tbody>\n",
       "</table>\n",
       "<p>726 rows × 4 columns</p>\n",
       "</div>"
      ],
      "text/plain": [
       "    store_key division  district                  upazila\n",
       "0       S0001   SYLHET  HABIGANJ               AJMIRIGANJ\n",
       "1       S0002   SYLHET  HABIGANJ                  BAHUBAL\n",
       "2       S0003   SYLHET  HABIGANJ               BANIACHONG\n",
       "3       S0004   SYLHET  HABIGANJ              CHUNARUGHAT\n",
       "4       S0005   SYLHET  HABIGANJ           HABIGANJ SADAR\n",
       "..        ...      ...       ...                      ...\n",
       "721    S00722  BARISAL   BARISAL                    HIZLA\n",
       "722    S00723  BARISAL   BARISAL  BARISAL SADAR (KOTWALI)\n",
       "723    S00724  BARISAL   BARISAL              MEHENDIGANJ\n",
       "724    S00725  BARISAL   BARISAL                   MULADI\n",
       "725    S00726  BARISAL   BARISAL                 WAZIRPUR\n",
       "\n",
       "[726 rows x 4 columns]"
      ]
     },
     "execution_count": 24,
     "metadata": {},
     "output_type": "execute_result"
    }
   ],
   "source": [
    "store_dim"
   ]
  },
  {
   "cell_type": "markdown",
   "id": "1fec4c53",
   "metadata": {
    "pycharm": {
     "name": "#%% md\n"
    }
   },
   "source": [
    "### Transform ###"
   ]
  },
  {
   "cell_type": "code",
   "execution_count": 76,
   "id": "8b726e47",
   "metadata": {
    "pycharm": {
     "name": "#%%\n"
    }
   },
   "outputs": [
    {
     "data": {
      "text/plain": [
       "item_key        object\n",
       "item_name       object\n",
       "desc            object\n",
       "unit_price     float64\n",
       "man_country     object\n",
       "supplier        object\n",
       "unit            object\n",
       "dtype: object"
      ]
     },
     "execution_count": 76,
     "metadata": {},
     "output_type": "execute_result"
    }
   ],
   "source": [
    "item_dim['unit_price'] = pd.to_numeric(item_dim['unit_price'])\n",
    "item_dim.dtypes"
   ]
  },
  {
   "cell_type": "code",
   "execution_count": 77,
   "id": "8361c385",
   "metadata": {
    "pycharm": {
     "name": "#%%\n"
    }
   },
   "outputs": [
    {
     "data": {
      "text/plain": [
       "time_key            object\n",
       "date        datetime64[ns]\n",
       "hour                 int64\n",
       "day                  int64\n",
       "week                object\n",
       "month                int64\n",
       "quarter             object\n",
       "year                 int64\n",
       "dtype: object"
      ]
     },
     "execution_count": 77,
     "metadata": {},
     "output_type": "execute_result"
    }
   ],
   "source": [
    "time_dim['date'] = time_dim['date'].astype('datetime64[ns]')\n",
    "time_dim.dtypes\n",
    "# time_dim"
   ]
  },
  {
   "cell_type": "code",
   "execution_count": 78,
   "id": "5c79d29e",
   "metadata": {
    "pycharm": {
     "name": "#%%\n"
    }
   },
   "outputs": [
    {
     "data": {
      "text/plain": [
       "payment_key       object\n",
       "coustomer_key     object\n",
       "time_key          object\n",
       "item_key          object\n",
       "store_key         object\n",
       "quantity           int64\n",
       "unit              object\n",
       "unit_price       float64\n",
       "total_price      float64\n",
       "dtype: object"
      ]
     },
     "execution_count": 78,
     "metadata": {},
     "output_type": "execute_result"
    }
   ],
   "source": [
    "fact_table['unit_price'] = pd.to_numeric(fact_table['unit_price'])\n",
    "fact_table['total_price'] = pd.to_numeric(fact_table['total_price'])\n",
    "fact_table.dtypes"
   ]
  },
  {
   "cell_type": "code",
   "execution_count": null,
   "id": "5c32d3dc",
   "metadata": {
    "pycharm": {
     "name": "#%%\n"
    }
   },
   "outputs": [],
   "source": []
  },
  {
   "cell_type": "markdown",
   "id": "3a198c4e",
   "metadata": {
    "pycharm": {
     "name": "#%% md\n"
    }
   },
   "source": [
    "### Load ###"
   ]
  },
  {
   "cell_type": "markdown",
   "id": "b5a48697",
   "metadata": {
    "pycharm": {
     "name": "#%% md\n"
    }
   },
   "source": [
    "#### Connect to DB ####"
   ]
  },
  {
   "cell_type": "code",
   "execution_count": 87,
   "id": "2135ac62",
   "metadata": {
    "pycharm": {
     "name": "#%%\n"
    }
   },
   "outputs": [],
   "source": [
    "class PostgresConnection(object):\n",
    "    def __init__(self):\n",
    "        self.connection = psycopg2.connect(database=\"ecomdb\",\n",
    "                                           user = \"postgres\",\n",
    "                                           password = \"suPer2k23\",\n",
    "                                           host = \"127.0.0.1\",\n",
    "                                           port = \"5432\")\n",
    "\n",
    "    def getConnection(self):\n",
    "        print(\"Connection to DB established!\")\n",
    "        return self.connection"
   ]
  },
  {
   "cell_type": "code",
   "execution_count": 88,
   "id": "178f47af",
   "metadata": {
    "pycharm": {
     "name": "#%%\n"
    }
   },
   "outputs": [
    {
     "name": "stdout",
     "output_type": "stream",
     "text": [
      "Connection to DB established!\n"
     ]
    }
   ],
   "source": [
    "con = PostgresConnection().getConnection()"
   ]
  },
  {
   "cell_type": "markdown",
   "id": "3c585b3d",
   "metadata": {
    "pycharm": {
     "name": "#%% md\n"
    }
   },
   "source": [
    "#### Insert Data into tables #####"
   ]
  },
  {
   "cell_type": "code",
   "execution_count": 98,
   "id": "c80a6eaa",
   "metadata": {
    "pycharm": {
     "name": "#%%\n"
    },
    "scrolled": true
   },
   "outputs": [
    {
     "name": "stdout",
     "output_type": "stream",
     "text": [
      "Connection to DB established!\n"
     ]
    },
    {
     "ename": "UniqueViolation",
     "evalue": "duplicate key value violates unique constraint \"pk_5\"\nDETAIL:  Key (payment_key)=(P001) already exists.\n",
     "output_type": "error",
     "traceback": [
      "\u001b[1;31m---------------------------------------------------------------------------\u001b[0m",
      "\u001b[1;31mUniqueViolation\u001b[0m                           Traceback (most recent call last)",
      "Cell \u001b[1;32mIn[98], line 5\u001b[0m\n\u001b[0;32m      2\u001b[0m insert_stmt \u001b[38;5;241m=\u001b[39m \u001b[38;5;124m\"\u001b[39m\u001b[38;5;124mINSERT INTO ecomdb_star_schema.trans_dim(payment_key, trans_type, bank_name)\u001b[39m\u001b[38;5;124m\"\u001b[39m \\\n\u001b[0;32m      3\u001b[0m             \u001b[38;5;124m\"\u001b[39m\u001b[38;5;124m VALUES (\u001b[39m\u001b[38;5;132;01m%s\u001b[39;00m\u001b[38;5;124m, \u001b[39m\u001b[38;5;132;01m%s\u001b[39;00m\u001b[38;5;124m, \u001b[39m\u001b[38;5;132;01m%s\u001b[39;00m\u001b[38;5;124m)\u001b[39m\u001b[38;5;124m\"\u001b[39m\n\u001b[0;32m      4\u001b[0m cur \u001b[38;5;241m=\u001b[39m con\u001b[38;5;241m.\u001b[39mcursor()\n\u001b[1;32m----> 5\u001b[0m \u001b[43mpsycopg2\u001b[49m\u001b[38;5;241;43m.\u001b[39;49m\u001b[43mextras\u001b[49m\u001b[38;5;241;43m.\u001b[39;49m\u001b[43mexecute_batch\u001b[49m\u001b[43m(\u001b[49m\u001b[43mcur\u001b[49m\u001b[43m,\u001b[49m\u001b[43m \u001b[49m\u001b[43minsert_stmt\u001b[49m\u001b[43m,\u001b[49m\u001b[43m \u001b[49m\u001b[43mtrans_dim\u001b[49m\u001b[38;5;241;43m.\u001b[39;49m\u001b[43mvalues\u001b[49m\u001b[43m)\u001b[49m\n\u001b[0;32m      6\u001b[0m con\u001b[38;5;241m.\u001b[39mcommit()\n\u001b[0;32m      7\u001b[0m cur\u001b[38;5;241m.\u001b[39mclose()\n",
      "File \u001b[1;32mE:\\Buet Internship Mysoft\\HDA-Buet-vtraining-23\\myenv\\lib\\site-packages\\psycopg2\\extras.py:1216\u001b[0m, in \u001b[0;36mexecute_batch\u001b[1;34m(cur, sql, argslist, page_size)\u001b[0m\n\u001b[0;32m   1214\u001b[0m \u001b[38;5;28;01mfor\u001b[39;00m page \u001b[38;5;129;01min\u001b[39;00m _paginate(argslist, page_size\u001b[38;5;241m=\u001b[39mpage_size):\n\u001b[0;32m   1215\u001b[0m     sqls \u001b[38;5;241m=\u001b[39m [cur\u001b[38;5;241m.\u001b[39mmogrify(sql, args) \u001b[38;5;28;01mfor\u001b[39;00m args \u001b[38;5;129;01min\u001b[39;00m page]\n\u001b[1;32m-> 1216\u001b[0m     \u001b[43mcur\u001b[49m\u001b[38;5;241;43m.\u001b[39;49m\u001b[43mexecute\u001b[49m\u001b[43m(\u001b[49m\u001b[38;5;124;43mb\u001b[39;49m\u001b[38;5;124;43m\"\u001b[39;49m\u001b[38;5;124;43m;\u001b[39;49m\u001b[38;5;124;43m\"\u001b[39;49m\u001b[38;5;241;43m.\u001b[39;49m\u001b[43mjoin\u001b[49m\u001b[43m(\u001b[49m\u001b[43msqls\u001b[49m\u001b[43m)\u001b[49m\u001b[43m)\u001b[49m\n",
      "\u001b[1;31mUniqueViolation\u001b[0m: duplicate key value violates unique constraint \"pk_5\"\nDETAIL:  Key (payment_key)=(P001) already exists.\n"
     ]
    }
   ],
   "source": [
    "con = PostgresConnection().getConnection()\n",
    "insert_stmt = \"INSERT INTO ecomdb_star_schema.trans_dim(payment_key, trans_type, bank_name)\" \\\n",
    "            \" VALUES (%s, %s, %s)\"\n",
    "cur = con.cursor()\n",
    "psycopg2.extras.execute_batch(cur, insert_stmt, trans_dim.values)\n",
    "con.commit()\n",
    "cur.close()"
   ]
  },
  {
   "cell_type": "code",
   "execution_count": null,
   "id": "39c11bf5",
   "metadata": {
    "pycharm": {
     "name": "#%%\n"
    }
   },
   "outputs": [],
   "source": [
    "con = PostgresConnection().getConnection()\n",
    "insert_stmt = \"INSERT INTO ecomdb_star_schema.store_dim( store_key, division, district, upazila) VALUES (%s, %s, %s, %s);\"\n",
    "cur = con.cursor()\n",
    "psycopg2.extras.execute_batch(cur, insert_stmt, store_dim.values)\n",
    "con.commit()\n",
    "cur.close()"
   ]
  },
  {
   "cell_type": "code",
   "execution_count": null,
   "id": "711d64f0",
   "metadata": {
    "pycharm": {
     "name": "#%%\n"
    }
   },
   "outputs": [],
   "source": [
    "con = PostgresConnection().getConnection()\n",
    "insert_stmt = \"INSERT INTO ecomdb_star_schema.item_dim( item_key, item_name, description, unit_price, man_country, supplier, unit) VALUES (%s, %s, %s, %s, %s, %s, %s);\"\n",
    "cur = con.cursor()\n",
    "psycopg2.extras.execute_batch(cur, insert_stmt, item_dim.values)\n",
    "con.commit()\n",
    "cur.close()"
   ]
  },
  {
   "cell_type": "code",
   "execution_count": null,
   "id": "686b5f43",
   "metadata": {
    "pycharm": {
     "name": "#%%\n"
    }
   },
   "outputs": [],
   "source": [
    "con = PostgresConnection().getConnection()\n",
    "insert_stmt = \"INSERT INTO ecomdb_star_schema.customer_dim(customer_key, name, contact_noint, nid)VALUES (%s, %s, %s, %s);\"\n",
    "cur = con.cursor()\n",
    "psycopg2.extras.execute_batch(cur, insert_stmt, customer_dim.values)\n",
    "con.commit()\n",
    "cur.close()"
   ]
  },
  {
   "cell_type": "code",
   "execution_count": null,
   "id": "09ad65de",
   "metadata": {
    "pycharm": {
     "name": "#%%\n"
    }
   },
   "outputs": [],
   "source": [
    "con = PostgresConnection().getConnection()\n",
    "insert_stmt = \"INSERT INTO ecomdb_star_schema.time_dim(time_key, t_date, hour, day, week, month, quarter, year)VALUES (%s, %s, %s, %s, %s, %s, %s, %s);\"\n",
    "cur = con.cursor()\n",
    "psycopg2.extras.execute_batch(cur, insert_stmt, time_dim.values)\n",
    "con.commit()\n",
    "cur.close()"
   ]
  },
  {
   "cell_type": "code",
   "execution_count": null,
   "id": "7db3936d",
   "metadata": {
    "pycharm": {
     "name": "#%%\n"
    }
   },
   "outputs": [],
   "source": [
    "con = PostgresConnection().getConnection()\n",
    "insert_stmt = \"INSERT INTO ecomdb_star_schema.fact_table(payment_key, customer_key, time_key, item_key, store_key, quantity, unit, unit_price, total_price)VALUES (%s, %s, %s, %s, %s, %s, %s, %s, %s);\"\n",
    "cur = con.cursor()\n",
    "psycopg2.extras.execute_batch(cur, insert_stmt, fact_table.values)\n",
    "con.commit()\n",
    "cur.close()"
   ]
  },
  {
   "cell_type": "code",
   "execution_count": 99,
   "id": "ff699a7e",
   "metadata": {
    "pycharm": {
     "name": "#%%\n"
    }
   },
   "outputs": [
    {
     "name": "stdout",
     "output_type": "stream",
     "text": [
      "Connection to DB established!\n"
     ]
    }
   ],
   "source": [
    "con = PostgresConnection().getConnection()\n",
    "select_stmt = \"Select * FROM ecomdb_star_schema.trans_dim\"\n",
    "cur = con.cursor()\n",
    "cur.execute(select_stmt)\n",
    "res = cur.fetchall()\n",
    "cur.close()"
   ]
  },
  {
   "cell_type": "code",
   "execution_count": 100,
   "id": "8e09b847",
   "metadata": {},
   "outputs": [
    {
     "data": {
      "text/plain": [
       "[('P001', 'cash', 'NaN'),\n",
       " ('P002', 'card', 'AB Bank Limited'),\n",
       " ('P003', 'card', 'Bangladesh Commerce Bank Limited'),\n",
       " ('P004', 'card', 'Bank Asia Limited'),\n",
       " ('P005', 'card', 'BRAC Bank Limited'),\n",
       " ('P006', 'card', 'Citizens Bank Limited'),\n",
       " ('P007', 'card', 'City Bank Limited'),\n",
       " ('P008', 'card', 'Community Bank Bangladesh Limited'),\n",
       " ('P009', 'card', 'Dhaka Bank Limited'),\n",
       " ('P010', 'card', 'Dutch-Bangla Bank Limited'),\n",
       " ('P011', 'card', 'Eastern Bank Limited'),\n",
       " ('P012', 'card', 'IFIC Bank Limited'),\n",
       " ('P013', 'card', 'Jamuna Bank Limited'),\n",
       " ('P014', 'card', 'Meghna Bank Limited'),\n",
       " ('P015', 'card', 'Mercantile Bank Limited'),\n",
       " ('P016', 'card', 'Midland Bank Limited'),\n",
       " ('P017', 'card', 'Modhumoti Bank Limited'),\n",
       " ('P018', 'card', 'Mutual Trust Bank Limited'),\n",
       " ('P019', 'card', 'National Bank Limited'),\n",
       " ('P020', 'card', 'National Credit & Commerce Bank Limited'),\n",
       " ('P021', 'card', 'NRB Bank Limited'),\n",
       " ('P022', 'card', 'NRB Commercial Bank Ltd'),\n",
       " ('P023', 'card', 'NRB Global Bank Ltd'),\n",
       " ('P024', 'card', 'One Bank Limited'),\n",
       " ('P025', 'card', 'Padma Bank Limited'),\n",
       " ('P026', 'card', 'Premier Bank Limited'),\n",
       " ('P027', 'card', 'Prime Bank Limited'),\n",
       " ('P028', 'card', 'Pubali Bank Limited'),\n",
       " ('P029', 'card', 'Standard Bank Limited'),\n",
       " ('P030', 'card', 'Shimanto Bank Ltd'),\n",
       " ('P031', 'card', 'Southeast Bank Limited'),\n",
       " ('P032', 'card', 'South Bangla Agriculture and Commerce Bank Limited'),\n",
       " ('P033', 'card', 'Trust Bank Limited'),\n",
       " ('P034', 'card', 'United Commercial Bank Ltd'),\n",
       " ('P035', 'card', 'Uttara Bank Limited'),\n",
       " ('P036', 'card', 'Bengal Commercial Bank Ltd'),\n",
       " ('P037', 'mobile', 'Bkash'),\n",
       " ('P038', 'mobile', 'Rocket'),\n",
       " ('P039', 'mobile', 'Nagad')]"
      ]
     },
     "execution_count": 100,
     "metadata": {},
     "output_type": "execute_result"
    }
   ],
   "source": [
    "res"
   ]
  },
  {
   "cell_type": "code",
   "execution_count": null,
   "id": "746fef6f",
   "metadata": {},
   "outputs": [],
   "source": []
  },
  {
   "cell_type": "code",
   "execution_count": null,
   "id": "51021cdc",
   "metadata": {},
   "outputs": [],
   "source": []
  }
 ],
 "metadata": {
  "kernelspec": {
   "display_name": "Python 3 (ipykernel)",
   "language": "python",
   "name": "python3"
  },
  "language_info": {
   "codemirror_mode": {
    "name": "ipython",
    "version": 3
   },
   "file_extension": ".py",
   "mimetype": "text/x-python",
   "name": "python",
   "nbconvert_exporter": "python",
   "pygments_lexer": "ipython3",
   "version": "3.10.0"
  }
 },
 "nbformat": 4,
 "nbformat_minor": 5
}
