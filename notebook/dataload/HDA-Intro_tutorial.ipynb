{
 "cells": [
  {
   "cell_type": "markdown",
   "id": "65edb269",
   "metadata": {
    "pycharm": {
     "name": "#%% md\n"
    }
   },
   "source": [
    "### Package Installation ###"
   ]
  },
  {
   "cell_type": "code",
   "execution_count": 1,
   "id": "38cdaf8a",
   "metadata": {
    "pycharm": {
     "name": "#%%\n"
    }
   },
   "outputs": [
    {
     "name": "stdout",
     "output_type": "stream",
     "text": [
      "Requirement already satisfied: psycopg2 in d:\\hda vinternship buet\\hdaenv\\lib\\site-packages (2.9.6)\n",
      "Note: you may need to restart the kernel to use updated packages.\n"
     ]
    },
    {
     "name": "stderr",
     "output_type": "stream",
     "text": [
      "\n",
      "[notice] A new release of pip available: 22.2.2 -> 23.1.2\n",
      "[notice] To update, run: python.exe -m pip install --upgrade pip\n"
     ]
    }
   ],
   "source": [
    "pip install psycopg2"
   ]
  },
  {
   "cell_type": "code",
   "execution_count": 2,
   "id": "d8e9f588",
   "metadata": {
    "pycharm": {
     "name": "#%%\n"
    }
   },
   "outputs": [
    {
     "name": "stdout",
     "output_type": "stream",
     "text": [
      "Requirement already satisfied: openpyxl in d:\\hda vinternship buet\\hdaenv\\lib\\site-packages (3.1.2)\n",
      "Requirement already satisfied: et-xmlfile in d:\\hda vinternship buet\\hdaenv\\lib\\site-packages (from openpyxl) (1.1.0)\n",
      "Note: you may need to restart the kernel to use updated packages.\n"
     ]
    },
    {
     "name": "stderr",
     "output_type": "stream",
     "text": [
      "\n",
      "[notice] A new release of pip available: 22.2.2 -> 23.1.2\n",
      "[notice] To update, run: python.exe -m pip install --upgrade pip\n"
     ]
    }
   ],
   "source": [
    "pip install openpyxl"
   ]
  },
  {
   "cell_type": "code",
   "execution_count": 3,
   "id": "8922bb12",
   "metadata": {
    "pycharm": {
     "name": "#%%\n"
    }
   },
   "outputs": [
    {
     "name": "stdout",
     "output_type": "stream",
     "text": [
      "Requirement already satisfied: pandas in d:\\hda vinternship buet\\hdaenv\\lib\\site-packages (2.0.1)\n",
      "Requirement already satisfied: python-dateutil>=2.8.2 in d:\\hda vinternship buet\\hdaenv\\lib\\site-packages (from pandas) (2.8.2)\n",
      "Requirement already satisfied: pytz>=2020.1 in d:\\hda vinternship buet\\hdaenv\\lib\\site-packages (from pandas) (2023.3)\n",
      "Requirement already satisfied: tzdata>=2022.1 in d:\\hda vinternship buet\\hdaenv\\lib\\site-packages (from pandas) (2023.3)\n",
      "Requirement already satisfied: numpy>=1.20.3 in d:\\hda vinternship buet\\hdaenv\\lib\\site-packages (from pandas) (1.24.3)\n",
      "Requirement already satisfied: six>=1.5 in d:\\hda vinternship buet\\hdaenv\\lib\\site-packages (from python-dateutil>=2.8.2->pandas) (1.16.0)\n",
      "Note: you may need to restart the kernel to use updated packages.\n"
     ]
    },
    {
     "name": "stderr",
     "output_type": "stream",
     "text": [
      "\n",
      "[notice] A new release of pip available: 22.2.2 -> 23.1.2\n",
      "[notice] To update, run: python.exe -m pip install --upgrade pip\n"
     ]
    }
   ],
   "source": [
    "pip install pandas"
   ]
  },
  {
   "cell_type": "markdown",
   "id": "79cc9725",
   "metadata": {
    "pycharm": {
     "name": "#%% md\n"
    }
   },
   "source": [
    "### Importing Packages ###"
   ]
  },
  {
   "cell_type": "code",
   "execution_count": 4,
   "id": "05d04502",
   "metadata": {
    "pycharm": {
     "name": "#%%\n"
    }
   },
   "outputs": [],
   "source": [
    "import psycopg2\n",
    "import pandas as pd\n",
    "import psycopg2.extras"
   ]
  },
  {
   "cell_type": "markdown",
   "id": "96d47605",
   "metadata": {
    "pycharm": {
     "name": "#%% md\n"
    }
   },
   "source": [
    "### Extract ###"
   ]
  },
  {
   "cell_type": "markdown",
   "id": "f4e68e8c",
   "metadata": {
    "pycharm": {
     "name": "#%% md\n"
    }
   },
   "source": [
    "#### Read from excel file ####"
   ]
  },
  {
   "cell_type": "code",
   "execution_count": 5,
   "id": "a1f99c31",
   "metadata": {
    "pycharm": {
     "name": "#%%\n"
    }
   },
   "outputs": [],
   "source": [
    "fact_table = pd.read_excel(r'D:\\HDA vinternship Buet\\dataset\\e-commerece_data.xlsx', sheet_name='Fact_table', engine='openpyxl')\n",
    "#fact_table = pd.read_csv(r'C:\\Git-Projects\\eSRD-Lab\\vInternship-Projects\\HDA\\Fact_data.csv')"
   ]
  },
  {
   "cell_type": "code",
   "execution_count": 11,
   "id": "64cd930a",
   "metadata": {
    "pycharm": {
     "name": "#%%\n"
    },
    "scrolled": true
   },
   "outputs": [
    {
     "data": {
      "text/html": [
       "<div>\n",
       "<style scoped>\n",
       "    .dataframe tbody tr th:only-of-type {\n",
       "        vertical-align: middle;\n",
       "    }\n",
       "\n",
       "    .dataframe tbody tr th {\n",
       "        vertical-align: top;\n",
       "    }\n",
       "\n",
       "    .dataframe thead th {\n",
       "        text-align: right;\n",
       "    }\n",
       "</style>\n",
       "<table border=\"1\" class=\"dataframe\">\n",
       "  <thead>\n",
       "    <tr style=\"text-align: right;\">\n",
       "      <th></th>\n",
       "      <th>payment_key</th>\n",
       "      <th>coustomer_key</th>\n",
       "      <th>time_key</th>\n",
       "      <th>item_key</th>\n",
       "      <th>store_key</th>\n",
       "      <th>quantity</th>\n",
       "      <th>unit</th>\n",
       "      <th>unit_price</th>\n",
       "      <th>total_price</th>\n",
       "    </tr>\n",
       "  </thead>\n",
       "  <tbody>\n",
       "    <tr>\n",
       "      <th>0</th>\n",
       "      <td>P026</td>\n",
       "      <td>C004510</td>\n",
       "      <td>T049189</td>\n",
       "      <td>I00177</td>\n",
       "      <td>S00307</td>\n",
       "      <td>1</td>\n",
       "      <td>ct</td>\n",
       "      <td>35.0</td>\n",
       "      <td>35.0</td>\n",
       "    </tr>\n",
       "    <tr>\n",
       "      <th>1</th>\n",
       "      <td>P022</td>\n",
       "      <td>C008967</td>\n",
       "      <td>T041209</td>\n",
       "      <td>I00248</td>\n",
       "      <td>S00595</td>\n",
       "      <td>1</td>\n",
       "      <td>rolls</td>\n",
       "      <td>26.0</td>\n",
       "      <td>26.0</td>\n",
       "    </tr>\n",
       "    <tr>\n",
       "      <th>2</th>\n",
       "      <td>P030</td>\n",
       "      <td>C007261</td>\n",
       "      <td>T03633</td>\n",
       "      <td>I00195</td>\n",
       "      <td>S00496</td>\n",
       "      <td>8</td>\n",
       "      <td>ct</td>\n",
       "      <td>12.5</td>\n",
       "      <td>100.0</td>\n",
       "    </tr>\n",
       "    <tr>\n",
       "      <th>3</th>\n",
       "      <td>P032</td>\n",
       "      <td>C007048</td>\n",
       "      <td>T084631</td>\n",
       "      <td>I00131</td>\n",
       "      <td>S0086</td>\n",
       "      <td>8</td>\n",
       "      <td>ct</td>\n",
       "      <td>14.0</td>\n",
       "      <td>112.0</td>\n",
       "    </tr>\n",
       "    <tr>\n",
       "      <th>4</th>\n",
       "      <td>P014</td>\n",
       "      <td>C006430</td>\n",
       "      <td>T071276</td>\n",
       "      <td>I00050</td>\n",
       "      <td>S00488</td>\n",
       "      <td>8</td>\n",
       "      <td>cans</td>\n",
       "      <td>8.0</td>\n",
       "      <td>64.0</td>\n",
       "    </tr>\n",
       "    <tr>\n",
       "      <th>...</th>\n",
       "      <td>...</td>\n",
       "      <td>...</td>\n",
       "      <td>...</td>\n",
       "      <td>...</td>\n",
       "      <td>...</td>\n",
       "      <td>...</td>\n",
       "      <td>...</td>\n",
       "      <td>...</td>\n",
       "      <td>...</td>\n",
       "    </tr>\n",
       "    <tr>\n",
       "      <th>999995</th>\n",
       "      <td>P010</td>\n",
       "      <td>C003726</td>\n",
       "      <td>T09247</td>\n",
       "      <td>I00063</td>\n",
       "      <td>S00502</td>\n",
       "      <td>5</td>\n",
       "      <td>cans</td>\n",
       "      <td>40.0</td>\n",
       "      <td>200.0</td>\n",
       "    </tr>\n",
       "    <tr>\n",
       "      <th>999996</th>\n",
       "      <td>P021</td>\n",
       "      <td>C002581</td>\n",
       "      <td>T023483</td>\n",
       "      <td>I00252</td>\n",
       "      <td>S00225</td>\n",
       "      <td>1</td>\n",
       "      <td>ct</td>\n",
       "      <td>11.0</td>\n",
       "      <td>11.0</td>\n",
       "    </tr>\n",
       "    <tr>\n",
       "      <th>999997</th>\n",
       "      <td>P035</td>\n",
       "      <td>C006133</td>\n",
       "      <td>T039372</td>\n",
       "      <td>I00119</td>\n",
       "      <td>S00555</td>\n",
       "      <td>7</td>\n",
       "      <td>ct</td>\n",
       "      <td>53.0</td>\n",
       "      <td>371.0</td>\n",
       "    </tr>\n",
       "    <tr>\n",
       "      <th>999998</th>\n",
       "      <td>P031</td>\n",
       "      <td>C008735</td>\n",
       "      <td>T097975</td>\n",
       "      <td>I00257</td>\n",
       "      <td>S00440</td>\n",
       "      <td>2</td>\n",
       "      <td>ct</td>\n",
       "      <td>21.0</td>\n",
       "      <td>42.0</td>\n",
       "    </tr>\n",
       "    <tr>\n",
       "      <th>999999</th>\n",
       "      <td>P032</td>\n",
       "      <td>C004067</td>\n",
       "      <td>T018028</td>\n",
       "      <td>I00044</td>\n",
       "      <td>S00326</td>\n",
       "      <td>10</td>\n",
       "      <td>cans</td>\n",
       "      <td>8.0</td>\n",
       "      <td>80.0</td>\n",
       "    </tr>\n",
       "  </tbody>\n",
       "</table>\n",
       "<p>1000000 rows × 9 columns</p>\n",
       "</div>"
      ],
      "text/plain": [
       "       payment_key coustomer_key time_key item_key store_key  quantity   unit   \n",
       "0             P026       C004510  T049189   I00177    S00307         1     ct  \\\n",
       "1             P022       C008967  T041209   I00248    S00595         1  rolls   \n",
       "2             P030       C007261   T03633   I00195    S00496         8     ct   \n",
       "3             P032       C007048  T084631   I00131     S0086         8     ct   \n",
       "4             P014       C006430  T071276   I00050    S00488         8   cans   \n",
       "...            ...           ...      ...      ...       ...       ...    ...   \n",
       "999995        P010       C003726   T09247   I00063    S00502         5   cans   \n",
       "999996        P021       C002581  T023483   I00252    S00225         1     ct   \n",
       "999997        P035       C006133  T039372   I00119    S00555         7     ct   \n",
       "999998        P031       C008735  T097975   I00257    S00440         2     ct   \n",
       "999999        P032       C004067  T018028   I00044    S00326        10   cans   \n",
       "\n",
       "        unit_price  total_price  \n",
       "0             35.0         35.0  \n",
       "1             26.0         26.0  \n",
       "2             12.5        100.0  \n",
       "3             14.0        112.0  \n",
       "4              8.0         64.0  \n",
       "...            ...          ...  \n",
       "999995        40.0        200.0  \n",
       "999996        11.0         11.0  \n",
       "999997        53.0        371.0  \n",
       "999998        21.0         42.0  \n",
       "999999         8.0         80.0  \n",
       "\n",
       "[1000000 rows x 9 columns]"
      ]
     },
     "execution_count": 11,
     "metadata": {},
     "output_type": "execute_result"
    }
   ],
   "source": [
    "fact_table"
   ]
  },
  {
   "cell_type": "code",
   "execution_count": 29,
   "id": "2c43bd8b",
   "metadata": {
    "pycharm": {
     "name": "#%%\n"
    }
   },
   "outputs": [],
   "source": [
    "trans_dim = pd.read_excel(r'D:\\HDA vinternship Buet\\dataset\\e-commerece_data.xlsx', sheet_name='Trans_dim', engine='openpyxl')"
   ]
  },
  {
   "cell_type": "code",
   "execution_count": 30,
   "id": "22e4e105",
   "metadata": {
    "pycharm": {
     "name": "#%%\n"
    }
   },
   "outputs": [
    {
     "data": {
      "text/plain": [
       "0     P001\n",
       "1     P002\n",
       "2     P003\n",
       "3     P004\n",
       "4     P005\n",
       "5     P006\n",
       "6     P007\n",
       "7     P008\n",
       "8     P009\n",
       "9     P010\n",
       "10    P011\n",
       "11    P012\n",
       "12    P013\n",
       "13    P014\n",
       "14    P015\n",
       "15    P016\n",
       "16    P017\n",
       "17    P018\n",
       "18    P019\n",
       "19    P020\n",
       "20    P021\n",
       "21    P022\n",
       "22    P023\n",
       "23    P024\n",
       "24    P025\n",
       "25    P026\n",
       "26    P027\n",
       "27    P028\n",
       "28    P029\n",
       "29    P030\n",
       "30    P031\n",
       "31    P032\n",
       "32    P033\n",
       "33    P034\n",
       "34    P035\n",
       "35    P036\n",
       "36    P037\n",
       "37    P038\n",
       "38    P039\n",
       "Name: payment_key, dtype: object"
      ]
     },
     "execution_count": 30,
     "metadata": {},
     "output_type": "execute_result"
    }
   ],
   "source": [
    "trans_dim.dtypes\n",
    "trans_dim['payment_key']"
   ]
  },
  {
   "cell_type": "code",
   "execution_count": 7,
   "id": "9669046c",
   "metadata": {
    "pycharm": {
     "name": "#%%\n"
    }
   },
   "outputs": [],
   "source": [
    "item_dim = pd.read_excel(r'D:\\HDA vinternship Buet\\dataset\\e-commerece_data.xlsx', sheet_name='Item_dim', engine='openpyxl')"
   ]
  },
  {
   "cell_type": "code",
   "execution_count": 20,
   "id": "4f92b512",
   "metadata": {
    "pycharm": {
     "name": "#%%\n"
    }
   },
   "outputs": [
    {
     "data": {
      "text/plain": [
       "item_key        object\n",
       "item_name       object\n",
       "desc            object\n",
       "unit_price     float64\n",
       "man_country     object\n",
       "supplier        object\n",
       "unit            object\n",
       "dtype: object"
      ]
     },
     "execution_count": 20,
     "metadata": {},
     "output_type": "execute_result"
    }
   ],
   "source": [
    "item_dim\n",
    "item_dim.dtypes"
   ]
  },
  {
   "cell_type": "code",
   "execution_count": 8,
   "id": "ad7113ef",
   "metadata": {
    "pycharm": {
     "name": "#%%\n"
    }
   },
   "outputs": [],
   "source": [
    "customer_dim = pd.read_excel(r'D:\\HDA vinternship Buet\\dataset\\e-commerece_data.xlsx', sheet_name='Coustomer_dim', engine='openpyxl')\n",
    "# customer_dim = pd.read_csv(r'D:\\HDA vinternship Buet\\dataset\\Coustomer_dim.csv')"
   ]
  },
  {
   "cell_type": "code",
   "execution_count": 22,
   "id": "b6632d87",
   "metadata": {
    "pycharm": {
     "name": "#%%\n"
    }
   },
   "outputs": [
    {
     "data": {
      "text/plain": [
       "coustomer_key    object\n",
       "name             object\n",
       "contact_no        int64\n",
       "nid               int64\n",
       "dtype: object"
      ]
     },
     "execution_count": 22,
     "metadata": {},
     "output_type": "execute_result"
    }
   ],
   "source": [
    "customer_dim.dtypes"
   ]
  },
  {
   "cell_type": "code",
   "execution_count": 9,
   "id": "ffa5e1bc",
   "metadata": {
    "pycharm": {
     "name": "#%%\n"
    }
   },
   "outputs": [],
   "source": [
    "time_dim = pd.read_excel(r'D:\\HDA vinternship Buet\\dataset\\e-commerece_data.xlsx', sheet_name='Time_dim', engine='openpyxl')"
   ]
  },
  {
   "cell_type": "code",
   "execution_count": 25,
   "id": "731223ac",
   "metadata": {
    "pycharm": {
     "name": "#%%\n"
    }
   },
   "outputs": [
    {
     "data": {
      "text/plain": [
       "time_key    object\n",
       "date        object\n",
       "hour         int64\n",
       "day          int64\n",
       "week        object\n",
       "month        int64\n",
       "quarter     object\n",
       "year         int64\n",
       "dtype: object"
      ]
     },
     "execution_count": 25,
     "metadata": {},
     "output_type": "execute_result"
    }
   ],
   "source": [
    "time_dim.dtypes"
   ]
  },
  {
   "cell_type": "code",
   "execution_count": 10,
   "id": "5934c400",
   "metadata": {
    "pycharm": {
     "name": "#%%\n"
    }
   },
   "outputs": [],
   "source": [
    "store_dim = pd.read_excel(r'D:\\HDA vinternship Buet\\dataset\\e-commerece_data.xlsx', sheet_name='Store_dim', engine='openpyxl')"
   ]
  },
  {
   "cell_type": "code",
   "execution_count": 24,
   "id": "fd2334df",
   "metadata": {
    "pycharm": {
     "name": "#%%\n"
    }
   },
   "outputs": [
    {
     "data": {
      "text/html": [
       "<div>\n",
       "<style scoped>\n",
       "    .dataframe tbody tr th:only-of-type {\n",
       "        vertical-align: middle;\n",
       "    }\n",
       "\n",
       "    .dataframe tbody tr th {\n",
       "        vertical-align: top;\n",
       "    }\n",
       "\n",
       "    .dataframe thead th {\n",
       "        text-align: right;\n",
       "    }\n",
       "</style>\n",
       "<table border=\"1\" class=\"dataframe\">\n",
       "  <thead>\n",
       "    <tr style=\"text-align: right;\">\n",
       "      <th></th>\n",
       "      <th>store_key</th>\n",
       "      <th>division</th>\n",
       "      <th>district</th>\n",
       "      <th>upazila</th>\n",
       "    </tr>\n",
       "  </thead>\n",
       "  <tbody>\n",
       "    <tr>\n",
       "      <th>0</th>\n",
       "      <td>S0001</td>\n",
       "      <td>SYLHET</td>\n",
       "      <td>HABIGANJ</td>\n",
       "      <td>AJMIRIGANJ</td>\n",
       "    </tr>\n",
       "    <tr>\n",
       "      <th>1</th>\n",
       "      <td>S0002</td>\n",
       "      <td>SYLHET</td>\n",
       "      <td>HABIGANJ</td>\n",
       "      <td>BAHUBAL</td>\n",
       "    </tr>\n",
       "    <tr>\n",
       "      <th>2</th>\n",
       "      <td>S0003</td>\n",
       "      <td>SYLHET</td>\n",
       "      <td>HABIGANJ</td>\n",
       "      <td>BANIACHONG</td>\n",
       "    </tr>\n",
       "    <tr>\n",
       "      <th>3</th>\n",
       "      <td>S0004</td>\n",
       "      <td>SYLHET</td>\n",
       "      <td>HABIGANJ</td>\n",
       "      <td>CHUNARUGHAT</td>\n",
       "    </tr>\n",
       "    <tr>\n",
       "      <th>4</th>\n",
       "      <td>S0005</td>\n",
       "      <td>SYLHET</td>\n",
       "      <td>HABIGANJ</td>\n",
       "      <td>HABIGANJ SADAR</td>\n",
       "    </tr>\n",
       "    <tr>\n",
       "      <th>...</th>\n",
       "      <td>...</td>\n",
       "      <td>...</td>\n",
       "      <td>...</td>\n",
       "      <td>...</td>\n",
       "    </tr>\n",
       "    <tr>\n",
       "      <th>721</th>\n",
       "      <td>S00722</td>\n",
       "      <td>BARISAL</td>\n",
       "      <td>BARISAL</td>\n",
       "      <td>HIZLA</td>\n",
       "    </tr>\n",
       "    <tr>\n",
       "      <th>722</th>\n",
       "      <td>S00723</td>\n",
       "      <td>BARISAL</td>\n",
       "      <td>BARISAL</td>\n",
       "      <td>BARISAL SADAR (KOTWALI)</td>\n",
       "    </tr>\n",
       "    <tr>\n",
       "      <th>723</th>\n",
       "      <td>S00724</td>\n",
       "      <td>BARISAL</td>\n",
       "      <td>BARISAL</td>\n",
       "      <td>MEHENDIGANJ</td>\n",
       "    </tr>\n",
       "    <tr>\n",
       "      <th>724</th>\n",
       "      <td>S00725</td>\n",
       "      <td>BARISAL</td>\n",
       "      <td>BARISAL</td>\n",
       "      <td>MULADI</td>\n",
       "    </tr>\n",
       "    <tr>\n",
       "      <th>725</th>\n",
       "      <td>S00726</td>\n",
       "      <td>BARISAL</td>\n",
       "      <td>BARISAL</td>\n",
       "      <td>WAZIRPUR</td>\n",
       "    </tr>\n",
       "  </tbody>\n",
       "</table>\n",
       "<p>726 rows × 4 columns</p>\n",
       "</div>"
      ],
      "text/plain": [
       "    store_key division  district                  upazila\n",
       "0       S0001   SYLHET  HABIGANJ               AJMIRIGANJ\n",
       "1       S0002   SYLHET  HABIGANJ                  BAHUBAL\n",
       "2       S0003   SYLHET  HABIGANJ               BANIACHONG\n",
       "3       S0004   SYLHET  HABIGANJ              CHUNARUGHAT\n",
       "4       S0005   SYLHET  HABIGANJ           HABIGANJ SADAR\n",
       "..        ...      ...       ...                      ...\n",
       "721    S00722  BARISAL   BARISAL                    HIZLA\n",
       "722    S00723  BARISAL   BARISAL  BARISAL SADAR (KOTWALI)\n",
       "723    S00724  BARISAL   BARISAL              MEHENDIGANJ\n",
       "724    S00725  BARISAL   BARISAL                   MULADI\n",
       "725    S00726  BARISAL   BARISAL                 WAZIRPUR\n",
       "\n",
       "[726 rows x 4 columns]"
      ]
     },
     "execution_count": 24,
     "metadata": {},
     "output_type": "execute_result"
    }
   ],
   "source": [
    "store_dim"
   ]
  },
  {
   "cell_type": "markdown",
   "id": "1fec4c53",
   "metadata": {
    "pycharm": {
     "name": "#%% md\n"
    }
   },
   "source": [
    "### Transform ###"
   ]
  },
  {
   "cell_type": "code",
   "execution_count": 31,
   "id": "8b726e47",
   "metadata": {
    "pycharm": {
     "name": "#%%\n"
    }
   },
   "outputs": [
    {
     "data": {
      "text/plain": [
       "item_key        object\n",
       "item_name       object\n",
       "desc            object\n",
       "unit_price     float64\n",
       "man_country     object\n",
       "supplier        object\n",
       "unit            object\n",
       "dtype: object"
      ]
     },
     "execution_count": 31,
     "metadata": {},
     "output_type": "execute_result"
    }
   ],
   "source": [
    "item_dim['unit_price'] = pd.to_numeric(item_dim['unit_price'])\n",
    "item_dim.dtypes"
   ]
  },
  {
   "cell_type": "code",
   "execution_count": 32,
   "id": "8361c385",
   "metadata": {
    "pycharm": {
     "name": "#%%\n"
    }
   },
   "outputs": [
    {
     "name": "stderr",
     "output_type": "stream",
     "text": [
      "C:\\Users\\kazis\\AppData\\Local\\Temp\\ipykernel_2620\\2997183980.py:1: UserWarning: Parsing dates in %d-%m-%Y %H:%M format when dayfirst=False (the default) was specified. Pass `dayfirst=True` or specify a format to silence this warning.\n",
      "  time_dim['date'] = time_dim['date'].astype('datetime64[ns]')\n"
     ]
    },
    {
     "data": {
      "text/plain": [
       "time_key            object\n",
       "date        datetime64[ns]\n",
       "hour                 int64\n",
       "day                  int64\n",
       "week                object\n",
       "month                int64\n",
       "quarter             object\n",
       "year                 int64\n",
       "dtype: object"
      ]
     },
     "execution_count": 32,
     "metadata": {},
     "output_type": "execute_result"
    }
   ],
   "source": [
    "time_dim['date'] = time_dim['date'].astype('datetime64[ns]')\n",
    "time_dim.dtypes\n",
    "# time_dim"
   ]
  },
  {
   "cell_type": "code",
   "execution_count": 33,
   "id": "5c79d29e",
   "metadata": {
    "pycharm": {
     "name": "#%%\n"
    }
   },
   "outputs": [
    {
     "data": {
      "text/plain": [
       "payment_key       object\n",
       "coustomer_key     object\n",
       "time_key          object\n",
       "item_key          object\n",
       "store_key         object\n",
       "quantity           int64\n",
       "unit              object\n",
       "unit_price       float64\n",
       "total_price      float64\n",
       "dtype: object"
      ]
     },
     "execution_count": 33,
     "metadata": {},
     "output_type": "execute_result"
    }
   ],
   "source": [
    "fact_table['unit_price'] = pd.to_numeric(fact_table['unit_price'])\n",
    "fact_table['total_price'] = pd.to_numeric(fact_table['total_price'])\n",
    "fact_table.dtypes"
   ]
  },
  {
   "cell_type": "code",
   "execution_count": 38,
   "id": "5c32d3dc",
   "metadata": {
    "pycharm": {
     "name": "#%%\n"
    }
   },
   "outputs": [
    {
     "data": {
      "text/plain": [
       "array([['P001', 'cash', nan],\n",
       "       ['P002', 'card', 'AB Bank Limited'],\n",
       "       ['P003', 'card', 'Bangladesh Commerce Bank Limited'],\n",
       "       ['P004', 'card', 'Bank Asia Limited'],\n",
       "       ['P005', 'card', 'BRAC Bank Limited'],\n",
       "       ['P006', 'card', 'Citizens Bank Limited'],\n",
       "       ['P007', 'card', 'City Bank Limited'],\n",
       "       ['P008', 'card', 'Community Bank Bangladesh Limited'],\n",
       "       ['P009', 'card', 'Dhaka Bank Limited'],\n",
       "       ['P010', 'card', 'Dutch-Bangla Bank Limited'],\n",
       "       ['P011', 'card', 'Eastern Bank Limited'],\n",
       "       ['P012', 'card', 'IFIC Bank Limited'],\n",
       "       ['P013', 'card', 'Jamuna Bank Limited'],\n",
       "       ['P014', 'card', 'Meghna Bank Limited'],\n",
       "       ['P015', 'card', 'Mercantile Bank Limited'],\n",
       "       ['P016', 'card', 'Midland Bank Limited'],\n",
       "       ['P017', 'card', 'Modhumoti Bank Limited'],\n",
       "       ['P018', 'card', 'Mutual Trust Bank Limited'],\n",
       "       ['P019', 'card', 'National Bank Limited'],\n",
       "       ['P020', 'card', 'National Credit & Commerce Bank Limited'],\n",
       "       ['P021', 'card', 'NRB Bank Limited'],\n",
       "       ['P022', 'card', 'NRB Commercial Bank Ltd'],\n",
       "       ['P023', 'card', 'NRB Global Bank Ltd'],\n",
       "       ['P024', 'card', 'One Bank Limited'],\n",
       "       ['P025', 'card', 'Padma Bank Limited'],\n",
       "       ['P026', 'card', 'Premier Bank Limited'],\n",
       "       ['P027', 'card', 'Prime Bank Limited'],\n",
       "       ['P028', 'card', 'Pubali Bank Limited'],\n",
       "       ['P029', 'card', 'Standard Bank Limited'],\n",
       "       ['P030', 'card', 'Shimanto Bank Ltd'],\n",
       "       ['P031', 'card', 'Southeast Bank Limited'],\n",
       "       ['P032', 'card',\n",
       "        'South Bangla Agriculture and Commerce Bank Limited'],\n",
       "       ['P033', 'card', 'Trust Bank Limited'],\n",
       "       ['P034', 'card', 'United Commercial Bank Ltd'],\n",
       "       ['P035', 'card', 'Uttara Bank Limited'],\n",
       "       ['P036', 'card', 'Bengal Commercial Bank Ltd'],\n",
       "       ['P037', 'mobile', 'Bkash'],\n",
       "       ['P038', 'mobile', 'Rocket'],\n",
       "       ['P039', 'mobile', 'Nagad']], dtype=object)"
      ]
     },
     "execution_count": 38,
     "metadata": {},
     "output_type": "execute_result"
    }
   ],
   "source": [
    "trans_dim.values"
   ]
  },
  {
   "cell_type": "markdown",
   "id": "3a198c4e",
   "metadata": {
    "pycharm": {
     "name": "#%% md\n"
    }
   },
   "source": [
    "### Load ###"
   ]
  },
  {
   "cell_type": "markdown",
   "id": "b5a48697",
   "metadata": {
    "pycharm": {
     "name": "#%% md\n"
    }
   },
   "source": [
    "#### Connect to DB ####"
   ]
  },
  {
   "cell_type": "code",
   "execution_count": 36,
   "id": "2135ac62",
   "metadata": {
    "pycharm": {
     "name": "#%%\n"
    }
   },
   "outputs": [],
   "source": [
    "class PostgresConnection(object):\n",
    "    def __init__(self):\n",
    "        self.connection = psycopg2.connect(database=\"ecomdb\",\n",
    "                                           user = \"postgres\",\n",
    "                                           password = \"admin\",\n",
    "                                           host = \"127.0.0.1\",\n",
    "                                           port = \"5432\")\n",
    "\n",
    "    def getConnection(self):\n",
    "        print(\"Connection to DB established!\")\n",
    "        return self.connection"
   ]
  },
  {
   "cell_type": "code",
   "execution_count": 37,
   "id": "178f47af",
   "metadata": {
    "pycharm": {
     "name": "#%%\n"
    }
   },
   "outputs": [
    {
     "name": "stdout",
     "output_type": "stream",
     "text": [
      "Connection to DB established!\n"
     ]
    }
   ],
   "source": [
    "con = PostgresConnection().getConnection()"
   ]
  },
  {
   "cell_type": "markdown",
   "id": "3c585b3d",
   "metadata": {
    "pycharm": {
     "name": "#%% md\n"
    }
   },
   "source": [
    "#### Insert Data into tables #####"
   ]
  },
  {
   "cell_type": "code",
   "execution_count": 39,
   "id": "c80a6eaa",
   "metadata": {
    "pycharm": {
     "name": "#%%\n"
    },
    "scrolled": true
   },
   "outputs": [
    {
     "name": "stdout",
     "output_type": "stream",
     "text": [
      "Connection to DB established!\n"
     ]
    }
   ],
   "source": [
    "con = PostgresConnection().getConnection()\n",
    "insert_stmt = \"INSERT INTO star_schema.trans_dim(payment_key, trans_type, bank_name)\" \\\n",
    "            \" VALUES (%s, %s, %s)\"\n",
    "cur = con.cursor()\n",
    "psycopg2.extras.execute_batch(cur, insert_stmt, trans_dim.values)\n",
    "con.commit()\n",
    "cur.close()"
   ]
  },
  {
   "cell_type": "code",
   "execution_count": 40,
   "id": "39c11bf5",
   "metadata": {
    "pycharm": {
     "name": "#%%\n"
    }
   },
   "outputs": [
    {
     "name": "stdout",
     "output_type": "stream",
     "text": [
      "Connection to DB established!\n"
     ]
    }
   ],
   "source": [
    "con = PostgresConnection().getConnection()\n",
    "insert_stmt = \"INSERT INTO star_schema.store_dim( store_key, division, district, upazila) VALUES (%s, %s, %s, %s);\"\n",
    "cur = con.cursor()\n",
    "psycopg2.extras.execute_batch(cur, insert_stmt, store_dim.values)\n",
    "con.commit()\n",
    "cur.close()"
   ]
  },
  {
   "cell_type": "code",
   "execution_count": 41,
   "id": "711d64f0",
   "metadata": {
    "pycharm": {
     "name": "#%%\n"
    }
   },
   "outputs": [
    {
     "name": "stdout",
     "output_type": "stream",
     "text": [
      "Connection to DB established!\n"
     ]
    }
   ],
   "source": [
    "con = PostgresConnection().getConnection()\n",
    "insert_stmt = \"INSERT INTO star_schema.item_dim( item_key, item_name, description, unit_price, man_country, supplier, unit) VALUES (%s, %s, %s, %s, %s, %s, %s);\"\n",
    "cur = con.cursor()\n",
    "psycopg2.extras.execute_batch(cur, insert_stmt, item_dim.values)\n",
    "con.commit()\n",
    "cur.close()"
   ]
  },
  {
   "cell_type": "code",
   "execution_count": 42,
   "id": "686b5f43",
   "metadata": {
    "pycharm": {
     "name": "#%%\n"
    }
   },
   "outputs": [
    {
     "name": "stdout",
     "output_type": "stream",
     "text": [
      "Connection to DB established!\n"
     ]
    }
   ],
   "source": [
    "con = PostgresConnection().getConnection()\n",
    "insert_stmt = \"INSERT INTO star_schema.customer_dim(customer_key, name, contact_noint, nid)VALUES (%s, %s, %s, %s);\"\n",
    "cur = con.cursor()\n",
    "psycopg2.extras.execute_batch(cur, insert_stmt, customer_dim.values)\n",
    "con.commit()\n",
    "cur.close()"
   ]
  },
  {
   "cell_type": "code",
   "execution_count": 44,
   "id": "09ad65de",
   "metadata": {
    "pycharm": {
     "name": "#%%\n"
    }
   },
   "outputs": [
    {
     "name": "stdout",
     "output_type": "stream",
     "text": [
      "Connection to DB established!\n",
      "Excecution time: 9.18 seconds\n"
     ]
    }
   ],
   "source": [
    "import time\n",
    "\n",
    "start_time = time.time()\n",
    "\n",
    "con = PostgresConnection().getConnection()\n",
    "insert_stmt = \"INSERT INTO star_schema.time_dim(time_key, t_date, hour, day, week, month, quarter, year)VALUES (%s, %s, %s, %s, %s, %s, %s, %s);\"\n",
    "cur = con.cursor()\n",
    "psycopg2.extras.execute_batch(cur, insert_stmt, time_dim.values)\n",
    "con.commit()\n",
    "cur.close()\n",
    "\n",
    "end_time = time.time()\n",
    "\n",
    "print(\"Excecution time: {:.2f} seconds\".format(end_time - start_time))"
   ]
  },
  {
   "cell_type": "code",
   "execution_count": 45,
   "id": "7db3936d",
   "metadata": {
    "pycharm": {
     "name": "#%%\n"
    }
   },
   "outputs": [
    {
     "name": "stdout",
     "output_type": "stream",
     "text": [
      "Connection to DB established!\n",
      "Excecution time: 294.97 seconds\n"
     ]
    }
   ],
   "source": [
    "import time\n",
    "\n",
    "start_time = time.time()\n",
    "\n",
    "con = PostgresConnection().getConnection()\n",
    "insert_stmt = \"INSERT INTO star_schema.fact_table(payment_key, customer_key, time_key, item_key, store_key, quantity, unit, unit_price, total_price)VALUES (%s, %s, %s, %s, %s, %s, %s, %s, %s);\"\n",
    "cur = con.cursor()\n",
    "psycopg2.extras.execute_batch(cur, insert_stmt, fact_table.values)\n",
    "con.commit()\n",
    "cur.close()\n",
    "\n",
    "end_time = time.time()\n",
    "\n",
    "print(\"Excecution time: {:.2f} seconds\".format(end_time - start_time))"
   ]
  },
  {
   "cell_type": "code",
   "execution_count": 27,
   "id": "ff699a7e",
   "metadata": {
    "pycharm": {
     "name": "#%%\n"
    }
   },
   "outputs": [
    {
     "name": "stdout",
     "output_type": "stream",
     "text": [
      "Connection to DB established!\n"
     ]
    }
   ],
   "source": [
    "con = PostgresConnection().getConnection()\n",
    "select_stmt = \"Select * FROM star_schema.trans_dim\"\n",
    "cur = con.cursor()\n",
    "cur.execute(select_stmt)\n",
    "res = cur.fetchall()\n",
    "cur.close()"
   ]
  },
  {
   "cell_type": "code",
   "execution_count": 28,
   "id": "8e09b847",
   "metadata": {},
   "outputs": [
    {
     "data": {
      "text/plain": [
       "[('P001', 'cash', 'None'),\n",
       " ('P002', 'card', 'AB Bank Limited'),\n",
       " ('P003', 'card', 'Bangladesh Commerce Bank Limited'),\n",
       " ('P004', 'card', 'Bank Asia Limited'),\n",
       " ('P005', 'card', 'BRAC Bank Limited'),\n",
       " ('P006', 'card', 'Citizens Bank Limited'),\n",
       " ('P007', 'card', 'City Bank Limited'),\n",
       " ('P008', 'card', 'Community Bank Bangladesh Limited'),\n",
       " ('P009', 'card', 'Dhaka Bank Limited'),\n",
       " ('P010', 'card', 'Dutch-Bangla Bank Limited'),\n",
       " ('P011', 'card', 'Eastern Bank Limited'),\n",
       " ('P012', 'card', 'IFIC Bank Limited'),\n",
       " ('P013', 'card', 'Jamuna Bank Limited'),\n",
       " ('P014', 'card', 'Meghna Bank Limited'),\n",
       " ('P015', 'card', 'Mercantile Bank Limited'),\n",
       " ('P016', 'card', 'Midland Bank Limited'),\n",
       " ('P017', 'card', 'Modhumoti Bank Limited'),\n",
       " ('P018', 'card', 'Mutual Trust Bank Limited'),\n",
       " ('P019', 'card', 'National Bank Limited'),\n",
       " ('P020', 'card', 'National Credit & Commerce Bank Limited'),\n",
       " ('P021', 'card', 'NRB Bank Limited'),\n",
       " ('P022', 'card', 'NRB Commercial Bank Ltd'),\n",
       " ('P023', 'card', 'NRB Global Bank Ltd'),\n",
       " ('P024', 'card', 'One Bank Limited'),\n",
       " ('P025', 'card', 'Padma Bank Limited'),\n",
       " ('P026', 'card', 'Premier Bank Limited'),\n",
       " ('P027', 'card', 'Prime Bank Limited'),\n",
       " ('P028', 'card', 'Pubali Bank Limited'),\n",
       " ('P029', 'card', 'Standard Bank Limited'),\n",
       " ('P030', 'card', 'Shimanto Bank Ltd'),\n",
       " ('P031', 'card', 'Southeast Bank Limited'),\n",
       " ('P032', 'card', 'South Bangla Agriculture and Commerce Bank Limited'),\n",
       " ('P033', 'card', 'Trust Bank Limited'),\n",
       " ('P034', 'card', 'United Commercial Bank Ltd'),\n",
       " ('P035', 'card', 'Uttara Bank Limited'),\n",
       " ('P036', 'card', 'Bengal Commercial Bank Ltd'),\n",
       " ('P037', 'mobile', 'Bkash'),\n",
       " ('P038', 'mobile', 'Rocket'),\n",
       " ('P039', 'mobile', 'Nagad')]"
      ]
     },
     "execution_count": 28,
     "metadata": {},
     "output_type": "execute_result"
    }
   ],
   "source": [
    "res"
   ]
  },
  {
   "cell_type": "code",
   "execution_count": null,
   "id": "746fef6f",
   "metadata": {},
   "outputs": [],
   "source": []
  }
 ],
 "metadata": {
  "kernelspec": {
   "display_name": "Python 3 (ipykernel)",
   "language": "python",
   "name": "python3"
  },
  "language_info": {
   "codemirror_mode": {
    "name": "ipython",
    "version": 3
   },
   "file_extension": ".py",
   "mimetype": "text/x-python",
   "name": "python",
   "nbconvert_exporter": "python",
   "pygments_lexer": "ipython3",
   "version": "3.8.0"
  }
 },
 "nbformat": 4,
 "nbformat_minor": 5
}
