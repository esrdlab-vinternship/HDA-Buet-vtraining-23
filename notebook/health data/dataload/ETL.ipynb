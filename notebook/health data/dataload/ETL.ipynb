{
 "cells": [
  {
   "cell_type": "code",
   "execution_count": 1,
   "id": "949df49b",
   "metadata": {},
   "outputs": [
    {
     "name": "stdout",
     "output_type": "stream",
     "text": [
      "Requirement already satisfied: psycopg2 in d:\\virtual internship\\hda-buet-vtraining-23\\venv\\lib\\site-packages (2.9.6)\n",
      "Note: you may need to restart the kernel to use updated packages.\n"
     ]
    }
   ],
   "source": [
    "pip install psycopg2"
   ]
  },
  {
   "cell_type": "code",
   "execution_count": 2,
   "id": "04ef4723",
   "metadata": {},
   "outputs": [
    {
     "name": "stdout",
     "output_type": "stream",
     "text": [
      "Requirement already satisfied: openpyxl in d:\\virtual internship\\hda-buet-vtraining-23\\venv\\lib\\site-packages (3.1.2)Note: you may need to restart the kernel to use updated packages.\n",
      "\n",
      "Requirement already satisfied: et-xmlfile in d:\\virtual internship\\hda-buet-vtraining-23\\venv\\lib\\site-packages (from openpyxl) (1.1.0)\n"
     ]
    }
   ],
   "source": [
    "pip install openpyxl"
   ]
  },
  {
   "cell_type": "code",
   "execution_count": 3,
   "id": "97004d95",
   "metadata": {},
   "outputs": [
    {
     "name": "stdout",
     "output_type": "stream",
     "text": [
      "Requirement already satisfied: pandas in d:\\virtual internship\\hda-buet-vtraining-23\\venv\\lib\\site-packages (2.0.1)\n",
      "Requirement already satisfied: python-dateutil>=2.8.2 in d:\\virtual internship\\hda-buet-vtraining-23\\venv\\lib\\site-packages (from pandas) (2.8.2)\n",
      "Requirement already satisfied: pytz>=2020.1 in d:\\virtual internship\\hda-buet-vtraining-23\\venv\\lib\\site-packages (from pandas) (2023.3)\n",
      "Requirement already satisfied: tzdata>=2022.1 in d:\\virtual internship\\hda-buet-vtraining-23\\venv\\lib\\site-packages (from pandas) (2023.3)\n",
      "Requirement already satisfied: numpy>=1.20.3 in d:\\virtual internship\\hda-buet-vtraining-23\\venv\\lib\\site-packages (from pandas) (1.24.3)\n",
      "Requirement already satisfied: six>=1.5 in d:\\virtual internship\\hda-buet-vtraining-23\\venv\\lib\\site-packages (from python-dateutil>=2.8.2->pandas) (1.16.0)\n",
      "Note: you may need to restart the kernel to use updated packages.\n"
     ]
    }
   ],
   "source": [
    "pip install pandas"
   ]
  },
  {
   "cell_type": "code",
   "execution_count": 4,
   "id": "91e549c0",
   "metadata": {},
   "outputs": [],
   "source": [
    "import psycopg2\n",
    "import pandas as pd\n",
    "import psycopg2.extras"
   ]
  },
  {
   "cell_type": "code",
   "execution_count": 30,
   "id": "939f5f33",
   "metadata": {},
   "outputs": [],
   "source": [
    "df = pd.read_csv(r'D:\\Virtual Internship\\Health Dataset\\dim_test.csv')"
   ]
  },
  {
   "cell_type": "code",
   "execution_count": 31,
   "id": "3572aa5f",
   "metadata": {},
   "outputs": [
    {
     "data": {
      "text/html": [
       "<div>\n",
       "<style scoped>\n",
       "    .dataframe tbody tr th:only-of-type {\n",
       "        vertical-align: middle;\n",
       "    }\n",
       "\n",
       "    .dataframe tbody tr th {\n",
       "        vertical-align: top;\n",
       "    }\n",
       "\n",
       "    .dataframe thead th {\n",
       "        text-align: right;\n",
       "    }\n",
       "</style>\n",
       "<table border=\"1\" class=\"dataframe\">\n",
       "  <thead>\n",
       "    <tr style=\"text-align: right;\">\n",
       "      <th></th>\n",
       "      <th>test_key</th>\n",
       "      <th>test_name</th>\n",
       "      <th>test_code</th>\n",
       "      <th>specimen</th>\n",
       "      <th>ct_ref</th>\n",
       "      <th>test_desc</th>\n",
       "    </tr>\n",
       "  </thead>\n",
       "  <tbody>\n",
       "    <tr>\n",
       "      <th>0</th>\n",
       "      <td>10002</td>\n",
       "      <td>Pus for Fungus</td>\n",
       "      <td>1988</td>\n",
       "      <td>PUS</td>\n",
       "      <td>BSH</td>\n",
       "      <td>Desc</td>\n",
       "    </tr>\n",
       "    <tr>\n",
       "      <th>1</th>\n",
       "      <td>10003</td>\n",
       "      <td>Drain Fluid for Bilirubin</td>\n",
       "      <td>00885</td>\n",
       "      <td>FLUID</td>\n",
       "      <td>BSH</td>\n",
       "      <td>Desc</td>\n",
       "    </tr>\n",
       "    <tr>\n",
       "      <th>2</th>\n",
       "      <td>10004</td>\n",
       "      <td>NASAL SWAB FOR KLB</td>\n",
       "      <td>0705</td>\n",
       "      <td>Not Found</td>\n",
       "      <td>BSH</td>\n",
       "      <td>Desc</td>\n",
       "    </tr>\n",
       "    <tr>\n",
       "      <th>3</th>\n",
       "      <td>10005</td>\n",
       "      <td>X-Pert  MTB/RIF assay by archived gastric Aspi...</td>\n",
       "      <td>0706</td>\n",
       "      <td>TRACHEAL ASPIRATE</td>\n",
       "      <td>BSH</td>\n",
       "      <td>Desc</td>\n",
       "    </tr>\n",
       "    <tr>\n",
       "      <th>4</th>\n",
       "      <td>10006</td>\n",
       "      <td>Anti-Filaria Ab IgG4</td>\n",
       "      <td>0192</td>\n",
       "      <td>BLOOD</td>\n",
       "      <td>BSH</td>\n",
       "      <td>Desc</td>\n",
       "    </tr>\n",
       "    <tr>\n",
       "      <th>...</th>\n",
       "      <td>...</td>\n",
       "      <td>...</td>\n",
       "      <td>...</td>\n",
       "      <td>...</td>\n",
       "      <td>...</td>\n",
       "      <td>...</td>\n",
       "    </tr>\n",
       "    <tr>\n",
       "      <th>1130</th>\n",
       "      <td>10011</td>\n",
       "      <td>Pleural Fluid for Malignant Cell</td>\n",
       "      <td>1486</td>\n",
       "      <td>PLEURAL FLUID</td>\n",
       "      <td>BSH</td>\n",
       "      <td>A malignant pleural effusion (MPE) is the buil...</td>\n",
       "    </tr>\n",
       "    <tr>\n",
       "      <th>1131</th>\n",
       "      <td>10693</td>\n",
       "      <td>FBG - Fasting blood glucose</td>\n",
       "      <td>0031</td>\n",
       "      <td>BLOOD</td>\n",
       "      <td>SNOMED CT</td>\n",
       "      <td>Desc</td>\n",
       "    </tr>\n",
       "    <tr>\n",
       "      <th>1132</th>\n",
       "      <td>10453</td>\n",
       "      <td>RBG - Random blood glucose</td>\n",
       "      <td>0030</td>\n",
       "      <td>BLOOD</td>\n",
       "      <td>SNOMED CT</td>\n",
       "      <td>Desc</td>\n",
       "    </tr>\n",
       "    <tr>\n",
       "      <th>1133</th>\n",
       "      <td>10259</td>\n",
       "      <td>Blood calcium level</td>\n",
       "      <td>0237</td>\n",
       "      <td>BLOOD</td>\n",
       "      <td>SNOMED CT</td>\n",
       "      <td>Desc</td>\n",
       "    </tr>\n",
       "    <tr>\n",
       "      <th>1134</th>\n",
       "      <td>10899</td>\n",
       "      <td>Serum creatinine level</td>\n",
       "      <td>0036</td>\n",
       "      <td>BLOOD</td>\n",
       "      <td>SNOMED CT</td>\n",
       "      <td>Desc</td>\n",
       "    </tr>\n",
       "  </tbody>\n",
       "</table>\n",
       "<p>1135 rows × 6 columns</p>\n",
       "</div>"
      ],
      "text/plain": [
       "      test_key                                          test_name test_code   \n",
       "0        10002                                     Pus for Fungus      1988  \\\n",
       "1        10003                          Drain Fluid for Bilirubin     00885   \n",
       "2        10004                                 NASAL SWAB FOR KLB      0705   \n",
       "3        10005  X-Pert  MTB/RIF assay by archived gastric Aspi...      0706   \n",
       "4        10006                               Anti-Filaria Ab IgG4      0192   \n",
       "...        ...                                                ...       ...   \n",
       "1130     10011                   Pleural Fluid for Malignant Cell      1486   \n",
       "1131     10693                        FBG - Fasting blood glucose      0031   \n",
       "1132     10453                         RBG - Random blood glucose      0030   \n",
       "1133     10259                                Blood calcium level      0237   \n",
       "1134     10899                             Serum creatinine level      0036   \n",
       "\n",
       "               specimen     ct_ref   \n",
       "0                   PUS        BSH  \\\n",
       "1                 FLUID        BSH   \n",
       "2             Not Found        BSH   \n",
       "3     TRACHEAL ASPIRATE        BSH   \n",
       "4                 BLOOD        BSH   \n",
       "...                 ...        ...   \n",
       "1130      PLEURAL FLUID        BSH   \n",
       "1131              BLOOD  SNOMED CT   \n",
       "1132              BLOOD  SNOMED CT   \n",
       "1133              BLOOD  SNOMED CT   \n",
       "1134              BLOOD  SNOMED CT   \n",
       "\n",
       "                                              test_desc  \n",
       "0                                                  Desc  \n",
       "1                                                  Desc  \n",
       "2                                                  Desc  \n",
       "3                                                  Desc  \n",
       "4                                                  Desc  \n",
       "...                                                 ...  \n",
       "1130  A malignant pleural effusion (MPE) is the buil...  \n",
       "1131                                               Desc  \n",
       "1132                                               Desc  \n",
       "1133                                               Desc  \n",
       "1134                                               Desc  \n",
       "\n",
       "[1135 rows x 6 columns]"
      ]
     },
     "execution_count": 31,
     "metadata": {},
     "output_type": "execute_result"
    }
   ],
   "source": [
    "df"
   ]
  },
  {
   "cell_type": "code",
   "execution_count": 13,
   "id": "2508b636",
   "metadata": {},
   "outputs": [],
   "source": [
    "class PostgresConnection(object):\n",
    "    def __init__(self):\n",
    "        self.connection = psycopg2.connect(database=\"healthdb\",\n",
    "                                           user = \"postgres\",\n",
    "                                           password = \"Justdoit007\",\n",
    "                                           host = \"127.0.0.1\",\n",
    "                                           port = \"5432\")\n",
    "\n",
    "    def getConnection(self):\n",
    "        print(\"Connection to DB established!\")\n",
    "        return self.connection"
   ]
  },
  {
   "cell_type": "code",
   "execution_count": 26,
   "id": "fcfcde22",
   "metadata": {},
   "outputs": [
    {
     "name": "stdout",
     "output_type": "stream",
     "text": [
      "Connection to DB established!\n"
     ]
    }
   ],
   "source": [
    "con = PostgresConnection().getConnection()\n",
    "insert_stmt = \"INSERT INTO public.hospital(hospital_key, hospital_name ,branch_name  ,hospital_type,\"\\\n",
    "\" email  ,website ,address, geo_code ,city ,upazila,district ,division)\" \\\n",
    "            \" VALUES (%s, %s, %s, %s, %s, %s, %s, %s, %s, %s, %s, %s)\"\n",
    "cur = con.cursor()\n",
    "psycopg2.extras.execute_batch(cur, insert_stmt, df.values)\n",
    "con.commit()\n",
    "cur.close()"
   ]
  },
  {
   "cell_type": "code",
   "execution_count": 38,
   "id": "23a65fd6",
   "metadata": {},
   "outputs": [],
   "source": [
    "df = pd.read_csv(r'D:\\Virtual Internship\\Health Dataset\\fact_sales.csv')"
   ]
  },
  {
   "cell_type": "code",
   "execution_count": 39,
   "id": "3d16b814",
   "metadata": {},
   "outputs": [
    {
     "data": {
      "text/html": [
       "<div>\n",
       "<style scoped>\n",
       "    .dataframe tbody tr th:only-of-type {\n",
       "        vertical-align: middle;\n",
       "    }\n",
       "\n",
       "    .dataframe tbody tr th {\n",
       "        vertical-align: top;\n",
       "    }\n",
       "\n",
       "    .dataframe thead th {\n",
       "        text-align: right;\n",
       "    }\n",
       "</style>\n",
       "<table border=\"1\" class=\"dataframe\">\n",
       "  <thead>\n",
       "    <tr style=\"text-align: right;\">\n",
       "      <th></th>\n",
       "      <th>_id</th>\n",
       "      <th>pik</th>\n",
       "      <th>time_key</th>\n",
       "      <th>geo_key</th>\n",
       "      <th>hospital_key</th>\n",
       "      <th>lab_key</th>\n",
       "      <th>test_key</th>\n",
       "      <th>sales_price</th>\n",
       "    </tr>\n",
       "  </thead>\n",
       "  <tbody>\n",
       "    <tr>\n",
       "      <th>0</th>\n",
       "      <td>1</td>\n",
       "      <td>F1926jvorfrrglahvcrnouosvspqsp</td>\n",
       "      <td>20190708</td>\n",
       "      <td>204667</td>\n",
       "      <td>100001</td>\n",
       "      <td>10003</td>\n",
       "      <td>10490</td>\n",
       "      <td>1030</td>\n",
       "    </tr>\n",
       "    <tr>\n",
       "      <th>1</th>\n",
       "      <td>2</td>\n",
       "      <td>F1926jvorfrrglahvcrnouosvspqsp</td>\n",
       "      <td>20190708</td>\n",
       "      <td>204667</td>\n",
       "      <td>100001</td>\n",
       "      <td>10043</td>\n",
       "      <td>10156</td>\n",
       "      <td>1210</td>\n",
       "    </tr>\n",
       "    <tr>\n",
       "      <th>2</th>\n",
       "      <td>3</td>\n",
       "      <td>F1926jvorfrrglahvcrnouosvspqsp</td>\n",
       "      <td>20190708</td>\n",
       "      <td>204667</td>\n",
       "      <td>100001</td>\n",
       "      <td>10043</td>\n",
       "      <td>10257</td>\n",
       "      <td>430</td>\n",
       "    </tr>\n",
       "    <tr>\n",
       "      <th>3</th>\n",
       "      <td>4</td>\n",
       "      <td>F1926jvorfrrglahvcrnouosvspqsp</td>\n",
       "      <td>20190708</td>\n",
       "      <td>204667</td>\n",
       "      <td>100001</td>\n",
       "      <td>10043</td>\n",
       "      <td>10822</td>\n",
       "      <td>1210</td>\n",
       "    </tr>\n",
       "    <tr>\n",
       "      <th>4</th>\n",
       "      <td>5</td>\n",
       "      <td>F1926jvorfrrglahvcrnouosvspqsp</td>\n",
       "      <td>20190708</td>\n",
       "      <td>204667</td>\n",
       "      <td>100001</td>\n",
       "      <td>10043</td>\n",
       "      <td>10899</td>\n",
       "      <td>480</td>\n",
       "    </tr>\n",
       "    <tr>\n",
       "      <th>...</th>\n",
       "      <td>...</td>\n",
       "      <td>...</td>\n",
       "      <td>...</td>\n",
       "      <td>...</td>\n",
       "      <td>...</td>\n",
       "      <td>...</td>\n",
       "      <td>...</td>\n",
       "      <td>...</td>\n",
       "    </tr>\n",
       "    <tr>\n",
       "      <th>92078</th>\n",
       "      <td>92079</td>\n",
       "      <td>M2018xvncrvcrnouoosrrvvn</td>\n",
       "      <td>20200301</td>\n",
       "      <td>302650</td>\n",
       "      <td>100001</td>\n",
       "      <td>10051</td>\n",
       "      <td>10531</td>\n",
       "      <td>1100</td>\n",
       "    </tr>\n",
       "    <tr>\n",
       "      <th>92079</th>\n",
       "      <td>92080</td>\n",
       "      <td>M2018xvncrvcrnouoosrrvvn</td>\n",
       "      <td>20200301</td>\n",
       "      <td>302650</td>\n",
       "      <td>100001</td>\n",
       "      <td>10053</td>\n",
       "      <td>10157</td>\n",
       "      <td>850</td>\n",
       "    </tr>\n",
       "    <tr>\n",
       "      <th>92080</th>\n",
       "      <td>92081</td>\n",
       "      <td>M2018xvncrvcrnouoosrrvvn</td>\n",
       "      <td>20200301</td>\n",
       "      <td>302650</td>\n",
       "      <td>100001</td>\n",
       "      <td>10058</td>\n",
       "      <td>10617</td>\n",
       "      <td>310</td>\n",
       "    </tr>\n",
       "    <tr>\n",
       "      <th>92081</th>\n",
       "      <td>92082</td>\n",
       "      <td>M2018xwrrefhpplrnounruupuws</td>\n",
       "      <td>20190911</td>\n",
       "      <td>207585</td>\n",
       "      <td>100001</td>\n",
       "      <td>10048</td>\n",
       "      <td>10655</td>\n",
       "      <td>400</td>\n",
       "    </tr>\n",
       "    <tr>\n",
       "      <th>92082</th>\n",
       "      <td>92083</td>\n",
       "      <td>M2018xwrrefhpplrnounruupuws</td>\n",
       "      <td>20190911</td>\n",
       "      <td>207585</td>\n",
       "      <td>100001</td>\n",
       "      <td>10051</td>\n",
       "      <td>10231</td>\n",
       "      <td>500</td>\n",
       "    </tr>\n",
       "  </tbody>\n",
       "</table>\n",
       "<p>92083 rows × 8 columns</p>\n",
       "</div>"
      ],
      "text/plain": [
       "         _id                             pik  time_key  geo_key  hospital_key   \n",
       "0          1  F1926jvorfrrglahvcrnouosvspqsp  20190708   204667        100001  \\\n",
       "1          2  F1926jvorfrrglahvcrnouosvspqsp  20190708   204667        100001   \n",
       "2          3  F1926jvorfrrglahvcrnouosvspqsp  20190708   204667        100001   \n",
       "3          4  F1926jvorfrrglahvcrnouosvspqsp  20190708   204667        100001   \n",
       "4          5  F1926jvorfrrglahvcrnouosvspqsp  20190708   204667        100001   \n",
       "...      ...                             ...       ...      ...           ...   \n",
       "92078  92079        M2018xvncrvcrnouoosrrvvn  20200301   302650        100001   \n",
       "92079  92080        M2018xvncrvcrnouoosrrvvn  20200301   302650        100001   \n",
       "92080  92081        M2018xvncrvcrnouoosrrvvn  20200301   302650        100001   \n",
       "92081  92082     M2018xwrrefhpplrnounruupuws  20190911   207585        100001   \n",
       "92082  92083     M2018xwrrefhpplrnounruupuws  20190911   207585        100001   \n",
       "\n",
       "       lab_key  test_key  sales_price  \n",
       "0        10003     10490         1030  \n",
       "1        10043     10156         1210  \n",
       "2        10043     10257          430  \n",
       "3        10043     10822         1210  \n",
       "4        10043     10899          480  \n",
       "...        ...       ...          ...  \n",
       "92078    10051     10531         1100  \n",
       "92079    10053     10157          850  \n",
       "92080    10058     10617          310  \n",
       "92081    10048     10655          400  \n",
       "92082    10051     10231          500  \n",
       "\n",
       "[92083 rows x 8 columns]"
      ]
     },
     "execution_count": 39,
     "metadata": {},
     "output_type": "execute_result"
    }
   ],
   "source": [
    "df"
   ]
  },
  {
   "cell_type": "code",
   "execution_count": 33,
   "id": "1d4d843b",
   "metadata": {},
   "outputs": [
    {
     "name": "stdout",
     "output_type": "stream",
     "text": [
      "Connection to DB established!\n"
     ]
    }
   ],
   "source": [
    "con = PostgresConnection().getConnection()\n",
    "insert_stmt = \"INSERT INTO public.test(test_key, test_name ,test_code, specimen, ct_ref, test_desc)\" \\\n",
    "            \" VALUES (%s, %s, %s, %s, %s, %s)\"\n",
    "cur = con.cursor()\n",
    "psycopg2.extras.execute_batch(cur, insert_stmt, df.values)\n",
    "con.commit()\n",
    "cur.close()"
   ]
  },
  {
   "cell_type": "code",
   "execution_count": 40,
   "id": "ac04d785",
   "metadata": {},
   "outputs": [
    {
     "name": "stdout",
     "output_type": "stream",
     "text": [
      "Connection to DB established!\n"
     ]
    },
    {
     "ename": "UniqueViolation",
     "evalue": "duplicate key value violates unique constraint \"pk_6\"\nDETAIL:  Key (id, pik, time_key, hospital_key, test_key, lab_key, geo_key)=(1, F1926jvorfrrglahvcrnouosvspqsp, 20190708, 100001, 10490, 10003, 204667) already exists.\n",
     "output_type": "error",
     "traceback": [
      "\u001b[1;31m---------------------------------------------------------------------------\u001b[0m",
      "\u001b[1;31mUniqueViolation\u001b[0m                           Traceback (most recent call last)",
      "Cell \u001b[1;32mIn[40], line 5\u001b[0m\n\u001b[0;32m      2\u001b[0m insert_stmt \u001b[38;5;241m=\u001b[39m \u001b[38;5;124m\"\u001b[39m\u001b[38;5;124mINSERT INTO public.fact_sales(id, pik,  time_key, geo_key, hospital_key, lab_key, test_key ,\u001b[39m\u001b[38;5;124m\"\u001b[39m\\\n\u001b[0;32m      3\u001b[0m \u001b[38;5;124m\"\u001b[39m\u001b[38;5;124m sales_price) VALUES (\u001b[39m\u001b[38;5;132;01m%s\u001b[39;00m\u001b[38;5;124m, \u001b[39m\u001b[38;5;132;01m%s\u001b[39;00m\u001b[38;5;124m, \u001b[39m\u001b[38;5;132;01m%s\u001b[39;00m\u001b[38;5;124m, \u001b[39m\u001b[38;5;132;01m%s\u001b[39;00m\u001b[38;5;124m, \u001b[39m\u001b[38;5;132;01m%s\u001b[39;00m\u001b[38;5;124m, \u001b[39m\u001b[38;5;132;01m%s\u001b[39;00m\u001b[38;5;124m, \u001b[39m\u001b[38;5;132;01m%s\u001b[39;00m\u001b[38;5;124m, \u001b[39m\u001b[38;5;132;01m%s\u001b[39;00m\u001b[38;5;124m)\u001b[39m\u001b[38;5;124m\"\u001b[39m\n\u001b[0;32m      4\u001b[0m cur \u001b[38;5;241m=\u001b[39m con\u001b[38;5;241m.\u001b[39mcursor()\n\u001b[1;32m----> 5\u001b[0m \u001b[43mpsycopg2\u001b[49m\u001b[38;5;241;43m.\u001b[39;49m\u001b[43mextras\u001b[49m\u001b[38;5;241;43m.\u001b[39;49m\u001b[43mexecute_batch\u001b[49m\u001b[43m(\u001b[49m\u001b[43mcur\u001b[49m\u001b[43m,\u001b[49m\u001b[43m \u001b[49m\u001b[43minsert_stmt\u001b[49m\u001b[43m,\u001b[49m\u001b[43m \u001b[49m\u001b[43mdf\u001b[49m\u001b[38;5;241;43m.\u001b[39;49m\u001b[43mvalues\u001b[49m\u001b[43m)\u001b[49m\n\u001b[0;32m      6\u001b[0m con\u001b[38;5;241m.\u001b[39mcommit()\n\u001b[0;32m      7\u001b[0m cur\u001b[38;5;241m.\u001b[39mclose()\n",
      "File \u001b[1;32mD:\\Virtual Internship\\HDA-Buet-vtraining-23\\venv\\lib\\site-packages\\psycopg2\\extras.py:1216\u001b[0m, in \u001b[0;36mexecute_batch\u001b[1;34m(cur, sql, argslist, page_size)\u001b[0m\n\u001b[0;32m   1214\u001b[0m \u001b[38;5;28;01mfor\u001b[39;00m page \u001b[38;5;129;01min\u001b[39;00m _paginate(argslist, page_size\u001b[38;5;241m=\u001b[39mpage_size):\n\u001b[0;32m   1215\u001b[0m     sqls \u001b[38;5;241m=\u001b[39m [cur\u001b[38;5;241m.\u001b[39mmogrify(sql, args) \u001b[38;5;28;01mfor\u001b[39;00m args \u001b[38;5;129;01min\u001b[39;00m page]\n\u001b[1;32m-> 1216\u001b[0m     \u001b[43mcur\u001b[49m\u001b[38;5;241;43m.\u001b[39;49m\u001b[43mexecute\u001b[49m\u001b[43m(\u001b[49m\u001b[38;5;124;43mb\u001b[39;49m\u001b[38;5;124;43m\"\u001b[39;49m\u001b[38;5;124;43m;\u001b[39;49m\u001b[38;5;124;43m\"\u001b[39;49m\u001b[38;5;241;43m.\u001b[39;49m\u001b[43mjoin\u001b[49m\u001b[43m(\u001b[49m\u001b[43msqls\u001b[49m\u001b[43m)\u001b[49m\u001b[43m)\u001b[49m\n",
      "\u001b[1;31mUniqueViolation\u001b[0m: duplicate key value violates unique constraint \"pk_6\"\nDETAIL:  Key (id, pik, time_key, hospital_key, test_key, lab_key, geo_key)=(1, F1926jvorfrrglahvcrnouosvspqsp, 20190708, 100001, 10490, 10003, 204667) already exists.\n"
     ]
    }
   ],
   "source": [
    "con = PostgresConnection().getConnection()\n",
    "insert_stmt = \"INSERT INTO public.fact_sales(id, pik,  time_key, geo_key, hospital_key, lab_key, test_key ,\"\\\n",
    "\" sales_price) VALUES (%s, %s, %s, %s, %s, %s, %s, %s)\"\n",
    "cur = con.cursor()\n",
    "psycopg2.extras.execute_batch(cur, insert_stmt, df.values)\n",
    "con.commit()\n",
    "cur.close()"
   ]
  },
  {
   "cell_type": "code",
   "execution_count": 32,
   "id": "dcd0b025",
   "metadata": {},
   "outputs": [
    {
     "name": "stdout",
     "output_type": "stream",
     "text": [
      "Connection to DB established!\n"
     ]
    }
   ],
   "source": [
    "con = PostgresConnection().getConnection()\n",
    "select_stmt = \"SELECT * FROM ecomdb_star_schema.trans_dim ORDER BY payment_key ASC \"\n",
    "cur = con.cursor()\n",
    "cur.execute(select_stmt)\n",
    "res = cur.fetchall()\n",
    "cur.close()"
   ]
  },
  {
   "cell_type": "code",
   "execution_count": 33,
   "id": "4ff91e17",
   "metadata": {},
   "outputs": [
    {
     "data": {
      "text/plain": [
       "[('P001', 'cash', 'NaN'),\n",
       " ('P002', 'card', 'AB Bank Limited'),\n",
       " ('P003', 'card', 'Bangladesh Commerce Bank Limited'),\n",
       " ('P004', 'card', 'Bank Asia Limited'),\n",
       " ('P005', 'card', 'BRAC Bank Limited'),\n",
       " ('P006', 'card', 'Citizens Bank Limited'),\n",
       " ('P007', 'card', 'City Bank Limited'),\n",
       " ('P008', 'card', 'Community Bank Bangladesh Limited'),\n",
       " ('P009', 'card', 'Dhaka Bank Limited'),\n",
       " ('P010', 'card', 'Dutch-Bangla Bank Limited'),\n",
       " ('P011', 'card', 'Eastern Bank Limited'),\n",
       " ('P012', 'card', 'IFIC Bank Limited'),\n",
       " ('P013', 'card', 'Jamuna Bank Limited'),\n",
       " ('P014', 'card', 'Meghna Bank Limited'),\n",
       " ('P015', 'card', 'Mercantile Bank Limited'),\n",
       " ('P016', 'card', 'Midland Bank Limited'),\n",
       " ('P017', 'card', 'Modhumoti Bank Limited'),\n",
       " ('P018', 'card', 'Mutual Trust Bank Limited'),\n",
       " ('P019', 'card', 'National Bank Limited'),\n",
       " ('P020', 'card', 'National Credit & Commerce Bank Limited'),\n",
       " ('P021', 'card', 'NRB Bank Limited'),\n",
       " ('P022', 'card', 'NRB Commercial Bank Ltd'),\n",
       " ('P023', 'card', 'NRB Global Bank Ltd'),\n",
       " ('P024', 'card', 'One Bank Limited'),\n",
       " ('P025', 'card', 'Padma Bank Limited'),\n",
       " ('P026', 'card', 'Premier Bank Limited'),\n",
       " ('P027', 'card', 'Prime Bank Limited'),\n",
       " ('P028', 'card', 'Pubali Bank Limited'),\n",
       " ('P029', 'card', 'Standard Bank Limited'),\n",
       " ('P030', 'card', 'Shimanto Bank Ltd'),\n",
       " ('P031', 'card', 'Southeast Bank Limited'),\n",
       " ('P032', 'card', 'South Bangla Agriculture and Commerce Bank Limited'),\n",
       " ('P033', 'card', 'Trust Bank Limited'),\n",
       " ('P034', 'card', 'United Commercial Bank Ltd'),\n",
       " ('P035', 'card', 'Uttara Bank Limited'),\n",
       " ('P036', 'card', 'Bengal Commercial Bank Ltd'),\n",
       " ('P037', 'mobile', 'Bkash'),\n",
       " ('P038', 'mobile', 'Rocket'),\n",
       " ('P039', 'mobile', 'Nagad')]"
      ]
     },
     "execution_count": 33,
     "metadata": {},
     "output_type": "execute_result"
    }
   ],
   "source": [
    "res"
   ]
  },
  {
   "cell_type": "code",
   "execution_count": 1,
   "id": "9575db28",
   "metadata": {},
   "outputs": [
    {
     "name": "stdout",
     "output_type": "stream",
     "text": [
      "Collecting matplotlib\n",
      "  Downloading matplotlib-3.7.1-cp38-cp38-win_amd64.whl (7.6 MB)\n",
      "Requirement already satisfied: importlib-resources>=3.2.0 in c:\\users\\user\\appdata\\local\\programs\\python\\python38\\lib\\site-packages (from matplotlib) (5.12.0)\n",
      "Requirement already satisfied: python-dateutil>=2.7 in c:\\users\\user\\appdata\\local\\programs\\python\\python38\\lib\\site-packages (from matplotlib) (2.8.2)\n",
      "Collecting contourpy>=1.0.1\n",
      "  Downloading contourpy-1.0.7-cp38-cp38-win_amd64.whl (162 kB)\n",
      "Requirement already satisfied: packaging>=20.0 in c:\\users\\user\\appdata\\local\\programs\\python\\python38\\lib\\site-packages (from matplotlib) (23.1)\n",
      "Collecting pillow>=6.2.0\n",
      "  Downloading Pillow-9.5.0-cp38-cp38-win_amd64.whl (2.5 MB)\n",
      "Collecting fonttools>=4.22.0\n",
      "  Downloading fonttools-4.39.4-py3-none-any.whl (1.0 MB)\n",
      "Collecting cycler>=0.10\n",
      "  Downloading cycler-0.11.0-py3-none-any.whl (6.4 kB)\n",
      "Collecting pyparsing>=2.3.1\n",
      "  Downloading pyparsing-3.0.9-py3-none-any.whl (98 kB)\n",
      "Collecting kiwisolver>=1.0.1\n",
      "  Downloading kiwisolver-1.4.4-cp38-cp38-win_amd64.whl (55 kB)\n",
      "Requirement already satisfied: numpy>=1.20 in c:\\users\\user\\appdata\\local\\programs\\python\\python38\\lib\\site-packages (from matplotlib) (1.24.3)\n",
      "Requirement already satisfied: zipp>=3.1.0 in c:\\users\\user\\appdata\\local\\programs\\python\\python38\\lib\\site-packages (from importlib-resources>=3.2.0->matplotlib) (3.15.0)\n",
      "Requirement already satisfied: six>=1.5 in c:\\users\\user\\appdata\\local\\programs\\python\\python38\\lib\\site-packages (from python-dateutil>=2.7->matplotlib) (1.16.0)\n",
      "Installing collected packages: pyparsing, pillow, kiwisolver, fonttools, cycler, contourpy, matplotlib\n",
      "Successfully installed contourpy-1.0.7 cycler-0.11.0 fonttools-4.39.4 kiwisolver-1.4.4 matplotlib-3.7.1 pillow-9.5.0 pyparsing-3.0.9\n",
      "Note: you may need to restart the kernel to use updated packages.\n"
     ]
    },
    {
     "name": "stderr",
     "output_type": "stream",
     "text": [
      "WARNING: You are using pip version 21.1.1; however, version 23.1.2 is available.\n",
      "You should consider upgrading via the 'c:\\users\\user\\appdata\\local\\programs\\python\\python38\\python.exe -m pip install --upgrade pip' command.\n"
     ]
    }
   ],
   "source": [
    "pip install matplotlib"
   ]
  },
  {
   "cell_type": "code",
   "execution_count": 2,
   "id": "b51004d3",
   "metadata": {},
   "outputs": [
    {
     "name": "stdout",
     "output_type": "stream",
     "text": [
      "Collecting seaborn\n",
      "  Downloading seaborn-0.12.2-py3-none-any.whl (293 kB)\n",
      "Requirement already satisfied: numpy!=1.24.0,>=1.17 in c:\\users\\user\\appdata\\local\\programs\\python\\python38\\lib\\site-packages (from seaborn) (1.24.3)\n",
      "Requirement already satisfied: matplotlib!=3.6.1,>=3.1 in c:\\users\\user\\appdata\\local\\programs\\python\\python38\\lib\\site-packages (from seaborn) (3.7.1)\n",
      "Requirement already satisfied: pandas>=0.25 in c:\\users\\user\\appdata\\local\\programs\\python\\python38\\lib\\site-packages (from seaborn) (2.0.1)\n",
      "Requirement already satisfied: python-dateutil>=2.7 in c:\\users\\user\\appdata\\local\\programs\\python\\python38\\lib\\site-packages (from matplotlib!=3.6.1,>=3.1->seaborn) (2.8.2)\n",
      "Requirement already satisfied: cycler>=0.10 in c:\\users\\user\\appdata\\local\\programs\\python\\python38\\lib\\site-packages (from matplotlib!=3.6.1,>=3.1->seaborn) (0.11.0)\n",
      "Requirement already satisfied: packaging>=20.0 in c:\\users\\user\\appdata\\local\\programs\\python\\python38\\lib\\site-packages (from matplotlib!=3.6.1,>=3.1->seaborn) (23.1)\n",
      "Requirement already satisfied: fonttools>=4.22.0 in c:\\users\\user\\appdata\\local\\programs\\python\\python38\\lib\\site-packages (from matplotlib!=3.6.1,>=3.1->seaborn) (4.39.4)\n",
      "Requirement already satisfied: pillow>=6.2.0 in c:\\users\\user\\appdata\\local\\programs\\python\\python38\\lib\\site-packages (from matplotlib!=3.6.1,>=3.1->seaborn) (9.5.0)\n",
      "Requirement already satisfied: contourpy>=1.0.1 in c:\\users\\user\\appdata\\local\\programs\\python\\python38\\lib\\site-packages (from matplotlib!=3.6.1,>=3.1->seaborn) (1.0.7)\n",
      "Requirement already satisfied: pyparsing>=2.3.1 in c:\\users\\user\\appdata\\local\\programs\\python\\python38\\lib\\site-packages (from matplotlib!=3.6.1,>=3.1->seaborn) (3.0.9)\n",
      "Requirement already satisfied: importlib-resources>=3.2.0 in c:\\users\\user\\appdata\\local\\programs\\python\\python38\\lib\\site-packages (from matplotlib!=3.6.1,>=3.1->seaborn) (5.12.0)\n",
      "Requirement already satisfied: kiwisolver>=1.0.1 in c:\\users\\user\\appdata\\local\\programs\\python\\python38\\lib\\site-packages (from matplotlib!=3.6.1,>=3.1->seaborn) (1.4.4)\n",
      "Requirement already satisfied: zipp>=3.1.0 in c:\\users\\user\\appdata\\local\\programs\\python\\python38\\lib\\site-packages (from importlib-resources>=3.2.0->matplotlib!=3.6.1,>=3.1->seaborn) (3.15.0)\n",
      "Requirement already satisfied: tzdata>=2022.1 in c:\\users\\user\\appdata\\local\\programs\\python\\python38\\lib\\site-packages (from pandas>=0.25->seaborn) (2023.3)\n",
      "Requirement already satisfied: pytz>=2020.1 in c:\\users\\user\\appdata\\local\\programs\\python\\python38\\lib\\site-packages (from pandas>=0.25->seaborn) (2023.3)\n",
      "Requirement already satisfied: six>=1.5 in c:\\users\\user\\appdata\\local\\programs\\python\\python38\\lib\\site-packages (from python-dateutil>=2.7->matplotlib!=3.6.1,>=3.1->seaborn) (1.16.0)\n",
      "Installing collected packages: seaborn\n",
      "Successfully installed seaborn-0.12.2\n",
      "Note: you may need to restart the kernel to use updated packages.\n"
     ]
    },
    {
     "name": "stderr",
     "output_type": "stream",
     "text": [
      "WARNING: You are using pip version 21.1.1; however, version 23.1.2 is available.\n",
      "You should consider upgrading via the 'c:\\users\\user\\appdata\\local\\programs\\python\\python38\\python.exe -m pip install --upgrade pip' command.\n"
     ]
    }
   ],
   "source": [
    "pip install seaborn"
   ]
  },
  {
   "cell_type": "code",
   "execution_count": 3,
   "id": "333626a3",
   "metadata": {},
   "outputs": [
    {
     "name": "stdout",
     "output_type": "stream",
     "text": [
      "Requirement already satisfied: numpy in c:\\users\\user\\appdata\\local\\programs\\python\\python38\\lib\\site-packages (1.24.3)\n",
      "Note: you may need to restart the kernel to use updated packages.\n"
     ]
    },
    {
     "name": "stderr",
     "output_type": "stream",
     "text": [
      "WARNING: You are using pip version 21.1.1; however, version 23.1.2 is available.\n",
      "You should consider upgrading via the 'c:\\users\\user\\appdata\\local\\programs\\python\\python38\\python.exe -m pip install --upgrade pip' command.\n"
     ]
    }
   ],
   "source": [
    "pip install numpy"
   ]
  },
  {
   "cell_type": "code",
   "execution_count": 22,
   "id": "3937a86c",
   "metadata": {},
   "outputs": [
    {
     "name": "stdout",
     "output_type": "stream",
     "text": [
      "Connection to DB established!\n"
     ]
    },
    {
     "data": {
      "text/plain": [
       "[('BARISAL', Decimal('7520343.75')),\n",
       " ('CHITTAGONG', Decimal('19763595.00')),\n",
       " ('DHAKA', Decimal('40764619.75')),\n",
       " ('KHULNA', Decimal('11311610.50')),\n",
       " ('RAJSHAHI', Decimal('12099196.00')),\n",
       " ('RANGPUR', Decimal('8429836.50')),\n",
       " ('SYLHET', Decimal('5512234.25'))]"
      ]
     },
     "execution_count": 22,
     "metadata": {},
     "output_type": "execute_result"
    }
   ],
   "source": [
    "con = PostgresConnection().getConnection()\n",
    "select_stmt = \"SELECT s.division, SUM(f.total_price) FROM ecomdb_star_schema.fact_table f \"\\\n",
    "\"JOIN ecomdb_star_schema.store_dim s ON f.store_key = s.store_key GROUP BY s.division ORDER BY s.division ASC \"\n",
    "cur = con.cursor()\n",
    "cur.execute(select_stmt)\n",
    "res = cur.fetchall()\n",
    "cur.close()\n",
    "res"
   ]
  },
  {
   "cell_type": "code",
   "execution_count": 9,
   "id": "c6c160d0",
   "metadata": {},
   "outputs": [],
   "source": [
    "class PostgresConnection(object):\n",
    "    def __init__(self):\n",
    "        self.connection = psycopg2.connect(database=\"ecomdb\",\n",
    "                                           user = \"postgres\",\n",
    "                                           password = \"Justdoit007\",\n",
    "                                           host = \"127.0.0.1\",\n",
    "                                           port = \"5432\")\n",
    "\n",
    "    def getConnection(self):\n",
    "        print(\"Connection to DB established!\")\n",
    "        return self.connection"
   ]
  },
  {
   "cell_type": "code",
   "execution_count": 13,
   "id": "e9a1aa0f",
   "metadata": {},
   "outputs": [
    {
     "name": "stdout",
     "output_type": "stream",
     "text": [
      "Connection to DB established!\n"
     ]
    },
    {
     "data": {
      "text/plain": [
       "[('BAGERHAT', Decimal('1307651.00')),\n",
       " ('BANDARBAN', Decimal('995360.75')),\n",
       " ('BARGUNA', Decimal('869041.00')),\n",
       " ('BARISAL', Decimal('2897237.75')),\n",
       " ('BHOLA', Decimal('1012205.75')),\n",
       " ('BOGRA', Decimal('1716452.75')),\n",
       " ('BRAHMANBARIA', Decimal('1328234.25')),\n",
       " ('CHANDPUR', Decimal('1153276.75')),\n",
       " ('CHAPAI NABABGANJ', Decimal('739447.50')),\n",
       " ('CHITTAGONG', Decimal('7292985.50')),\n",
       " ('CHUADANGA', Decimal('563909.75')),\n",
       " ('COMILLA', Decimal('2286898.25')),\n",
       " (\"COX'S BAZAR\", Decimal('1188128.75')),\n",
       " ('DHAKA', Decimal('23597621.00')),\n",
       " ('DINAJPUR', Decimal('1871005.75')),\n",
       " ('FARIDPUR', Decimal('1287383.75')),\n",
       " ('FENI', Decimal('847873.50')),\n",
       " ('GAIBANDHA', Decimal('997077.75')),\n",
       " ('GAZIPUR', Decimal('722286.25')),\n",
       " ('GOPALGANJ', Decimal('731312.75')),\n",
       " ('HABIGANJ', Decimal('1153998.00')),\n",
       " ('JAMALPUR', Decimal('1009760.00')),\n",
       " ('JESSORE', Decimal('1132590.50')),\n",
       " ('JHALOKATI', Decimal('570807.25')),\n",
       " ('JHENAIDAH', Decimal('869991.25')),\n",
       " ('JOYPURHAT', Decimal('735378.50')),\n",
       " ('KHAGRACHHARI', Decimal('1161721.50')),\n",
       " ('KHULNA', Decimal('4081283.75')),\n",
       " ('KISHOREGONJ', Decimal('1895395.50')),\n",
       " ('KURIGRAM', Decimal('1327257.00')),\n",
       " ('KUSHTIA', Decimal('871240.50')),\n",
       " ('LAKSHMIPUR', Decimal('729909.25')),\n",
       " ('LALMONIRHAT', Decimal('732387.00')),\n",
       " ('MADARIPUR', Decimal('601530.50')),\n",
       " ('MAGURA', Decimal('577543.25')),\n",
       " ('MANIKGANJ', Decimal('997970.00')),\n",
       " ('MAULVIBAZAR', Decimal('1036745.00')),\n",
       " ('MEHERPUR', Decimal('436755.00')),\n",
       " ('MUNSHIGANJ', Decimal('866631.25')),\n",
       " ('MYMENSINGH', Decimal('1885230.50')),\n",
       " ('NAOGAON', Decimal('1565147.25')),\n",
       " ('NARAIL', Decimal('440698.75')),\n",
       " ('NARAYANGANJ', Decimal('733546.50')),\n",
       " ('NARSINGDI', Decimal('885864.75')),\n",
       " ('NATORE', Decimal('1004712.00')),\n",
       " ('NETRAKONA', Decimal('1449766.00')),\n",
       " ('NILPHAMARI', Decimal('862774.75')),\n",
       " ('NOAKHALI', Decimal('1321186.75')),\n",
       " ('PABNA', Decimal('1286502.75')),\n",
       " ('PANCHAGARH', Decimal('736777.25')),\n",
       " ('PATUAKHALI', Decimal('1152629.00')),\n",
       " ('PIROJPUR', Decimal('1018423.00')),\n",
       " ('RAJBARI', Decimal('736393.00')),\n",
       " ('RAJSHAHI', Decimal('3756454.50')),\n",
       " ('RANGAMATI', Decimal('1458019.75')),\n",
       " ('RANGPUR', Decimal('1172622.75')),\n",
       " ('SATKHIRA', Decimal('1029946.75')),\n",
       " ('SHARIATPUR', Decimal('855565.75')),\n",
       " ('SHERPUR', Decimal('733712.00')),\n",
       " ('SIRAJGANJ', Decimal('1295100.75')),\n",
       " ('SUNAMGANJ', Decimal('1593774.00')),\n",
       " ('SYLHET', Decimal('1727717.25')),\n",
       " ('TANGAIL', Decimal('1774650.25')),\n",
       " ('THAKURGAON', Decimal('729934.25'))]"
      ]
     },
     "execution_count": 13,
     "metadata": {},
     "output_type": "execute_result"
    }
   ],
   "source": [
    "con = PostgresConnection().getConnection()\n",
    "select_stmt = \"SELECT s.district, SUM(f.total_price) FROM ecomdb_star_schema.fact_table f \"\\\n",
    "\"JOIN ecomdb_star_schema.store_dim s ON f.store_key = s.store_key GROUP BY s.district ORDER BY s.district ASC \"\n",
    "cur = con.cursor()\n",
    "cur.execute(select_stmt)\n",
    "res = cur.fetchall()\n",
    "cur.close()\n",
    "res"
   ]
  },
  {
   "cell_type": "code",
   "execution_count": 23,
   "id": "4f40ca45",
   "metadata": {},
   "outputs": [
    {
     "data": {
      "text/html": [
       "<div>\n",
       "<style scoped>\n",
       "    .dataframe tbody tr th:only-of-type {\n",
       "        vertical-align: middle;\n",
       "    }\n",
       "\n",
       "    .dataframe tbody tr th {\n",
       "        vertical-align: top;\n",
       "    }\n",
       "\n",
       "    .dataframe thead th {\n",
       "        text-align: right;\n",
       "    }\n",
       "</style>\n",
       "<table border=\"1\" class=\"dataframe\">\n",
       "  <thead>\n",
       "    <tr style=\"text-align: right;\">\n",
       "      <th></th>\n",
       "      <th>division</th>\n",
       "      <th>total_sales</th>\n",
       "    </tr>\n",
       "  </thead>\n",
       "  <tbody>\n",
       "    <tr>\n",
       "      <th>0</th>\n",
       "      <td>BARISAL</td>\n",
       "      <td>7520343.75</td>\n",
       "    </tr>\n",
       "    <tr>\n",
       "      <th>1</th>\n",
       "      <td>CHITTAGONG</td>\n",
       "      <td>19763595.00</td>\n",
       "    </tr>\n",
       "    <tr>\n",
       "      <th>2</th>\n",
       "      <td>DHAKA</td>\n",
       "      <td>40764619.75</td>\n",
       "    </tr>\n",
       "    <tr>\n",
       "      <th>3</th>\n",
       "      <td>KHULNA</td>\n",
       "      <td>11311610.50</td>\n",
       "    </tr>\n",
       "    <tr>\n",
       "      <th>4</th>\n",
       "      <td>RAJSHAHI</td>\n",
       "      <td>12099196.00</td>\n",
       "    </tr>\n",
       "    <tr>\n",
       "      <th>5</th>\n",
       "      <td>RANGPUR</td>\n",
       "      <td>8429836.50</td>\n",
       "    </tr>\n",
       "    <tr>\n",
       "      <th>6</th>\n",
       "      <td>SYLHET</td>\n",
       "      <td>5512234.25</td>\n",
       "    </tr>\n",
       "  </tbody>\n",
       "</table>\n",
       "</div>"
      ],
      "text/plain": [
       "     division  total_sales\n",
       "0     BARISAL   7520343.75\n",
       "1  CHITTAGONG  19763595.00\n",
       "2       DHAKA  40764619.75\n",
       "3      KHULNA  11311610.50\n",
       "4    RAJSHAHI  12099196.00\n",
       "5     RANGPUR   8429836.50\n",
       "6      SYLHET   5512234.25"
      ]
     },
     "execution_count": 23,
     "metadata": {},
     "output_type": "execute_result"
    }
   ],
   "source": [
    "import pandas as pd\n",
    "df_q1 = pd.DataFrame(res,columns = ['division', 'total_sales'])\n",
    "df_q1"
   ]
  },
  {
   "cell_type": "code",
   "execution_count": 24,
   "id": "16a23894",
   "metadata": {},
   "outputs": [
    {
     "data": {
      "text/plain": [
       "division       object\n",
       "total_sales    object\n",
       "dtype: object"
      ]
     },
     "execution_count": 24,
     "metadata": {},
     "output_type": "execute_result"
    }
   ],
   "source": [
    "df_q1.dtypes"
   ]
  },
  {
   "cell_type": "code",
   "execution_count": 25,
   "id": "6dc26131",
   "metadata": {},
   "outputs": [
    {
     "data": {
      "text/html": [
       "<div>\n",
       "<style scoped>\n",
       "    .dataframe tbody tr th:only-of-type {\n",
       "        vertical-align: middle;\n",
       "    }\n",
       "\n",
       "    .dataframe tbody tr th {\n",
       "        vertical-align: top;\n",
       "    }\n",
       "\n",
       "    .dataframe thead th {\n",
       "        text-align: right;\n",
       "    }\n",
       "</style>\n",
       "<table border=\"1\" class=\"dataframe\">\n",
       "  <thead>\n",
       "    <tr style=\"text-align: right;\">\n",
       "      <th></th>\n",
       "      <th>division</th>\n",
       "      <th>total_sales</th>\n",
       "    </tr>\n",
       "  </thead>\n",
       "  <tbody>\n",
       "    <tr>\n",
       "      <th>0</th>\n",
       "      <td>BARISAL</td>\n",
       "      <td>7520343.75</td>\n",
       "    </tr>\n",
       "    <tr>\n",
       "      <th>1</th>\n",
       "      <td>CHITTAGONG</td>\n",
       "      <td>19763595.00</td>\n",
       "    </tr>\n",
       "    <tr>\n",
       "      <th>2</th>\n",
       "      <td>DHAKA</td>\n",
       "      <td>40764619.75</td>\n",
       "    </tr>\n",
       "    <tr>\n",
       "      <th>3</th>\n",
       "      <td>KHULNA</td>\n",
       "      <td>11311610.50</td>\n",
       "    </tr>\n",
       "    <tr>\n",
       "      <th>4</th>\n",
       "      <td>RAJSHAHI</td>\n",
       "      <td>12099196.00</td>\n",
       "    </tr>\n",
       "    <tr>\n",
       "      <th>5</th>\n",
       "      <td>RANGPUR</td>\n",
       "      <td>8429836.50</td>\n",
       "    </tr>\n",
       "    <tr>\n",
       "      <th>6</th>\n",
       "      <td>SYLHET</td>\n",
       "      <td>5512234.25</td>\n",
       "    </tr>\n",
       "  </tbody>\n",
       "</table>\n",
       "</div>"
      ],
      "text/plain": [
       "     division  total_sales\n",
       "0     BARISAL   7520343.75\n",
       "1  CHITTAGONG  19763595.00\n",
       "2       DHAKA  40764619.75\n",
       "3      KHULNA  11311610.50\n",
       "4    RAJSHAHI  12099196.00\n",
       "5     RANGPUR   8429836.50\n",
       "6      SYLHET   5512234.25"
      ]
     },
     "execution_count": 25,
     "metadata": {},
     "output_type": "execute_result"
    }
   ],
   "source": [
    "def changetype(x):\n",
    "    x['total_sales'] = x['total_sales'].astype('float64')\n",
    "changetype(df_q1)\n",
    "df_q1"
   ]
  },
  {
   "cell_type": "code",
   "execution_count": 26,
   "id": "3f1ae7f2",
   "metadata": {},
   "outputs": [
    {
     "data": {
      "text/plain": [
       "division        object\n",
       "total_sales    float64\n",
       "dtype: object"
      ]
     },
     "execution_count": 26,
     "metadata": {},
     "output_type": "execute_result"
    }
   ],
   "source": [
    "df_q1.dtypes"
   ]
  },
  {
   "cell_type": "code",
   "execution_count": 28,
   "id": "87fb509d",
   "metadata": {},
   "outputs": [
    {
     "data": {
      "text/plain": [
       "<Axes: ylabel='total_sales'>"
      ]
     },
     "execution_count": 28,
     "metadata": {},
     "output_type": "execute_result"
    },
    {
     "data": {
      "image/png": "[encoded data removed]",
      "text/plain": [
       "<Figure size 640x480 with 1 Axes>"
      ]
     },
     "metadata": {},
     "output_type": "display_data"
    }
   ],
   "source": [
    "df_q1 = df_q1.set_index(['division'])\n",
    "df_q1.plot.pie(y='total_sales')"
   ]
  },
  {
   "cell_type": "code",
   "execution_count": null,
   "id": "99f0dd60",
   "metadata": {},
   "outputs": [],
   "source": []
  }
 ],
 "metadata": {
  "kernelspec": {
   "display_name": "Python 3 (ipykernel)",
   "language": "python",
   "name": "python3"
  },
  "language_info": {
   "codemirror_mode": {
    "name": "ipython",
    "version": 3
   },
   "file_extension": ".py",
   "mimetype": "text/x-python",
   "name": "python",
   "nbconvert_exporter": "python",
   "pygments_lexer": "ipython3",
   "version": "3.8.10"
  }
 },
 "nbformat": 4,
 "nbformat_minor": 5
}
