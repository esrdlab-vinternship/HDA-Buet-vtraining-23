{
 "cells": [
  {
   "cell_type": "code",
   "execution_count": 1,
   "id": "f5ffa5d2",
   "metadata": {},
   "outputs": [
    {
     "name": "stdout",
     "output_type": "stream",
     "text": [
      "Requirement already satisfied: psycopg2 in d:\\virtualtraining\\myenv\\lib\\site-packages (2.9.6)\n",
      "Note: you may need to restart the kernel to use updated packages.\n"
     ]
    }
   ],
   "source": [
    "pip install psycopg2\n"
   ]
  },
  {
   "cell_type": "code",
   "execution_count": 2,
   "id": "8e038917",
   "metadata": {},
   "outputs": [
    {
     "name": "stdout",
     "output_type": "stream",
     "text": [
      "Requirement already satisfied: openpyxl in d:\\virtualtraining\\myenv\\lib\\site-packages (3.1.2)\n",
      "Requirement already satisfied: et-xmlfile in d:\\virtualtraining\\myenv\\lib\\site-packages (from openpyxl) (1.1.0)\n",
      "Note: you may need to restart the kernel to use updated packages.\n"
     ]
    }
   ],
   "source": [
    "pip install openpyxl"
   ]
  },
  {
   "cell_type": "code",
   "execution_count": 3,
   "id": "000b4a8e",
   "metadata": {},
   "outputs": [
    {
     "name": "stdout",
     "output_type": "stream",
     "text": [
      "Requirement already satisfied: pandas in d:\\virtualtraining\\myenv\\lib\\site-packages (2.0.1)\n",
      "Requirement already satisfied: python-dateutil>=2.8.2 in d:\\virtualtraining\\myenv\\lib\\site-packages (from pandas) (2.8.2)\n",
      "Requirement already satisfied: pytz>=2020.1 in d:\\virtualtraining\\myenv\\lib\\site-packages (from pandas) (2023.3)\n",
      "Requirement already satisfied: tzdata>=2022.1 in d:\\virtualtraining\\myenv\\lib\\site-packages (from pandas) (2023.3)\n",
      "Requirement already satisfied: numpy>=1.20.3 in d:\\virtualtraining\\myenv\\lib\\site-packages (from pandas) (1.24.3)\n",
      "Requirement already satisfied: six>=1.5 in d:\\virtualtraining\\myenv\\lib\\site-packages (from python-dateutil>=2.8.2->pandas) (1.16.0)\n",
      "Note: you may need to restart the kernel to use updated packages.\n"
     ]
    }
   ],
   "source": [
    "pip install pandas"
   ]
  },
  {
   "cell_type": "markdown",
   "id": "3905b1d2",
   "metadata": {},
   "source": [
    "# Importing Packages"
   ]
  },
  {
   "cell_type": "code",
   "execution_count": 4,
   "id": "8b2c7244",
   "metadata": {},
   "outputs": [],
   "source": [
    "import psycopg2\n",
    "import pandas as pd\n",
    "import psycopg2.extras\n"
   ]
  },
  {
   "cell_type": "markdown",
   "id": "1b33c5ee",
   "metadata": {},
   "source": [
    "# Extract"
   ]
  },
  {
   "cell_type": "code",
   "execution_count": 8,
   "id": "c562744d",
   "metadata": {},
   "outputs": [],
   "source": [
    "fact_table = pd.read_csv(r'D:\\virtualTraining\\HDA-Buet-vtraining-23\\Health Dataset\\fact_sales.csv')"
   ]
  },
  {
   "cell_type": "code",
   "execution_count": 9,
   "id": "a6472e36",
   "metadata": {},
   "outputs": [
    {
     "data": {
      "text/html": [
       "<div>\n",
       "<style scoped>\n",
       "    .dataframe tbody tr th:only-of-type {\n",
       "        vertical-align: middle;\n",
       "    }\n",
       "\n",
       "    .dataframe tbody tr th {\n",
       "        vertical-align: top;\n",
       "    }\n",
       "\n",
       "    .dataframe thead th {\n",
       "        text-align: right;\n",
       "    }\n",
       "</style>\n",
       "<table border=\"1\" class=\"dataframe\">\n",
       "  <thead>\n",
       "    <tr style=\"text-align: right;\">\n",
       "      <th></th>\n",
       "      <th>_id</th>\n",
       "      <th>pik</th>\n",
       "      <th>time_key</th>\n",
       "      <th>geo_key</th>\n",
       "      <th>hospital_key</th>\n",
       "      <th>lab_key</th>\n",
       "      <th>test_key</th>\n",
       "      <th>sales_price</th>\n",
       "    </tr>\n",
       "  </thead>\n",
       "  <tbody>\n",
       "    <tr>\n",
       "      <th>0</th>\n",
       "      <td>1</td>\n",
       "      <td>F1926jvorfrrglahvcrnouosvspqsp</td>\n",
       "      <td>20190708</td>\n",
       "      <td>204667</td>\n",
       "      <td>100001</td>\n",
       "      <td>10003</td>\n",
       "      <td>10490</td>\n",
       "      <td>1030</td>\n",
       "    </tr>\n",
       "    <tr>\n",
       "      <th>1</th>\n",
       "      <td>2</td>\n",
       "      <td>F1926jvorfrrglahvcrnouosvspqsp</td>\n",
       "      <td>20190708</td>\n",
       "      <td>204667</td>\n",
       "      <td>100001</td>\n",
       "      <td>10043</td>\n",
       "      <td>10156</td>\n",
       "      <td>1210</td>\n",
       "    </tr>\n",
       "    <tr>\n",
       "      <th>2</th>\n",
       "      <td>3</td>\n",
       "      <td>F1926jvorfrrglahvcrnouosvspqsp</td>\n",
       "      <td>20190708</td>\n",
       "      <td>204667</td>\n",
       "      <td>100001</td>\n",
       "      <td>10043</td>\n",
       "      <td>10257</td>\n",
       "      <td>430</td>\n",
       "    </tr>\n",
       "    <tr>\n",
       "      <th>3</th>\n",
       "      <td>4</td>\n",
       "      <td>F1926jvorfrrglahvcrnouosvspqsp</td>\n",
       "      <td>20190708</td>\n",
       "      <td>204667</td>\n",
       "      <td>100001</td>\n",
       "      <td>10043</td>\n",
       "      <td>10822</td>\n",
       "      <td>1210</td>\n",
       "    </tr>\n",
       "    <tr>\n",
       "      <th>4</th>\n",
       "      <td>5</td>\n",
       "      <td>F1926jvorfrrglahvcrnouosvspqsp</td>\n",
       "      <td>20190708</td>\n",
       "      <td>204667</td>\n",
       "      <td>100001</td>\n",
       "      <td>10043</td>\n",
       "      <td>10899</td>\n",
       "      <td>480</td>\n",
       "    </tr>\n",
       "    <tr>\n",
       "      <th>...</th>\n",
       "      <td>...</td>\n",
       "      <td>...</td>\n",
       "      <td>...</td>\n",
       "      <td>...</td>\n",
       "      <td>...</td>\n",
       "      <td>...</td>\n",
       "      <td>...</td>\n",
       "      <td>...</td>\n",
       "    </tr>\n",
       "    <tr>\n",
       "      <th>92078</th>\n",
       "      <td>92079</td>\n",
       "      <td>M2018xvncrvcrnouoosrrvvn</td>\n",
       "      <td>20200301</td>\n",
       "      <td>302650</td>\n",
       "      <td>100001</td>\n",
       "      <td>10051</td>\n",
       "      <td>10531</td>\n",
       "      <td>1100</td>\n",
       "    </tr>\n",
       "    <tr>\n",
       "      <th>92079</th>\n",
       "      <td>92080</td>\n",
       "      <td>M2018xvncrvcrnouoosrrvvn</td>\n",
       "      <td>20200301</td>\n",
       "      <td>302650</td>\n",
       "      <td>100001</td>\n",
       "      <td>10053</td>\n",
       "      <td>10157</td>\n",
       "      <td>850</td>\n",
       "    </tr>\n",
       "    <tr>\n",
       "      <th>92080</th>\n",
       "      <td>92081</td>\n",
       "      <td>M2018xvncrvcrnouoosrrvvn</td>\n",
       "      <td>20200301</td>\n",
       "      <td>302650</td>\n",
       "      <td>100001</td>\n",
       "      <td>10058</td>\n",
       "      <td>10617</td>\n",
       "      <td>310</td>\n",
       "    </tr>\n",
       "    <tr>\n",
       "      <th>92081</th>\n",
       "      <td>92082</td>\n",
       "      <td>M2018xwrrefhpplrnounruupuws</td>\n",
       "      <td>20190911</td>\n",
       "      <td>207585</td>\n",
       "      <td>100001</td>\n",
       "      <td>10048</td>\n",
       "      <td>10655</td>\n",
       "      <td>400</td>\n",
       "    </tr>\n",
       "    <tr>\n",
       "      <th>92082</th>\n",
       "      <td>92083</td>\n",
       "      <td>M2018xwrrefhpplrnounruupuws</td>\n",
       "      <td>20190911</td>\n",
       "      <td>207585</td>\n",
       "      <td>100001</td>\n",
       "      <td>10051</td>\n",
       "      <td>10231</td>\n",
       "      <td>500</td>\n",
       "    </tr>\n",
       "  </tbody>\n",
       "</table>\n",
       "<p>92083 rows × 8 columns</p>\n",
       "</div>"
      ],
      "text/plain": [
       "         _id                             pik  time_key  geo_key  hospital_key   \n",
       "0          1  F1926jvorfrrglahvcrnouosvspqsp  20190708   204667        100001  \\\n",
       "1          2  F1926jvorfrrglahvcrnouosvspqsp  20190708   204667        100001   \n",
       "2          3  F1926jvorfrrglahvcrnouosvspqsp  20190708   204667        100001   \n",
       "3          4  F1926jvorfrrglahvcrnouosvspqsp  20190708   204667        100001   \n",
       "4          5  F1926jvorfrrglahvcrnouosvspqsp  20190708   204667        100001   \n",
       "...      ...                             ...       ...      ...           ...   \n",
       "92078  92079        M2018xvncrvcrnouoosrrvvn  20200301   302650        100001   \n",
       "92079  92080        M2018xvncrvcrnouoosrrvvn  20200301   302650        100001   \n",
       "92080  92081        M2018xvncrvcrnouoosrrvvn  20200301   302650        100001   \n",
       "92081  92082     M2018xwrrefhpplrnounruupuws  20190911   207585        100001   \n",
       "92082  92083     M2018xwrrefhpplrnounruupuws  20190911   207585        100001   \n",
       "\n",
       "       lab_key  test_key  sales_price  \n",
       "0        10003     10490         1030  \n",
       "1        10043     10156         1210  \n",
       "2        10043     10257          430  \n",
       "3        10043     10822         1210  \n",
       "4        10043     10899          480  \n",
       "...        ...       ...          ...  \n",
       "92078    10051     10531         1100  \n",
       "92079    10053     10157          850  \n",
       "92080    10058     10617          310  \n",
       "92081    10048     10655          400  \n",
       "92082    10051     10231          500  \n",
       "\n",
       "[92083 rows x 8 columns]"
      ]
     },
     "execution_count": 9,
     "metadata": {},
     "output_type": "execute_result"
    }
   ],
   "source": [
    "fact_table"
   ]
  },
  {
   "cell_type": "code",
   "execution_count": 10,
   "id": "2c8d5996",
   "metadata": {},
   "outputs": [],
   "source": [
    "geography_dim = pd.read_csv(r'D:\\virtualTraining\\HDA-Buet-vtraining-23\\Health Dataset\\dim_geography.csv')"
   ]
  },
  {
   "cell_type": "code",
   "execution_count": 11,
   "id": "c5c5fd1f",
   "metadata": {},
   "outputs": [
    {
     "data": {
      "text/html": [
       "<div>\n",
       "<style scoped>\n",
       "    .dataframe tbody tr th:only-of-type {\n",
       "        vertical-align: middle;\n",
       "    }\n",
       "\n",
       "    .dataframe tbody tr th {\n",
       "        vertical-align: top;\n",
       "    }\n",
       "\n",
       "    .dataframe thead th {\n",
       "        text-align: right;\n",
       "    }\n",
       "</style>\n",
       "<table border=\"1\" class=\"dataframe\">\n",
       "  <thead>\n",
       "    <tr style=\"text-align: right;\">\n",
       "      <th></th>\n",
       "      <th>geo_key</th>\n",
       "      <th>upazila</th>\n",
       "      <th>district</th>\n",
       "      <th>division</th>\n",
       "    </tr>\n",
       "  </thead>\n",
       "  <tbody>\n",
       "    <tr>\n",
       "      <th>0</th>\n",
       "      <td>603602</td>\n",
       "      <td>AJMIRIGANJ</td>\n",
       "      <td>HABIGANJ</td>\n",
       "      <td>SYLHET</td>\n",
       "    </tr>\n",
       "    <tr>\n",
       "      <th>1</th>\n",
       "      <td>603605</td>\n",
       "      <td>BAHUBAL</td>\n",
       "      <td>HABIGANJ</td>\n",
       "      <td>SYLHET</td>\n",
       "    </tr>\n",
       "    <tr>\n",
       "      <th>2</th>\n",
       "      <td>603611</td>\n",
       "      <td>BANIACHONG</td>\n",
       "      <td>HABIGANJ</td>\n",
       "      <td>SYLHET</td>\n",
       "    </tr>\n",
       "    <tr>\n",
       "      <th>3</th>\n",
       "      <td>603626</td>\n",
       "      <td>CHUNARUGHAT</td>\n",
       "      <td>HABIGANJ</td>\n",
       "      <td>SYLHET</td>\n",
       "    </tr>\n",
       "    <tr>\n",
       "      <th>4</th>\n",
       "      <td>603644</td>\n",
       "      <td>HABIGANJ SADAR</td>\n",
       "      <td>HABIGANJ</td>\n",
       "      <td>SYLHET</td>\n",
       "    </tr>\n",
       "    <tr>\n",
       "      <th>...</th>\n",
       "      <td>...</td>\n",
       "      <td>...</td>\n",
       "      <td>...</td>\n",
       "      <td>...</td>\n",
       "    </tr>\n",
       "    <tr>\n",
       "      <th>551</th>\n",
       "      <td>107958</td>\n",
       "      <td>MATHBARIA</td>\n",
       "      <td>PIROJPUR</td>\n",
       "      <td>BARISAL</td>\n",
       "    </tr>\n",
       "    <tr>\n",
       "      <th>552</th>\n",
       "      <td>107976</td>\n",
       "      <td>NAZIRPUR</td>\n",
       "      <td>PIROJPUR</td>\n",
       "      <td>BARISAL</td>\n",
       "    </tr>\n",
       "    <tr>\n",
       "      <th>553</th>\n",
       "      <td>107980</td>\n",
       "      <td>PIROJPUR SADAR</td>\n",
       "      <td>PIROJPUR</td>\n",
       "      <td>BARISAL</td>\n",
       "    </tr>\n",
       "    <tr>\n",
       "      <th>554</th>\n",
       "      <td>107987</td>\n",
       "      <td>NESARABAD (SWARUPKATI)</td>\n",
       "      <td>PIROJPUR</td>\n",
       "      <td>BARISAL</td>\n",
       "    </tr>\n",
       "    <tr>\n",
       "      <th>555</th>\n",
       "      <td>107990</td>\n",
       "      <td>ZIANAGAR</td>\n",
       "      <td>PIROJPUR</td>\n",
       "      <td>BARISAL</td>\n",
       "    </tr>\n",
       "  </tbody>\n",
       "</table>\n",
       "<p>556 rows × 4 columns</p>\n",
       "</div>"
      ],
      "text/plain": [
       "     geo_key                 upazila  district division\n",
       "0     603602              AJMIRIGANJ  HABIGANJ   SYLHET\n",
       "1     603605                 BAHUBAL  HABIGANJ   SYLHET\n",
       "2     603611              BANIACHONG  HABIGANJ   SYLHET\n",
       "3     603626             CHUNARUGHAT  HABIGANJ   SYLHET\n",
       "4     603644          HABIGANJ SADAR  HABIGANJ   SYLHET\n",
       "..       ...                     ...       ...      ...\n",
       "551   107958               MATHBARIA  PIROJPUR  BARISAL\n",
       "552   107976                NAZIRPUR  PIROJPUR  BARISAL\n",
       "553   107980          PIROJPUR SADAR  PIROJPUR  BARISAL\n",
       "554   107987  NESARABAD (SWARUPKATI)  PIROJPUR  BARISAL\n",
       "555   107990                ZIANAGAR  PIROJPUR  BARISAL\n",
       "\n",
       "[556 rows x 4 columns]"
      ]
     },
     "execution_count": 11,
     "metadata": {},
     "output_type": "execute_result"
    }
   ],
   "source": [
    "geography_dim"
   ]
  },
  {
   "cell_type": "code",
   "execution_count": 12,
   "id": "24c2e7d0",
   "metadata": {},
   "outputs": [],
   "source": [
    "hospital_dim = pd.read_csv(r'D:\\virtualTraining\\HDA-Buet-vtraining-23\\Health Dataset\\dim_hospital.csv')"
   ]
  },
  {
   "cell_type": "code",
   "execution_count": 13,
   "id": "7b9694d2",
   "metadata": {},
   "outputs": [
    {
     "data": {
      "text/html": [
       "<div>\n",
       "<style scoped>\n",
       "    .dataframe tbody tr th:only-of-type {\n",
       "        vertical-align: middle;\n",
       "    }\n",
       "\n",
       "    .dataframe tbody tr th {\n",
       "        vertical-align: top;\n",
       "    }\n",
       "\n",
       "    .dataframe thead th {\n",
       "        text-align: right;\n",
       "    }\n",
       "</style>\n",
       "<table border=\"1\" class=\"dataframe\">\n",
       "  <thead>\n",
       "    <tr style=\"text-align: right;\">\n",
       "      <th></th>\n",
       "      <th>hospital_key</th>\n",
       "      <th>hospital_name</th>\n",
       "      <th>branch_name</th>\n",
       "      <th>hospital_type</th>\n",
       "      <th>email</th>\n",
       "      <th>website</th>\n",
       "      <th>address</th>\n",
       "      <th>geo_code</th>\n",
       "      <th>city</th>\n",
       "      <th>upazila</th>\n",
       "      <th>district</th>\n",
       "      <th>division</th>\n",
       "    </tr>\n",
       "  </thead>\n",
       "  <tbody>\n",
       "    <tr>\n",
       "      <th>0</th>\n",
       "      <td>100001</td>\n",
       "      <td>BANGLADESH EYE HOSPITAL LTD.</td>\n",
       "      <td>Dhanmondi</td>\n",
       "      <td>Private</td>\n",
       "      <td>info@bdeyehospital.com</td>\n",
       "      <td>www.mysoftltd.com</td>\n",
       "      <td>78, Satmasjid Road (Road#27), Dhanmondi,</td>\n",
       "      <td>302616</td>\n",
       "      <td>DHAKA</td>\n",
       "      <td>DHANMONDI</td>\n",
       "      <td>DHAKA</td>\n",
       "      <td>DHAKA</td>\n",
       "    </tr>\n",
       "    <tr>\n",
       "      <th>1</th>\n",
       "      <td>100002</td>\n",
       "      <td>BANGLADESH EYE HOSPITAL LTD(Mirpur)</td>\n",
       "      <td>Mirpur</td>\n",
       "      <td>Private</td>\n",
       "      <td>info@bdeyehospital.com</td>\n",
       "      <td>www.mysoftltd.com</td>\n",
       "      <td>Mirpur</td>\n",
       "      <td>302648</td>\n",
       "      <td>DHAKA</td>\n",
       "      <td>MIRPUR</td>\n",
       "      <td>DHAKA</td>\n",
       "      <td>DHAKA</td>\n",
       "    </tr>\n",
       "    <tr>\n",
       "      <th>2</th>\n",
       "      <td>100003</td>\n",
       "      <td>BANGLADESH EYE HOSPITAL LTD(Uttara)</td>\n",
       "      <td>Uttara</td>\n",
       "      <td>Private</td>\n",
       "      <td>info@bdeyehospital.com</td>\n",
       "      <td>www.mysoftltd.com</td>\n",
       "      <td>Uttara</td>\n",
       "      <td>302694</td>\n",
       "      <td>DHAKA</td>\n",
       "      <td>UTTARA  PASCHIM</td>\n",
       "      <td>DHAKA</td>\n",
       "      <td>DHAKA</td>\n",
       "    </tr>\n",
       "  </tbody>\n",
       "</table>\n",
       "</div>"
      ],
      "text/plain": [
       "   hospital_key                        hospital_name branch_name   \n",
       "0        100001         BANGLADESH EYE HOSPITAL LTD.   Dhanmondi  \\\n",
       "1        100002  BANGLADESH EYE HOSPITAL LTD(Mirpur)      Mirpur   \n",
       "2        100003  BANGLADESH EYE HOSPITAL LTD(Uttara)      Uttara   \n",
       "\n",
       "  hospital_type                   email            website   \n",
       "0       Private  info@bdeyehospital.com  www.mysoftltd.com  \\\n",
       "1       Private  info@bdeyehospital.com  www.mysoftltd.com   \n",
       "2       Private  info@bdeyehospital.com  www.mysoftltd.com   \n",
       "\n",
       "                                    address  geo_code   city          upazila   \n",
       "0  78, Satmasjid Road (Road#27), Dhanmondi,    302616  DHAKA        DHANMONDI  \\\n",
       "1                                    Mirpur    302648  DHAKA           MIRPUR   \n",
       "2                                    Uttara    302694  DHAKA  UTTARA  PASCHIM   \n",
       "\n",
       "  district division  \n",
       "0    DHAKA    DHAKA  \n",
       "1    DHAKA    DHAKA  \n",
       "2    DHAKA    DHAKA  "
      ]
     },
     "execution_count": 13,
     "metadata": {},
     "output_type": "execute_result"
    }
   ],
   "source": [
    "hospital_dim"
   ]
  },
  {
   "cell_type": "code",
   "execution_count": 14,
   "id": "b7dddd83",
   "metadata": {},
   "outputs": [],
   "source": [
    "lab_dim = pd.read_csv(r'D:\\virtualTraining\\HDA-Buet-vtraining-23\\Health Dataset\\dim_lab.csv')"
   ]
  },
  {
   "cell_type": "code",
   "execution_count": 15,
   "id": "b63c1d8a",
   "metadata": {},
   "outputs": [
    {
     "data": {
      "text/html": [
       "<div>\n",
       "<style scoped>\n",
       "    .dataframe tbody tr th:only-of-type {\n",
       "        vertical-align: middle;\n",
       "    }\n",
       "\n",
       "    .dataframe tbody tr th {\n",
       "        vertical-align: top;\n",
       "    }\n",
       "\n",
       "    .dataframe thead th {\n",
       "        text-align: right;\n",
       "    }\n",
       "</style>\n",
       "<table border=\"1\" class=\"dataframe\">\n",
       "  <thead>\n",
       "    <tr style=\"text-align: right;\">\n",
       "      <th></th>\n",
       "      <th>lab_key</th>\n",
       "      <th>lab_name</th>\n",
       "      <th>lab_type</th>\n",
       "      <th>lab_code</th>\n",
       "      <th>lab_desc</th>\n",
       "    </tr>\n",
       "  </thead>\n",
       "  <tbody>\n",
       "    <tr>\n",
       "      <th>0</th>\n",
       "      <td>10001</td>\n",
       "      <td>ADMINISTRATION</td>\n",
       "      <td>1</td>\n",
       "      <td>679</td>\n",
       "      <td>DESC</td>\n",
       "    </tr>\n",
       "    <tr>\n",
       "      <th>1</th>\n",
       "      <td>10002</td>\n",
       "      <td>Urology</td>\n",
       "      <td>1</td>\n",
       "      <td>0037</td>\n",
       "      <td>DESC</td>\n",
       "    </tr>\n",
       "    <tr>\n",
       "      <th>2</th>\n",
       "      <td>10003</td>\n",
       "      <td>Serology</td>\n",
       "      <td>1</td>\n",
       "      <td>0008</td>\n",
       "      <td>DESC</td>\n",
       "    </tr>\n",
       "    <tr>\n",
       "      <th>3</th>\n",
       "      <td>10004</td>\n",
       "      <td>AMBULANCE SERVICE</td>\n",
       "      <td>1</td>\n",
       "      <td>0057</td>\n",
       "      <td>DESC</td>\n",
       "    </tr>\n",
       "    <tr>\n",
       "      <th>4</th>\n",
       "      <td>10005</td>\n",
       "      <td>USG</td>\n",
       "      <td>1</td>\n",
       "      <td>0012</td>\n",
       "      <td>DESC</td>\n",
       "    </tr>\n",
       "    <tr>\n",
       "      <th>...</th>\n",
       "      <td>...</td>\n",
       "      <td>...</td>\n",
       "      <td>...</td>\n",
       "      <td>...</td>\n",
       "      <td>...</td>\n",
       "    </tr>\n",
       "    <tr>\n",
       "      <th>236</th>\n",
       "      <td>10237</td>\n",
       "      <td>Nursing Service (Technical)</td>\n",
       "      <td>1</td>\n",
       "      <td>BSH096</td>\n",
       "      <td>DESC</td>\n",
       "    </tr>\n",
       "    <tr>\n",
       "      <th>237</th>\n",
       "      <td>10238</td>\n",
       "      <td>MEDICINE</td>\n",
       "      <td>1</td>\n",
       "      <td>MED1</td>\n",
       "      <td>DESC</td>\n",
       "    </tr>\n",
       "    <tr>\n",
       "      <th>238</th>\n",
       "      <td>10239</td>\n",
       "      <td>OPD DOCTOR</td>\n",
       "      <td>1</td>\n",
       "      <td>D002</td>\n",
       "      <td>DESC</td>\n",
       "    </tr>\n",
       "    <tr>\n",
       "      <th>239</th>\n",
       "      <td>10240</td>\n",
       "      <td>Maha</td>\n",
       "      <td>1</td>\n",
       "      <td>Maha01</td>\n",
       "      <td>DESC</td>\n",
       "    </tr>\n",
       "    <tr>\n",
       "      <th>240</th>\n",
       "      <td>10241</td>\n",
       "      <td>Oncology test</td>\n",
       "      <td>1</td>\n",
       "      <td>on01</td>\n",
       "      <td>DESC</td>\n",
       "    </tr>\n",
       "  </tbody>\n",
       "</table>\n",
       "<p>241 rows × 5 columns</p>\n",
       "</div>"
      ],
      "text/plain": [
       "     lab_key                     lab_name  lab_type lab_code lab_desc\n",
       "0      10001               ADMINISTRATION         1      679     DESC\n",
       "1      10002                      Urology         1     0037     DESC\n",
       "2      10003                     Serology         1     0008     DESC\n",
       "3      10004            AMBULANCE SERVICE         1     0057     DESC\n",
       "4      10005                          USG         1     0012     DESC\n",
       "..       ...                          ...       ...      ...      ...\n",
       "236    10237  Nursing Service (Technical)         1   BSH096     DESC\n",
       "237    10238                     MEDICINE         1     MED1     DESC\n",
       "238    10239                   OPD DOCTOR         1     D002     DESC\n",
       "239    10240                         Maha         1   Maha01     DESC\n",
       "240    10241               Oncology test          1     on01     DESC\n",
       "\n",
       "[241 rows x 5 columns]"
      ]
     },
     "execution_count": 15,
     "metadata": {},
     "output_type": "execute_result"
    }
   ],
   "source": [
    "lab_dim"
   ]
  },
  {
   "cell_type": "code",
   "execution_count": 16,
   "id": "2be27c8c",
   "metadata": {},
   "outputs": [],
   "source": [
    "test_dim = pd.read_csv(r'D:\\virtualTraining\\HDA-Buet-vtraining-23\\Health Dataset\\dim_test.csv')"
   ]
  },
  {
   "cell_type": "code",
   "execution_count": 17,
   "id": "1344b532",
   "metadata": {},
   "outputs": [
    {
     "data": {
      "text/html": [
       "<div>\n",
       "<style scoped>\n",
       "    .dataframe tbody tr th:only-of-type {\n",
       "        vertical-align: middle;\n",
       "    }\n",
       "\n",
       "    .dataframe tbody tr th {\n",
       "        vertical-align: top;\n",
       "    }\n",
       "\n",
       "    .dataframe thead th {\n",
       "        text-align: right;\n",
       "    }\n",
       "</style>\n",
       "<table border=\"1\" class=\"dataframe\">\n",
       "  <thead>\n",
       "    <tr style=\"text-align: right;\">\n",
       "      <th></th>\n",
       "      <th>test_key</th>\n",
       "      <th>test_name</th>\n",
       "      <th>test_code</th>\n",
       "      <th>specimen</th>\n",
       "      <th>ct_ref</th>\n",
       "      <th>test_desc</th>\n",
       "    </tr>\n",
       "  </thead>\n",
       "  <tbody>\n",
       "    <tr>\n",
       "      <th>0</th>\n",
       "      <td>10002</td>\n",
       "      <td>Pus for Fungus</td>\n",
       "      <td>1988</td>\n",
       "      <td>PUS</td>\n",
       "      <td>BSH</td>\n",
       "      <td>Desc</td>\n",
       "    </tr>\n",
       "    <tr>\n",
       "      <th>1</th>\n",
       "      <td>10003</td>\n",
       "      <td>Drain Fluid for Bilirubin</td>\n",
       "      <td>00885</td>\n",
       "      <td>FLUID</td>\n",
       "      <td>BSH</td>\n",
       "      <td>Desc</td>\n",
       "    </tr>\n",
       "    <tr>\n",
       "      <th>2</th>\n",
       "      <td>10004</td>\n",
       "      <td>NASAL SWAB FOR KLB</td>\n",
       "      <td>0705</td>\n",
       "      <td>Not Found</td>\n",
       "      <td>BSH</td>\n",
       "      <td>Desc</td>\n",
       "    </tr>\n",
       "    <tr>\n",
       "      <th>3</th>\n",
       "      <td>10005</td>\n",
       "      <td>X-Pert  MTB/RIF assay by archived gastric Aspi...</td>\n",
       "      <td>0706</td>\n",
       "      <td>TRACHEAL ASPIRATE</td>\n",
       "      <td>BSH</td>\n",
       "      <td>Desc</td>\n",
       "    </tr>\n",
       "    <tr>\n",
       "      <th>4</th>\n",
       "      <td>10006</td>\n",
       "      <td>Anti-Filaria Ab IgG4</td>\n",
       "      <td>0192</td>\n",
       "      <td>BLOOD</td>\n",
       "      <td>BSH</td>\n",
       "      <td>Desc</td>\n",
       "    </tr>\n",
       "    <tr>\n",
       "      <th>...</th>\n",
       "      <td>...</td>\n",
       "      <td>...</td>\n",
       "      <td>...</td>\n",
       "      <td>...</td>\n",
       "      <td>...</td>\n",
       "      <td>...</td>\n",
       "    </tr>\n",
       "    <tr>\n",
       "      <th>1130</th>\n",
       "      <td>10011</td>\n",
       "      <td>Pleural Fluid for Malignant Cell</td>\n",
       "      <td>1486</td>\n",
       "      <td>PLEURAL FLUID</td>\n",
       "      <td>BSH</td>\n",
       "      <td>A malignant pleural effusion (MPE) is the buil...</td>\n",
       "    </tr>\n",
       "    <tr>\n",
       "      <th>1131</th>\n",
       "      <td>10693</td>\n",
       "      <td>FBG - Fasting blood glucose</td>\n",
       "      <td>0031</td>\n",
       "      <td>BLOOD</td>\n",
       "      <td>SNOMED CT</td>\n",
       "      <td>Desc</td>\n",
       "    </tr>\n",
       "    <tr>\n",
       "      <th>1132</th>\n",
       "      <td>10453</td>\n",
       "      <td>RBG - Random blood glucose</td>\n",
       "      <td>0030</td>\n",
       "      <td>BLOOD</td>\n",
       "      <td>SNOMED CT</td>\n",
       "      <td>Desc</td>\n",
       "    </tr>\n",
       "    <tr>\n",
       "      <th>1133</th>\n",
       "      <td>10259</td>\n",
       "      <td>Blood calcium level</td>\n",
       "      <td>0237</td>\n",
       "      <td>BLOOD</td>\n",
       "      <td>SNOMED CT</td>\n",
       "      <td>Desc</td>\n",
       "    </tr>\n",
       "    <tr>\n",
       "      <th>1134</th>\n",
       "      <td>10899</td>\n",
       "      <td>Serum creatinine level</td>\n",
       "      <td>0036</td>\n",
       "      <td>BLOOD</td>\n",
       "      <td>SNOMED CT</td>\n",
       "      <td>Desc</td>\n",
       "    </tr>\n",
       "  </tbody>\n",
       "</table>\n",
       "<p>1135 rows × 6 columns</p>\n",
       "</div>"
      ],
      "text/plain": [
       "      test_key                                          test_name test_code   \n",
       "0        10002                                     Pus for Fungus      1988  \\\n",
       "1        10003                          Drain Fluid for Bilirubin     00885   \n",
       "2        10004                                 NASAL SWAB FOR KLB      0705   \n",
       "3        10005  X-Pert  MTB/RIF assay by archived gastric Aspi...      0706   \n",
       "4        10006                               Anti-Filaria Ab IgG4      0192   \n",
       "...        ...                                                ...       ...   \n",
       "1130     10011                   Pleural Fluid for Malignant Cell      1486   \n",
       "1131     10693                        FBG - Fasting blood glucose      0031   \n",
       "1132     10453                         RBG - Random blood glucose      0030   \n",
       "1133     10259                                Blood calcium level      0237   \n",
       "1134     10899                             Serum creatinine level      0036   \n",
       "\n",
       "               specimen     ct_ref   \n",
       "0                   PUS        BSH  \\\n",
       "1                 FLUID        BSH   \n",
       "2             Not Found        BSH   \n",
       "3     TRACHEAL ASPIRATE        BSH   \n",
       "4                 BLOOD        BSH   \n",
       "...                 ...        ...   \n",
       "1130      PLEURAL FLUID        BSH   \n",
       "1131              BLOOD  SNOMED CT   \n",
       "1132              BLOOD  SNOMED CT   \n",
       "1133              BLOOD  SNOMED CT   \n",
       "1134              BLOOD  SNOMED CT   \n",
       "\n",
       "                                              test_desc  \n",
       "0                                                  Desc  \n",
       "1                                                  Desc  \n",
       "2                                                  Desc  \n",
       "3                                                  Desc  \n",
       "4                                                  Desc  \n",
       "...                                                 ...  \n",
       "1130  A malignant pleural effusion (MPE) is the buil...  \n",
       "1131                                               Desc  \n",
       "1132                                               Desc  \n",
       "1133                                               Desc  \n",
       "1134                                               Desc  \n",
       "\n",
       "[1135 rows x 6 columns]"
      ]
     },
     "execution_count": 17,
     "metadata": {},
     "output_type": "execute_result"
    }
   ],
   "source": [
    "test_dim"
   ]
  },
  {
   "cell_type": "code",
   "execution_count": 18,
   "id": "bff5de9d",
   "metadata": {},
   "outputs": [],
   "source": [
    "time_dim = pd.read_csv(r'D:\\virtualTraining\\HDA-Buet-vtraining-23\\Health Dataset\\dim_time.csv')"
   ]
  },
  {
   "cell_type": "code",
   "execution_count": 20,
   "id": "abd54314",
   "metadata": {},
   "outputs": [
    {
     "data": {
      "text/plain": [
       "time_key      int64\n",
       "date_time    object\n",
       "year          int64\n",
       "month         int64\n",
       "day           int64\n",
       "yyyymm        int64\n",
       "yyyymmdd      int64\n",
       "quarter      object\n",
       "dtype: object"
      ]
     },
     "execution_count": 20,
     "metadata": {},
     "output_type": "execute_result"
    }
   ],
   "source": [
    "time_dim.dtypes"
   ]
  },
  {
   "cell_type": "code",
   "execution_count": 23,
   "id": "c384eaf3",
   "metadata": {},
   "outputs": [
    {
     "data": {
      "text/plain": [
       "time_key              int64\n",
       "date_time    datetime64[ns]\n",
       "year                  int64\n",
       "month                 int64\n",
       "day                   int64\n",
       "yyyymm                int64\n",
       "yyyymmdd              int64\n",
       "quarter              object\n",
       "dtype: object"
      ]
     },
     "execution_count": 23,
     "metadata": {},
     "output_type": "execute_result"
    }
   ],
   "source": [
    "#TRANSFORM\n",
    "time_dim['date_time'] = time_dim['date_time'].astype('datetime64[ns]')\n",
    "time_dim.dtypes\n"
   ]
  },
  {
   "cell_type": "code",
   "execution_count": 24,
   "id": "5dbedc25",
   "metadata": {},
   "outputs": [
    {
     "data": {
      "text/plain": [
       "_id              int64\n",
       "pik             object\n",
       "time_key         int64\n",
       "geo_key          int64\n",
       "hospital_key     int64\n",
       "lab_key          int64\n",
       "test_key         int64\n",
       "sales_price      int64\n",
       "dtype: object"
      ]
     },
     "execution_count": 24,
     "metadata": {},
     "output_type": "execute_result"
    }
   ],
   "source": [
    "fact_table.dtypes"
   ]
  },
  {
   "cell_type": "code",
   "execution_count": 26,
   "id": "757c4283",
   "metadata": {},
   "outputs": [
    {
     "data": {
      "text/plain": [
       "_id              int64\n",
       "pik             object\n",
       "time_key         int64\n",
       "geo_key          int64\n",
       "hospital_key     int64\n",
       "lab_key          int64\n",
       "test_key         int64\n",
       "sales_price      int64\n",
       "dtype: object"
      ]
     },
     "execution_count": 26,
     "metadata": {},
     "output_type": "execute_result"
    }
   ],
   "source": [
    "fact_table['sales_price'] = pd.to_numeric(fact_table['sales_price'])\n",
    "fact_table.dtypes"
   ]
  },
  {
   "cell_type": "markdown",
   "id": "db7d1406",
   "metadata": {},
   "source": [
    "# LOAD\n"
   ]
  },
  {
   "cell_type": "markdown",
   "id": "7888c328",
   "metadata": {},
   "source": [
    "# CONNECT TO DB"
   ]
  },
  {
   "cell_type": "code",
   "execution_count": 27,
   "id": "c688f424",
   "metadata": {},
   "outputs": [],
   "source": [
    "class PostgresConnection(object):\n",
    "    def __init__(self):\n",
    "        self.connection = psycopg2.connect(database=\"hospitaldb\",\n",
    "                                           user = \"postgres\",\n",
    "                                           password = \"chanyeol\",\n",
    "                                           host = \"127.0.0.1\",\n",
    "                                           port = \"5432\")\n",
    "\n",
    "    def getConnection(self):\n",
    "        print(\"Connection to DB established!\")\n",
    "        return self.connection"
   ]
  },
  {
   "cell_type": "code",
   "execution_count": 28,
   "id": "0c3fb9e9",
   "metadata": {},
   "outputs": [
    {
     "name": "stdout",
     "output_type": "stream",
     "text": [
      "Connection to DB established!\n"
     ]
    }
   ],
   "source": [
    "con = PostgresConnection().getConnection()"
   ]
  },
  {
   "cell_type": "markdown",
   "id": "b18989bd",
   "metadata": {},
   "source": [
    "# Insert Data Into Tables"
   ]
  },
  {
   "cell_type": "code",
   "execution_count": 29,
   "id": "76f62b15",
   "metadata": {},
   "outputs": [
    {
     "name": "stdout",
     "output_type": "stream",
     "text": [
      "Connection to DB established!\n"
     ]
    }
   ],
   "source": [
    "con = PostgresConnection().getConnection()\n",
    "insert_stmt = \"INSERT INTO star_schema.geography_dim(geo_key, upazila, district , division)\" \\\n",
    "            \" VALUES (%s, %s, %s, %s)\"\n",
    "cur = con.cursor()\n",
    "psycopg2.extras.execute_batch(cur, insert_stmt, geography_dim.values)\n",
    "con.commit()\n",
    "cur.close()"
   ]
  },
  {
   "cell_type": "code",
   "execution_count": 31,
   "id": "34ce2cb9",
   "metadata": {},
   "outputs": [
    {
     "name": "stdout",
     "output_type": "stream",
     "text": [
      "Connection to DB established!\n"
     ]
    }
   ],
   "source": [
    "con = PostgresConnection().getConnection()\n",
    "insert_stmt = \"INSERT INTO star_schema.hospital_dim(hospital_key, hospital_name, branch_name , hospital_type, email, website,address,geocode,city,upazila,district,division)\" \\\n",
    "            \" VALUES (%s, %s, %s, %s, %s, %s, %s, %s, %s, %s, %s, %s)\"\n",
    "cur = con.cursor()\n",
    "psycopg2.extras.execute_batch(cur, insert_stmt, hospital_dim.values)\n",
    "con.commit()\n",
    "cur.close()"
   ]
  },
  {
   "cell_type": "code",
   "execution_count": 33,
   "id": "1c5057bd",
   "metadata": {},
   "outputs": [
    {
     "name": "stdout",
     "output_type": "stream",
     "text": [
      "Connection to DB established!\n"
     ]
    }
   ],
   "source": [
    "con = PostgresConnection().getConnection()\n",
    "insert_stmt = \"INSERT INTO star_schema.lab_dim(lab_key, lab_name,lab_type,lab_code,lab_desc)\" \\\n",
    "            \" VALUES (%s, %s, %s, %s,%s)\"\n",
    "cur = con.cursor()\n",
    "psycopg2.extras.execute_batch(cur, insert_stmt, lab_dim.values)\n",
    "con.commit()\n",
    "cur.close()"
   ]
  },
  {
   "cell_type": "code",
   "execution_count": 36,
   "id": "699b1aef",
   "metadata": {
    "scrolled": true
   },
   "outputs": [
    {
     "name": "stdout",
     "output_type": "stream",
     "text": [
      "Connection to DB established!\n"
     ]
    }
   ],
   "source": [
    "con = PostgresConnection().getConnection()\n",
    "insert_stmt = \"INSERT INTO star_schema.test_dim(test_key, test_name,test_code,specimen,ct_ref,test_desc)\" \\\n",
    "            \" VALUES (%s, %s, %s, %s,%s,%s)\"\n",
    "cur = con.cursor()\n",
    "psycopg2.extras.execute_batch(cur, insert_stmt, test_dim.values)\n",
    "con.commit()\n",
    "cur.close()"
   ]
  },
  {
   "cell_type": "code",
   "execution_count": 37,
   "id": "291fa5f0",
   "metadata": {},
   "outputs": [
    {
     "name": "stdout",
     "output_type": "stream",
     "text": [
      "Connection to DB established!\n"
     ]
    }
   ],
   "source": [
    "con = PostgresConnection().getConnection()\n",
    "insert_stmt = \"INSERT INTO star_schema.time_dim(time_key, date_time,year,month,day,yyyymm,yyyymmdd,quarter)\" \\\n",
    "            \" VALUES (%s, %s, %s, %s,%s,%s,%s,%s)\"\n",
    "cur = con.cursor()\n",
    "psycopg2.extras.execute_batch(cur, insert_stmt, time_dim.values)\n",
    "con.commit()\n",
    "cur.close()"
   ]
  },
  {
   "cell_type": "code",
   "execution_count": 38,
   "id": "de7b7b72",
   "metadata": {},
   "outputs": [
    {
     "name": "stdout",
     "output_type": "stream",
     "text": [
      "Connection to DB established!\n"
     ]
    }
   ],
   "source": [
    "con = PostgresConnection().getConnection()\n",
    "insert_stmt = \"INSERT INTO star_schema.fact_table(_id,pik,time_key, geo_key, hospital_key, lab_key, test_key, sales_price)VALUES (%s, %s, %s, %s, %s, %s, %s, %s);\"\n",
    "cur = con.cursor()\n",
    "psycopg2.extras.execute_batch(cur, insert_stmt, fact_table.values)\n",
    "con.commit()\n",
    "cur.close()"
   ]
  },
  {
   "cell_type": "code",
   "execution_count": null,
   "id": "e3bcaf2a",
   "metadata": {},
   "outputs": [],
   "source": []
  }
 ],
 "metadata": {
  "kernelspec": {
   "display_name": "Python 3 (ipykernel)",
   "language": "python",
   "name": "python3"
  },
  "language_info": {
   "codemirror_mode": {
    "name": "ipython",
    "version": 3
   },
   "file_extension": ".py",
   "mimetype": "text/x-python",
   "name": "python",
   "nbconvert_exporter": "python",
   "pygments_lexer": "ipython3",
   "version": "3.8.10"
  }
 },
 "nbformat": 4,
 "nbformat_minor": 5
}
